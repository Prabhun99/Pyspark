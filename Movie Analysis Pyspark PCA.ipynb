{
 "cells": [
  {
   "cell_type": "markdown",
   "metadata": {},
   "source": [
    "# Analyze Tags of Movies\n",
    "## Can movies be described by their similarities in a latent space of tag ratings?\n",
    "\n",
    "### ~13000 movies, and ~1000 tags\n",
    "### How relevant is each tag to each movie? (0-1)\n"
   ]
  },
  {
   "cell_type": "code",
   "execution_count": 1,
   "metadata": {},
   "outputs": [
    {
     "data": {
      "application/vnd.jupyter.widget-view+json": {
       "model_id": "2727e952cd294ae4acdb0ff51832395b",
       "version_major": 2,
       "version_minor": 0
      },
      "text/plain": [
       "VBox()"
      ]
     },
     "metadata": {},
     "output_type": "display_data"
    },
    {
     "name": "stdout",
     "output_type": "stream",
     "text": [
      "Starting Spark application\n"
     ]
    },
    {
     "data": {
      "text/html": [
       "<table>\n",
       "<tr><th>ID</th><th>YARN Application ID</th><th>Kind</th><th>State</th><th>Spark UI</th><th>Driver log</th><th>Current session?</th></tr><tr><td>1</td><td>application_1593049829309_0002</td><td>pyspark</td><td>idle</td><td><a target=\"_blank\" href=\"http://ip-172-31-80-60.ec2.internal:20888/proxy/application_1593049829309_0002/\">Link</a></td><td><a target=\"_blank\" href=\"http://ip-172-31-85-185.ec2.internal:8042/node/containerlogs/container_1593049829309_0002_01_000001/livy\">Link</a></td><td>✔</td></tr></table>"
      ],
      "text/plain": [
       "<IPython.core.display.HTML object>"
      ]
     },
     "metadata": {},
     "output_type": "display_data"
    },
    {
     "data": {
      "application/vnd.jupyter.widget-view+json": {
       "model_id": "",
       "version_major": 2,
       "version_minor": 0
      },
      "text/plain": [
       "FloatProgress(value=0.0, bar_style='info', description='Progress:', layout=Layout(height='25px', width='50%'),…"
      ]
     },
     "metadata": {},
     "output_type": "display_data"
    },
    {
     "name": "stdout",
     "output_type": "stream",
     "text": [
      "SparkSession available as 'spark'.\n"
     ]
    },
    {
     "data": {
      "application/vnd.jupyter.widget-view+json": {
       "model_id": "",
       "version_major": 2,
       "version_minor": 0
      },
      "text/plain": [
       "FloatProgress(value=0.0, bar_style='info', description='Progress:', layout=Layout(height='25px', width='50%'),…"
      ]
     },
     "metadata": {},
     "output_type": "display_data"
    },
    {
     "name": "stdout",
     "output_type": "stream",
     "text": [
      "<SparkContext master=yarn appName=livy-session-1>"
     ]
    }
   ],
   "source": [
    "sc"
   ]
  },
  {
   "cell_type": "code",
   "execution_count": 2,
   "metadata": {},
   "outputs": [
    {
     "data": {
      "application/vnd.jupyter.widget-view+json": {
       "model_id": "e2b8e65a78c844c4bc022c7e52519095",
       "version_major": 2,
       "version_minor": 0
      },
      "text/plain": [
       "VBox()"
      ]
     },
     "metadata": {},
     "output_type": "display_data"
    },
    {
     "data": {
      "application/vnd.jupyter.widget-view+json": {
       "model_id": "",
       "version_major": 2,
       "version_minor": 0
      },
      "text/plain": [
       "FloatProgress(value=0.0, bar_style='info', description='Progress:', layout=Layout(height='25px', width='50%'),…"
      ]
     },
     "metadata": {},
     "output_type": "display_data"
    },
    {
     "name": "stdout",
     "output_type": "stream",
     "text": [
      "Requirement already satisfied: numpy in /usr/local/lib64/python3.7/site-packages\n",
      "\n",
      "Collecting matplotlib\n",
      "  Using cached https://files.pythonhosted.org/packages/d9/aa/22af3c636d6b87e8d7f8f28c02da338e348ed08beff1e2b58843f0f62fc1/matplotlib-3.2.2-cp37-cp37m-manylinux1_x86_64.whl\n",
      "Collecting python-dateutil>=2.1 (from matplotlib)\n",
      "  Using cached https://files.pythonhosted.org/packages/d4/70/d60450c3dd48ef87586924207ae8907090de0b306af2bce5d134d78615cb/python_dateutil-2.8.1-py2.py3-none-any.whl\n",
      "Collecting pyparsing!=2.0.4,!=2.1.2,!=2.1.6,>=2.0.1 (from matplotlib)\n",
      "  Using cached https://files.pythonhosted.org/packages/8a/bb/488841f56197b13700afd5658fc279a2025a39e22449b7cf29864669b15d/pyparsing-2.4.7-py2.py3-none-any.whl\n",
      "Collecting cycler>=0.10 (from matplotlib)\n",
      "  Using cached https://files.pythonhosted.org/packages/f7/d2/e07d3ebb2bd7af696440ce7e754c59dd546ffe1bbe732c8ab68b9c834e61/cycler-0.10.0-py2.py3-none-any.whl\n",
      "Requirement already satisfied: numpy>=1.11 in /usr/local/lib64/python3.7/site-packages (from matplotlib)\n",
      "Collecting kiwisolver>=1.0.1 (from matplotlib)\n",
      "  Using cached https://files.pythonhosted.org/packages/31/b9/6202dcae729998a0ade30e80ac00f616542ef445b088ec970d407dfd41c0/kiwisolver-1.2.0-cp37-cp37m-manylinux1_x86_64.whl\n",
      "Requirement already satisfied: six>=1.5 in /usr/local/lib/python3.7/site-packages (from python-dateutil>=2.1->matplotlib)\n",
      "Installing collected packages: python-dateutil, pyparsing, cycler, kiwisolver, matplotlib\n",
      "Successfully installed cycler-0.10.0 kiwisolver-1.2.0 matplotlib-3.2.2 pyparsing-2.4.7 python-dateutil-2.8.1"
     ]
    }
   ],
   "source": [
    "sc.install_pypi_package('numpy')\n",
    "sc.install_pypi_package('matplotlib')"
   ]
  },
  {
   "cell_type": "code",
   "execution_count": 3,
   "metadata": {},
   "outputs": [
    {
     "data": {
      "application/vnd.jupyter.widget-view+json": {
       "model_id": "d2cc0609b52f402895b1a4827b45d85e",
       "version_major": 2,
       "version_minor": 0
      },
      "text/plain": [
       "VBox()"
      ]
     },
     "metadata": {},
     "output_type": "display_data"
    },
    {
     "data": {
      "application/vnd.jupyter.widget-view+json": {
       "model_id": "",
       "version_major": 2,
       "version_minor": 0
      },
      "text/plain": [
       "FloatProgress(value=0.0, bar_style='info', description='Progress:', layout=Layout(height='25px', width='50%'),…"
      ]
     },
     "metadata": {},
     "output_type": "display_data"
    }
   ],
   "source": [
    "df = sqlContext.read.csv('s3a://sparkdemonstration/movielens-tag-relevance.csv', header=True, inferSchema=True)"
   ]
  },
  {
   "cell_type": "code",
   "execution_count": 4,
   "metadata": {},
   "outputs": [
    {
     "data": {
      "application/vnd.jupyter.widget-view+json": {
       "model_id": "a118b14df085431796cfb446f13bc307",
       "version_major": 2,
       "version_minor": 0
      },
      "text/plain": [
       "VBox()"
      ]
     },
     "metadata": {},
     "output_type": "display_data"
    },
    {
     "data": {
      "application/vnd.jupyter.widget-view+json": {
       "model_id": "",
       "version_major": 2,
       "version_minor": 0
      },
      "text/plain": [
       "FloatProgress(value=0.0, bar_style='info', description='Progress:', layout=Layout(height='25px', width='50%'),…"
      ]
     },
     "metadata": {},
     "output_type": "display_data"
    },
    {
     "name": "stdout",
     "output_type": "stream",
     "text": [
      "+--------------------+--------------------+--------------------+-------------------+--------------------+\n",
      "|               title|           too short|  intelligent sci-fi|     existentialism|                noir|\n",
      "+--------------------+--------------------+--------------------+-------------------+--------------------+\n",
      "|    Toy Story (1995)|             0.14525| 0.05675000000000002|            0.34275|0.060250000000000026|\n",
      "|      Jumanji (1995)|             0.09925|0.057999999999999996|0.16899999999999998| 0.02174999999999999|\n",
      "|Grumpier Old Men ...| 0.05449999999999999| 0.04749999999999999|             0.1735|0.018500000000000016|\n",
      "|Waiting to Exhale...| 0.10399999999999998| 0.03975000000000002|0.16899999999999998|0.023500000000000014|\n",
      "|Father of the Bri...|             0.58725|0.040750000000000015|0.14900000000000002|0.016500000000000015|\n",
      "|         Heat (1995)| 0.04375000000000001|0.044999999999999984|            0.45525|              0.2375|\n",
      "|      Sabrina (1995)| 0.09699999999999998|0.035499999999999976|0.15450000000000005|0.016500000000000015|\n",
      "| Tom and Huck (1995)| 0.08224999999999999| 0.04325000000000001|            0.15725|0.014249999999999985|\n",
      "| Sudden Death (1995)|0.034999999999999976| 0.04749999999999999|            0.10725|0.014000000000000012|\n",
      "|    GoldenEye (1995)| 0.07550000000000001|0.044499999999999984|            0.15275|0.031499999999999966|\n",
      "|American Presiden...|             0.15425|0.059250000000000025|             0.1385| 0.02024999999999999|\n",
      "|Dracula: Dead and...|             0.02875| 0.06225000000000003|0.16099999999999998| 0.02200000000000002|\n",
      "|        Balto (1995)|             0.09275|             0.03475|0.11375000000000005|0.019000000000000017|\n",
      "|        Nixon (1995)|              0.0565|0.037750000000000006|              0.265| 0.08050000000000003|\n",
      "|Cutthroat Island ...| 0.09599999999999996| 0.04825000000000002|            0.15875|0.017249999999999988|\n",
      "|       Casino (1995)| 0.03999999999999998|0.026000000000000027|0.21899999999999997| 0.24875000000000005|\n",
      "|Sense and Sensibi...| 0.04525000000000001|0.043999999999999984|              0.109| 0.01874999999999999|\n",
      "|   Four Rooms (1995)|             0.10175|0.048750000000000016|            0.19225|               0.128|\n",
      "|Ace Ventura: When...| 0.04375000000000001|             0.09075|             0.1915|0.049750000000000016|\n",
      "|  Money Train (1995)| 0.08150000000000003| 0.04325000000000001|            0.14575|0.018249999999999992|\n",
      "+--------------------+--------------------+--------------------+-------------------+--------------------+\n",
      "only showing top 20 rows"
     ]
    }
   ],
   "source": [
    "import random\n",
    "colsToShow = ['title'] + [random.choice(df.columns) for i in range(4)]\n",
    "df.select(*colsToShow).show()"
   ]
  },
  {
   "cell_type": "code",
   "execution_count": 5,
   "metadata": {},
   "outputs": [
    {
     "data": {
      "application/vnd.jupyter.widget-view+json": {
       "model_id": "b7c4cd866d2a45a093503502b3555edf",
       "version_major": 2,
       "version_minor": 0
      },
      "text/plain": [
       "VBox()"
      ]
     },
     "metadata": {},
     "output_type": "display_data"
    },
    {
     "data": {
      "application/vnd.jupyter.widget-view+json": {
       "model_id": "",
       "version_major": 2,
       "version_minor": 0
      },
      "text/plain": [
       "FloatProgress(value=0.0, bar_style='info', description='Progress:', layout=Layout(height='25px', width='50%'),…"
      ]
     },
     "metadata": {},
     "output_type": "display_data"
    },
    {
     "name": "stdout",
     "output_type": "stream",
     "text": [
      "13816"
     ]
    }
   ],
   "source": [
    "df.count()"
   ]
  },
  {
   "cell_type": "code",
   "execution_count": 6,
   "metadata": {},
   "outputs": [
    {
     "data": {
      "application/vnd.jupyter.widget-view+json": {
       "model_id": "a219f5631f0347269a61a56ba9c53340",
       "version_major": 2,
       "version_minor": 0
      },
      "text/plain": [
       "VBox()"
      ]
     },
     "metadata": {},
     "output_type": "display_data"
    },
    {
     "data": {
      "application/vnd.jupyter.widget-view+json": {
       "model_id": "",
       "version_major": 2,
       "version_minor": 0
      },
      "text/plain": [
       "FloatProgress(value=0.0, bar_style='info', description='Progress:', layout=Layout(height='25px', width='50%'),…"
      ]
     },
     "metadata": {},
     "output_type": "display_data"
    },
    {
     "name": "stdout",
     "output_type": "stream",
     "text": [
      "1129"
     ]
    }
   ],
   "source": [
    "len(df.columns)"
   ]
  },
  {
   "cell_type": "code",
   "execution_count": 8,
   "metadata": {},
   "outputs": [
    {
     "data": {
      "application/vnd.jupyter.widget-view+json": {
       "model_id": "ab9016eebbb74fcaa26ee46f7150b67e",
       "version_major": 2,
       "version_minor": 0
      },
      "text/plain": [
       "VBox()"
      ]
     },
     "metadata": {},
     "output_type": "display_data"
    },
    {
     "data": {
      "application/vnd.jupyter.widget-view+json": {
       "model_id": "",
       "version_major": 2,
       "version_minor": 0
      },
      "text/plain": [
       "FloatProgress(value=0.0, bar_style='info', description='Progress:', layout=Layout(height='25px', width='50%'),…"
      ]
     },
     "metadata": {},
     "output_type": "display_data"
    }
   ],
   "source": [
    "from pyspark.ml.feature import VectorAssembler, StandardScaler"
   ]
  },
  {
   "cell_type": "code",
   "execution_count": 9,
   "metadata": {},
   "outputs": [
    {
     "data": {
      "application/vnd.jupyter.widget-view+json": {
       "model_id": "9e05fb20b50e4ef998fe0e7d0304a358",
       "version_major": 2,
       "version_minor": 0
      },
      "text/plain": [
       "VBox()"
      ]
     },
     "metadata": {},
     "output_type": "display_data"
    },
    {
     "data": {
      "application/vnd.jupyter.widget-view+json": {
       "model_id": "",
       "version_major": 2,
       "version_minor": 0
      },
      "text/plain": [
       "FloatProgress(value=0.0, bar_style='info', description='Progress:', layout=Layout(height='25px', width='50%'),…"
      ]
     },
     "metadata": {},
     "output_type": "display_data"
    },
    {
     "name": "stderr",
     "output_type": "stream",
     "text": [
      "'Cannot resolve column name \"c.s. lewis\" among (title, 007, 007 (series), 18th century, 1920s, 1930s, 1950s, 1960s, 1970s, 1980s, 19th century, 3d, 70mm, 80s, 9/11, aardman, aardman studios, abortion, absurd, action, action packed, adaptation, adapted from:book, adapted from:comic, adapted from:game, addiction, adolescence, adoption, adultery, adventure, affectionate, afi 100, afi 100 (laughs), afi 100 (movie quotes), africa, afterlife, aging, aids, airplane, airport, alaska, alcatraz, alcoholism, alien, alien invasion, aliens, allegory, almodovar, alone in the world, alter ego, alternate endings, alternate history, alternate reality, alternate universe, amazing cinematography, amazing photography, american civil war, amnesia, amy smart, android(s)/cyborg(s), androids, animal movie, animals, animated, animation, anime, antarctica, anti-hero, anti-semitism, anti-war, apocalypse, archaeology, argentina, arms dealer, arnold, art, art house, artificial intelligence, artist, artistic, artsy, assassin, assassination, assassins, astronauts, atheism, atmospheric, australia, australian, author:alan moore, author:neil gaiman, autism, aviation, awesome, awesome soundtrack, awful, bad, bad acting, bad cgi, bad ending, bad plot, bad science, bad script, bad sequel, ballet, bank robbery, baseball, based on a book, based on a comic, based on a play, based on a true story, based on a tv show, based on a video game, based on book, based on comic, based on true story, basketball, batman, bdsm, beatles, beautiful, beautiful scenery, beautifully filmed, beauty pageant, beer, berlin, best of 2005, best war films, betrayal, better than expected, better than the american version, biblical, big budget, biographical, biography, biopic, birds, biting, bittersweet, bizarre, black and white, black comedy, blaxploitation, bleak, blindness, blood, bloody, boarding school, boat, bollywood, bombs, bond, book, book was better, books, boring, boring!, boston, bowling, boxing, brainwashing, brazil, breathtaking, brilliant, british, british comedy, broadway, brothers, brutal, brutality, buddy movie, bullshit history, bullying, business, c.s. lewis, california, camp, campy, canada, cancer, cannibalism, caper, capitalism, car chase, carrie-anne moss, cars, cartoon, casino, catastrophe, cathartic, catholicism, censorship, cerebral, cgi, character study, chase, cheating, cheerleading, cheesy, chess, chicago, chick flick, child abuse, childhood, children, china, chocolate, chris tucker, christian, christianity, christmas, cia, cinematography, circus, civil war, classic, classic car, classical music, claustrophobic, claymation, clever, clones, cloning, clowns, coen bros, coen brothers, cold war, college, colonialism, colourful, comedy, comic, comic book, comic book adaption, comics, coming of age, coming-of-age, communism, compassionate, competition, complex, complex characters, complicated, complicated plot, computer animation, computer game, computers, con artists, con men, confrontational, confusing, conspiracy, conspiracy theory, controversial, cooking, cool, corny, corporate america, corruption, costume drama, courage, court, courtroom, courtroom drama, crappy sequel, crazy, creativity, creepy, crime, crime gone awry, criterion, cross dressing, crude humor, cuba, cult, cult classic, cult film, culture clash, cute, cute!, cyberpunk, cyborgs, cynical, dance, dancing, dark, dark comedy, dark fantasy, dark hero, dark humor, dc comics, deadpan, death, death penalty, demons, depp & burton, depressing, depression, desert, destiny, detective, devil, dialogue, dialogue driven, dinosaurs, directorial debut, disability, disappointing, disaster, disney, disney animated feature, distopia, disturbing, divorce, doctors, documentary, dog, dogs, dolphins, downbeat, dr. seuss, dragon, dragons, drama, dramatic, dreamlike, dreams, dreamworks, drinking, drug abuse, drug addiction, drugs, dumb, dumb but funny, dynamic cgi action, dysfunctional family, dystopia, dystopic future, earnest, easily confused with other movie(s) (title), east germany, eccentricity, ecology, educational, eerie, effects, egypt, emma watson, emotional, end of the world, england, enigmatic, ennio morricone, enormously long battle scene, ensemble cast, entertaining, entirely dialogue, environment, environmental, epic, erotic, espionage, ethnic conflict, evolution, excellent, excellent script, exceptional acting, exciting, existentialism, explosions, factual, fairy tale, fairy tales, fake documentary, family, family bonds, family drama, fantasy, fantasy world, farce, fascism, fashion, fast paced, father daughter relationship, father son relationship, father-son relationship, fbi, feel good movie, feel-good, fight scenes, fighting, fighting the system, figure skating, film noir, finnish, firefly, first contact, fish, flashbacks, food, football, forceful, foreign, foul language, fountain of youth, france, franchise, francis ford copolla, free speech, free to download, freedom, french, friendship, frightening, fun, fun movie, funniest movies, funny, funny as hell, future, futuristic, gambling, gangs, gangster, gangsters, gay, gay character, geek, geeks, genetics, genius, genocide, george orwell, german, germany, ghosts, ghosts/afterlife, giant robots, gilliam, girlie movie, glbt, global warming, god, golden palm, golf, good, good acting, good action, good dialogue, good music, good romantic comedies, good sequel, good soundtrack, good story, good versus evil, goofy, gore, goretastic, gory, goth, gothic, graphic design, graphic novel, gratuitous violence, great, great acting, great cinematography, great dialogue, great ending, great movie, great music, great soundtrack, greed, grim, grindhouse, gritty, gross-out, gruesome, guilt, guilty pleasure, gulf war, gunfight, guns, gypsy accent, hackers, hacking, halloween, hallucinatory, handycam, hannibal lecter, happy ending, hard to watch, harry potter, harsh, haunted house, hawaii, heartbreaking, heartwarming, heist, heroin, heroine, heroine in tight suit, high fantasy, high school, highly quotable, hilarious, hillarious, hip hop, historical, history, hit men, hitchcock, hitman, holiday, hollywood, holocaust, homeless, homophobia, homosexuality, honest, hong kong, horrible, horror, horses, hospital, hostage, hotel, humanity, humor, humorous, hunting, idealism, identity, idiotic, imaginary friend, imagination, imdb top 250, immigrants, immortality, incest, independent film, india, indiana jones, indians, indie, infidelity, innocence lost, insanity, inspirational, inspiring, intellectual, intelligent, intelligent sci-fi, intense, interesting, internet, interracial romance, intimate, investigation, iran, iraq, iraq war, ireland, irish, irish accent, ironic, irreverent, islam, island, isolation, israel, italian, italy, james bond, jane austen, japan, japanese, jay and silent bob, jazz, jesus, jewish, jews, journalism, judaism, jungle, justice, kick-butt women, kidnapping, kids, kids and family, king arthur, kubrick, kung fu, kurosawa, lame, las vegas, latin america, lawyer, lawyers, lesbian, life, life & death, life philosophy, light, lions, literary adaptation, literature, liv tyler, london, lone hero, loneliness, long, los angeles, love, love story, love triangles, low budget, lynch, lyrical, macabre, mad scientist, made for tv, mafia, magic, magic realism, male nudity, man versus machine, manipulation, marijuana, marriage, mars, martial arts, marvel, marx brothers, masterpiece, math, mathematics, maze, medieval, meditative, melancholic, melancholy, memory, memory loss, mental hospital, mental illness, mentor, metaphysics, mexico, middle east, midlife crisis, military, mindfuck, mining, minnesota, mission from god, mistaken identity, miyazaki, mob, mockumentary, modern fantasy, money, monkey, monster, monsters, monty python, moody, moon, moral ambiguity, morality, mother daughter relationship, mother-son relationship, motorcycle, mountain climbing, movie business, movielens top pick, moving, mozart, mtv, multiple storylines, mummy, muppets, murder, murder mystery, music, music business, musical, musicians, mutants, mystery, mythology, narrated, nasa, native americans, natural disaster, nature, nazi, nazis, neil gaiman, neo-nazis, neo-noir, nerds, new jersey, new orleans, new york, new york city, new zealand, ninja, no dialogue, no plot, nocturnal, noir, noir thriller, non-hollywood ending, non-linear, nonlinear, nostalgia, nostalgic, not as good as the first, not funny, notable nudity, notable soundtrack, nuclear, nuclear bomb, nuclear war, nudity, nudity (full frontal - brief), nudity (full frontal - notable), nudity (full frontal), nudity (rear), nudity (topless - brief), nudity (topless - notable), nudity (topless), obsession, ocean, off-beat comedy, office, oil, olympics, ominous, opera, organized crime, original, original plot, orphans, oscar, oscar (best actor), oscar (best actress), oscar (best animated feature), oscar (best cinematography), oscar (best directing), oscar (best editing), oscar (best effects - visual effects), oscar (best foreign language film), oscar (best music - original score), oscar (best music - original song), oscar (best picture), oscar (best sound), oscar (best supporting actor), oscar (best supporting actress), oscar (best writing - screenplay written directly for the screen), oscar winner, over the top, overrated, palestine, parallel universe, paranoia, paranoid, parenthood, paris, parody, passionate, penguins, perfect, period piece, peter pan, pg, pg-13, philip k. dick, philosophical, philosophy, photographer, photography, pigs, pirates, pixar, pixar animation, plot, plot holes, plot twist, poetry, poignant, pointless, poker, poland, police, police corruption, police investigation, political, political corruption, politics, pornography, post apocalyptic, post-apocalyptic, potential oscar nom, poverty, powerful ending, predictable, pregnancy, prejudice, prequel, president, pretentious, prison, prison escape, private detective, product placement, prohibition, propaganda, prostitution, psychedelic, psychiatrist, psychiatry, psychological, psychology, pulp, punk, puppets, queer, quirky, quotable, rabbits, race, race issues, racing, racism, radio, rags to riches, rape, rats, realistic, realistic action, reality tv, rebellion, redemption, reflective, relationships, religion, remade, remake, revenge, revolution, ridiculous, rio de janeiro, road movie, road trip, roald dahl, robbery, robert downey jr, robert ludlum, robot, robots, rock and roll, romance, romantic, romantic comedy, rome, runaway, russia, russian, sacrifice, sad, sad but good, samurai, san francisco, sappy, sarcasm, satire, satirical, saturday night live, saturn award (best science fiction film), saturn award (best special effects), scary, scenic, schizophrenia, school, sci fi, sci-fi, science, science fiction, scifi, scifi cult, scotland, screwball, screwball comedy, script, secret service, secrets, segregation, self discovery, sentimental, sequel, sequels, serial killer, series, sex, sex comedy, sexual, sexual abuse, sexuality, sexualized violence, sexy, shakespeare, shallow, shark, shopping, short, short-term memory loss, silent, silly, silly fun, simple, single father, sisters, skinhead, slackers, slapstick, slasher, slavery, slow, slow paced, small town, snakes, so bad it\\'s funny, so bad it\\'s good, soccer, social commentary, solitude, sophia coppola, south africa, south america, southern theme, space, space opera, space program, space travel, spaghetti western, spain, spanish, spanish civil war, special, special effects, spelling bee, spiders, spielberg, spies, splatter, spock, spoof, sports, spy, spying, stage magic, stand-up comedy, star trek, star wars, steampunk, stereotypes, stoner movie, stop motion, stop-motion, story, storytelling, stranded, strange, strippers, studio ghibli, stunning, stupid, stupid as hell, stupidity, stylish, stylized, submarine, suburbia, suicide, suicide attempt, super hero, super-hero, superhero, superheroes, supernatural, suprisingly clever, surfing, surprise ending, surreal, surrealism, surveillance, survival, suspense, suspenseful, swashbuckler, swedish, sweet, switching places, sword fight, sword fighting, talking animals, talky, tarantino, teacher, tear jerker, technology, teen, teen movie, teenager, teenagers, teens, teleportation, television, tense, terminal illness, terrorism, texas, thought-provoking, thriller, time, time loop, time travel, tokyo, tolkien, tom clancy, too long, too short, torture, touching, toys, tragedy, train, trains, transformation, transgender, travel, treasure, treasure hunt, tricky, trilogy, true story, truman capote, twist, twist ending, twists & turns, undercover cop, underdog, underrated, understated, underwater, unfunny, unintentionally funny, unique, united nations, unlikeable characters, unlikely friendships, unrealistic, unusual plot structure, us history, utopia, vampire, vampire human love, vampires, vengeance, very funny, very good, very interesting, video game, video game adaptation, video games, videogame, vienna, vietnam, vietnam war, view askew, vigilante, vigilantism, violence, violent, virginity, virtual reality, virus, visceral, visual, visually appealing, visually stunning, visuals, voodoo, voyeurism, war, war movie, wartime, waste of time, watch the credits, weapons, wedding, weed, weird, werewolf, werewolves, western, whimsical, wilderness, wine, wistful, witch, witches, witty, wizards, women, working class, workplace, world politics, world war i, world war ii, writer\\'s life, writers, writing, wuxia, wwii, zombie, zombies);'\n",
      "Traceback (most recent call last):\n",
      "  File \"/usr/lib/spark/python/lib/pyspark.zip/pyspark/ml/base.py\", line 173, in transform\n",
      "    return self._transform(dataset)\n",
      "  File \"/usr/lib/spark/python/lib/pyspark.zip/pyspark/ml/wrapper.py\", line 312, in _transform\n",
      "    return DataFrame(self._java_obj.transform(dataset._jdf), dataset.sql_ctx)\n",
      "  File \"/usr/lib/spark/python/lib/py4j-0.10.7-src.zip/py4j/java_gateway.py\", line 1257, in __call__\n",
      "    answer, self.gateway_client, self.target_id, self.name)\n",
      "  File \"/usr/lib/spark/python/lib/pyspark.zip/pyspark/sql/utils.py\", line 69, in deco\n",
      "    raise AnalysisException(s.split(': ', 1)[1], stackTrace)\n",
      "pyspark.sql.utils.AnalysisException: 'Cannot resolve column name \"c.s. lewis\" among (title, 007, 007 (series), 18th century, 1920s, 1930s, 1950s, 1960s, 1970s, 1980s, 19th century, 3d, 70mm, 80s, 9/11, aardman, aardman studios, abortion, absurd, action, action packed, adaptation, adapted from:book, adapted from:comic, adapted from:game, addiction, adolescence, adoption, adultery, adventure, affectionate, afi 100, afi 100 (laughs), afi 100 (movie quotes), africa, afterlife, aging, aids, airplane, airport, alaska, alcatraz, alcoholism, alien, alien invasion, aliens, allegory, almodovar, alone in the world, alter ego, alternate endings, alternate history, alternate reality, alternate universe, amazing cinematography, amazing photography, american civil war, amnesia, amy smart, android(s)/cyborg(s), androids, animal movie, animals, animated, animation, anime, antarctica, anti-hero, anti-semitism, anti-war, apocalypse, archaeology, argentina, arms dealer, arnold, art, art house, artificial intelligence, artist, artistic, artsy, assassin, assassination, assassins, astronauts, atheism, atmospheric, australia, australian, author:alan moore, author:neil gaiman, autism, aviation, awesome, awesome soundtrack, awful, bad, bad acting, bad cgi, bad ending, bad plot, bad science, bad script, bad sequel, ballet, bank robbery, baseball, based on a book, based on a comic, based on a play, based on a true story, based on a tv show, based on a video game, based on book, based on comic, based on true story, basketball, batman, bdsm, beatles, beautiful, beautiful scenery, beautifully filmed, beauty pageant, beer, berlin, best of 2005, best war films, betrayal, better than expected, better than the american version, biblical, big budget, biographical, biography, biopic, birds, biting, bittersweet, bizarre, black and white, black comedy, blaxploitation, bleak, blindness, blood, bloody, boarding school, boat, bollywood, bombs, bond, book, book was better, books, boring, boring!, boston, bowling, boxing, brainwashing, brazil, breathtaking, brilliant, british, british comedy, broadway, brothers, brutal, brutality, buddy movie, bullshit history, bullying, business, c.s. lewis, california, camp, campy, canada, cancer, cannibalism, caper, capitalism, car chase, carrie-anne moss, cars, cartoon, casino, catastrophe, cathartic, catholicism, censorship, cerebral, cgi, character study, chase, cheating, cheerleading, cheesy, chess, chicago, chick flick, child abuse, childhood, children, china, chocolate, chris tucker, christian, christianity, christmas, cia, cinematography, circus, civil war, classic, classic car, classical music, claustrophobic, claymation, clever, clones, cloning, clowns, coen bros, coen brothers, cold war, college, colonialism, colourful, comedy, comic, comic book, comic book adaption, comics, coming of age, coming-of-age, communism, compassionate, competition, complex, complex characters, complicated, complicated plot, computer animation, computer game, computers, con artists, con men, confrontational, confusing, conspiracy, conspiracy theory, controversial, cooking, cool, corny, corporate america, corruption, costume drama, courage, court, courtroom, courtroom drama, crappy sequel, crazy, creativity, creepy, crime, crime gone awry, criterion, cross dressing, crude humor, cuba, cult, cult classic, cult film, culture clash, cute, cute!, cyberpunk, cyborgs, cynical, dance, dancing, dark, dark comedy, dark fantasy, dark hero, dark humor, dc comics, deadpan, death, death penalty, demons, depp & burton, depressing, depression, desert, destiny, detective, devil, dialogue, dialogue driven, dinosaurs, directorial debut, disability, disappointing, disaster, disney, disney animated feature, distopia, disturbing, divorce, doctors, documentary, dog, dogs, dolphins, downbeat, dr. seuss, dragon, dragons, drama, dramatic, dreamlike, dreams, dreamworks, drinking, drug abuse, drug addiction, drugs, dumb, dumb but funny, dynamic cgi action, dysfunctional family, dystopia, dystopic future, earnest, easily confused with other movie(s) (title), east germany, eccentricity, ecology, educational, eerie, effects, egypt, emma watson, emotional, end of the world, england, enigmatic, ennio morricone, enormously long battle scene, ensemble cast, entertaining, entirely dialogue, environment, environmental, epic, erotic, espionage, ethnic conflict, evolution, excellent, excellent script, exceptional acting, exciting, existentialism, explosions, factual, fairy tale, fairy tales, fake documentary, family, family bonds, family drama, fantasy, fantasy world, farce, fascism, fashion, fast paced, father daughter relationship, father son relationship, father-son relationship, fbi, feel good movie, feel-good, fight scenes, fighting, fighting the system, figure skating, film noir, finnish, firefly, first contact, fish, flashbacks, food, football, forceful, foreign, foul language, fountain of youth, france, franchise, francis ford copolla, free speech, free to download, freedom, french, friendship, frightening, fun, fun movie, funniest movies, funny, funny as hell, future, futuristic, gambling, gangs, gangster, gangsters, gay, gay character, geek, geeks, genetics, genius, genocide, george orwell, german, germany, ghosts, ghosts/afterlife, giant robots, gilliam, girlie movie, glbt, global warming, god, golden palm, golf, good, good acting, good action, good dialogue, good music, good romantic comedies, good sequel, good soundtrack, good story, good versus evil, goofy, gore, goretastic, gory, goth, gothic, graphic design, graphic novel, gratuitous violence, great, great acting, great cinematography, great dialogue, great ending, great movie, great music, great soundtrack, greed, grim, grindhouse, gritty, gross-out, gruesome, guilt, guilty pleasure, gulf war, gunfight, guns, gypsy accent, hackers, hacking, halloween, hallucinatory, handycam, hannibal lecter, happy ending, hard to watch, harry potter, harsh, haunted house, hawaii, heartbreaking, heartwarming, heist, heroin, heroine, heroine in tight suit, high fantasy, high school, highly quotable, hilarious, hillarious, hip hop, historical, history, hit men, hitchcock, hitman, holiday, hollywood, holocaust, homeless, homophobia, homosexuality, honest, hong kong, horrible, horror, horses, hospital, hostage, hotel, humanity, humor, humorous, hunting, idealism, identity, idiotic, imaginary friend, imagination, imdb top 250, immigrants, immortality, incest, independent film, india, indiana jones, indians, indie, infidelity, innocence lost, insanity, inspirational, inspiring, intellectual, intelligent, intelligent sci-fi, intense, interesting, internet, interracial romance, intimate, investigation, iran, iraq, iraq war, ireland, irish, irish accent, ironic, irreverent, islam, island, isolation, israel, italian, italy, james bond, jane austen, japan, japanese, jay and silent bob, jazz, jesus, jewish, jews, journalism, judaism, jungle, justice, kick-butt women, kidnapping, kids, kids and family, king arthur, kubrick, kung fu, kurosawa, lame, las vegas, latin america, lawyer, lawyers, lesbian, life, life & death, life philosophy, light, lions, literary adaptation, literature, liv tyler, london, lone hero, loneliness, long, los angeles, love, love story, love triangles, low budget, lynch, lyrical, macabre, mad scientist, made for tv, mafia, magic, magic realism, male nudity, man versus machine, manipulation, marijuana, marriage, mars, martial arts, marvel, marx brothers, masterpiece, math, mathematics, maze, medieval, meditative, melancholic, melancholy, memory, memory loss, mental hospital, mental illness, mentor, metaphysics, mexico, middle east, midlife crisis, military, mindfuck, mining, minnesota, mission from god, mistaken identity, miyazaki, mob, mockumentary, modern fantasy, money, monkey, monster, monsters, monty python, moody, moon, moral ambiguity, morality, mother daughter relationship, mother-son relationship, motorcycle, mountain climbing, movie business, movielens top pick, moving, mozart, mtv, multiple storylines, mummy, muppets, murder, murder mystery, music, music business, musical, musicians, mutants, mystery, mythology, narrated, nasa, native americans, natural disaster, nature, nazi, nazis, neil gaiman, neo-nazis, neo-noir, nerds, new jersey, new orleans, new york, new york city, new zealand, ninja, no dialogue, no plot, nocturnal, noir, noir thriller, non-hollywood ending, non-linear, nonlinear, nostalgia, nostalgic, not as good as the first, not funny, notable nudity, notable soundtrack, nuclear, nuclear bomb, nuclear war, nudity, nudity (full frontal - brief), nudity (full frontal - notable), nudity (full frontal), nudity (rear), nudity (topless - brief), nudity (topless - notable), nudity (topless), obsession, ocean, off-beat comedy, office, oil, olympics, ominous, opera, organized crime, original, original plot, orphans, oscar, oscar (best actor), oscar (best actress), oscar (best animated feature), oscar (best cinematography), oscar (best directing), oscar (best editing), oscar (best effects - visual effects), oscar (best foreign language film), oscar (best music - original score), oscar (best music - original song), oscar (best picture), oscar (best sound), oscar (best supporting actor), oscar (best supporting actress), oscar (best writing - screenplay written directly for the screen), oscar winner, over the top, overrated, palestine, parallel universe, paranoia, paranoid, parenthood, paris, parody, passionate, penguins, perfect, period piece, peter pan, pg, pg-13, philip k. dick, philosophical, philosophy, photographer, photography, pigs, pirates, pixar, pixar animation, plot, plot holes, plot twist, poetry, poignant, pointless, poker, poland, police, police corruption, police investigation, political, political corruption, politics, pornography, post apocalyptic, post-apocalyptic, potential oscar nom, poverty, powerful ending, predictable, pregnancy, prejudice, prequel, president, pretentious, prison, prison escape, private detective, product placement, prohibition, propaganda, prostitution, psychedelic, psychiatrist, psychiatry, psychological, psychology, pulp, punk, puppets, queer, quirky, quotable, rabbits, race, race issues, racing, racism, radio, rags to riches, rape, rats, realistic, realistic action, reality tv, rebellion, redemption, reflective, relationships, religion, remade, remake, revenge, revolution, ridiculous, rio de janeiro, road movie, road trip, roald dahl, robbery, robert downey jr, robert ludlum, robot, robots, rock and roll, romance, romantic, romantic comedy, rome, runaway, russia, russian, sacrifice, sad, sad but good, samurai, san francisco, sappy, sarcasm, satire, satirical, saturday night live, saturn award (best science fiction film), saturn award (best special effects), scary, scenic, schizophrenia, school, sci fi, sci-fi, science, science fiction, scifi, scifi cult, scotland, screwball, screwball comedy, script, secret service, secrets, segregation, self discovery, sentimental, sequel, sequels, serial killer, series, sex, sex comedy, sexual, sexual abuse, sexuality, sexualized violence, sexy, shakespeare, shallow, shark, shopping, short, short-term memory loss, silent, silly, silly fun, simple, single father, sisters, skinhead, slackers, slapstick, slasher, slavery, slow, slow paced, small town, snakes, so bad it\\'s funny, so bad it\\'s good, soccer, social commentary, solitude, sophia coppola, south africa, south america, southern theme, space, space opera, space program, space travel, spaghetti western, spain, spanish, spanish civil war, special, special effects, spelling bee, spiders, spielberg, spies, splatter, spock, spoof, sports, spy, spying, stage magic, stand-up comedy, star trek, star wars, steampunk, stereotypes, stoner movie, stop motion, stop-motion, story, storytelling, stranded, strange, strippers, studio ghibli, stunning, stupid, stupid as hell, stupidity, stylish, stylized, submarine, suburbia, suicide, suicide attempt, super hero, super-hero, superhero, superheroes, supernatural, suprisingly clever, surfing, surprise ending, surreal, surrealism, surveillance, survival, suspense, suspenseful, swashbuckler, swedish, sweet, switching places, sword fight, sword fighting, talking animals, talky, tarantino, teacher, tear jerker, technology, teen, teen movie, teenager, teenagers, teens, teleportation, television, tense, terminal illness, terrorism, texas, thought-provoking, thriller, time, time loop, time travel, tokyo, tolkien, tom clancy, too long, too short, torture, touching, toys, tragedy, train, trains, transformation, transgender, travel, treasure, treasure hunt, tricky, trilogy, true story, truman capote, twist, twist ending, twists & turns, undercover cop, underdog, underrated, understated, underwater, unfunny, unintentionally funny, unique, united nations, unlikeable characters, unlikely friendships, unrealistic, unusual plot structure, us history, utopia, vampire, vampire human love, vampires, vengeance, very funny, very good, very interesting, video game, video game adaptation, video games, videogame, vienna, vietnam, vietnam war, view askew, vigilante, vigilantism, violence, violent, virginity, virtual reality, virus, visceral, visual, visually appealing, visually stunning, visuals, voodoo, voyeurism, war, war movie, wartime, waste of time, watch the credits, weapons, wedding, weed, weird, werewolf, werewolves, western, whimsical, wilderness, wine, wistful, witch, witches, witty, wizards, women, working class, workplace, world politics, world war i, world war ii, writer\\'s life, writers, writing, wuxia, wwii, zombie, zombies);'\n",
      "\n"
     ]
    }
   ],
   "source": [
    "assembler = VectorAssembler(inputCols=[c for c in df.columns if c != 'title'],\n",
    "                            outputCol='features')\n",
    "scaler    = StandardScaler(inputCol='features', outputCol='normFeats', withMean=True)\n",
    "\n",
    "df          = assembler.transform(df)\n",
    "scalerModel = scaler.fit(df)\n",
    "df          = scalerModel.transform(df)"
   ]
  },
  {
   "cell_type": "markdown",
   "metadata": {},
   "source": [
    "## Q: What went wrong?"
   ]
  },
  {
   "cell_type": "code",
   "execution_count": 10,
   "metadata": {},
   "outputs": [
    {
     "data": {
      "application/vnd.jupyter.widget-view+json": {
       "model_id": "1e2629850809452ebca9a632536be063",
       "version_major": 2,
       "version_minor": 0
      },
      "text/plain": [
       "VBox()"
      ]
     },
     "metadata": {},
     "output_type": "display_data"
    },
    {
     "data": {
      "application/vnd.jupyter.widget-view+json": {
       "model_id": "",
       "version_major": 2,
       "version_minor": 0
      },
      "text/plain": [
       "FloatProgress(value=0.0, bar_style='info', description='Progress:', layout=Layout(height='25px', width='50%'),…"
      ]
     },
     "metadata": {},
     "output_type": "display_data"
    }
   ],
   "source": [
    "newCols = []\n",
    "\n",
    "for c in df.columns:\n",
    "    if \".\" in c:\n",
    "        new_column = c.replace('.', '_')\n",
    "        df = df.withColumnRenamed(c, new_column)\n",
    "        newCols.append(new_column)\n",
    "    else:\n",
    "        newCols.append(c)"
   ]
  },
  {
   "cell_type": "code",
   "execution_count": 11,
   "metadata": {},
   "outputs": [
    {
     "data": {
      "application/vnd.jupyter.widget-view+json": {
       "model_id": "ba2369cbe69a4b1b9ff2b0380d5323ad",
       "version_major": 2,
       "version_minor": 0
      },
      "text/plain": [
       "VBox()"
      ]
     },
     "metadata": {},
     "output_type": "display_data"
    },
    {
     "data": {
      "application/vnd.jupyter.widget-view+json": {
       "model_id": "",
       "version_major": 2,
       "version_minor": 0
      },
      "text/plain": [
       "FloatProgress(value=0.0, bar_style='info', description='Progress:', layout=Layout(height='25px', width='50%'),…"
      ]
     },
     "metadata": {},
     "output_type": "display_data"
    }
   ],
   "source": [
    "assembler = VectorAssembler(inputCols=[c for c in newCols if c != 'title'],\n",
    "                            outputCol='features')\n",
    "scaler    = StandardScaler(inputCol='features', outputCol='normFeats', withMean=True)\n",
    "\n",
    "df          = assembler.transform(df)\n",
    "scalerModel = scaler.fit(df)\n",
    "df          = scalerModel.transform(df)"
   ]
  },
  {
   "cell_type": "markdown",
   "metadata": {},
   "source": [
    "## PCA"
   ]
  },
  {
   "cell_type": "code",
   "execution_count": 12,
   "metadata": {},
   "outputs": [
    {
     "data": {
      "application/vnd.jupyter.widget-view+json": {
       "model_id": "f873f5333d3b43d5bbde7e896923997e",
       "version_major": 2,
       "version_minor": 0
      },
      "text/plain": [
       "VBox()"
      ]
     },
     "metadata": {},
     "output_type": "display_data"
    },
    {
     "data": {
      "application/vnd.jupyter.widget-view+json": {
       "model_id": "",
       "version_major": 2,
       "version_minor": 0
      },
      "text/plain": [
       "FloatProgress(value=0.0, bar_style='info', description='Progress:', layout=Layout(height='25px', width='50%'),…"
      ]
     },
     "metadata": {},
     "output_type": "display_data"
    }
   ],
   "source": [
    "rdd = df.select('normFeats').rdd"
   ]
  },
  {
   "cell_type": "code",
   "execution_count": 13,
   "metadata": {},
   "outputs": [
    {
     "data": {
      "application/vnd.jupyter.widget-view+json": {
       "model_id": "2bd2140d04ee4b309716dae22f7cfa63",
       "version_major": 2,
       "version_minor": 0
      },
      "text/plain": [
       "VBox()"
      ]
     },
     "metadata": {},
     "output_type": "display_data"
    },
    {
     "data": {
      "application/vnd.jupyter.widget-view+json": {
       "model_id": "",
       "version_major": 2,
       "version_minor": 0
      },
      "text/plain": [
       "FloatProgress(value=0.0, bar_style='info', description='Progress:', layout=Layout(height='25px', width='50%'),…"
      ]
     },
     "metadata": {},
     "output_type": "display_data"
    }
   ],
   "source": [
    "from pyspark.mllib.linalg.distributed import RowMatrix\n",
    "from pyspark.mllib.linalg import Vectors"
   ]
  },
  {
   "cell_type": "code",
   "execution_count": 14,
   "metadata": {},
   "outputs": [
    {
     "data": {
      "application/vnd.jupyter.widget-view+json": {
       "model_id": "fac37ba89a284429898bace665a1600f",
       "version_major": 2,
       "version_minor": 0
      },
      "text/plain": [
       "VBox()"
      ]
     },
     "metadata": {},
     "output_type": "display_data"
    },
    {
     "data": {
      "application/vnd.jupyter.widget-view+json": {
       "model_id": "",
       "version_major": 2,
       "version_minor": 0
      },
      "text/plain": [
       "FloatProgress(value=0.0, bar_style='info', description='Progress:', layout=Layout(height='25px', width='50%'),…"
      ]
     },
     "metadata": {},
     "output_type": "display_data"
    }
   ],
   "source": [
    "vectors = rdd.map(Vectors.dense)"
   ]
  },
  {
   "cell_type": "code",
   "execution_count": 15,
   "metadata": {},
   "outputs": [
    {
     "data": {
      "application/vnd.jupyter.widget-view+json": {
       "model_id": "a98e77aba40e401bbdc8165c52f88feb",
       "version_major": 2,
       "version_minor": 0
      },
      "text/plain": [
       "VBox()"
      ]
     },
     "metadata": {},
     "output_type": "display_data"
    },
    {
     "data": {
      "application/vnd.jupyter.widget-view+json": {
       "model_id": "",
       "version_major": 2,
       "version_minor": 0
      },
      "text/plain": [
       "FloatProgress(value=0.0, bar_style='info', description='Progress:', layout=Layout(height='25px', width='50%'),…"
      ]
     },
     "metadata": {},
     "output_type": "display_data"
    }
   ],
   "source": [
    "matrix = RowMatrix(vectors)"
   ]
  },
  {
   "cell_type": "markdown",
   "metadata": {},
   "source": [
    "## Get the PCs"
   ]
  },
  {
   "cell_type": "code",
   "execution_count": 16,
   "metadata": {},
   "outputs": [
    {
     "data": {
      "application/vnd.jupyter.widget-view+json": {
       "model_id": "06f7cac0308d48c7bd888ad2b3a01e60",
       "version_major": 2,
       "version_minor": 0
      },
      "text/plain": [
       "VBox()"
      ]
     },
     "metadata": {},
     "output_type": "display_data"
    },
    {
     "data": {
      "application/vnd.jupyter.widget-view+json": {
       "model_id": "",
       "version_major": 2,
       "version_minor": 0
      },
      "text/plain": [
       "FloatProgress(value=0.0, bar_style='info', description='Progress:', layout=Layout(height='25px', width='50%'),…"
      ]
     },
     "metadata": {},
     "output_type": "display_data"
    }
   ],
   "source": [
    "pc = matrix.computePrincipalComponents(2)"
   ]
  },
  {
   "cell_type": "code",
   "execution_count": 17,
   "metadata": {},
   "outputs": [
    {
     "data": {
      "application/vnd.jupyter.widget-view+json": {
       "model_id": "506ec805ed7e4b1e8b1f4a741ce08541",
       "version_major": 2,
       "version_minor": 0
      },
      "text/plain": [
       "VBox()"
      ]
     },
     "metadata": {},
     "output_type": "display_data"
    },
    {
     "data": {
      "application/vnd.jupyter.widget-view+json": {
       "model_id": "",
       "version_major": 2,
       "version_minor": 0
      },
      "text/plain": [
       "FloatProgress(value=0.0, bar_style='info', description='Progress:', layout=Layout(height='25px', width='50%'),…"
      ]
     },
     "metadata": {},
     "output_type": "display_data"
    }
   ],
   "source": [
    "matrix_reduced = matrix.multiply(pc)"
   ]
  },
  {
   "cell_type": "code",
   "execution_count": 18,
   "metadata": {},
   "outputs": [
    {
     "data": {
      "application/vnd.jupyter.widget-view+json": {
       "model_id": "55d5cfa3795b4876ad2d060eb9e9d82a",
       "version_major": 2,
       "version_minor": 0
      },
      "text/plain": [
       "VBox()"
      ]
     },
     "metadata": {},
     "output_type": "display_data"
    },
    {
     "data": {
      "application/vnd.jupyter.widget-view+json": {
       "model_id": "",
       "version_major": 2,
       "version_minor": 0
      },
      "text/plain": [
       "FloatProgress(value=0.0, bar_style='info', description='Progress:', layout=Layout(height='25px', width='50%'),…"
      ]
     },
     "metadata": {},
     "output_type": "display_data"
    }
   ],
   "source": [
    "import numpy as np"
   ]
  },
  {
   "cell_type": "code",
   "execution_count": 19,
   "metadata": {},
   "outputs": [
    {
     "data": {
      "application/vnd.jupyter.widget-view+json": {
       "model_id": "157a7c51e39d497e9fec63952f081702",
       "version_major": 2,
       "version_minor": 0
      },
      "text/plain": [
       "VBox()"
      ]
     },
     "metadata": {},
     "output_type": "display_data"
    },
    {
     "data": {
      "application/vnd.jupyter.widget-view+json": {
       "model_id": "",
       "version_major": 2,
       "version_minor": 0
      },
      "text/plain": [
       "FloatProgress(value=0.0, bar_style='info', description='Progress:', layout=Layout(height='25px', width='50%'),…"
      ]
     },
     "metadata": {},
     "output_type": "display_data"
    }
   ],
   "source": [
    "x_red = np.array(matrix_reduced.rows.collect())"
   ]
  },
  {
   "cell_type": "code",
   "execution_count": 20,
   "metadata": {},
   "outputs": [
    {
     "data": {
      "application/vnd.jupyter.widget-view+json": {
       "model_id": "09bd8f8999e14b94bc771a675295ed3f",
       "version_major": 2,
       "version_minor": 0
      },
      "text/plain": [
       "VBox()"
      ]
     },
     "metadata": {},
     "output_type": "display_data"
    },
    {
     "data": {
      "application/vnd.jupyter.widget-view+json": {
       "model_id": "",
       "version_major": 2,
       "version_minor": 0
      },
      "text/plain": [
       "FloatProgress(value=0.0, bar_style='info', description='Progress:', layout=Layout(height='25px', width='50%'),…"
      ]
     },
     "metadata": {},
     "output_type": "display_data"
    }
   ],
   "source": [
    "import matplotlib.pyplot as plt"
   ]
  },
  {
   "cell_type": "code",
   "execution_count": 21,
   "metadata": {},
   "outputs": [
    {
     "data": {
      "application/vnd.jupyter.widget-view+json": {
       "model_id": "508c18c76cae4416b41b8aa28a572706",
       "version_major": 2,
       "version_minor": 0
      },
      "text/plain": [
       "VBox()"
      ]
     },
     "metadata": {},
     "output_type": "display_data"
    },
    {
     "data": {
      "application/vnd.jupyter.widget-view+json": {
       "model_id": "",
       "version_major": 2,
       "version_minor": 0
      },
      "text/plain": [
       "FloatProgress(value=0.0, bar_style='info', description='Progress:', layout=Layout(height='25px', width='50%'),…"
      ]
     },
     "metadata": {},
     "output_type": "display_data"
    },
    {
     "data": {
      "image/png": "[encoded data removed]",
      "text/plain": [
       "<IPython.core.display.Image object>"
      ]
     },
     "metadata": {},
     "output_type": "display_data"
    }
   ],
   "source": [
    "plt.scatter(*x_red.T)\n",
    "plt.show()\n",
    "%matplot plt"
   ]
  },
  {
   "cell_type": "markdown",
   "metadata": {},
   "source": [
    "## Draw loading vectors - but how many?"
   ]
  },
  {
   "cell_type": "code",
   "execution_count": 22,
   "metadata": {},
   "outputs": [
    {
     "data": {
      "application/vnd.jupyter.widget-view+json": {
       "model_id": "1f51e1c0a21941fd9b4dcd8a7134273a",
       "version_major": 2,
       "version_minor": 0
      },
      "text/plain": [
       "VBox()"
      ]
     },
     "metadata": {},
     "output_type": "display_data"
    },
    {
     "data": {
      "application/vnd.jupyter.widget-view+json": {
       "model_id": "",
       "version_major": 2,
       "version_minor": 0
      },
      "text/plain": [
       "FloatProgress(value=0.0, bar_style='info', description='Progress:', layout=Layout(height='25px', width='50%'),…"
      ]
     },
     "metadata": {},
     "output_type": "display_data"
    }
   ],
   "source": [
    "from pyspark.ml.stat import Summarizer"
   ]
  },
  {
   "cell_type": "code",
   "execution_count": 23,
   "metadata": {},
   "outputs": [
    {
     "data": {
      "application/vnd.jupyter.widget-view+json": {
       "model_id": "afc57f7106fa4749b089584d9ad97e04",
       "version_major": 2,
       "version_minor": 0
      },
      "text/plain": [
       "VBox()"
      ]
     },
     "metadata": {},
     "output_type": "display_data"
    },
    {
     "data": {
      "application/vnd.jupyter.widget-view+json": {
       "model_id": "",
       "version_major": 2,
       "version_minor": 0
      },
      "text/plain": [
       "FloatProgress(value=0.0, bar_style='info', description='Progress:', layout=Layout(height='25px', width='50%'),…"
      ]
     },
     "metadata": {},
     "output_type": "display_data"
    },
    {
     "name": "stdout",
     "output_type": "stream",
     "text": [
      "+--------------------------------+\n",
      "|aggregate_metrics(features, 1.0)|\n",
      "+--------------------------------+\n",
      "|            [[0.0051091225963...|\n",
      "+--------------------------------+"
     ]
    }
   ],
   "source": [
    "summarizer = Summarizer.metrics(\"variance\")\n",
    "variance = df.select(summarizer.summary(df.features))\n",
    "variance.show()"
   ]
  },
  {
   "cell_type": "code",
   "execution_count": 24,
   "metadata": {},
   "outputs": [
    {
     "data": {
      "application/vnd.jupyter.widget-view+json": {
       "model_id": "91d3ce12f17246968a1d3b0543f968d7",
       "version_major": 2,
       "version_minor": 0
      },
      "text/plain": [
       "VBox()"
      ]
     },
     "metadata": {},
     "output_type": "display_data"
    },
    {
     "data": {
      "application/vnd.jupyter.widget-view+json": {
       "model_id": "",
       "version_major": 2,
       "version_minor": 0
      },
      "text/plain": [
       "FloatProgress(value=0.0, bar_style='info', description='Progress:', layout=Layout(height='25px', width='50%'),…"
      ]
     },
     "metadata": {},
     "output_type": "display_data"
    }
   ],
   "source": [
    "x = variance.take(1)[0]\n",
    "variance = x.asDict()['aggregate_metrics(features, 1.0)'].asDict()['variance']\n",
    "ix = variance.toArray().argsort()\n",
    "ix = ix[::-1]"
   ]
  },
  {
   "cell_type": "code",
   "execution_count": 25,
   "metadata": {},
   "outputs": [
    {
     "data": {
      "application/vnd.jupyter.widget-view+json": {
       "model_id": "564a784e3cc94b9090b48ebc403cdcde",
       "version_major": 2,
       "version_minor": 0
      },
      "text/plain": [
       "VBox()"
      ]
     },
     "metadata": {},
     "output_type": "display_data"
    },
    {
     "data": {
      "application/vnd.jupyter.widget-view+json": {
       "model_id": "",
       "version_major": 2,
       "version_minor": 0
      },
      "text/plain": [
       "FloatProgress(value=0.0, bar_style='info', description='Progress:', layout=Layout(height='25px', width='50%'),…"
      ]
     },
     "metadata": {},
     "output_type": "display_data"
    }
   ],
   "source": [
    "sortedCols = []\n",
    "for i in ix[:5]:\n",
    "    sortedCols.append((i, df.columns[i]))"
   ]
  },
  {
   "cell_type": "code",
   "execution_count": 26,
   "metadata": {},
   "outputs": [
    {
     "data": {
      "application/vnd.jupyter.widget-view+json": {
       "model_id": "037b0e4411b444bd9f6df6a466f6a756",
       "version_major": 2,
       "version_minor": 0
      },
      "text/plain": [
       "VBox()"
      ]
     },
     "metadata": {},
     "output_type": "display_data"
    },
    {
     "data": {
      "application/vnd.jupyter.widget-view+json": {
       "model_id": "",
       "version_major": 2,
       "version_minor": 0
      },
      "text/plain": [
       "FloatProgress(value=0.0, bar_style='info', description='Progress:', layout=Layout(height='25px', width='50%'),…"
      ]
     },
     "metadata": {},
     "output_type": "display_data"
    },
    {
     "name": "stdout",
     "output_type": "stream",
     "text": [
      "[(229, 'colourful'), (18, 'absurd'), (845, 'reflective'), (521, 'horrible'), (1019, 'television')]"
     ]
    }
   ],
   "source": [
    "sortedCols"
   ]
  },
  {
   "cell_type": "code",
   "execution_count": 27,
   "metadata": {},
   "outputs": [
    {
     "data": {
      "application/vnd.jupyter.widget-view+json": {
       "model_id": "be7576a6784142c0945d90a5a1fbc43f",
       "version_major": 2,
       "version_minor": 0
      },
      "text/plain": [
       "VBox()"
      ]
     },
     "metadata": {},
     "output_type": "display_data"
    },
    {
     "data": {
      "application/vnd.jupyter.widget-view+json": {
       "model_id": "",
       "version_major": 2,
       "version_minor": 0
      },
      "text/plain": [
       "FloatProgress(value=0.0, bar_style='info', description='Progress:', layout=Layout(height='25px', width='50%'),…"
      ]
     },
     "metadata": {},
     "output_type": "display_data"
    },
    {
     "data": {
      "image/png": "[encoded data removed]",
      "text/plain": [
       "<IPython.core.display.Image object>"
      ]
     },
     "metadata": {},
     "output_type": "display_data"
    }
   ],
   "source": [
    "fig, ax = plt.subplots(figsize=(10, 8))\n",
    "ax.scatter(*x_red.T)\n",
    "pc_matrix = pc.toArray()\n",
    "for i, tag in sortedCols:\n",
    "    xx, yy = pc_matrix[i, :] * 500\n",
    "    ax.arrow(0, 0, xx, yy, color='r', width=0.05, length_includes_head=True, head_width=0.5)\n",
    "    ax.text(xx, yy, tag)\n",
    "%matplot plt"
   ]
  },
  {
   "cell_type": "markdown",
   "metadata": {},
   "source": [
    "## Q: How can the same movies be colourful and horrible? 🤔"
   ]
  },
  {
   "cell_type": "code",
   "execution_count": 28,
   "metadata": {},
   "outputs": [
    {
     "data": {
      "application/vnd.jupyter.widget-view+json": {
       "model_id": "82fb915472a442a3be3be83814bf5039",
       "version_major": 2,
       "version_minor": 0
      },
      "text/plain": [
       "VBox()"
      ]
     },
     "metadata": {},
     "output_type": "display_data"
    },
    {
     "data": {
      "application/vnd.jupyter.widget-view+json": {
       "model_id": "",
       "version_major": 2,
       "version_minor": 0
      },
      "text/plain": [
       "FloatProgress(value=0.0, bar_style='info', description='Progress:', layout=Layout(height='25px', width='50%'),…"
      ]
     },
     "metadata": {},
     "output_type": "display_data"
    }
   ],
   "source": [
    "x = df.select('colourful').rdd\n",
    "y = df.select('horrible').rdd"
   ]
  },
  {
   "cell_type": "code",
   "execution_count": 29,
   "metadata": {},
   "outputs": [
    {
     "data": {
      "application/vnd.jupyter.widget-view+json": {
       "model_id": "84ca9ea577c542a496e270db07e6d17d",
       "version_major": 2,
       "version_minor": 0
      },
      "text/plain": [
       "VBox()"
      ]
     },
     "metadata": {},
     "output_type": "display_data"
    },
    {
     "data": {
      "application/vnd.jupyter.widget-view+json": {
       "model_id": "",
       "version_major": 2,
       "version_minor": 0
      },
      "text/plain": [
       "FloatProgress(value=0.0, bar_style='info', description='Progress:', layout=Layout(height='25px', width='50%'),…"
      ]
     },
     "metadata": {},
     "output_type": "display_data"
    },
    {
     "data": {
      "image/png": "[encoded data removed]",
      "text/plain": [
       "<IPython.core.display.Image object>"
      ]
     },
     "metadata": {},
     "output_type": "display_data"
    }
   ],
   "source": [
    "plt.figure()\n",
    "plt.scatter(np.array(x.collect()), np.array(y.collect()))\n",
    "plt.xlabel('Colourful')\n",
    "plt.ylabel('horrible')\n",
    "%matplot plt"
   ]
  },
  {
   "cell_type": "markdown",
   "metadata": {},
   "source": [
    "### Finding the explained variance ratio"
   ]
  },
  {
   "cell_type": "code",
   "execution_count": 30,
   "metadata": {},
   "outputs": [
    {
     "data": {
      "application/vnd.jupyter.widget-view+json": {
       "model_id": "7ecda3104e1c433091b00117b8746462",
       "version_major": 2,
       "version_minor": 0
      },
      "text/plain": [
       "VBox()"
      ]
     },
     "metadata": {},
     "output_type": "display_data"
    },
    {
     "data": {
      "application/vnd.jupyter.widget-view+json": {
       "model_id": "",
       "version_major": 2,
       "version_minor": 0
      },
      "text/plain": [
       "FloatProgress(value=0.0, bar_style='info', description='Progress:', layout=Layout(height='25px', width='50%'),…"
      ]
     },
     "metadata": {},
     "output_type": "display_data"
    }
   ],
   "source": [
    "reduced_rows = matrix_reduced.rows.map(np.array).collect()\n",
    "reduced_matrix = np.array(reduced_rows)"
   ]
  },
  {
   "cell_type": "code",
   "execution_count": 31,
   "metadata": {},
   "outputs": [
    {
     "data": {
      "application/vnd.jupyter.widget-view+json": {
       "model_id": "f0ec1d8d4f8d4c46b278c5ed75f3e4e4",
       "version_major": 2,
       "version_minor": 0
      },
      "text/plain": [
       "VBox()"
      ]
     },
     "metadata": {},
     "output_type": "display_data"
    },
    {
     "data": {
      "application/vnd.jupyter.widget-view+json": {
       "model_id": "",
       "version_major": 2,
       "version_minor": 0
      },
      "text/plain": [
       "FloatProgress(value=0.0, bar_style='info', description='Progress:', layout=Layout(height='25px', width='50%'),…"
      ]
     },
     "metadata": {},
     "output_type": "display_data"
    },
    {
     "name": "stdout",
     "output_type": "stream",
     "text": [
      "array([[  5.58054521, -18.61097667],\n",
      "       [-11.10831191, -13.98894961],\n",
      "       [ -9.60671636,   1.29851508],\n",
      "       ...,\n",
      "       [  3.37264156,  -4.75801367],\n",
      "       [ 11.39168713, -10.67942055],\n",
      "       [  1.9800589 ,  -9.38538052]])"
     ]
    }
   ],
   "source": [
    "reduced_matrix"
   ]
  },
  {
   "cell_type": "code",
   "execution_count": 32,
   "metadata": {},
   "outputs": [
    {
     "data": {
      "application/vnd.jupyter.widget-view+json": {
       "model_id": "e2f88d84707541a2b69dde280ebe6de3",
       "version_major": 2,
       "version_minor": 0
      },
      "text/plain": [
       "VBox()"
      ]
     },
     "metadata": {},
     "output_type": "display_data"
    },
    {
     "data": {
      "application/vnd.jupyter.widget-view+json": {
       "model_id": "",
       "version_major": 2,
       "version_minor": 0
      },
      "text/plain": [
       "FloatProgress(value=0.0, bar_style='info', description='Progress:', layout=Layout(height='25px', width='50%'),…"
      ]
     },
     "metadata": {},
     "output_type": "display_data"
    },
    {
     "name": "stdout",
     "output_type": "stream",
     "text": [
      "16.085668673930638"
     ]
    }
   ],
   "source": [
    "reduced_matrix.var(axis=0).sum() / (len(df.columns) - 3) * 100"
   ]
  },
  {
   "cell_type": "markdown",
   "metadata": {},
   "source": [
    "### Increase the number of components"
   ]
  },
  {
   "cell_type": "code",
   "execution_count": 33,
   "metadata": {},
   "outputs": [
    {
     "data": {
      "application/vnd.jupyter.widget-view+json": {
       "model_id": "c50648661ad24286b0ca18b582e7c2b8",
       "version_major": 2,
       "version_minor": 0
      },
      "text/plain": [
       "VBox()"
      ]
     },
     "metadata": {},
     "output_type": "display_data"
    },
    {
     "data": {
      "application/vnd.jupyter.widget-view+json": {
       "model_id": "",
       "version_major": 2,
       "version_minor": 0
      },
      "text/plain": [
       "FloatProgress(value=0.0, bar_style='info', description='Progress:', layout=Layout(height='25px', width='50%'),…"
      ]
     },
     "metadata": {},
     "output_type": "display_data"
    }
   ],
   "source": [
    "pc = matrix.computePrincipalComponents(100)\n",
    "matrix_reduced = matrix.multiply(pc)"
   ]
  },
  {
   "cell_type": "code",
   "execution_count": 34,
   "metadata": {},
   "outputs": [
    {
     "data": {
      "application/vnd.jupyter.widget-view+json": {
       "model_id": "9652bc2440b647c3996f11984f8e4fef",
       "version_major": 2,
       "version_minor": 0
      },
      "text/plain": [
       "VBox()"
      ]
     },
     "metadata": {},
     "output_type": "display_data"
    },
    {
     "data": {
      "application/vnd.jupyter.widget-view+json": {
       "model_id": "",
       "version_major": 2,
       "version_minor": 0
      },
      "text/plain": [
       "FloatProgress(value=0.0, bar_style='info', description='Progress:', layout=Layout(height='25px', width='50%'),…"
      ]
     },
     "metadata": {},
     "output_type": "display_data"
    },
    {
     "name": "stdout",
     "output_type": "stream",
     "text": [
      "67.71827823640292"
     ]
    }
   ],
   "source": [
    "reduced_rows = matrix_reduced.rows.map(np.array).collect()\n",
    "reduced_matrix = np.array(reduced_rows)\n",
    "reduced_matrix.var(axis=0).sum() / (len(df.columns) - 3) * 100"
   ]
  },
  {
   "cell_type": "code",
   "execution_count": 35,
   "metadata": {},
   "outputs": [
    {
     "data": {
      "application/vnd.jupyter.widget-view+json": {
       "model_id": "7cf4ba5d6a5d4f7883492fb40a31e819",
       "version_major": 2,
       "version_minor": 0
      },
      "text/plain": [
       "VBox()"
      ]
     },
     "metadata": {},
     "output_type": "display_data"
    },
    {
     "data": {
      "application/vnd.jupyter.widget-view+json": {
       "model_id": "",
       "version_major": 2,
       "version_minor": 0
      },
      "text/plain": [
       "FloatProgress(value=0.0, bar_style='info', description='Progress:', layout=Layout(height='25px', width='50%'),…"
      ]
     },
     "metadata": {},
     "output_type": "display_data"
    }
   ],
   "source": [
    "pc = matrix.computePrincipalComponents(500)\n",
    "matrix_reduced = matrix.multiply(pc)"
   ]
  },
  {
   "cell_type": "code",
   "execution_count": 36,
   "metadata": {},
   "outputs": [
    {
     "data": {
      "application/vnd.jupyter.widget-view+json": {
       "model_id": "22a915c46eed4514afe31aca1a5d7a12",
       "version_major": 2,
       "version_minor": 0
      },
      "text/plain": [
       "VBox()"
      ]
     },
     "metadata": {},
     "output_type": "display_data"
    },
    {
     "data": {
      "application/vnd.jupyter.widget-view+json": {
       "model_id": "",
       "version_major": 2,
       "version_minor": 0
      },
      "text/plain": [
       "FloatProgress(value=0.0, bar_style='info', description='Progress:', layout=Layout(height='25px', width='50%'),…"
      ]
     },
     "metadata": {},
     "output_type": "display_data"
    },
    {
     "name": "stdout",
     "output_type": "stream",
     "text": [
      "91.0836702294685"
     ]
    }
   ],
   "source": [
    "reduced_rows = matrix_reduced.rows.map(np.array).collect()\n",
    "reduced_matrix = np.array(reduced_rows)\n",
    "reduced_matrix.var(axis=0).sum() / (len(df.columns) - 3) * 100"
   ]
  },
  {
   "cell_type": "code",
   "execution_count": null,
   "metadata": {},
   "outputs": [],
   "source": []
  }
 ],
 "metadata": {
  "kernelspec": {
   "display_name": "PySpark",
   "language": "",
   "name": "pysparkkernel"
  },
  "language_info": {
   "codemirror_mode": {
    "name": "python",
    "version": 2
   },
   "mimetype": "text/x-python",
   "name": "pyspark",
   "pygments_lexer": "python2"
  }
 },
 "nbformat": 4,
 "nbformat_minor": 4
}
