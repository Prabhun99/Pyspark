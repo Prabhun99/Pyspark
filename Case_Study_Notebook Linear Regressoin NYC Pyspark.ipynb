{
 "cells": [
  {
   "cell_type": "code",
   "execution_count": 1,
   "metadata": {},
   "outputs": [
    {
     "data": {
      "application/vnd.jupyter.widget-view+json": {
       "model_id": "073e150148cd4110a94887c93fac24dc",
       "version_major": 2,
       "version_minor": 0
      },
      "text/plain": [
       "VBox()"
      ]
     },
     "metadata": {},
     "output_type": "display_data"
    },
    {
     "name": "stdout",
     "output_type": "stream",
     "text": [
      "Starting Spark application\n"
     ]
    },
    {
     "data": {
      "text/html": [
       "<table>\n",
       "<tr><th>ID</th><th>YARN Application ID</th><th>Kind</th><th>State</th><th>Spark UI</th><th>Driver log</th><th>User</th><th>Current session?</th></tr><tr><td>0</td><td>application_1650956947191_0001</td><td>pyspark</td><td>idle</td><td><a target=\"_blank\" href=\"http://ip-172-31-64-207.ec2.internal:20888/proxy/application_1650956947191_0001/\" class=\"emr-proxy-link\" emr-resource=\"j-1E8W0582OQU6H\n",
       "\" application-id=\"application_1650956947191_0001\">Link</a></td><td><a target=\"_blank\" href=\"http://ip-172-31-75-119.ec2.internal:8042/node/containerlogs/container_1650956947191_0001_01_000001/livy\" >Link</a></td><td>None</td><td>✔</td></tr></table>"
      ],
      "text/plain": [
       "<IPython.core.display.HTML object>"
      ]
     },
     "metadata": {},
     "output_type": "display_data"
    },
    {
     "data": {
      "application/vnd.jupyter.widget-view+json": {
       "model_id": "",
       "version_major": 2,
       "version_minor": 0
      },
      "text/plain": [
       "FloatProgress(value=0.0, bar_style='info', description='Progress:', layout=Layout(height='25px', width='50%'),…"
      ]
     },
     "metadata": {},
     "output_type": "display_data"
    },
    {
     "name": "stdout",
     "output_type": "stream",
     "text": [
      "SparkSession available as 'spark'.\n"
     ]
    },
    {
     "data": {
      "application/vnd.jupyter.widget-view+json": {
       "model_id": "",
       "version_major": 2,
       "version_minor": 0
      },
      "text/plain": [
       "FloatProgress(value=0.0, bar_style='info', description='Progress:', layout=Layout(height='25px', width='50%'),…"
      ]
     },
     "metadata": {},
     "output_type": "display_data"
    },
    {
     "name": "stdout",
     "output_type": "stream",
     "text": [
      "<pyspark.sql.session.SparkSession object at 0x7f8c272a2790>"
     ]
    }
   ],
   "source": [
    "spark"
   ]
  },
  {
   "cell_type": "code",
   "execution_count": 2,
   "metadata": {},
   "outputs": [
    {
     "data": {
      "application/vnd.jupyter.widget-view+json": {
       "model_id": "4aff9d478132489a96c0116e2f2131f3",
       "version_major": 2,
       "version_minor": 0
      },
      "text/plain": [
       "VBox()"
      ]
     },
     "metadata": {},
     "output_type": "display_data"
    },
    {
     "data": {
      "application/vnd.jupyter.widget-view+json": {
       "model_id": "",
       "version_major": 2,
       "version_minor": 0
      },
      "text/plain": [
       "FloatProgress(value=0.0, bar_style='info', description='Progress:', layout=Layout(height='25px', width='50%'),…"
      ]
     },
     "metadata": {},
     "output_type": "display_data"
    },
    {
     "name": "stdout",
     "output_type": "stream",
     "text": [
      "DataFrame[key: timestamp, fare_amount: double, pickup_datetime: string, pickup_longitude: double, pickup_latitude: double, dropoff_longitude: double, dropoff_latitude: double, passenger_count: int]"
     ]
    }
   ],
   "source": [
    "df = sqlContext.read.csv('s3a://linear-regression-mlc/train.csv', header=True, inferSchema=True)\n",
    "# Using a smaller dataset of 10M rows\n",
    "df = df.limit(1_000_000)\n",
    "df = df.dropna()\n",
    "df.cache()"
   ]
  },
  {
   "cell_type": "code",
   "execution_count": 3,
   "metadata": {},
   "outputs": [
    {
     "data": {
      "application/vnd.jupyter.widget-view+json": {
       "model_id": "0db382755d6f41048d1d81d621ca448c",
       "version_major": 2,
       "version_minor": 0
      },
      "text/plain": [
       "VBox()"
      ]
     },
     "metadata": {},
     "output_type": "display_data"
    },
    {
     "data": {
      "application/vnd.jupyter.widget-view+json": {
       "model_id": "",
       "version_major": 2,
       "version_minor": 0
      },
      "text/plain": [
       "FloatProgress(value=0.0, bar_style='info', description='Progress:', layout=Layout(height='25px', width='50%'),…"
      ]
     },
     "metadata": {},
     "output_type": "display_data"
    },
    {
     "name": "stdout",
     "output_type": "stream",
     "text": [
      "+-------------------+-----------+--------------------+------------------+-----------------+-----------------+-----------------+---------------+\n",
      "|                key|fare_amount|     pickup_datetime|  pickup_longitude|  pickup_latitude|dropoff_longitude| dropoff_latitude|passenger_count|\n",
      "+-------------------+-----------+--------------------+------------------+-----------------+-----------------+-----------------+---------------+\n",
      "|2010-02-08 22:14:00|        6.5|2010-02-08 22:14:...|        -73.948425|        40.774048|       -73.965362|        40.757485|              1|\n",
      "|2010-06-18 15:26:00|       13.3|2010-06-18 15:26:...|        -73.976297|        40.789097|       -74.004615|        40.742228|              5|\n",
      "|2014-11-18 20:33:40|        6.5|2014-11-18 20:33:...|        -73.982605|        40.762357|       -73.995942|        40.753806|              1|\n",
      "|2011-06-14 20:38:00|       20.5|2011-06-14 20:38:...|        -74.009922|        40.720078|       -73.955662|        40.783623|              1|\n",
      "|2011-06-21 07:08:16|       12.9|2011-06-21 07:08:...|        -73.988674|        40.769243|       -74.013859|          40.7148|              1|\n",
      "|2009-02-10 19:17:09|        8.7|2009-02-10 19:17:...|        -73.984701|         40.75292|       -73.975942|        40.753268|              1|\n",
      "|2009-08-07 22:03:00|        8.1|2009-08-07 22:03:...|        -73.997858|        40.735862|       -73.970953|        40.748578|              1|\n",
      "|2009-10-14 02:38:00|        5.7|2009-10-14 02:38:...|        -74.004987|        40.751317|       -74.005983|        40.739782|              2|\n",
      "|2012-07-13 15:01:23|       49.8|2012-07-13 15:01:...|        -73.971699|        40.749703|       -73.783315|        40.643829|              1|\n",
      "|2013-11-22 00:09:00|        5.0|2013-11-22 00:09:...|        -73.995747|        40.731917|       -73.991752|        40.727147|              2|\n",
      "|2014-10-30 11:08:00|        6.0|2014-10-30 11:08:...|        -73.974718|        40.754657|       -73.980602|        40.745572|              1|\n",
      "|2012-02-16 04:11:14|       11.7|2012-02-16 04:11:...|        -73.968726|        40.761735|       -74.005537|        40.726763|              1|\n",
      "|2012-12-04 15:46:10|        6.5|2012-12-04 15:46:...|        -73.969647|        40.759351|       -73.953085|        40.772864|              1|\n",
      "|2013-05-11 23:57:00|       11.5|2013-05-11 23:57:...|        -73.981385|        40.733032|       -73.956017|        40.776155|              6|\n",
      "|2010-12-08 06:27:46|      19.07|2010-12-08 06:27:...|        -73.982321|        40.739807|       -73.894669|        40.729073|              1|\n",
      "|2011-03-29 02:46:00|        6.1|2011-03-29 02:46:...|        -73.967212|        40.758777|       -73.980225|        40.738887|              5|\n",
      "|2014-01-13 22:43:00|       16.5|2014-01-13 22:43:...|        -73.981832|        40.767775|        -73.95085|        40.784257|              1|\n",
      "|2014-04-30 18:09:00|       16.5|2014-04-30 18:09:...|        -73.977805|        40.764342|       -73.990932|        40.756247|              5|\n",
      "|2015-03-10 18:33:13|       10.0|2015-03-10 18:33:...|-73.95569610595703|40.77937698364258|-73.9319076538086|40.79793930053711|              1|\n",
      "|2012-01-10 15:53:00|        7.7|2012-01-10 15:53:...|        -73.968432|        40.758957|       -73.987983|        40.748905|              1|\n",
      "+-------------------+-----------+--------------------+------------------+-----------------+-----------------+-----------------+---------------+\n",
      "only showing top 20 rows"
     ]
    }
   ],
   "source": [
    "df.show()"
   ]
  },
  {
   "cell_type": "code",
   "execution_count": 5,
   "metadata": {},
   "outputs": [
    {
     "data": {
      "application/vnd.jupyter.widget-view+json": {
       "model_id": "0ecb255ee8bb4803b480cffb5f93ad91",
       "version_major": 2,
       "version_minor": 0
      },
      "text/plain": [
       "VBox()"
      ]
     },
     "metadata": {},
     "output_type": "display_data"
    },
    {
     "data": {
      "application/vnd.jupyter.widget-view+json": {
       "model_id": "",
       "version_major": 2,
       "version_minor": 0
      },
      "text/plain": [
       "FloatProgress(value=0.0, bar_style='info', description='Progress:', layout=Layout(height='25px', width='50%'),…"
      ]
     },
     "metadata": {},
     "output_type": "display_data"
    }
   ],
   "source": [
    "from pyspark.ml.feature import VectorAssembler\n",
    "from pyspark.ml.regression import LinearRegression"
   ]
  },
  {
   "cell_type": "code",
   "execution_count": 6,
   "metadata": {},
   "outputs": [
    {
     "data": {
      "application/vnd.jupyter.widget-view+json": {
       "model_id": "c46631e056a44949bcffc7620130c09a",
       "version_major": 2,
       "version_minor": 0
      },
      "text/plain": [
       "VBox()"
      ]
     },
     "metadata": {},
     "output_type": "display_data"
    },
    {
     "data": {
      "application/vnd.jupyter.widget-view+json": {
       "model_id": "",
       "version_major": 2,
       "version_minor": 0
      },
      "text/plain": [
       "FloatProgress(value=0.0, bar_style='info', description='Progress:', layout=Layout(height='25px', width='50%'),…"
      ]
     },
     "metadata": {},
     "output_type": "display_data"
    }
   ],
   "source": [
    "inputCols = [\n",
    "    'pickup_latitude',\n",
    "    'pickup_longitude',\n",
    "    'dropoff_longitude',\n",
    "    'dropoff_latitude',\n",
    "    'passenger_count'\n",
    "]\n",
    "assembler = VectorAssembler(inputCols = inputCols , outputCol = 'features')\n",
    "dataset = assembler.transform(df)"
   ]
  },
  {
   "cell_type": "code",
   "execution_count": 7,
   "metadata": {},
   "outputs": [
    {
     "data": {
      "application/vnd.jupyter.widget-view+json": {
       "model_id": "bdb17b5c5eed4c14922f1b6a6b59e440",
       "version_major": 2,
       "version_minor": 0
      },
      "text/plain": [
       "VBox()"
      ]
     },
     "metadata": {},
     "output_type": "display_data"
    },
    {
     "data": {
      "application/vnd.jupyter.widget-view+json": {
       "model_id": "",
       "version_major": 2,
       "version_minor": 0
      },
      "text/plain": [
       "FloatProgress(value=0.0, bar_style='info', description='Progress:', layout=Layout(height='25px', width='50%'),…"
      ]
     },
     "metadata": {},
     "output_type": "display_data"
    }
   ],
   "source": [
    "lr = LinearRegression(featuresCol = 'features', labelCol = 'fare_amount')\n",
    "model = lr.fit(dataset)\n",
    "summary = model.evaluate(dataset)"
   ]
  },
  {
   "cell_type": "code",
   "execution_count": 8,
   "metadata": {},
   "outputs": [
    {
     "data": {
      "application/vnd.jupyter.widget-view+json": {
       "model_id": "716db90082a94a0282dadfb6778d2286",
       "version_major": 2,
       "version_minor": 0
      },
      "text/plain": [
       "VBox()"
      ]
     },
     "metadata": {},
     "output_type": "display_data"
    },
    {
     "data": {
      "application/vnd.jupyter.widget-view+json": {
       "model_id": "",
       "version_major": 2,
       "version_minor": 0
      },
      "text/plain": [
       "FloatProgress(value=0.0, bar_style='info', description='Progress:', layout=Layout(height='25px', width='50%'),…"
      ]
     },
     "metadata": {},
     "output_type": "display_data"
    },
    {
     "name": "stdout",
     "output_type": "stream",
     "text": [
      "0.000245481100044298"
     ]
    }
   ],
   "source": [
    "summary.r2"
   ]
  },
  {
   "cell_type": "code",
   "execution_count": 9,
   "metadata": {},
   "outputs": [
    {
     "data": {
      "application/vnd.jupyter.widget-view+json": {
       "model_id": "007eafb75b1444f291c866f185479cad",
       "version_major": 2,
       "version_minor": 0
      },
      "text/plain": [
       "VBox()"
      ]
     },
     "metadata": {},
     "output_type": "display_data"
    },
    {
     "data": {
      "application/vnd.jupyter.widget-view+json": {
       "model_id": "",
       "version_major": 2,
       "version_minor": 0
      },
      "text/plain": [
       "FloatProgress(value=0.0, bar_style='info', description='Progress:', layout=Layout(height='25px', width='50%'),…"
      ]
     },
     "metadata": {},
     "output_type": "display_data"
    },
    {
     "name": "stdout",
     "output_type": "stream",
     "text": [
      "[Row(max(pickup_latitude)=2009.26628)]"
     ]
    }
   ],
   "source": [
    "df.agg({'pickup_latitude':'max'}).collect()"
   ]
  },
  {
   "cell_type": "code",
   "execution_count": 10,
   "metadata": {},
   "outputs": [
    {
     "data": {
      "application/vnd.jupyter.widget-view+json": {
       "model_id": "0a0ed264d37a47e08a0c987af7d8340f",
       "version_major": 2,
       "version_minor": 0
      },
      "text/plain": [
       "VBox()"
      ]
     },
     "metadata": {},
     "output_type": "display_data"
    },
    {
     "data": {
      "application/vnd.jupyter.widget-view+json": {
       "model_id": "",
       "version_major": 2,
       "version_minor": 0
      },
      "text/plain": [
       "FloatProgress(value=0.0, bar_style='info', description='Progress:', layout=Layout(height='25px', width='50%'),…"
      ]
     },
     "metadata": {},
     "output_type": "display_data"
    }
   ],
   "source": [
    "#NYC lies between 73 and 75 degrees West, and 40 and 42 degrees north\n",
    "\n",
    "TOP, BOTTOM, LEFT, RIGHT = 42, 40 ,-75, -73\n",
    "df = df.filter(df['pickup_latitude'] >= BOTTOM)\n",
    "df = df.filter(df['pickup_latitude'] <= TOP)\n",
    "df = df.filter(df['pickup_longitude'] <= RIGHT)\n",
    "df = df.filter(df['pickup_longitude'] >= LEFT)\n",
    "\n",
    "df = df.filter(df['dropoff_latitude'] >= BOTTOM)\n",
    "df = df.filter(df['dropoff_latitude'] <= TOP)\n",
    "df = df.filter(df['dropoff_longitude'] <= RIGHT)\n",
    "df = df.filter(df['dropoff_longitude'] >= LEFT)"
   ]
  },
  {
   "cell_type": "code",
   "execution_count": 11,
   "metadata": {},
   "outputs": [
    {
     "data": {
      "application/vnd.jupyter.widget-view+json": {
       "model_id": "485ff3b26d9c40ceb0c8c6edb34034a8",
       "version_major": 2,
       "version_minor": 0
      },
      "text/plain": [
       "VBox()"
      ]
     },
     "metadata": {},
     "output_type": "display_data"
    },
    {
     "data": {
      "application/vnd.jupyter.widget-view+json": {
       "model_id": "",
       "version_major": 2,
       "version_minor": 0
      },
      "text/plain": [
       "FloatProgress(value=0.0, bar_style='info', description='Progress:', layout=Layout(height='25px', width='50%'),…"
      ]
     },
     "metadata": {},
     "output_type": "display_data"
    },
    {
     "name": "stdout",
     "output_type": "stream",
     "text": [
      "978872"
     ]
    }
   ],
   "source": [
    "df.count()"
   ]
  },
  {
   "cell_type": "code",
   "execution_count": 12,
   "metadata": {},
   "outputs": [
    {
     "data": {
      "application/vnd.jupyter.widget-view+json": {
       "model_id": "b7c4b9242a0b45bda417fe09eb9a33b2",
       "version_major": 2,
       "version_minor": 0
      },
      "text/plain": [
       "VBox()"
      ]
     },
     "metadata": {},
     "output_type": "display_data"
    },
    {
     "data": {
      "application/vnd.jupyter.widget-view+json": {
       "model_id": "",
       "version_major": 2,
       "version_minor": 0
      },
      "text/plain": [
       "FloatProgress(value=0.0, bar_style='info', description='Progress:', layout=Layout(height='25px', width='50%'),…"
      ]
     },
     "metadata": {},
     "output_type": "display_data"
    },
    {
     "name": "stdout",
     "output_type": "stream",
     "text": [
      "[Row(min(passenger_count)=0)]"
     ]
    }
   ],
   "source": [
    "df.agg({'passenger_count':'min'}).collect()"
   ]
  },
  {
   "cell_type": "code",
   "execution_count": 14,
   "metadata": {},
   "outputs": [
    {
     "data": {
      "application/vnd.jupyter.widget-view+json": {
       "model_id": "a1655a5802a847caaddf371c56d7350e",
       "version_major": 2,
       "version_minor": 0
      },
      "text/plain": [
       "VBox()"
      ]
     },
     "metadata": {},
     "output_type": "display_data"
    },
    {
     "data": {
      "application/vnd.jupyter.widget-view+json": {
       "model_id": "",
       "version_major": 2,
       "version_minor": 0
      },
      "text/plain": [
       "FloatProgress(value=0.0, bar_style='info', description='Progress:', layout=Layout(height='25px', width='50%'),…"
      ]
     },
     "metadata": {},
     "output_type": "display_data"
    }
   ],
   "source": [
    "df =df.filter(df['passenger_count']>0)"
   ]
  },
  {
   "cell_type": "code",
   "execution_count": 15,
   "metadata": {},
   "outputs": [
    {
     "data": {
      "application/vnd.jupyter.widget-view+json": {
       "model_id": "c197af8fa9604d5b99d1f7b465cd2072",
       "version_major": 2,
       "version_minor": 0
      },
      "text/plain": [
       "VBox()"
      ]
     },
     "metadata": {},
     "output_type": "display_data"
    },
    {
     "data": {
      "application/vnd.jupyter.widget-view+json": {
       "model_id": "",
       "version_major": 2,
       "version_minor": 0
      },
      "text/plain": [
       "FloatProgress(value=0.0, bar_style='info', description='Progress:', layout=Layout(height='25px', width='50%'),…"
      ]
     },
     "metadata": {},
     "output_type": "display_data"
    },
    {
     "name": "stdout",
     "output_type": "stream",
     "text": [
      "[Row(min(fare_amount)=-52.0)]"
     ]
    }
   ],
   "source": [
    "df.agg({'fare_amount':'min'}).collect()"
   ]
  },
  {
   "cell_type": "code",
   "execution_count": 16,
   "metadata": {},
   "outputs": [
    {
     "data": {
      "application/vnd.jupyter.widget-view+json": {
       "model_id": "d6e28532ec1f4e3d9c5a84880638be9a",
       "version_major": 2,
       "version_minor": 0
      },
      "text/plain": [
       "VBox()"
      ]
     },
     "metadata": {},
     "output_type": "display_data"
    },
    {
     "data": {
      "application/vnd.jupyter.widget-view+json": {
       "model_id": "",
       "version_major": 2,
       "version_minor": 0
      },
      "text/plain": [
       "FloatProgress(value=0.0, bar_style='info', description='Progress:', layout=Layout(height='25px', width='50%'),…"
      ]
     },
     "metadata": {},
     "output_type": "display_data"
    }
   ],
   "source": [
    "df =df.filter(df['fare_amount']>0)"
   ]
  },
  {
   "cell_type": "code",
   "execution_count": 17,
   "metadata": {},
   "outputs": [
    {
     "data": {
      "application/vnd.jupyter.widget-view+json": {
       "model_id": "dc28fb568ddc47f8bcc62c399e2f4dc2",
       "version_major": 2,
       "version_minor": 0
      },
      "text/plain": [
       "VBox()"
      ]
     },
     "metadata": {},
     "output_type": "display_data"
    },
    {
     "data": {
      "application/vnd.jupyter.widget-view+json": {
       "model_id": "",
       "version_major": 2,
       "version_minor": 0
      },
      "text/plain": [
       "FloatProgress(value=0.0, bar_style='info', description='Progress:', layout=Layout(height='25px', width='50%'),…"
      ]
     },
     "metadata": {},
     "output_type": "display_data"
    },
    {
     "name": "stdout",
     "output_type": "stream",
     "text": [
      "975428"
     ]
    }
   ],
   "source": [
    "df.count()"
   ]
  },
  {
   "cell_type": "code",
   "execution_count": 18,
   "metadata": {},
   "outputs": [
    {
     "data": {
      "application/vnd.jupyter.widget-view+json": {
       "model_id": "3540b3aed3a145cea7ab88b67c2cdf72",
       "version_major": 2,
       "version_minor": 0
      },
      "text/plain": [
       "VBox()"
      ]
     },
     "metadata": {},
     "output_type": "display_data"
    },
    {
     "data": {
      "application/vnd.jupyter.widget-view+json": {
       "model_id": "",
       "version_major": 2,
       "version_minor": 0
      },
      "text/plain": [
       "FloatProgress(value=0.0, bar_style='info', description='Progress:', layout=Layout(height='25px', width='50%'),…"
      ]
     },
     "metadata": {},
     "output_type": "display_data"
    }
   ],
   "source": [
    "inputCols = [\n",
    "    'pickup_latitude',\n",
    "    'pickup_longitude',\n",
    "    'dropoff_longitude',\n",
    "    'dropoff_latitude',\n",
    "    'passenger_count'\n",
    "]\n",
    "assembler = VectorAssembler(inputCols = inputCols, outputCol = 'featuresClean')\n",
    "dataset = assembler.transform(df)"
   ]
  },
  {
   "cell_type": "code",
   "execution_count": 19,
   "metadata": {},
   "outputs": [
    {
     "data": {
      "application/vnd.jupyter.widget-view+json": {
       "model_id": "07e4d24a6a3e44bd919523c25a9cde5d",
       "version_major": 2,
       "version_minor": 0
      },
      "text/plain": [
       "VBox()"
      ]
     },
     "metadata": {},
     "output_type": "display_data"
    },
    {
     "data": {
      "application/vnd.jupyter.widget-view+json": {
       "model_id": "",
       "version_major": 2,
       "version_minor": 0
      },
      "text/plain": [
       "FloatProgress(value=0.0, bar_style='info', description='Progress:', layout=Layout(height='25px', width='50%'),…"
      ]
     },
     "metadata": {},
     "output_type": "display_data"
    }
   ],
   "source": [
    "lr = LinearRegression(featuresCol = 'featuresClean', labelCol = 'fare_amount')\n",
    "model = lr.fit(dataset)\n",
    "summary = model.evaluate(dataset)"
   ]
  },
  {
   "cell_type": "code",
   "execution_count": 20,
   "metadata": {},
   "outputs": [
    {
     "data": {
      "application/vnd.jupyter.widget-view+json": {
       "model_id": "126d92e07e104ce1969d702242fb435c",
       "version_major": 2,
       "version_minor": 0
      },
      "text/plain": [
       "VBox()"
      ]
     },
     "metadata": {},
     "output_type": "display_data"
    },
    {
     "data": {
      "application/vnd.jupyter.widget-view+json": {
       "model_id": "",
       "version_major": 2,
       "version_minor": 0
      },
      "text/plain": [
       "FloatProgress(value=0.0, bar_style='info', description='Progress:', layout=Layout(height='25px', width='50%'),…"
      ]
     },
     "metadata": {},
     "output_type": "display_data"
    },
    {
     "name": "stdout",
     "output_type": "stream",
     "text": [
      "0.250888962495586"
     ]
    }
   ],
   "source": [
    "summary.r2"
   ]
  },
  {
   "cell_type": "code",
   "execution_count": 21,
   "metadata": {},
   "outputs": [
    {
     "data": {
      "application/vnd.jupyter.widget-view+json": {
       "model_id": "74deb91b4fc045ca8fe5dba35e068bfd",
       "version_major": 2,
       "version_minor": 0
      },
      "text/plain": [
       "VBox()"
      ]
     },
     "metadata": {},
     "output_type": "display_data"
    },
    {
     "data": {
      "application/vnd.jupyter.widget-view+json": {
       "model_id": "",
       "version_major": 2,
       "version_minor": 0
      },
      "text/plain": [
       "FloatProgress(value=0.0, bar_style='info', description='Progress:', layout=Layout(height='25px', width='50%'),…"
      ]
     },
     "metadata": {},
     "output_type": "display_data"
    },
    {
     "name": "stdout",
     "output_type": "stream",
     "text": [
      "+-------------------+-----------+--------------------+------------------+-----------------+-----------------+-----------------+---------------+\n",
      "|                key|fare_amount|     pickup_datetime|  pickup_longitude|  pickup_latitude|dropoff_longitude| dropoff_latitude|passenger_count|\n",
      "+-------------------+-----------+--------------------+------------------+-----------------+-----------------+-----------------+---------------+\n",
      "|2010-02-08 22:14:00|        6.5|2010-02-08 22:14:...|        -73.948425|        40.774048|       -73.965362|        40.757485|              1|\n",
      "|2010-06-18 15:26:00|       13.3|2010-06-18 15:26:...|        -73.976297|        40.789097|       -74.004615|        40.742228|              5|\n",
      "|2014-11-18 20:33:40|        6.5|2014-11-18 20:33:...|        -73.982605|        40.762357|       -73.995942|        40.753806|              1|\n",
      "|2011-06-14 20:38:00|       20.5|2011-06-14 20:38:...|        -74.009922|        40.720078|       -73.955662|        40.783623|              1|\n",
      "|2011-06-21 07:08:16|       12.9|2011-06-21 07:08:...|        -73.988674|        40.769243|       -74.013859|          40.7148|              1|\n",
      "|2009-02-10 19:17:09|        8.7|2009-02-10 19:17:...|        -73.984701|         40.75292|       -73.975942|        40.753268|              1|\n",
      "|2009-08-07 22:03:00|        8.1|2009-08-07 22:03:...|        -73.997858|        40.735862|       -73.970953|        40.748578|              1|\n",
      "|2009-10-14 02:38:00|        5.7|2009-10-14 02:38:...|        -74.004987|        40.751317|       -74.005983|        40.739782|              2|\n",
      "|2012-07-13 15:01:23|       49.8|2012-07-13 15:01:...|        -73.971699|        40.749703|       -73.783315|        40.643829|              1|\n",
      "|2013-11-22 00:09:00|        5.0|2013-11-22 00:09:...|        -73.995747|        40.731917|       -73.991752|        40.727147|              2|\n",
      "|2014-10-30 11:08:00|        6.0|2014-10-30 11:08:...|        -73.974718|        40.754657|       -73.980602|        40.745572|              1|\n",
      "|2012-02-16 04:11:14|       11.7|2012-02-16 04:11:...|        -73.968726|        40.761735|       -74.005537|        40.726763|              1|\n",
      "|2012-12-04 15:46:10|        6.5|2012-12-04 15:46:...|        -73.969647|        40.759351|       -73.953085|        40.772864|              1|\n",
      "|2013-05-11 23:57:00|       11.5|2013-05-11 23:57:...|        -73.981385|        40.733032|       -73.956017|        40.776155|              6|\n",
      "|2010-12-08 06:27:46|      19.07|2010-12-08 06:27:...|        -73.982321|        40.739807|       -73.894669|        40.729073|              1|\n",
      "|2011-03-29 02:46:00|        6.1|2011-03-29 02:46:...|        -73.967212|        40.758777|       -73.980225|        40.738887|              5|\n",
      "|2014-01-13 22:43:00|       16.5|2014-01-13 22:43:...|        -73.981832|        40.767775|        -73.95085|        40.784257|              1|\n",
      "|2014-04-30 18:09:00|       16.5|2014-04-30 18:09:...|        -73.977805|        40.764342|       -73.990932|        40.756247|              5|\n",
      "|2015-03-10 18:33:13|       10.0|2015-03-10 18:33:...|-73.95569610595703|40.77937698364258|-73.9319076538086|40.79793930053711|              1|\n",
      "|2012-01-10 15:53:00|        7.7|2012-01-10 15:53:...|        -73.968432|        40.758957|       -73.987983|        40.748905|              1|\n",
      "+-------------------+-----------+--------------------+------------------+-----------------+-----------------+-----------------+---------------+\n",
      "only showing top 20 rows"
     ]
    }
   ],
   "source": [
    "df.show()"
   ]
  },
  {
   "cell_type": "code",
   "execution_count": 22,
   "metadata": {},
   "outputs": [
    {
     "data": {
      "application/vnd.jupyter.widget-view+json": {
       "model_id": "23cf334400f34821a6971c6828d2124b",
       "version_major": 2,
       "version_minor": 0
      },
      "text/plain": [
       "VBox()"
      ]
     },
     "metadata": {},
     "output_type": "display_data"
    },
    {
     "data": {
      "application/vnd.jupyter.widget-view+json": {
       "model_id": "",
       "version_major": 2,
       "version_minor": 0
      },
      "text/plain": [
       "FloatProgress(value=0.0, bar_style='info', description='Progress:', layout=Layout(height='25px', width='50%'),…"
      ]
     },
     "metadata": {},
     "output_type": "display_data"
    },
    {
     "name": "stdout",
     "output_type": "stream",
     "text": [
      "+-----------------------+\n",
      "|pickup_datetime        |\n",
      "+-----------------------+\n",
      "|2010-02-08 22:14:00 UTC|\n",
      "|2010-06-18 15:26:00 UTC|\n",
      "|2014-11-18 20:33:40 UTC|\n",
      "|2011-06-14 20:38:00 UTC|\n",
      "|2011-06-21 07:08:16 UTC|\n",
      "|2009-02-10 19:17:09 UTC|\n",
      "|2009-08-07 22:03:00 UTC|\n",
      "|2009-10-14 02:38:00 UTC|\n",
      "|2012-07-13 15:01:23 UTC|\n",
      "|2013-11-22 00:09:00 UTC|\n",
      "|2014-10-30 11:08:00 UTC|\n",
      "|2012-02-16 04:11:14 UTC|\n",
      "|2012-12-04 15:46:10 UTC|\n",
      "|2013-05-11 23:57:00 UTC|\n",
      "|2010-12-08 06:27:46 UTC|\n",
      "|2011-03-29 02:46:00 UTC|\n",
      "|2014-01-13 22:43:00 UTC|\n",
      "|2014-04-30 18:09:00 UTC|\n",
      "|2015-03-10 18:33:13 UTC|\n",
      "|2012-01-10 15:53:00 UTC|\n",
      "+-----------------------+\n",
      "only showing top 20 rows"
     ]
    }
   ],
   "source": [
    "df.select(('pickup_datetime')).show(truncate=False)"
   ]
  },
  {
   "cell_type": "code",
   "execution_count": 23,
   "metadata": {},
   "outputs": [
    {
     "data": {
      "application/vnd.jupyter.widget-view+json": {
       "model_id": "51d1f66c321d4d1988d4ce5f2bd83291",
       "version_major": 2,
       "version_minor": 0
      },
      "text/plain": [
       "VBox()"
      ]
     },
     "metadata": {},
     "output_type": "display_data"
    },
    {
     "data": {
      "application/vnd.jupyter.widget-view+json": {
       "model_id": "",
       "version_major": 2,
       "version_minor": 0
      },
      "text/plain": [
       "FloatProgress(value=0.0, bar_style='info', description='Progress:', layout=Layout(height='25px', width='50%'),…"
      ]
     },
     "metadata": {},
     "output_type": "display_data"
    },
    {
     "name": "stdout",
     "output_type": "stream",
     "text": [
      "+-------------------+\n",
      "|datetime           |\n",
      "+-------------------+\n",
      "|2010-02-08 22:14:00|\n",
      "|2010-06-18 15:26:00|\n",
      "|2014-11-18 20:33:40|\n",
      "|2011-06-14 20:38:00|\n",
      "|2011-06-21 07:08:16|\n",
      "|2009-02-10 19:17:09|\n",
      "|2009-08-07 22:03:00|\n",
      "|2009-10-14 02:38:00|\n",
      "|2012-07-13 15:01:23|\n",
      "|2013-11-22 00:09:00|\n",
      "|2014-10-30 11:08:00|\n",
      "|2012-02-16 04:11:14|\n",
      "|2012-12-04 15:46:10|\n",
      "|2013-05-11 23:57:00|\n",
      "|2010-12-08 06:27:46|\n",
      "|2011-03-29 02:46:00|\n",
      "|2014-01-13 22:43:00|\n",
      "|2014-04-30 18:09:00|\n",
      "|2015-03-10 18:33:13|\n",
      "|2012-01-10 15:53:00|\n",
      "+-------------------+\n",
      "only showing top 20 rows"
     ]
    }
   ],
   "source": [
    "df=df.withColumn('datetime',df['pickup_datetime'].substr(0,19))\n",
    "df.select('datetime').show(truncate=False)"
   ]
  },
  {
   "cell_type": "code",
   "execution_count": 24,
   "metadata": {},
   "outputs": [
    {
     "data": {
      "application/vnd.jupyter.widget-view+json": {
       "model_id": "61744717c4f34a5b8119e9f763425f44",
       "version_major": 2,
       "version_minor": 0
      },
      "text/plain": [
       "VBox()"
      ]
     },
     "metadata": {},
     "output_type": "display_data"
    },
    {
     "data": {
      "application/vnd.jupyter.widget-view+json": {
       "model_id": "",
       "version_major": 2,
       "version_minor": 0
      },
      "text/plain": [
       "FloatProgress(value=0.0, bar_style='info', description='Progress:', layout=Layout(height='25px', width='50%'),…"
      ]
     },
     "metadata": {},
     "output_type": "display_data"
    }
   ],
   "source": [
    "from pyspark.sql.functions import to_timestamp"
   ]
  },
  {
   "cell_type": "code",
   "execution_count": 25,
   "metadata": {},
   "outputs": [
    {
     "data": {
      "application/vnd.jupyter.widget-view+json": {
       "model_id": "dc4fb6ab316c4fd4885832483dadc8ce",
       "version_major": 2,
       "version_minor": 0
      },
      "text/plain": [
       "VBox()"
      ]
     },
     "metadata": {},
     "output_type": "display_data"
    },
    {
     "data": {
      "application/vnd.jupyter.widget-view+json": {
       "model_id": "",
       "version_major": 2,
       "version_minor": 0
      },
      "text/plain": [
       "FloatProgress(value=0.0, bar_style='info', description='Progress:', layout=Layout(height='25px', width='50%'),…"
      ]
     },
     "metadata": {},
     "output_type": "display_data"
    },
    {
     "name": "stdout",
     "output_type": "stream",
     "text": [
      "+-------------------+\n",
      "|timestamp          |\n",
      "+-------------------+\n",
      "|2010-02-08 22:14:00|\n",
      "|2010-06-18 15:26:00|\n",
      "|2014-11-18 20:33:40|\n",
      "|2011-06-14 20:38:00|\n",
      "|2011-06-21 07:08:16|\n",
      "|2009-02-10 19:17:09|\n",
      "|2009-08-07 22:03:00|\n",
      "|2009-10-14 02:38:00|\n",
      "|2012-07-13 15:01:23|\n",
      "|2013-11-22 00:09:00|\n",
      "|2014-10-30 11:08:00|\n",
      "|2012-02-16 04:11:14|\n",
      "|2012-12-04 15:46:10|\n",
      "|2013-05-11 23:57:00|\n",
      "|2010-12-08 06:27:46|\n",
      "|2011-03-29 02:46:00|\n",
      "|2014-01-13 22:43:00|\n",
      "|2014-04-30 18:09:00|\n",
      "|2015-03-10 18:33:13|\n",
      "|2012-01-10 15:53:00|\n",
      "+-------------------+\n",
      "only showing top 20 rows"
     ]
    }
   ],
   "source": [
    "df = df.withColumn('timestamp', to_timestamp(df['datetime']))\n",
    "df.select('timestamp').show(truncate =False)"
   ]
  },
  {
   "cell_type": "code",
   "execution_count": 26,
   "metadata": {},
   "outputs": [
    {
     "data": {
      "application/vnd.jupyter.widget-view+json": {
       "model_id": "bcb3e2512d5b4601aea05e1bfc3397ac",
       "version_major": 2,
       "version_minor": 0
      },
      "text/plain": [
       "VBox()"
      ]
     },
     "metadata": {},
     "output_type": "display_data"
    },
    {
     "data": {
      "application/vnd.jupyter.widget-view+json": {
       "model_id": "",
       "version_major": 2,
       "version_minor": 0
      },
      "text/plain": [
       "FloatProgress(value=0.0, bar_style='info', description='Progress:', layout=Layout(height='25px', width='50%'),…"
      ]
     },
     "metadata": {},
     "output_type": "display_data"
    },
    {
     "name": "stdout",
     "output_type": "stream",
     "text": [
      "+----+-----+---------+----+\n",
      "|year|month|dayofweek|hour|\n",
      "+----+-----+---------+----+\n",
      "|2010|2    |2        |22  |\n",
      "|2010|6    |6        |15  |\n",
      "|2014|11   |3        |20  |\n",
      "|2011|6    |3        |20  |\n",
      "|2011|6    |3        |7   |\n",
      "|2009|2    |3        |19  |\n",
      "|2009|8    |6        |22  |\n",
      "|2009|10   |4        |2   |\n",
      "|2012|7    |6        |15  |\n",
      "|2013|11   |6        |0   |\n",
      "|2014|10   |5        |11  |\n",
      "|2012|2    |5        |4   |\n",
      "|2012|12   |3        |15  |\n",
      "|2013|5    |7        |23  |\n",
      "|2010|12   |4        |6   |\n",
      "|2011|3    |3        |2   |\n",
      "|2014|1    |2        |22  |\n",
      "|2014|4    |4        |18  |\n",
      "|2015|3    |3        |18  |\n",
      "|2012|1    |3        |15  |\n",
      "+----+-----+---------+----+\n",
      "only showing top 20 rows"
     ]
    }
   ],
   "source": [
    "from pyspark.sql.functions import year,month,dayofweek, hour\n",
    "\n",
    "df = df.withColumn('year', year(df['timestamp']))\n",
    "df = df.withColumn('month', month(df['timestamp']))\n",
    "df = df.withColumn('dayofweek', dayofweek(df['timestamp']))\n",
    "df = df.withColumn('hour', hour(df['timestamp']))\n",
    "df.select('year','month', 'dayofweek', 'hour').show(truncate =  False)"
   ]
  },
  {
   "cell_type": "code",
   "execution_count": 27,
   "metadata": {},
   "outputs": [
    {
     "data": {
      "application/vnd.jupyter.widget-view+json": {
       "model_id": "0ba0aa06b29e41e8baa6752160e7cd85",
       "version_major": 2,
       "version_minor": 0
      },
      "text/plain": [
       "VBox()"
      ]
     },
     "metadata": {},
     "output_type": "display_data"
    },
    {
     "data": {
      "application/vnd.jupyter.widget-view+json": {
       "model_id": "",
       "version_major": 2,
       "version_minor": 0
      },
      "text/plain": [
       "FloatProgress(value=0.0, bar_style='info', description='Progress:', layout=Layout(height='25px', width='50%'),…"
      ]
     },
     "metadata": {},
     "output_type": "display_data"
    }
   ],
   "source": [
    "inputCols = [\n",
    "    'pickup_latitude',\n",
    "    'pickup_longitude',\n",
    "    'dropoff_longitude',\n",
    "    'dropoff_latitude',\n",
    "    'passenger_count', 'year', 'month', 'dayofweek' , 'hour'\n",
    "]\n",
    "assembler = VectorAssembler(inputCols = inputCols, outputCol = 'featuresCleanWithDate')\n",
    "dataset = assembler.transform(df)"
   ]
  },
  {
   "cell_type": "code",
   "execution_count": 28,
   "metadata": {},
   "outputs": [
    {
     "data": {
      "application/vnd.jupyter.widget-view+json": {
       "model_id": "d6a0937c94d44b6390a7b3a430e47c43",
       "version_major": 2,
       "version_minor": 0
      },
      "text/plain": [
       "VBox()"
      ]
     },
     "metadata": {},
     "output_type": "display_data"
    },
    {
     "data": {
      "application/vnd.jupyter.widget-view+json": {
       "model_id": "",
       "version_major": 2,
       "version_minor": 0
      },
      "text/plain": [
       "FloatProgress(value=0.0, bar_style='info', description='Progress:', layout=Layout(height='25px', width='50%'),…"
      ]
     },
     "metadata": {},
     "output_type": "display_data"
    }
   ],
   "source": [
    "lr = LinearRegression(featuresCol = 'featuresCleanWithDate', labelCol = 'fare_amount')\n",
    "model = lr.fit(dataset)\n",
    "summary = model.evaluate(dataset)"
   ]
  },
  {
   "cell_type": "code",
   "execution_count": 29,
   "metadata": {},
   "outputs": [
    {
     "data": {
      "application/vnd.jupyter.widget-view+json": {
       "model_id": "7f0216e4e8e14439922f5fe7d4c0bf34",
       "version_major": 2,
       "version_minor": 0
      },
      "text/plain": [
       "VBox()"
      ]
     },
     "metadata": {},
     "output_type": "display_data"
    },
    {
     "data": {
      "application/vnd.jupyter.widget-view+json": {
       "model_id": "",
       "version_major": 2,
       "version_minor": 0
      },
      "text/plain": [
       "FloatProgress(value=0.0, bar_style='info', description='Progress:', layout=Layout(height='25px', width='50%'),…"
      ]
     },
     "metadata": {},
     "output_type": "display_data"
    },
    {
     "name": "stdout",
     "output_type": "stream",
     "text": [
      "+-------------------+\n",
      "|             NYTime|\n",
      "+-------------------+\n",
      "|2010-02-08 17:14:00|\n",
      "|2010-06-18 10:26:00|\n",
      "|2014-11-18 15:33:40|\n",
      "|2011-06-14 15:38:00|\n",
      "|2011-06-21 02:08:16|\n",
      "|2009-02-10 14:17:09|\n",
      "|2009-08-07 17:03:00|\n",
      "|2009-10-13 21:38:00|\n",
      "|2012-07-13 10:01:23|\n",
      "|2013-11-21 19:09:00|\n",
      "|2014-10-30 06:08:00|\n",
      "|2012-02-15 23:11:14|\n",
      "|2012-12-04 10:46:10|\n",
      "|2013-05-11 18:57:00|\n",
      "|2010-12-08 01:27:46|\n",
      "|2011-03-28 21:46:00|\n",
      "|2014-01-13 17:43:00|\n",
      "|2014-04-30 13:09:00|\n",
      "|2015-03-10 13:33:13|\n",
      "|2012-01-10 10:53:00|\n",
      "+-------------------+\n",
      "only showing top 20 rows"
     ]
    }
   ],
   "source": [
    "from pyspark.sql.functions import from_utc_timestamp\n",
    "df = df.withColumn('NYTime', from_utc_timestamp(df['timestamp'], 'EST'))\n",
    "df.select('NYTime').show()"
   ]
  },
  {
   "cell_type": "code",
   "execution_count": 30,
   "metadata": {},
   "outputs": [
    {
     "data": {
      "application/vnd.jupyter.widget-view+json": {
       "model_id": "712db215d9ac406a832dc1dbcabba04e",
       "version_major": 2,
       "version_minor": 0
      },
      "text/plain": [
       "VBox()"
      ]
     },
     "metadata": {},
     "output_type": "display_data"
    },
    {
     "data": {
      "application/vnd.jupyter.widget-view+json": {
       "model_id": "",
       "version_major": 2,
       "version_minor": 0
      },
      "text/plain": [
       "FloatProgress(value=0.0, bar_style='info', description='Progress:', layout=Layout(height='25px', width='50%'),…"
      ]
     },
     "metadata": {},
     "output_type": "display_data"
    },
    {
     "name": "stdout",
     "output_type": "stream",
     "text": [
      "+----+-----+---------+----+\n",
      "|year|month|dayofweek|hour|\n",
      "+----+-----+---------+----+\n",
      "|2010|    2|        2|  17|\n",
      "|2010|    6|        6|  10|\n",
      "|2014|   11|        3|  15|\n",
      "|2011|    6|        3|  15|\n",
      "|2011|    6|        3|   2|\n",
      "|2009|    2|        3|  14|\n",
      "|2009|    8|        6|  17|\n",
      "|2009|   10|        3|  21|\n",
      "|2012|    7|        6|  10|\n",
      "|2013|   11|        5|  19|\n",
      "|2014|   10|        5|   6|\n",
      "|2012|    2|        4|  23|\n",
      "|2012|   12|        3|  10|\n",
      "|2013|    5|        7|  18|\n",
      "|2010|   12|        4|   1|\n",
      "|2011|    3|        2|  21|\n",
      "|2014|    1|        2|  17|\n",
      "|2014|    4|        4|  13|\n",
      "|2015|    3|        3|  13|\n",
      "|2012|    1|        3|  10|\n",
      "+----+-----+---------+----+\n",
      "only showing top 20 rows"
     ]
    }
   ],
   "source": [
    "from pyspark.sql.functions import year,month,dayofweek, hour\n",
    "\n",
    "df = df.withColumn('year', year(df['NYTime']))\n",
    "df = df.withColumn('month', month(df['NYTime']))\n",
    "df = df.withColumn('dayofweek', dayofweek(df['NYTime']))\n",
    "df = df.withColumn('hour', hour(df['NYTime']))\n",
    "df.select('year','month', 'dayofweek', 'hour').show()"
   ]
  },
  {
   "cell_type": "code",
   "execution_count": 31,
   "metadata": {},
   "outputs": [
    {
     "data": {
      "application/vnd.jupyter.widget-view+json": {
       "model_id": "63b4378aa1954ca3b6b795dba9b2c83b",
       "version_major": 2,
       "version_minor": 0
      },
      "text/plain": [
       "VBox()"
      ]
     },
     "metadata": {},
     "output_type": "display_data"
    },
    {
     "data": {
      "application/vnd.jupyter.widget-view+json": {
       "model_id": "",
       "version_major": 2,
       "version_minor": 0
      },
      "text/plain": [
       "FloatProgress(value=0.0, bar_style='info', description='Progress:', layout=Layout(height='25px', width='50%'),…"
      ]
     },
     "metadata": {},
     "output_type": "display_data"
    }
   ],
   "source": [
    "inputCols = [\n",
    "    'pickup_latitude',\n",
    "    'pickup_longitude',\n",
    "    'dropoff_longitude',\n",
    "    'dropoff_latitude',\n",
    "    'passenger_count', 'year', 'month', 'dayofweek' , 'hour'\n",
    "]\n",
    "assembler = VectorAssembler(inputCols = inputCols, outputCol = 'featuresCleanWithDate')\n",
    "dataset = assembler.transform(df)"
   ]
  },
  {
   "cell_type": "code",
   "execution_count": 32,
   "metadata": {},
   "outputs": [
    {
     "data": {
      "application/vnd.jupyter.widget-view+json": {
       "model_id": "7a9e4520ec3443dcb90aa902ac405b89",
       "version_major": 2,
       "version_minor": 0
      },
      "text/plain": [
       "VBox()"
      ]
     },
     "metadata": {},
     "output_type": "display_data"
    },
    {
     "data": {
      "application/vnd.jupyter.widget-view+json": {
       "model_id": "",
       "version_major": 2,
       "version_minor": 0
      },
      "text/plain": [
       "FloatProgress(value=0.0, bar_style='info', description='Progress:', layout=Layout(height='25px', width='50%'),…"
      ]
     },
     "metadata": {},
     "output_type": "display_data"
    }
   ],
   "source": [
    "lr = LinearRegression(featuresCol = 'featuresCleanWithDate', labelCol = 'fare_amount')\n",
    "model = lr.fit(dataset)\n",
    "summary = model.evaluate(dataset)"
   ]
  },
  {
   "cell_type": "code",
   "execution_count": 33,
   "metadata": {},
   "outputs": [
    {
     "data": {
      "application/vnd.jupyter.widget-view+json": {
       "model_id": "ff7bec44eb234e72a79bea934166b505",
       "version_major": 2,
       "version_minor": 0
      },
      "text/plain": [
       "VBox()"
      ]
     },
     "metadata": {},
     "output_type": "display_data"
    },
    {
     "data": {
      "application/vnd.jupyter.widget-view+json": {
       "model_id": "",
       "version_major": 2,
       "version_minor": 0
      },
      "text/plain": [
       "FloatProgress(value=0.0, bar_style='info', description='Progress:', layout=Layout(height='25px', width='50%'),…"
      ]
     },
     "metadata": {},
     "output_type": "display_data"
    },
    {
     "name": "stdout",
     "output_type": "stream",
     "text": [
      "0.26449290061767994"
     ]
    }
   ],
   "source": [
    "summary.r2"
   ]
  },
  {
   "cell_type": "code",
   "execution_count": 34,
   "metadata": {},
   "outputs": [
    {
     "data": {
      "application/vnd.jupyter.widget-view+json": {
       "model_id": "e78782c4194a45998e7276d40865273e",
       "version_major": 2,
       "version_minor": 0
      },
      "text/plain": [
       "VBox()"
      ]
     },
     "metadata": {},
     "output_type": "display_data"
    },
    {
     "data": {
      "application/vnd.jupyter.widget-view+json": {
       "model_id": "",
       "version_major": 2,
       "version_minor": 0
      },
      "text/plain": [
       "FloatProgress(value=0.0, bar_style='info', description='Progress:', layout=Layout(height='25px', width='50%'),…"
      ]
     },
     "metadata": {},
     "output_type": "display_data"
    }
   ],
   "source": [
    "x1 = df['pickup_longitude']\n",
    "y1 = df['pickup_latitude']\n",
    "x2 = df['dropoff_longitude']\n",
    "y2 = df['dropoff_latitude']\n",
    "\n",
    "from pyspark.sql.functions import abs as psabs\n",
    "df = df.withColumn('l1', psabs(x1 - x2) + psabs(y1 - y2))"
   ]
  },
  {
   "cell_type": "code",
   "execution_count": 35,
   "metadata": {},
   "outputs": [
    {
     "data": {
      "application/vnd.jupyter.widget-view+json": {
       "model_id": "b4f1a81e048d43bcb6af6deb38d7380c",
       "version_major": 2,
       "version_minor": 0
      },
      "text/plain": [
       "VBox()"
      ]
     },
     "metadata": {},
     "output_type": "display_data"
    },
    {
     "data": {
      "application/vnd.jupyter.widget-view+json": {
       "model_id": "",
       "version_major": 2,
       "version_minor": 0
      },
      "text/plain": [
       "FloatProgress(value=0.0, bar_style='info', description='Progress:', layout=Layout(height='25px', width='50%'),…"
      ]
     },
     "metadata": {},
     "output_type": "display_data"
    }
   ],
   "source": [
    "inputCols = [\n",
    "    'pickup_latitude',\n",
    "    'pickup_longitude',\n",
    "    'dropoff_longitude',\n",
    "    'dropoff_latitude',\n",
    "    'passenger_count', 'year', 'month', 'dayofweek' , 'hour', 'l1'\n",
    "]\n",
    "assembler = VectorAssembler(inputCols = inputCols, outputCol = 'featuresCleanWithDatel1')\n",
    "dataset = assembler.transform(df)"
   ]
  },
  {
   "cell_type": "code",
   "execution_count": 36,
   "metadata": {},
   "outputs": [
    {
     "data": {
      "application/vnd.jupyter.widget-view+json": {
       "model_id": "dfef0103c27141ad92b48856257785fd",
       "version_major": 2,
       "version_minor": 0
      },
      "text/plain": [
       "VBox()"
      ]
     },
     "metadata": {},
     "output_type": "display_data"
    },
    {
     "data": {
      "application/vnd.jupyter.widget-view+json": {
       "model_id": "",
       "version_major": 2,
       "version_minor": 0
      },
      "text/plain": [
       "FloatProgress(value=0.0, bar_style='info', description='Progress:', layout=Layout(height='25px', width='50%'),…"
      ]
     },
     "metadata": {},
     "output_type": "display_data"
    }
   ],
   "source": [
    "lr = LinearRegression(featuresCol = 'featuresCleanWithDatel1', labelCol = 'fare_amount')\n",
    "model = lr.fit(dataset)\n",
    "summary = model.evaluate(dataset)"
   ]
  },
  {
   "cell_type": "code",
   "execution_count": 37,
   "metadata": {},
   "outputs": [
    {
     "data": {
      "application/vnd.jupyter.widget-view+json": {
       "model_id": "fe8283a6d3084be48dceee85e4857e8f",
       "version_major": 2,
       "version_minor": 0
      },
      "text/plain": [
       "VBox()"
      ]
     },
     "metadata": {},
     "output_type": "display_data"
    },
    {
     "data": {
      "application/vnd.jupyter.widget-view+json": {
       "model_id": "",
       "version_major": 2,
       "version_minor": 0
      },
      "text/plain": [
       "FloatProgress(value=0.0, bar_style='info', description='Progress:', layout=Layout(height='25px', width='50%'),…"
      ]
     },
     "metadata": {},
     "output_type": "display_data"
    },
    {
     "name": "stdout",
     "output_type": "stream",
     "text": [
      "0.6794746273189293"
     ]
    }
   ],
   "source": [
    "summary.r2"
   ]
  },
  {
   "cell_type": "code",
   "execution_count": 38,
   "metadata": {},
   "outputs": [
    {
     "data": {
      "application/vnd.jupyter.widget-view+json": {
       "model_id": "7ff56cc3df89414caa491a77b97f9969",
       "version_major": 2,
       "version_minor": 0
      },
      "text/plain": [
       "VBox()"
      ]
     },
     "metadata": {},
     "output_type": "display_data"
    },
    {
     "data": {
      "application/vnd.jupyter.widget-view+json": {
       "model_id": "",
       "version_major": 2,
       "version_minor": 0
      },
      "text/plain": [
       "FloatProgress(value=0.0, bar_style='info', description='Progress:', layout=Layout(height='25px', width='50%'),…"
      ]
     },
     "metadata": {},
     "output_type": "display_data"
    }
   ],
   "source": [
    "train, test = df.randomSplit([0.66, 0.33])"
   ]
  },
  {
   "cell_type": "code",
   "execution_count": 39,
   "metadata": {},
   "outputs": [
    {
     "data": {
      "application/vnd.jupyter.widget-view+json": {
       "model_id": "b8aaf3a382584616822a6199a73a6bdb",
       "version_major": 2,
       "version_minor": 0
      },
      "text/plain": [
       "VBox()"
      ]
     },
     "metadata": {},
     "output_type": "display_data"
    },
    {
     "data": {
      "application/vnd.jupyter.widget-view+json": {
       "model_id": "",
       "version_major": 2,
       "version_minor": 0
      },
      "text/plain": [
       "FloatProgress(value=0.0, bar_style='info', description='Progress:', layout=Layout(height='25px', width='50%'),…"
      ]
     },
     "metadata": {},
     "output_type": "display_data"
    }
   ],
   "source": [
    "trainDataset = assembler.transform(train)\n",
    "testDataset = assembler.transform(test)"
   ]
  },
  {
   "cell_type": "code",
   "execution_count": 40,
   "metadata": {},
   "outputs": [
    {
     "data": {
      "application/vnd.jupyter.widget-view+json": {
       "model_id": "62b0461cd265462ab3417b02f7841481",
       "version_major": 2,
       "version_minor": 0
      },
      "text/plain": [
       "VBox()"
      ]
     },
     "metadata": {},
     "output_type": "display_data"
    },
    {
     "data": {
      "application/vnd.jupyter.widget-view+json": {
       "model_id": "",
       "version_major": 2,
       "version_minor": 0
      },
      "text/plain": [
       "FloatProgress(value=0.0, bar_style='info', description='Progress:', layout=Layout(height='25px', width='50%'),…"
      ]
     },
     "metadata": {},
     "output_type": "display_data"
    }
   ],
   "source": [
    "lr = LinearRegression(featuresCol = 'featuresCleanWithDatel1', labelCol = 'fare_amount')\n",
    "model = lr.fit(trainDataset)\n",
    "summary = model.evaluate(testDataset)"
   ]
  },
  {
   "cell_type": "code",
   "execution_count": 41,
   "metadata": {},
   "outputs": [
    {
     "data": {
      "application/vnd.jupyter.widget-view+json": {
       "model_id": "bbca4ca6966845589e8e37c23e91757a",
       "version_major": 2,
       "version_minor": 0
      },
      "text/plain": [
       "VBox()"
      ]
     },
     "metadata": {},
     "output_type": "display_data"
    },
    {
     "data": {
      "application/vnd.jupyter.widget-view+json": {
       "model_id": "",
       "version_major": 2,
       "version_minor": 0
      },
      "text/plain": [
       "FloatProgress(value=0.0, bar_style='info', description='Progress:', layout=Layout(height='25px', width='50%'),…"
      ]
     },
     "metadata": {},
     "output_type": "display_data"
    },
    {
     "name": "stdout",
     "output_type": "stream",
     "text": [
      "0.6811101355366389"
     ]
    }
   ],
   "source": [
    "summary.r2"
   ]
  },
  {
   "cell_type": "code",
   "execution_count": null,
   "metadata": {},
   "outputs": [],
   "source": []
  }
 ],
 "metadata": {
  "kernelspec": {
   "display_name": "PySpark",
   "language": "python",
   "name": "pysparkkernel"
  },
  "language_info": {
   "codemirror_mode": {
    "name": "python",
    "version": 3
   },
   "file_extension": ".py",
   "mimetype": "text/x-python",
   "name": "pyspark",
   "pygments_lexer": "python3"
  }
 },
 "nbformat": 4,
 "nbformat_minor": 2
}
