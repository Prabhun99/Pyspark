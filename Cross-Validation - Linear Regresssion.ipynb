{
 "cells": [
  {
   "cell_type": "markdown",
   "metadata": {},
   "source": [
    "# Cross-Validation "
   ]
  },
  {
   "cell_type": "code",
   "execution_count": 1,
   "metadata": {},
   "outputs": [],
   "source": [
    "import os\n",
    "import sys\n",
    "# Here you need to have same Python version on your local machine adn on worker node i.e. EC2. here both should have python3.\n",
    "os.environ[\"PYSPARK_PYTHON\"] = \"/bin/python3\"\n",
    "os.environ[\"JAVA_HOME\"] = \"/usr/java/jdk1.8.0_161/jre\"\n",
    "os.environ[\"SPARK_HOME\"] = \"/home/ec2-user/spark-2.4.4-bin-hadoop2.7\"\n",
    "os.environ[\"PYLIB\"] = os.environ[\"SPARK_HOME\"] + \"/python/lib\"\n",
    "sys.path.insert(0, os.environ[\"PYLIB\"] + \"/py4j-0.10.7-src.zip\")\n",
    "sys.path.insert(0, os.environ[\"PYLIB\"] + \"/pyspark.zip\")"
   ]
  },
  {
   "cell_type": "code",
   "execution_count": null,
   "metadata": {},
   "outputs": [],
   "source": [
    "# Run this cell if you are using sklearn for the first time\n",
    "# ! pip3 install sklearn --user"
   ]
  },
  {
   "cell_type": "code",
   "execution_count": 2,
   "metadata": {},
   "outputs": [
    {
     "name": "stderr",
     "output_type": "stream",
     "text": [
      "22/04/25 14:12:56 WARN NativeCodeLoader: Unable to load native-hadoop library for your platform... using builtin-java classes where applicable\n",
      "Using Spark's default log4j profile: org/apache/spark/log4j-defaults.properties\n",
      "Setting default log level to \"WARN\".\n",
      "To adjust logging level use sc.setLogLevel(newLevel). For SparkR, use setLogLevel(newLevel).\n"
     ]
    }
   ],
   "source": [
    "from pyspark.sql import SparkSession\n",
    "spark = SparkSession.builder.appName('Regularization').getOrCreate()"
   ]
  },
  {
   "cell_type": "code",
   "execution_count": 3,
   "metadata": {},
   "outputs": [],
   "source": [
    "from sklearn.datasets import load_diabetes\n",
    "from pyspark.ml.regression import LinearRegression\n",
    "from pyspark.ml.feature import VectorAssembler\n",
    "import pandas as pd\n",
    "import numpy as np\n",
    "import matplotlib.pyplot as plt\n",
    "%matplotlib inline"
   ]
  },
  {
   "cell_type": "code",
   "execution_count": 4,
   "metadata": {},
   "outputs": [
    {
     "name": "stderr",
     "output_type": "stream",
     "text": [
      "[Stage 0:>                                                          (0 + 1) / 1]"
     ]
    },
    {
     "name": "stdout",
     "output_type": "stream",
     "text": [
      "+--------------------+------------------+-------------------+--------------------+--------------------+-------------------+-------------------+--------------------+-------------------+-------------------+-----+--------------------+\n",
      "|                 age|               sex|                bmi|                  bp|                  s1|                 s2|                 s3|                  s4|                 s5|                 s6|    y|            features|\n",
      "+--------------------+------------------+-------------------+--------------------+--------------------+-------------------+-------------------+--------------------+-------------------+-------------------+-----+--------------------+\n",
      "|  0.0380759064334241|0.0506801187398187| 0.0616962065186885|  0.0218723549949558| -0.0442234984244464|-0.0348207628376986|-0.0434008456520269|-0.00259226199818282| 0.0199084208763183|-0.0176461251598052|151.0|[0.03807590643342...|\n",
      "|-0.00188201652779104|-0.044641636506989|-0.0514740612388061| -0.0263278347173518|-0.00844872411121698| -0.019163339748222| 0.0744115640787594| -0.0394933828740919|-0.0683297436244215|  -0.09220404962683| 75.0|[-0.0018820165277...|\n",
      "|  0.0852989062966783|0.0506801187398187| 0.0444512133365941|-0.00567061055493425| -0.0455994512826475|-0.0341944659141195|-0.0323559322397657|-0.00259226199818282|0.00286377051894013|-0.0259303389894746|141.0|[0.08529890629667...|\n",
      "| -0.0890629393522603|-0.044641636506989|-0.0115950145052127| -0.0366564467985606|     0.0121905687618| 0.0249905933641021|-0.0360375700438527|  0.0343088588777263| 0.0226920225667445|-0.0093619113301358|206.0|[-0.0890629393522...|\n",
      "| 0.00538306037424807|-0.044641636506989|-0.0363846922044735|  0.0218723549949558| 0.00393485161259318| 0.0155961395104161| 0.0081420836051921|-0.00259226199818282|-0.0319914449413559|-0.0466408735636482|135.0|[0.00538306037424...|\n",
      "+--------------------+------------------+-------------------+--------------------+--------------------+-------------------+-------------------+--------------------+-------------------+-------------------+-----+--------------------+\n",
      "only showing top 5 rows\n",
      "\n"
     ]
    },
    {
     "name": "stderr",
     "output_type": "stream",
     "text": [
      "                                                                                \r"
     ]
    }
   ],
   "source": [
    "diabetes = load_diabetes()\n",
    "df = pd.DataFrame(diabetes.data, columns=diabetes.feature_names)\n",
    "df['y'] = diabetes.target\n",
    "sdf = spark.createDataFrame(df)\n",
    "\n",
    "assembler = VectorAssembler(inputCols=[c for c in sdf.columns if c != 'y'],\n",
    "                            outputCol='features')\n",
    "dataset = assembler.transform(sdf)\n",
    "dataset.show(5)"
   ]
  },
  {
   "cell_type": "markdown",
   "metadata": {},
   "source": [
    "## We haven't tested models on unseen data!"
   ]
  },
  {
   "cell_type": "code",
   "execution_count": 5,
   "metadata": {},
   "outputs": [],
   "source": [
    "# We specify this so that the train and test data set always have the same rows, respectively\n",
    "np.random.seed(0)\n"
   ]
  },
  {
   "cell_type": "code",
   "execution_count": 8,
   "metadata": {},
   "outputs": [
    {
     "name": "stderr",
     "output_type": "stream",
     "text": [
      "22/04/25 14:14:21 WARN Instrumentation: [a1487062] regParam is zero, which might cause numerical instability and overfitting.\n"
     ]
    },
    {
     "name": "stdout",
     "output_type": "stream",
     "text": [
      "R2 (training):  0.5181900476715522\n",
      "R2 (testing):  0.4877744155729147\n"
     ]
    }
   ],
   "source": [
    "train, test = dataset.randomSplit([0.5, 0.5], 25)\n",
    "lr = LinearRegression(featuresCol='features', labelCol='y')\n",
    "model = lr.fit(train)\n",
    "\n",
    "# Evaluate on training data\n",
    "summary_train = model.evaluate(train)\n",
    "print('R2 (training): ', summary_train.r2)\n",
    "\n",
    "# Evaluate on training data\n",
    "summary_test = model.evaluate(test)\n",
    "print('R2 (testing): ', summary_test.r2)"
   ]
  },
  {
   "cell_type": "markdown",
   "metadata": {},
   "source": [
    "## Increase training fraction?"
   ]
  },
  {
   "cell_type": "code",
   "execution_count": 13,
   "metadata": {},
   "outputs": [
    {
     "ename": "IndentationError",
     "evalue": "unexpected indent (3010978141.py, line 2)",
     "output_type": "error",
     "traceback": [
      "\u001b[0;36m  File \u001b[0;32m\"/tmp/ipykernel_4067/3010978141.py\"\u001b[0;36m, line \u001b[0;32m2\u001b[0m\n\u001b[0;31m    np.random.seed(3)\u001b[0m\n\u001b[0m    ^\u001b[0m\n\u001b[0;31mIndentationError\u001b[0m\u001b[0;31m:\u001b[0m unexpected indent\n"
     ]
    }
   ],
   "source": [
    "# We specify this so that the train and test data set always have the same rows, respectively\n",
    " np.random.seed(3)"
   ]
  },
  {
   "cell_type": "code",
   "execution_count": 15,
   "metadata": {},
   "outputs": [
    {
     "name": "stderr",
     "output_type": "stream",
     "text": [
      "22/04/25 14:15:23 WARN Instrumentation: [410bccb5] regParam is zero, which might cause numerical instability and overfitting.\n",
      "22/04/25 14:15:24 WARN Instrumentation: [3e4b5209] regParam is zero, which might cause numerical instability and overfitting.\n",
      "22/04/25 14:15:25 WARN Instrumentation: [22e7f8ac] regParam is zero, which might cause numerical instability and overfitting.\n",
      "22/04/25 14:15:27 WARN Instrumentation: [8231e1c1] regParam is zero, which might cause numerical instability and overfitting.\n"
     ]
    },
    {
     "data": {
      "text/plain": [
       "<matplotlib.legend.Legend at 0x7fcb55527ed0>"
      ]
     },
     "execution_count": 15,
     "metadata": {},
     "output_type": "execute_result"
    },
    {
     "data": {
      "image/png": "[encoded data removed]",
      "text/plain": [
       "<Figure size 432x288 with 1 Axes>"
      ]
     },
     "metadata": {
      "needs_background": "light"
     },
     "output_type": "display_data"
    }
   ],
   "source": [
    "p_train = [0.6, 0.7, 0.8, 0.9]\n",
    "train_r2 = []\n",
    "test_r2 = []\n",
    "\n",
    "for p in p_train:\n",
    "    train, test = dataset.randomSplit([p, 1 - p], 25)\n",
    "    model = lr.fit(train)\n",
    "    \n",
    "    # Evaluate on training data\n",
    "    summary_train = model.evaluate(train)\n",
    "    train_r2.append(summary_train.r2)\n",
    "\n",
    "    # Evaluate on training data\n",
    "    summary_test = model.evaluate(test)\n",
    "    test_r2.append(summary_test.r2)\n",
    "\n",
    "plt.plot(p_train, train_r2, 'ro-', label='train')\n",
    "plt.plot(p_train, test_r2, 'g', label='test')\n",
    "plt.xlabel('Training Size')\n",
    "plt.ylabel('R2')\n",
    "plt.legend()"
   ]
  },
  {
   "cell_type": "code",
   "execution_count": null,
   "metadata": {},
   "outputs": [],
   "source": []
  }
 ],
 "metadata": {
  "kernelspec": {
   "display_name": "Python 3 (ipykernel)",
   "language": "python",
   "name": "python3"
  },
  "language_info": {
   "codemirror_mode": {
    "name": "ipython",
    "version": 3
   },
   "file_extension": ".py",
   "mimetype": "text/x-python",
   "name": "python",
   "nbconvert_exporter": "python",
   "pygments_lexer": "ipython3",
   "version": "3.7.10"
  }
 },
 "nbformat": 4,
 "nbformat_minor": 2
}
