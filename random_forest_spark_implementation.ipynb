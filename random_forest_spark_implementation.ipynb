{
 "cells": [
  {
   "cell_type": "markdown",
   "metadata": {},
   "source": [
    "# Spark Random Forest Implementation"
   ]
  },
  {
   "cell_type": "markdown",
   "metadata": {},
   "source": [
    "## Chicago Crime Use Case"
   ]
  },
  {
   "cell_type": "markdown",
   "metadata": {},
   "source": [
    "You are provided with the dataset that contains the crime records from Chicago. The dataset belongs to Chicago Police Department. This dataset reflects reported incidents of crime that occurred in the City of Chicago from 2012 to 2017. The data is extracted from the Chicago Police Department's CLEAR (Citizen Law Enforcement Analysis and Reporting) system."
   ]
  },
  {
   "cell_type": "markdown",
   "metadata": {},
   "source": [
    "## Dataset Understanding"
   ]
  },
  {
   "cell_type": "markdown",
   "metadata": {},
   "source": [
    "## Objective: "
   ]
  },
  {
   "cell_type": "markdown",
   "metadata": {},
   "source": [
    "Our objective is to use the information and try to come up with a system that classifies the **FBI Code** for each crime absed on the given information."
   ]
  },
  {
   "cell_type": "markdown",
   "metadata": {},
   "source": [
    " "
   ]
  },
  {
   "cell_type": "markdown",
   "metadata": {},
   "source": [
    "Columns in the Dataset:\n",
    "\n",
    "**ID** - Unique identifier for the record.\n",
    "\n",
    "**Case Number** - The Chicago Police Department RD Number (Records Division Number), which is unique to the incident.\n",
    "\n",
    "**Date** - Date when the incident occurred. this is sometimes a best estimate.\n",
    "\n",
    "**Block** - The partially redacted address where the incident occurred, placing it on the same block as the actual address.\n",
    "\n",
    "**IUCR** - The Illinois Unifrom Crime Reporting code. This is directly linked to the Primary Type and Description.\n",
    "\n",
    "**Primary Type** - The primary description of the IUCR code.\n",
    "\n",
    "**Description** - The secondary description of the IUCR code, a subcategory of the primary description.\n",
    "\n",
    "**Location Description** - Description of the location where the incident occurred.\n",
    "\n",
    "**Arrest** - Indicates whether an arrest was made.\n",
    "\n",
    "**Domestic** - Indicates whether the incident was domestic-related as defined by the Illinois Domestic Violence Act.\n",
    "\n",
    "**Beat** - Indicates the beat where the incident occurred. A beat is the smallest police geographic area – each beat has a dedicated police beat car. Three to five beats make up a police sector, and three sectors make up a police district. The Chicago Police Department has 22 police districts.\n",
    "\n",
    "**District** - Indicates the police district where the incident occurred.\n",
    "\n",
    "**Ward** - The ward (City Council district) where the incident occurred.\n",
    "\n",
    "**Community Area** - Indicates the community area where the incident occurred. Chicago has 77 community areas.\n",
    "\n",
    "**FBI Code** - Indicates the crime classification as outlined in the FBI's National Incident-Based Reporting System (NIBRS).\n",
    "\n",
    "**X Coordinate** - The x coordinate of the location where the incident occurred in State Plane Illinois East NAD 1983 projection. This location is shifted from the actual location for partial redaction but falls on the same block.\n",
    "\n",
    "**Y Coordinate** - The y coordinate of the location where the incident occurred in State Plane Illinois East NAD 1983 projection. This location is shifted from the actual location for partial redaction but falls on the same block.\n",
    "\n",
    "**Year** - Year the incident occurred.\n",
    "\n",
    "**Updated On** - Date and time the record was last updated.\n",
    "\n",
    "**Latitude** - The latitude of the location where the incident occurred. This location is shifted from the actual location for partial redaction but falls on the same block.\n",
    "\n",
    "**Longitude** - The longitude of the location where the incident occurred. This location is shifted from the actual location for partial redaction but falls on the same block.\n",
    "\n",
    "**Location** - The location where the incident occurred in a format that allows for creation of maps and other geographic operations on this data portal. This location is shifted from the actual location for partial redaction but falls on the same block."
   ]
  },
  {
   "cell_type": "markdown",
   "metadata": {},
   "source": [
    "### Initialising the Spark session"
   ]
  },
  {
   "cell_type": "code",
   "execution_count": 1,
   "metadata": {},
   "outputs": [
    {
     "data": {
      "text/html": [
       "Current session configs: <tt>{'conf': {'spark.pyspark.python': 'python3', 'spark.pyspark.virtualenv.enabled': 'true', 'spark.pyspark.virtualenv.type': 'native', 'spark.pyspark.virtualenv.bin.path': '/usr/bin/virtualenv'}, 'kind': 'pyspark'}</tt><br>"
      ],
      "text/plain": [
       "<IPython.core.display.HTML object>"
      ]
     },
     "metadata": {},
     "output_type": "display_data"
    },
    {
     "data": {
      "text/html": [
       "No active sessions."
      ],
      "text/plain": [
       "<IPython.core.display.HTML object>"
      ]
     },
     "metadata": {},
     "output_type": "display_data"
    }
   ],
   "source": [
    "%%configure -f\n",
    "{ \"conf\":{\n",
    "          \"spark.pyspark.python\": \"python3\",\n",
    "          \"spark.pyspark.virtualenv.enabled\": \"true\",\n",
    "          \"spark.pyspark.virtualenv.type\":\"native\",\n",
    "          \"spark.pyspark.virtualenv.bin.path\":\"/usr/bin/virtualenv\"\n",
    "         }\n",
    "}"
   ]
  },
  {
   "cell_type": "code",
   "execution_count": null,
   "metadata": {},
   "outputs": [],
   "source": []
  },
  {
   "cell_type": "code",
   "execution_count": null,
   "metadata": {},
   "outputs": [],
   "source": []
  },
  {
   "cell_type": "code",
   "execution_count": null,
   "metadata": {},
   "outputs": [],
   "source": []
  },
  {
   "cell_type": "code",
   "execution_count": 2,
   "metadata": {},
   "outputs": [
    {
     "data": {
      "application/vnd.jupyter.widget-view+json": {
       "model_id": "76da80d0d46c4582b9fee9ecad843170",
       "version_major": 2,
       "version_minor": 0
      },
      "text/plain": [
       "VBox()"
      ]
     },
     "metadata": {},
     "output_type": "display_data"
    },
    {
     "name": "stdout",
     "output_type": "stream",
     "text": [
      "Starting Spark application\n"
     ]
    },
    {
     "data": {
      "text/html": [
       "<table>\n",
       "<tr><th>ID</th><th>YARN Application ID</th><th>Kind</th><th>State</th><th>Spark UI</th><th>Driver log</th><th>Current session?</th></tr><tr><td>1</td><td>application_1652803945073_0002</td><td>pyspark</td><td>idle</td><td><a target=\"_blank\" href=\"http://ip-172-31-70-104.ec2.internal:20888/proxy/application_1652803945073_0002/\">Link</a></td><td><a target=\"_blank\" href=\"http://ip-172-31-67-49.ec2.internal:8042/node/containerlogs/container_1652803945073_0002_01_000001/livy\">Link</a></td><td>✔</td></tr></table>"
      ],
      "text/plain": [
       "<IPython.core.display.HTML object>"
      ]
     },
     "metadata": {},
     "output_type": "display_data"
    },
    {
     "data": {
      "application/vnd.jupyter.widget-view+json": {
       "model_id": "",
       "version_major": 2,
       "version_minor": 0
      },
      "text/plain": [
       "FloatProgress(value=0.0, bar_style='info', description='Progress:', layout=Layout(height='25px', width='50%'),…"
      ]
     },
     "metadata": {},
     "output_type": "display_data"
    },
    {
     "name": "stdout",
     "output_type": "stream",
     "text": [
      "SparkSession available as 'spark'.\n"
     ]
    },
    {
     "data": {
      "application/vnd.jupyter.widget-view+json": {
       "model_id": "",
       "version_major": 2,
       "version_minor": 0
      },
      "text/plain": [
       "FloatProgress(value=0.0, bar_style='info', description='Progress:', layout=Layout(height='25px', width='50%'),…"
      ]
     },
     "metadata": {},
     "output_type": "display_data"
    }
   ],
   "source": [
    "from pyspark import SparkContext, SparkConf"
   ]
  },
  {
   "cell_type": "code",
   "execution_count": 3,
   "metadata": {},
   "outputs": [
    {
     "data": {
      "application/vnd.jupyter.widget-view+json": {
       "model_id": "0945ce0b84ee4221b0ce6b349af02ffd",
       "version_major": 2,
       "version_minor": 0
      },
      "text/plain": [
       "VBox()"
      ]
     },
     "metadata": {},
     "output_type": "display_data"
    },
    {
     "data": {
      "application/vnd.jupyter.widget-view+json": {
       "model_id": "",
       "version_major": 2,
       "version_minor": 0
      },
      "text/plain": [
       "FloatProgress(value=0.0, bar_style='info', description='Progress:', layout=Layout(height='25px', width='50%'),…"
      ]
     },
     "metadata": {},
     "output_type": "display_data"
    }
   ],
   "source": [
    "sc = SparkContext.getOrCreate();"
   ]
  },
  {
   "cell_type": "code",
   "execution_count": 4,
   "metadata": {},
   "outputs": [
    {
     "data": {
      "application/vnd.jupyter.widget-view+json": {
       "model_id": "9556fa5421f44d78a016cd08b962b387",
       "version_major": 2,
       "version_minor": 0
      },
      "text/plain": [
       "VBox()"
      ]
     },
     "metadata": {},
     "output_type": "display_data"
    },
    {
     "data": {
      "application/vnd.jupyter.widget-view+json": {
       "model_id": "",
       "version_major": 2,
       "version_minor": 0
      },
      "text/plain": [
       "FloatProgress(value=0.0, bar_style='info', description='Progress:', layout=Layout(height='25px', width='50%'),…"
      ]
     },
     "metadata": {},
     "output_type": "display_data"
    },
    {
     "name": "stdout",
     "output_type": "stream",
     "text": [
      "<SparkContext master=yarn appName=livy-session-1>"
     ]
    }
   ],
   "source": [
    "sc"
   ]
  },
  {
   "cell_type": "code",
   "execution_count": null,
   "metadata": {},
   "outputs": [],
   "source": []
  },
  {
   "cell_type": "code",
   "execution_count": null,
   "metadata": {},
   "outputs": [],
   "source": []
  },
  {
   "cell_type": "code",
   "execution_count": null,
   "metadata": {},
   "outputs": [],
   "source": []
  },
  {
   "cell_type": "code",
   "execution_count": null,
   "metadata": {},
   "outputs": [],
   "source": []
  },
  {
   "cell_type": "code",
   "execution_count": null,
   "metadata": {},
   "outputs": [],
   "source": []
  },
  {
   "cell_type": "code",
   "execution_count": 5,
   "metadata": {},
   "outputs": [
    {
     "data": {
      "application/vnd.jupyter.widget-view+json": {
       "model_id": "dbc2ce5f8d7844448d762758af862064",
       "version_major": 2,
       "version_minor": 0
      },
      "text/plain": [
       "VBox()"
      ]
     },
     "metadata": {},
     "output_type": "display_data"
    },
    {
     "data": {
      "application/vnd.jupyter.widget-view+json": {
       "model_id": "",
       "version_major": 2,
       "version_minor": 0
      },
      "text/plain": [
       "FloatProgress(value=0.0, bar_style='info', description='Progress:', layout=Layout(height='25px', width='50%'),…"
      ]
     },
     "metadata": {},
     "output_type": "display_data"
    },
    {
     "name": "stdout",
     "output_type": "stream",
     "text": [
      "Package                    Version\n",
      "-------------------------- -------\n",
      "beautifulsoup4             4.9.0  \n",
      "boto                       2.49.0 \n",
      "jmespath                   0.9.5  \n",
      "lxml                       4.5.0  \n",
      "mysqlclient                1.4.2  \n",
      "nltk                       3.4.5  \n",
      "nose                       1.3.4  \n",
      "numpy                      1.16.5 \n",
      "pip                        9.0.1  \n",
      "py-dateutil                2.2    \n",
      "python37-sagemaker-pyspark 1.3.0  \n",
      "pytz                       2019.3 \n",
      "PyYAML                     5.3.1  \n",
      "setuptools                 28.8.0 \n",
      "six                        1.13.0 \n",
      "soupsieve                  1.9.5  \n",
      "wheel                      0.29.0 \n",
      "windmill                   1.6"
     ]
    }
   ],
   "source": [
    "sc.list_packages()"
   ]
  },
  {
   "cell_type": "code",
   "execution_count": 37,
   "metadata": {},
   "outputs": [
    {
     "data": {
      "application/vnd.jupyter.widget-view+json": {
       "model_id": "26970f22909040149c0fad8f01b15847",
       "version_major": 2,
       "version_minor": 0
      },
      "text/plain": [
       "VBox()"
      ]
     },
     "metadata": {},
     "output_type": "display_data"
    },
    {
     "data": {
      "application/vnd.jupyter.widget-view+json": {
       "model_id": "",
       "version_major": 2,
       "version_minor": 0
      },
      "text/plain": [
       "FloatProgress(value=0.0, bar_style='info', description='Progress:', layout=Layout(height='25px', width='50%'),…"
      ]
     },
     "metadata": {},
     "output_type": "display_data"
    },
    {
     "name": "stdout",
     "output_type": "stream",
     "text": [
      "Collecting pandas==0.25.1\n",
      "  Using cached https://files.pythonhosted.org/packages/7e/ab/ea76361f9d3e732e114adcd801d2820d5319c23d0ac5482fa3b412db217e/pandas-0.25.1-cp37-cp37m-manylinux1_x86_64.whl\n",
      "Requirement already satisfied: pytz>=2017.2 in /usr/local/lib/python3.7/site-packages (from pandas==0.25.1)\n",
      "Requirement already satisfied: numpy>=1.13.3 in /usr/local/lib64/python3.7/site-packages (from pandas==0.25.1)\n",
      "Collecting python-dateutil>=2.6.1 (from pandas==0.25.1)\n",
      "  Using cached https://files.pythonhosted.org/packages/36/7a/87837f39d0296e723bb9b62bbb257d0355c7f6128853c78955f57342a56d/python_dateutil-2.8.2-py2.py3-none-any.whl\n",
      "Requirement already satisfied: six>=1.5 in /usr/local/lib/python3.7/site-packages (from python-dateutil>=2.6.1->pandas==0.25.1)\n",
      "Installing collected packages: python-dateutil, pandas\n",
      "Successfully installed pandas-0.25.1 python-dateutil-2.8.2"
     ]
    }
   ],
   "source": [
    "sc.install_pypi_package(\"pandas==0.25.1\")"
   ]
  },
  {
   "cell_type": "code",
   "execution_count": 38,
   "metadata": {},
   "outputs": [
    {
     "data": {
      "application/vnd.jupyter.widget-view+json": {
       "model_id": "d4a3dc42e7cd4530b066a2a6fd387312",
       "version_major": 2,
       "version_minor": 0
      },
      "text/plain": [
       "VBox()"
      ]
     },
     "metadata": {},
     "output_type": "display_data"
    },
    {
     "data": {
      "application/vnd.jupyter.widget-view+json": {
       "model_id": "",
       "version_major": 2,
       "version_minor": 0
      },
      "text/plain": [
       "FloatProgress(value=0.0, bar_style='info', description='Progress:', layout=Layout(height='25px', width='50%'),…"
      ]
     },
     "metadata": {},
     "output_type": "display_data"
    },
    {
     "name": "stdout",
     "output_type": "stream",
     "text": [
      "Collecting matplotlib==3.1.1\n",
      "  Using cached https://files.pythonhosted.org/packages/19/7a/60bd79c5d79559150f8bba866dd7d434f0a170312e4d15e8aefa5faba294/matplotlib-3.1.1-cp37-cp37m-manylinux1_x86_64.whl\n",
      "Requirement already satisfied: python-dateutil>=2.1 in /mnt/tmp/1652805323478-0/lib/python3.7/site-packages (from matplotlib==3.1.1)\n",
      "Collecting pyparsing!=2.0.4,!=2.1.2,!=2.1.6,>=2.0.1 (from matplotlib==3.1.1)\n",
      "  Using cached https://files.pythonhosted.org/packages/6c/10/a7d0fa5baea8fe7b50f448ab742f26f52b80bfca85ac2be9d35cdd9a3246/pyparsing-3.0.9-py3-none-any.whl\n",
      "Collecting cycler>=0.10 (from matplotlib==3.1.1)\n",
      "  Using cached https://files.pythonhosted.org/packages/5c/f9/695d6bedebd747e5eb0fe8fad57b72fdf25411273a39791cde838d5a8f51/cycler-0.11.0-py3-none-any.whl\n",
      "Requirement already satisfied: numpy>=1.11 in /usr/local/lib64/python3.7/site-packages (from matplotlib==3.1.1)\n",
      "Collecting kiwisolver>=1.0.1 (from matplotlib==3.1.1)\n",
      "  Using cached https://files.pythonhosted.org/packages/51/50/9a9a94afa26c50fc5d9127272737806990aa698c7a1c220b8e5075e70304/kiwisolver-1.4.2-cp37-cp37m-manylinux_2_5_x86_64.manylinux1_x86_64.whl\n",
      "Requirement already satisfied: six>=1.5 in /usr/local/lib/python3.7/site-packages (from python-dateutil>=2.1->matplotlib==3.1.1)\n",
      "Collecting typing-extensions; python_version < \"3.8\" (from kiwisolver>=1.0.1->matplotlib==3.1.1)\n",
      "  Using cached https://files.pythonhosted.org/packages/75/e1/932e06004039dd670c9d5e1df0cd606bf46e29a28e65d5bb28e894ea29c9/typing_extensions-4.2.0-py3-none-any.whl\n",
      "Installing collected packages: pyparsing, cycler, typing-extensions, kiwisolver, matplotlib\n",
      "Successfully installed cycler-0.11.0 kiwisolver-1.4.2 matplotlib-3.1.1 pyparsing-3.0.9 typing-extensions-4.2.0"
     ]
    }
   ],
   "source": [
    "sc.install_pypi_package(\"matplotlib==3.1.1\", \"https://pypi.org/simple\")"
   ]
  },
  {
   "cell_type": "code",
   "execution_count": 9,
   "metadata": {},
   "outputs": [
    {
     "data": {
      "application/vnd.jupyter.widget-view+json": {
       "model_id": "22ce0c6b6b964f04924150ff4a2b4549",
       "version_major": 2,
       "version_minor": 0
      },
      "text/plain": [
       "VBox()"
      ]
     },
     "metadata": {},
     "output_type": "display_data"
    },
    {
     "data": {
      "application/vnd.jupyter.widget-view+json": {
       "model_id": "",
       "version_major": 2,
       "version_minor": 0
      },
      "text/plain": [
       "FloatProgress(value=0.0, bar_style='info', description='Progress:', layout=Layout(height='25px', width='50%'),…"
      ]
     },
     "metadata": {},
     "output_type": "display_data"
    },
    {
     "name": "stdout",
     "output_type": "stream",
     "text": [
      "Package                    Version\n",
      "-------------------------- -------\n",
      "beautifulsoup4             4.9.0  \n",
      "boto                       2.49.0 \n",
      "cycler                     0.11.0 \n",
      "jmespath                   0.9.5  \n",
      "kiwisolver                 1.4.2  \n",
      "lxml                       4.5.0  \n",
      "matplotlib                 3.1.1  \n",
      "mysqlclient                1.4.2  \n",
      "nltk                       3.4.5  \n",
      "nose                       1.3.4  \n",
      "numpy                      1.16.5 \n",
      "pandas                     0.25.1 \n",
      "pip                        9.0.1  \n",
      "py-dateutil                2.2    \n",
      "pyparsing                  3.0.9  \n",
      "python-dateutil            2.8.2  \n",
      "python37-sagemaker-pyspark 1.3.0  \n",
      "pytz                       2019.3 \n",
      "PyYAML                     5.3.1  \n",
      "setuptools                 28.8.0 \n",
      "six                        1.13.0 \n",
      "soupsieve                  1.9.5  \n",
      "typing-extensions          4.2.0  \n",
      "wheel                      0.29.0 \n",
      "windmill                   1.6"
     ]
    }
   ],
   "source": [
    "sc.list_packages()"
   ]
  },
  {
   "cell_type": "code",
   "execution_count": null,
   "metadata": {},
   "outputs": [],
   "source": []
  },
  {
   "cell_type": "code",
   "execution_count": null,
   "metadata": {},
   "outputs": [],
   "source": []
  },
  {
   "cell_type": "code",
   "execution_count": null,
   "metadata": {},
   "outputs": [],
   "source": []
  },
  {
   "cell_type": "markdown",
   "metadata": {},
   "source": [
    "### Loading the dataset"
   ]
  },
  {
   "cell_type": "code",
   "execution_count": 10,
   "metadata": {},
   "outputs": [
    {
     "data": {
      "application/vnd.jupyter.widget-view+json": {
       "model_id": "9e76845339c54c98b5ccd9565f48a06f",
       "version_major": 2,
       "version_minor": 0
      },
      "text/plain": [
       "VBox()"
      ]
     },
     "metadata": {},
     "output_type": "display_data"
    },
    {
     "data": {
      "application/vnd.jupyter.widget-view+json": {
       "model_id": "",
       "version_major": 2,
       "version_minor": 0
      },
      "text/plain": [
       "FloatProgress(value=0.0, bar_style='info', description='Progress:', layout=Layout(height='25px', width='50%'),…"
      ]
     },
     "metadata": {},
     "output_type": "display_data"
    }
   ],
   "source": [
    "df = spark.read.csv('s3://hiveupgrad1/Chicago_Crimes_2012_to_2017.csv', header = True, inferSchema = False)\n",
    "#s3a://chicago-crime-mlc/Chicago_Crimes_2012_to_2017.csv"
   ]
  },
  {
   "cell_type": "code",
   "execution_count": null,
   "metadata": {},
   "outputs": [],
   "source": []
  },
  {
   "cell_type": "code",
   "execution_count": null,
   "metadata": {},
   "outputs": [],
   "source": []
  },
  {
   "cell_type": "code",
   "execution_count": 11,
   "metadata": {},
   "outputs": [
    {
     "data": {
      "application/vnd.jupyter.widget-view+json": {
       "model_id": "95dab78c838444deaf0fc2d7d042a327",
       "version_major": 2,
       "version_minor": 0
      },
      "text/plain": [
       "VBox()"
      ]
     },
     "metadata": {},
     "output_type": "display_data"
    },
    {
     "data": {
      "application/vnd.jupyter.widget-view+json": {
       "model_id": "",
       "version_major": 2,
       "version_minor": 0
      },
      "text/plain": [
       "FloatProgress(value=0.0, bar_style='info', description='Progress:', layout=Layout(height='25px', width='50%'),…"
      ]
     },
     "metadata": {},
     "output_type": "display_data"
    },
    {
     "name": "stdout",
     "output_type": "stream",
     "text": [
      "[Row(_c0='0', Unnamed: 0='3', ID='10508693', Case Number='HZ250496', Date='05/03/2016 11:40:00 PM', Block='013XX S SAWYER AVE', IUCR='0486', Primary Type='BATTERY', Description='DOMESTIC BATTERY SIMPLE', Location Description='APARTMENT', Arrest='True', Domestic='True', Beat='1022', District='10.0', Ward='24.0', Community Area='29.0', FBI Code='08B', X Coordinate='1154907.0', Y Coordinate='1893681.0', Year='2016', Updated On='05/10/2016 03:56:50 PM', Latitude='41.864073157', Longitude='-87.706818608', Location='(41.864073157, -87.706818608)')]"
     ]
    }
   ],
   "source": [
    "# Printing the first row\n",
    "df.head(1)"
   ]
  },
  {
   "cell_type": "code",
   "execution_count": null,
   "metadata": {},
   "outputs": [],
   "source": []
  },
  {
   "cell_type": "code",
   "execution_count": null,
   "metadata": {},
   "outputs": [],
   "source": []
  },
  {
   "cell_type": "code",
   "execution_count": 12,
   "metadata": {
    "scrolled": true
   },
   "outputs": [
    {
     "data": {
      "application/vnd.jupyter.widget-view+json": {
       "model_id": "8ea92905b1d34b8ea8d2cc72d7cbf579",
       "version_major": 2,
       "version_minor": 0
      },
      "text/plain": [
       "VBox()"
      ]
     },
     "metadata": {},
     "output_type": "display_data"
    },
    {
     "data": {
      "application/vnd.jupyter.widget-view+json": {
       "model_id": "",
       "version_major": 2,
       "version_minor": 0
      },
      "text/plain": [
       "FloatProgress(value=0.0, bar_style='info', description='Progress:', layout=Layout(height='25px', width='50%'),…"
      ]
     },
     "metadata": {},
     "output_type": "display_data"
    },
    {
     "name": "stdout",
     "output_type": "stream",
     "text": [
      "root\n",
      " |-- _c0: string (nullable = true)\n",
      " |-- Unnamed: 0: string (nullable = true)\n",
      " |-- ID: string (nullable = true)\n",
      " |-- Case Number: string (nullable = true)\n",
      " |-- Date: string (nullable = true)\n",
      " |-- Block: string (nullable = true)\n",
      " |-- IUCR: string (nullable = true)\n",
      " |-- Primary Type: string (nullable = true)\n",
      " |-- Description: string (nullable = true)\n",
      " |-- Location Description: string (nullable = true)\n",
      " |-- Arrest: string (nullable = true)\n",
      " |-- Domestic: string (nullable = true)\n",
      " |-- Beat: string (nullable = true)\n",
      " |-- District: string (nullable = true)\n",
      " |-- Ward: string (nullable = true)\n",
      " |-- Community Area: string (nullable = true)\n",
      " |-- FBI Code: string (nullable = true)\n",
      " |-- X Coordinate: string (nullable = true)\n",
      " |-- Y Coordinate: string (nullable = true)\n",
      " |-- Year: string (nullable = true)\n",
      " |-- Updated On: string (nullable = true)\n",
      " |-- Latitude: string (nullable = true)\n",
      " |-- Longitude: string (nullable = true)\n",
      " |-- Location: string (nullable = true)"
     ]
    }
   ],
   "source": [
    "# Schema of the dataset\n",
    "df.printSchema()"
   ]
  },
  {
   "cell_type": "code",
   "execution_count": null,
   "metadata": {},
   "outputs": [],
   "source": []
  },
  {
   "cell_type": "code",
   "execution_count": null,
   "metadata": {},
   "outputs": [],
   "source": []
  },
  {
   "cell_type": "code",
   "execution_count": 13,
   "metadata": {},
   "outputs": [
    {
     "data": {
      "application/vnd.jupyter.widget-view+json": {
       "model_id": "06eeb12d4c52474fa99404a63e2a439c",
       "version_major": 2,
       "version_minor": 0
      },
      "text/plain": [
       "VBox()"
      ]
     },
     "metadata": {},
     "output_type": "display_data"
    },
    {
     "data": {
      "application/vnd.jupyter.widget-view+json": {
       "model_id": "",
       "version_major": 2,
       "version_minor": 0
      },
      "text/plain": [
       "FloatProgress(value=0.0, bar_style='info', description='Progress:', layout=Layout(height='25px', width='50%'),…"
      ]
     },
     "metadata": {},
     "output_type": "display_data"
    },
    {
     "name": "stdout",
     "output_type": "stream",
     "text": [
      "1456714"
     ]
    }
   ],
   "source": [
    "# Count total no of rows\n",
    "df.count()\n"
   ]
  },
  {
   "cell_type": "code",
   "execution_count": null,
   "metadata": {},
   "outputs": [],
   "source": []
  },
  {
   "cell_type": "code",
   "execution_count": 13,
   "metadata": {
    "scrolled": true
   },
   "outputs": [
    {
     "data": {
      "application/vnd.jupyter.widget-view+json": {
       "model_id": "5c6b739c320641d7bf12d28ed553a66b",
       "version_major": 2,
       "version_minor": 0
      },
      "text/plain": [
       "VBox()"
      ]
     },
     "metadata": {},
     "output_type": "display_data"
    },
    {
     "data": {
      "application/vnd.jupyter.widget-view+json": {
       "model_id": "",
       "version_major": 2,
       "version_minor": 0
      },
      "text/plain": [
       "FloatProgress(value=0.0, bar_style='info', description='Progress:', layout=Layout(height='25px', width='50%'),…"
      ]
     },
     "metadata": {},
     "output_type": "display_data"
    }
   ],
   "source": [
    "# print 5 rows"
   ]
  },
  {
   "cell_type": "code",
   "execution_count": 14,
   "metadata": {},
   "outputs": [
    {
     "data": {
      "application/vnd.jupyter.widget-view+json": {
       "model_id": "d41add73f4874b29bd207f05a4d08151",
       "version_major": 2,
       "version_minor": 0
      },
      "text/plain": [
       "VBox()"
      ]
     },
     "metadata": {},
     "output_type": "display_data"
    },
    {
     "data": {
      "application/vnd.jupyter.widget-view+json": {
       "model_id": "",
       "version_major": 2,
       "version_minor": 0
      },
      "text/plain": [
       "FloatProgress(value=0.0, bar_style='info', description='Progress:', layout=Layout(height='25px', width='50%'),…"
      ]
     },
     "metadata": {},
     "output_type": "display_data"
    },
    {
     "name": "stdout",
     "output_type": "stream",
     "text": [
      "[Row(_c0='0', Unnamed: 0='3', ID='10508693', Case Number='HZ250496', Date='05/03/2016 11:40:00 PM', Block='013XX S SAWYER AVE', IUCR='0486', Primary Type='BATTERY', Description='DOMESTIC BATTERY SIMPLE', Location Description='APARTMENT', Arrest='True', Domestic='True', Beat='1022', District='10.0', Ward='24.0', Community Area='29.0', FBI Code='08B', X Coordinate='1154907.0', Y Coordinate='1893681.0', Year='2016', Updated On='05/10/2016 03:56:50 PM', Latitude='41.864073157', Longitude='-87.706818608', Location='(41.864073157, -87.706818608)'), Row(_c0='1', Unnamed: 0='89', ID='10508695', Case Number='HZ250409', Date='05/03/2016 09:40:00 PM', Block='061XX S DREXEL AVE', IUCR='0486', Primary Type='BATTERY', Description='DOMESTIC BATTERY SIMPLE', Location Description='RESIDENCE', Arrest='False', Domestic='True', Beat='313', District='3.0', Ward='20.0', Community Area='42.0', FBI Code='08B', X Coordinate='1183066.0', Y Coordinate='1864330.0', Year='2016', Updated On='05/10/2016 03:56:50 PM', Latitude='41.782921527', Longitude='-87.60436317', Location='(41.782921527, -87.60436317)'), Row(_c0='2', Unnamed: 0='197', ID='10508697', Case Number='HZ250503', Date='05/03/2016 11:31:00 PM', Block='053XX W CHICAGO AVE', IUCR='0470', Primary Type='PUBLIC PEACE VIOLATION', Description='RECKLESS CONDUCT', Location Description='STREET', Arrest='False', Domestic='False', Beat='1524', District='15.0', Ward='37.0', Community Area='25.0', FBI Code='24', X Coordinate='1140789.0', Y Coordinate='1904819.0', Year='2016', Updated On='05/10/2016 03:56:50 PM', Latitude='41.894908283', Longitude='-87.758371958', Location='(41.894908283, -87.758371958)'), Row(_c0='3', Unnamed: 0='673', ID='10508698', Case Number='HZ250424', Date='05/03/2016 10:10:00 PM', Block='049XX W FULTON ST', IUCR='0460', Primary Type='BATTERY', Description='SIMPLE', Location Description='SIDEWALK', Arrest='False', Domestic='False', Beat='1532', District='15.0', Ward='28.0', Community Area='25.0', FBI Code='08B', X Coordinate='1143223.0', Y Coordinate='1901475.0', Year='2016', Updated On='05/10/2016 03:56:50 PM', Latitude='41.885686845', Longitude='-87.749515983', Location='(41.885686845, -87.749515983)'), Row(_c0='4', Unnamed: 0='911', ID='10508699', Case Number='HZ250455', Date='05/03/2016 10:00:00 PM', Block='003XX N LOTUS AVE', IUCR='0820', Primary Type='THEFT', Description='$500 AND UNDER', Location Description='RESIDENCE', Arrest='False', Domestic='True', Beat='1523', District='15.0', Ward='28.0', Community Area='25.0', FBI Code='06', X Coordinate='1139890.0', Y Coordinate='1901675.0', Year='2016', Updated On='05/10/2016 03:56:50 PM', Latitude='41.886297242', Longitude='-87.761750709', Location='(41.886297242, -87.761750709)')]"
     ]
    }
   ],
   "source": [
    "df.head(5)"
   ]
  },
  {
   "cell_type": "code",
   "execution_count": null,
   "metadata": {},
   "outputs": [],
   "source": []
  },
  {
   "cell_type": "code",
   "execution_count": 15,
   "metadata": {},
   "outputs": [
    {
     "data": {
      "application/vnd.jupyter.widget-view+json": {
       "model_id": "ee2e47d4691644d2bf30116317eff112",
       "version_major": 2,
       "version_minor": 0
      },
      "text/plain": [
       "VBox()"
      ]
     },
     "metadata": {},
     "output_type": "display_data"
    },
    {
     "data": {
      "application/vnd.jupyter.widget-view+json": {
       "model_id": "",
       "version_major": 2,
       "version_minor": 0
      },
      "text/plain": [
       "FloatProgress(value=0.0, bar_style='info', description='Progress:', layout=Layout(height='25px', width='50%'),…"
      ]
     },
     "metadata": {},
     "output_type": "display_data"
    },
    {
     "name": "stdout",
     "output_type": "stream",
     "text": [
      "+---+----------+--------+-----------+--------------------+-------------------+----+--------------------+--------------------+--------------------+------+--------+----+--------+----+--------------+--------+------------+------------+----+--------------------+------------+-------------+--------------------+\n",
      "|_c0|Unnamed: 0|      ID|Case Number|                Date|              Block|IUCR|        Primary Type|         Description|Location Description|Arrest|Domestic|Beat|District|Ward|Community Area|FBI Code|X Coordinate|Y Coordinate|Year|          Updated On|    Latitude|    Longitude|            Location|\n",
      "+---+----------+--------+-----------+--------------------+-------------------+----+--------------------+--------------------+--------------------+------+--------+----+--------+----+--------------+--------+------------+------------+----+--------------------+------------+-------------+--------------------+\n",
      "|  0|         3|10508693|   HZ250496|05/03/2016 11:40:...| 013XX S SAWYER AVE|0486|             BATTERY|DOMESTIC BATTERY ...|           APARTMENT|  True|    True|1022|    10.0|24.0|          29.0|     08B|   1154907.0|   1893681.0|2016|05/10/2016 03:56:...|41.864073157|-87.706818608|(41.864073157, -8...|\n",
      "|  1|        89|10508695|   HZ250409|05/03/2016 09:40:...| 061XX S DREXEL AVE|0486|             BATTERY|DOMESTIC BATTERY ...|           RESIDENCE| False|    True| 313|     3.0|20.0|          42.0|     08B|   1183066.0|   1864330.0|2016|05/10/2016 03:56:...|41.782921527| -87.60436317|(41.782921527, -8...|\n",
      "|  2|       197|10508697|   HZ250503|05/03/2016 11:31:...|053XX W CHICAGO AVE|0470|PUBLIC PEACE VIOL...|    RECKLESS CONDUCT|              STREET| False|   False|1524|    15.0|37.0|          25.0|      24|   1140789.0|   1904819.0|2016|05/10/2016 03:56:...|41.894908283|-87.758371958|(41.894908283, -8...|\n",
      "|  3|       673|10508698|   HZ250424|05/03/2016 10:10:...|  049XX W FULTON ST|0460|             BATTERY|              SIMPLE|            SIDEWALK| False|   False|1532|    15.0|28.0|          25.0|     08B|   1143223.0|   1901475.0|2016|05/10/2016 03:56:...|41.885686845|-87.749515983|(41.885686845, -8...|\n",
      "|  4|       911|10508699|   HZ250455|05/03/2016 10:00:...|  003XX N LOTUS AVE|0820|               THEFT|      $500 AND UNDER|           RESIDENCE| False|    True|1523|    15.0|28.0|          25.0|      06|   1139890.0|   1901675.0|2016|05/10/2016 03:56:...|41.886297242|-87.761750709|(41.886297242, -8...|\n",
      "+---+----------+--------+-----------+--------------------+-------------------+----+--------------------+--------------------+--------------------+------+--------+----+--------+----+--------------+--------+------------+------------+----+--------------------+------------+-------------+--------------------+\n",
      "only showing top 5 rows"
     ]
    }
   ],
   "source": [
    "# Show 5 rows in tabular format\n",
    "df.show(5)"
   ]
  },
  {
   "cell_type": "code",
   "execution_count": null,
   "metadata": {},
   "outputs": [],
   "source": []
  },
  {
   "cell_type": "code",
   "execution_count": null,
   "metadata": {},
   "outputs": [],
   "source": []
  },
  {
   "cell_type": "code",
   "execution_count": 16,
   "metadata": {},
   "outputs": [
    {
     "data": {
      "application/vnd.jupyter.widget-view+json": {
       "model_id": "3a7fe3742f6f473ba05db4460f7f617a",
       "version_major": 2,
       "version_minor": 0
      },
      "text/plain": [
       "VBox()"
      ]
     },
     "metadata": {},
     "output_type": "display_data"
    },
    {
     "data": {
      "application/vnd.jupyter.widget-view+json": {
       "model_id": "",
       "version_major": 2,
       "version_minor": 0
      },
      "text/plain": [
       "FloatProgress(value=0.0, bar_style='info', description='Progress:', layout=Layout(height='25px', width='50%'),…"
      ]
     },
     "metadata": {},
     "output_type": "display_data"
    },
    {
     "name": "stdout",
     "output_type": "stream",
     "text": [
      "['_c0', 'Unnamed: 0', 'ID', 'Case Number', 'Date', 'Block', 'IUCR', 'Primary Type', 'Description', 'Location Description', 'Arrest', 'Domestic', 'Beat', 'District', 'Ward', 'Community Area', 'FBI Code', 'X Coordinate', 'Y Coordinate', 'Year', 'Updated On', 'Latitude', 'Longitude', 'Location']"
     ]
    }
   ],
   "source": [
    "# get all columns\n",
    "df.columns"
   ]
  },
  {
   "cell_type": "code",
   "execution_count": null,
   "metadata": {},
   "outputs": [],
   "source": []
  },
  {
   "cell_type": "markdown",
   "metadata": {},
   "source": [
    "### Data Exploration and Cleaning"
   ]
  },
  {
   "cell_type": "code",
   "execution_count": 17,
   "metadata": {},
   "outputs": [
    {
     "data": {
      "application/vnd.jupyter.widget-view+json": {
       "model_id": "a9455659d87447e6bbb41e8d2e333620",
       "version_major": 2,
       "version_minor": 0
      },
      "text/plain": [
       "VBox()"
      ]
     },
     "metadata": {},
     "output_type": "display_data"
    },
    {
     "data": {
      "application/vnd.jupyter.widget-view+json": {
       "model_id": "",
       "version_major": 2,
       "version_minor": 0
      },
      "text/plain": [
       "FloatProgress(value=0.0, bar_style='info', description='Progress:', layout=Layout(height='25px', width='50%'),…"
      ]
     },
     "metadata": {},
     "output_type": "display_data"
    },
    {
     "name": "stdout",
     "output_type": "stream",
     "text": [
      "+----------------------+\n",
      "|Date                  |\n",
      "+----------------------+\n",
      "|05/03/2016 11:40:00 PM|\n",
      "|05/03/2016 09:40:00 PM|\n",
      "|05/03/2016 11:31:00 PM|\n",
      "|05/03/2016 10:10:00 PM|\n",
      "|05/03/2016 10:00:00 PM|\n",
      "|05/03/2016 10:35:00 PM|\n",
      "|05/03/2016 10:30:00 PM|\n",
      "|05/03/2016 09:30:00 PM|\n",
      "|05/03/2016 04:00:00 PM|\n",
      "|05/03/2016 10:30:00 PM|\n",
      "+----------------------+\n",
      "only showing top 10 rows"
     ]
    }
   ],
   "source": [
    "df.select(\"Date\").show(10, truncate = False)"
   ]
  },
  {
   "cell_type": "code",
   "execution_count": 18,
   "metadata": {},
   "outputs": [
    {
     "data": {
      "application/vnd.jupyter.widget-view+json": {
       "model_id": "d4e086c6f49c49218420d2c3387a603e",
       "version_major": 2,
       "version_minor": 0
      },
      "text/plain": [
       "VBox()"
      ]
     },
     "metadata": {},
     "output_type": "display_data"
    },
    {
     "data": {
      "application/vnd.jupyter.widget-view+json": {
       "model_id": "",
       "version_major": 2,
       "version_minor": 0
      },
      "text/plain": [
       "FloatProgress(value=0.0, bar_style='info', description='Progress:', layout=Layout(height='25px', width='50%'),…"
      ]
     },
     "metadata": {},
     "output_type": "display_data"
    },
    {
     "name": "stdout",
     "output_type": "stream",
     "text": [
      "[('Date', 'string')]"
     ]
    }
   ],
   "source": [
    "# Column type\n",
    "df.select(\"Date\").dtypes"
   ]
  },
  {
   "cell_type": "markdown",
   "metadata": {},
   "source": [
    "Date is string data type, convert to timestamp format"
   ]
  },
  {
   "cell_type": "code",
   "execution_count": 19,
   "metadata": {},
   "outputs": [
    {
     "data": {
      "application/vnd.jupyter.widget-view+json": {
       "model_id": "f065db00d8424b919f68167b054c437f",
       "version_major": 2,
       "version_minor": 0
      },
      "text/plain": [
       "VBox()"
      ]
     },
     "metadata": {},
     "output_type": "display_data"
    },
    {
     "data": {
      "application/vnd.jupyter.widget-view+json": {
       "model_id": "",
       "version_major": 2,
       "version_minor": 0
      },
      "text/plain": [
       "FloatProgress(value=0.0, bar_style='info', description='Progress:', layout=Layout(height='25px', width='50%'),…"
      ]
     },
     "metadata": {},
     "output_type": "display_data"
    }
   ],
   "source": [
    "# Changing the type of column Date to timestamp\n",
    "from pyspark.sql.functions import to_timestamp\n",
    "\n",
    "\n",
    "df = df.withColumn(\"Date_Time\",to_timestamp('Date',\"MM/dd/yyyy hh:mm:ss a\"))"
   ]
  },
  {
   "cell_type": "code",
   "execution_count": 20,
   "metadata": {},
   "outputs": [
    {
     "data": {
      "application/vnd.jupyter.widget-view+json": {
       "model_id": "da48127f1709440080f367cc2527f12c",
       "version_major": 2,
       "version_minor": 0
      },
      "text/plain": [
       "VBox()"
      ]
     },
     "metadata": {},
     "output_type": "display_data"
    },
    {
     "data": {
      "application/vnd.jupyter.widget-view+json": {
       "model_id": "",
       "version_major": 2,
       "version_minor": 0
      },
      "text/plain": [
       "FloatProgress(value=0.0, bar_style='info', description='Progress:', layout=Layout(height='25px', width='50%'),…"
      ]
     },
     "metadata": {},
     "output_type": "display_data"
    },
    {
     "name": "stdout",
     "output_type": "stream",
     "text": [
      "+-------------------+\n",
      "|Date_Time          |\n",
      "+-------------------+\n",
      "|2016-05-03 23:40:00|\n",
      "|2016-05-03 21:40:00|\n",
      "|2016-05-03 23:31:00|\n",
      "|2016-05-03 22:10:00|\n",
      "|2016-05-03 22:00:00|\n",
      "|2016-05-03 22:35:00|\n",
      "|2016-05-03 22:30:00|\n",
      "|2016-05-03 21:30:00|\n",
      "|2016-05-03 16:00:00|\n",
      "|2016-05-03 22:30:00|\n",
      "+-------------------+\n",
      "only showing top 10 rows"
     ]
    }
   ],
   "source": [
    "df.select(\"Date_Time\").show(10, truncate = False)"
   ]
  },
  {
   "cell_type": "code",
   "execution_count": 21,
   "metadata": {},
   "outputs": [
    {
     "data": {
      "application/vnd.jupyter.widget-view+json": {
       "model_id": "2b22b6040e60438fb20c1015bc50cdbd",
       "version_major": 2,
       "version_minor": 0
      },
      "text/plain": [
       "VBox()"
      ]
     },
     "metadata": {},
     "output_type": "display_data"
    },
    {
     "data": {
      "application/vnd.jupyter.widget-view+json": {
       "model_id": "",
       "version_major": 2,
       "version_minor": 0
      },
      "text/plain": [
       "FloatProgress(value=0.0, bar_style='info', description='Progress:', layout=Layout(height='25px', width='50%'),…"
      ]
     },
     "metadata": {},
     "output_type": "display_data"
    },
    {
     "name": "stdout",
     "output_type": "stream",
     "text": [
      "[('Date_Time', 'timestamp')]"
     ]
    }
   ],
   "source": [
    "df.select(\"Date_Time\").dtypes"
   ]
  },
  {
   "cell_type": "code",
   "execution_count": null,
   "metadata": {},
   "outputs": [],
   "source": []
  },
  {
   "cell_type": "code",
   "execution_count": null,
   "metadata": {},
   "outputs": [],
   "source": []
  },
  {
   "cell_type": "code",
   "execution_count": 22,
   "metadata": {},
   "outputs": [
    {
     "data": {
      "application/vnd.jupyter.widget-view+json": {
       "model_id": "8c184c888999437bbcbe7c079a958e0d",
       "version_major": 2,
       "version_minor": 0
      },
      "text/plain": [
       "VBox()"
      ]
     },
     "metadata": {},
     "output_type": "display_data"
    },
    {
     "data": {
      "application/vnd.jupyter.widget-view+json": {
       "model_id": "",
       "version_major": 2,
       "version_minor": 0
      },
      "text/plain": [
       "FloatProgress(value=0.0, bar_style='info', description='Progress:', layout=Layout(height='25px', width='50%'),…"
      ]
     },
     "metadata": {},
     "output_type": "display_data"
    }
   ],
   "source": [
    "# Extracting 'hour' from the dataset\n",
    "from pyspark.sql.functions import hour\n",
    "\n",
    "df = df.withColumn('hour', hour(df[\"Date_Time\"]))"
   ]
  },
  {
   "cell_type": "code",
   "execution_count": 27,
   "metadata": {},
   "outputs": [
    {
     "data": {
      "application/vnd.jupyter.widget-view+json": {
       "model_id": "d4430c954521457a9709b80d6c01f24a",
       "version_major": 2,
       "version_minor": 0
      },
      "text/plain": [
       "VBox()"
      ]
     },
     "metadata": {},
     "output_type": "display_data"
    },
    {
     "data": {
      "application/vnd.jupyter.widget-view+json": {
       "model_id": "",
       "version_major": 2,
       "version_minor": 0
      },
      "text/plain": [
       "FloatProgress(value=0.0, bar_style='info', description='Progress:', layout=Layout(height='25px', width='50%'),…"
      ]
     },
     "metadata": {},
     "output_type": "display_data"
    },
    {
     "name": "stdout",
     "output_type": "stream",
     "text": [
      "+----+\n",
      "|hour|\n",
      "+----+\n",
      "|  23|\n",
      "|  21|\n",
      "|  23|\n",
      "|  22|\n",
      "|  22|\n",
      "+----+\n",
      "only showing top 5 rows"
     ]
    }
   ],
   "source": [
    "df.select('hour').show(5)"
   ]
  },
  {
   "cell_type": "code",
   "execution_count": null,
   "metadata": {},
   "outputs": [],
   "source": []
  },
  {
   "cell_type": "code",
   "execution_count": null,
   "metadata": {},
   "outputs": [],
   "source": []
  },
  {
   "cell_type": "code",
   "execution_count": 28,
   "metadata": {},
   "outputs": [
    {
     "data": {
      "application/vnd.jupyter.widget-view+json": {
       "model_id": "5049a9b8c71048c99efd6a74253ee6f6",
       "version_major": 2,
       "version_minor": 0
      },
      "text/plain": [
       "VBox()"
      ]
     },
     "metadata": {},
     "output_type": "display_data"
    },
    {
     "data": {
      "application/vnd.jupyter.widget-view+json": {
       "model_id": "",
       "version_major": 2,
       "version_minor": 0
      },
      "text/plain": [
       "FloatProgress(value=0.0, bar_style='info', description='Progress:', layout=Layout(height='25px', width='50%'),…"
      ]
     },
     "metadata": {},
     "output_type": "display_data"
    }
   ],
   "source": [
    "### Extract day of week from date in pyspark\n",
    "\n",
    "from pyspark.sql.functions import dayofweek\n",
    "\n",
    "# create a new column for dayofweek from Date_Time\n",
    "\n",
    "df = df.withColumn('day_of_week', dayofweek(df[\"Date_Time\"]))"
   ]
  },
  {
   "cell_type": "code",
   "execution_count": 29,
   "metadata": {},
   "outputs": [
    {
     "data": {
      "application/vnd.jupyter.widget-view+json": {
       "model_id": "afef4a34d272476782704e239e13e505",
       "version_major": 2,
       "version_minor": 0
      },
      "text/plain": [
       "VBox()"
      ]
     },
     "metadata": {},
     "output_type": "display_data"
    },
    {
     "data": {
      "application/vnd.jupyter.widget-view+json": {
       "model_id": "",
       "version_major": 2,
       "version_minor": 0
      },
      "text/plain": [
       "FloatProgress(value=0.0, bar_style='info', description='Progress:', layout=Layout(height='25px', width='50%'),…"
      ]
     },
     "metadata": {},
     "output_type": "display_data"
    },
    {
     "name": "stdout",
     "output_type": "stream",
     "text": [
      "+-----------+\n",
      "|day_of_week|\n",
      "+-----------+\n",
      "|          3|\n",
      "|          3|\n",
      "|          3|\n",
      "|          3|\n",
      "|          3|\n",
      "+-----------+\n",
      "only showing top 5 rows"
     ]
    }
   ],
   "source": [
    "df.select('day_of_week').show(5)"
   ]
  },
  {
   "cell_type": "code",
   "execution_count": null,
   "metadata": {},
   "outputs": [],
   "source": []
  },
  {
   "cell_type": "code",
   "execution_count": 30,
   "metadata": {},
   "outputs": [
    {
     "data": {
      "application/vnd.jupyter.widget-view+json": {
       "model_id": "8162f80523ca40e39bf94293a6554d8e",
       "version_major": 2,
       "version_minor": 0
      },
      "text/plain": [
       "VBox()"
      ]
     },
     "metadata": {},
     "output_type": "display_data"
    },
    {
     "data": {
      "application/vnd.jupyter.widget-view+json": {
       "model_id": "",
       "version_major": 2,
       "version_minor": 0
      },
      "text/plain": [
       "FloatProgress(value=0.0, bar_style='info', description='Progress:', layout=Layout(height='25px', width='50%'),…"
      ]
     },
     "metadata": {},
     "output_type": "display_data"
    }
   ],
   "source": [
    "# Show 'hour' & 'day_of_week'"
   ]
  },
  {
   "cell_type": "code",
   "execution_count": 31,
   "metadata": {},
   "outputs": [
    {
     "data": {
      "application/vnd.jupyter.widget-view+json": {
       "model_id": "a0a6c576b7ab455a8148d626ec07a7e5",
       "version_major": 2,
       "version_minor": 0
      },
      "text/plain": [
       "VBox()"
      ]
     },
     "metadata": {},
     "output_type": "display_data"
    },
    {
     "data": {
      "application/vnd.jupyter.widget-view+json": {
       "model_id": "",
       "version_major": 2,
       "version_minor": 0
      },
      "text/plain": [
       "FloatProgress(value=0.0, bar_style='info', description='Progress:', layout=Layout(height='25px', width='50%'),…"
      ]
     },
     "metadata": {},
     "output_type": "display_data"
    },
    {
     "name": "stdout",
     "output_type": "stream",
     "text": [
      "+----+-----------+\n",
      "|hour|day_of_week|\n",
      "+----+-----------+\n",
      "|  23|          3|\n",
      "|  21|          3|\n",
      "|  23|          3|\n",
      "|  22|          3|\n",
      "|  22|          3|\n",
      "+----+-----------+\n",
      "only showing top 5 rows"
     ]
    }
   ],
   "source": [
    "df.select('hour','day_of_week').show(5)"
   ]
  },
  {
   "cell_type": "code",
   "execution_count": 28,
   "metadata": {},
   "outputs": [
    {
     "data": {
      "application/vnd.jupyter.widget-view+json": {
       "model_id": "4c8d3dd2031f4a3fb4abf0e967339ca5",
       "version_major": 2,
       "version_minor": 0
      },
      "text/plain": [
       "VBox()"
      ]
     },
     "metadata": {},
     "output_type": "display_data"
    },
    {
     "data": {
      "application/vnd.jupyter.widget-view+json": {
       "model_id": "",
       "version_major": 2,
       "version_minor": 0
      },
      "text/plain": [
       "FloatProgress(value=0.0, bar_style='info', description='Progress:', layout=Layout(height='25px', width='50%'),…"
      ]
     },
     "metadata": {},
     "output_type": "display_data"
    },
    {
     "name": "stdout",
     "output_type": "stream",
     "text": [
      "+---+--------+-----------+--------------------+-------------------+----+--------------------+--------------------+--------------------+------+--------+----+--------+----+--------------+--------+------------+------------+----+--------------------+------------+-------------+--------------------+-------------------+----+-----------+\n",
      "|_c0|      ID|Case Number|                Date|              Block|IUCR|        Primary Type|         Description|Location Description|Arrest|Domestic|Beat|District|Ward|Community Area|FBI Code|X Coordinate|Y Coordinate|Year|          Updated On|    Latitude|    Longitude|            Location|          Date_Time|hour|day_of_week|\n",
      "+---+--------+-----------+--------------------+-------------------+----+--------------------+--------------------+--------------------+------+--------+----+--------+----+--------------+--------+------------+------------+----+--------------------+------------+-------------+--------------------+-------------------+----+-----------+\n",
      "|  3|10508693|   HZ250496|05/03/2016 11:40:...| 013XX S SAWYER AVE|0486|             BATTERY|DOMESTIC BATTERY ...|           APARTMENT|  True|    True|1022|    10.0|24.0|          29.0|     08B|   1154907.0|   1893681.0|2016|05/10/2016 03:56:...|41.864073157|-87.706818608|(41.864073157, -8...|2016-05-03 23:40:00|  23|          3|\n",
      "| 89|10508695|   HZ250409|05/03/2016 09:40:...| 061XX S DREXEL AVE|0486|             BATTERY|DOMESTIC BATTERY ...|           RESIDENCE| False|    True| 313|     3.0|20.0|          42.0|     08B|   1183066.0|   1864330.0|2016|05/10/2016 03:56:...|41.782921527| -87.60436317|(41.782921527, -8...|2016-05-03 21:40:00|  21|          3|\n",
      "|197|10508697|   HZ250503|05/03/2016 11:31:...|053XX W CHICAGO AVE|0470|PUBLIC PEACE VIOL...|    RECKLESS CONDUCT|              STREET| False|   False|1524|    15.0|37.0|          25.0|      24|   1140789.0|   1904819.0|2016|05/10/2016 03:56:...|41.894908283|-87.758371958|(41.894908283, -8...|2016-05-03 23:31:00|  23|          3|\n",
      "|673|10508698|   HZ250424|05/03/2016 10:10:...|  049XX W FULTON ST|0460|             BATTERY|              SIMPLE|            SIDEWALK| False|   False|1532|    15.0|28.0|          25.0|     08B|   1143223.0|   1901475.0|2016|05/10/2016 03:56:...|41.885686845|-87.749515983|(41.885686845, -8...|2016-05-03 22:10:00|  22|          3|\n",
      "|911|10508699|   HZ250455|05/03/2016 10:00:...|  003XX N LOTUS AVE|0820|               THEFT|      $500 AND UNDER|           RESIDENCE| False|    True|1523|    15.0|28.0|          25.0|      06|   1139890.0|   1901675.0|2016|05/10/2016 03:56:...|41.886297242|-87.761750709|(41.886297242, -8...|2016-05-03 22:00:00|  22|          3|\n",
      "+---+--------+-----------+--------------------+-------------------+----+--------------------+--------------------+--------------------+------+--------+----+--------+----+--------------+--------+------------+------------+----+--------------------+------------+-------------+--------------------+-------------------+----+-----------+\n",
      "only showing top 5 rows"
     ]
    }
   ],
   "source": [
    "df.show(5)"
   ]
  },
  {
   "cell_type": "code",
   "execution_count": null,
   "metadata": {},
   "outputs": [],
   "source": []
  },
  {
   "cell_type": "code",
   "execution_count": 32,
   "metadata": {},
   "outputs": [
    {
     "data": {
      "application/vnd.jupyter.widget-view+json": {
       "model_id": "bbd29712073e4b42b88a0e489428af3b",
       "version_major": 2,
       "version_minor": 0
      },
      "text/plain": [
       "VBox()"
      ]
     },
     "metadata": {},
     "output_type": "display_data"
    },
    {
     "data": {
      "application/vnd.jupyter.widget-view+json": {
       "model_id": "",
       "version_major": 2,
       "version_minor": 0
      },
      "text/plain": [
       "FloatProgress(value=0.0, bar_style='info', description='Progress:', layout=Layout(height='25px', width='50%'),…"
      ]
     },
     "metadata": {},
     "output_type": "display_data"
    }
   ],
   "source": [
    "# Dropping the columns: Date & Date_Time\n",
    "df = df.drop('Date', 'Date_Time')"
   ]
  },
  {
   "cell_type": "code",
   "execution_count": 33,
   "metadata": {},
   "outputs": [
    {
     "data": {
      "application/vnd.jupyter.widget-view+json": {
       "model_id": "f3c82205337d4543b75760e1cb217434",
       "version_major": 2,
       "version_minor": 0
      },
      "text/plain": [
       "VBox()"
      ]
     },
     "metadata": {},
     "output_type": "display_data"
    },
    {
     "data": {
      "application/vnd.jupyter.widget-view+json": {
       "model_id": "",
       "version_major": 2,
       "version_minor": 0
      },
      "text/plain": [
       "FloatProgress(value=0.0, bar_style='info', description='Progress:', layout=Layout(height='25px', width='50%'),…"
      ]
     },
     "metadata": {},
     "output_type": "display_data"
    },
    {
     "name": "stdout",
     "output_type": "stream",
     "text": [
      "+---+----------+--------+-----------+-------------------+----+--------------------+--------------------+--------------------+------+--------+----+--------+----+--------------+--------+------------+------------+----+--------------------+------------+-------------+--------------------+----+-----------+\n",
      "|_c0|Unnamed: 0|      ID|Case Number|              Block|IUCR|        Primary Type|         Description|Location Description|Arrest|Domestic|Beat|District|Ward|Community Area|FBI Code|X Coordinate|Y Coordinate|Year|          Updated On|    Latitude|    Longitude|            Location|hour|day_of_week|\n",
      "+---+----------+--------+-----------+-------------------+----+--------------------+--------------------+--------------------+------+--------+----+--------+----+--------------+--------+------------+------------+----+--------------------+------------+-------------+--------------------+----+-----------+\n",
      "|  0|         3|10508693|   HZ250496| 013XX S SAWYER AVE|0486|             BATTERY|DOMESTIC BATTERY ...|           APARTMENT|  True|    True|1022|    10.0|24.0|          29.0|     08B|   1154907.0|   1893681.0|2016|05/10/2016 03:56:...|41.864073157|-87.706818608|(41.864073157, -8...|  23|          3|\n",
      "|  1|        89|10508695|   HZ250409| 061XX S DREXEL AVE|0486|             BATTERY|DOMESTIC BATTERY ...|           RESIDENCE| False|    True| 313|     3.0|20.0|          42.0|     08B|   1183066.0|   1864330.0|2016|05/10/2016 03:56:...|41.782921527| -87.60436317|(41.782921527, -8...|  21|          3|\n",
      "|  2|       197|10508697|   HZ250503|053XX W CHICAGO AVE|0470|PUBLIC PEACE VIOL...|    RECKLESS CONDUCT|              STREET| False|   False|1524|    15.0|37.0|          25.0|      24|   1140789.0|   1904819.0|2016|05/10/2016 03:56:...|41.894908283|-87.758371958|(41.894908283, -8...|  23|          3|\n",
      "|  3|       673|10508698|   HZ250424|  049XX W FULTON ST|0460|             BATTERY|              SIMPLE|            SIDEWALK| False|   False|1532|    15.0|28.0|          25.0|     08B|   1143223.0|   1901475.0|2016|05/10/2016 03:56:...|41.885686845|-87.749515983|(41.885686845, -8...|  22|          3|\n",
      "|  4|       911|10508699|   HZ250455|  003XX N LOTUS AVE|0820|               THEFT|      $500 AND UNDER|           RESIDENCE| False|    True|1523|    15.0|28.0|          25.0|      06|   1139890.0|   1901675.0|2016|05/10/2016 03:56:...|41.886297242|-87.761750709|(41.886297242, -8...|  22|          3|\n",
      "+---+----------+--------+-----------+-------------------+----+--------------------+--------------------+--------------------+------+--------+----+--------+----+--------------+--------+------------+------------+----+--------------------+------------+-------------+--------------------+----+-----------+\n",
      "only showing top 5 rows"
     ]
    }
   ],
   "source": [
    "df.show(5)"
   ]
  },
  {
   "cell_type": "code",
   "execution_count": null,
   "metadata": {},
   "outputs": [],
   "source": []
  },
  {
   "cell_type": "code",
   "execution_count": null,
   "metadata": {},
   "outputs": [],
   "source": []
  },
  {
   "cell_type": "markdown",
   "metadata": {},
   "source": [
    "### Hours- statistical analysis"
   ]
  },
  {
   "cell_type": "code",
   "execution_count": 34,
   "metadata": {},
   "outputs": [
    {
     "data": {
      "application/vnd.jupyter.widget-view+json": {
       "model_id": "cb01320a430448e78ad94f4fd1a4897c",
       "version_major": 2,
       "version_minor": 0
      },
      "text/plain": [
       "VBox()"
      ]
     },
     "metadata": {},
     "output_type": "display_data"
    },
    {
     "data": {
      "application/vnd.jupyter.widget-view+json": {
       "model_id": "",
       "version_major": 2,
       "version_minor": 0
      },
      "text/plain": [
       "FloatProgress(value=0.0, bar_style='info', description='Progress:', layout=Layout(height='25px', width='50%'),…"
      ]
     },
     "metadata": {},
     "output_type": "display_data"
    },
    {
     "name": "stdout",
     "output_type": "stream",
     "text": [
      "+----+-----+\n",
      "|hour|count|\n",
      "+----+-----+\n",
      "|  12|83930|\n",
      "|   1|43771|\n",
      "|   6|24609|\n",
      "|   3|31048|\n",
      "|   4|23325|\n",
      "|   8|50637|\n",
      "|  11|67005|\n",
      "|  19|84193|\n",
      "|  23|61224|\n",
      "|  21|76543|\n",
      "+----+-----+\n",
      "only showing top 10 rows"
     ]
    }
   ],
   "source": [
    "# in each hour, how many crimes happened\n",
    "\n",
    "df.groupBy('hour').count().show(10)"
   ]
  },
  {
   "cell_type": "code",
   "execution_count": 39,
   "metadata": {},
   "outputs": [
    {
     "data": {
      "application/vnd.jupyter.widget-view+json": {
       "model_id": "df9902556636452cba04f8834bc481b4",
       "version_major": 2,
       "version_minor": 0
      },
      "text/plain": [
       "VBox()"
      ]
     },
     "metadata": {},
     "output_type": "display_data"
    },
    {
     "data": {
      "application/vnd.jupyter.widget-view+json": {
       "model_id": "",
       "version_major": 2,
       "version_minor": 0
      },
      "text/plain": [
       "FloatProgress(value=0.0, bar_style='info', description='Progress:', layout=Layout(height='25px', width='50%'),…"
      ]
     },
     "metadata": {},
     "output_type": "display_data"
    },
    {
     "name": "stdout",
     "output_type": "stream",
     "text": [
      "Package                    Version\n",
      "-------------------------- -------\n",
      "beautifulsoup4             4.9.0  \n",
      "boto                       2.49.0 \n",
      "cycler                     0.11.0 \n",
      "jmespath                   0.9.5  \n",
      "kiwisolver                 1.4.2  \n",
      "lxml                       4.5.0  \n",
      "matplotlib                 3.1.1  \n",
      "mysqlclient                1.4.2  \n",
      "nltk                       3.4.5  \n",
      "nose                       1.3.4  \n",
      "numpy                      1.16.5 \n",
      "pandas                     0.25.1 \n",
      "pip                        9.0.1  \n",
      "py-dateutil                2.2    \n",
      "pyparsing                  3.0.9  \n",
      "python-dateutil            2.8.2  \n",
      "python37-sagemaker-pyspark 1.3.0  \n",
      "pytz                       2019.3 \n",
      "PyYAML                     5.3.1  \n",
      "setuptools                 28.8.0 \n",
      "six                        1.13.0 \n",
      "soupsieve                  1.9.5  \n",
      "typing-extensions          4.2.0  \n",
      "wheel                      0.29.0 \n",
      "windmill                   1.6"
     ]
    }
   ],
   "source": [
    "sc.list_packages()"
   ]
  },
  {
   "cell_type": "code",
   "execution_count": null,
   "metadata": {},
   "outputs": [],
   "source": []
  },
  {
   "cell_type": "code",
   "execution_count": 40,
   "metadata": {},
   "outputs": [
    {
     "data": {
      "application/vnd.jupyter.widget-view+json": {
       "model_id": "0eae246b724e4a6da0b4eec6bcea9172",
       "version_major": 2,
       "version_minor": 0
      },
      "text/plain": [
       "VBox()"
      ]
     },
     "metadata": {},
     "output_type": "display_data"
    },
    {
     "data": {
      "application/vnd.jupyter.widget-view+json": {
       "model_id": "",
       "version_major": 2,
       "version_minor": 0
      },
      "text/plain": [
       "FloatProgress(value=0.0, bar_style='info', description='Progress:', layout=Layout(height='25px', width='50%'),…"
      ]
     },
     "metadata": {},
     "output_type": "display_data"
    }
   ],
   "source": [
    "# Storing in a pandas dataframe for visualisation \n",
    "# store in descending order\n",
    "hour_df = df.groupBy('hour').count().orderBy('count',ascending=False).toPandas()"
   ]
  },
  {
   "cell_type": "code",
   "execution_count": null,
   "metadata": {},
   "outputs": [],
   "source": []
  },
  {
   "cell_type": "code",
   "execution_count": null,
   "metadata": {},
   "outputs": [],
   "source": []
  },
  {
   "cell_type": "code",
   "execution_count": 41,
   "metadata": {},
   "outputs": [
    {
     "data": {
      "application/vnd.jupyter.widget-view+json": {
       "model_id": "c9142884a9084e6f8b09cd685859a558",
       "version_major": 2,
       "version_minor": 0
      },
      "text/plain": [
       "VBox()"
      ]
     },
     "metadata": {},
     "output_type": "display_data"
    },
    {
     "data": {
      "application/vnd.jupyter.widget-view+json": {
       "model_id": "",
       "version_major": 2,
       "version_minor": 0
      },
      "text/plain": [
       "FloatProgress(value=0.0, bar_style='info', description='Progress:', layout=Layout(height='25px', width='50%'),…"
      ]
     },
     "metadata": {},
     "output_type": "display_data"
    },
    {
     "name": "stdout",
     "output_type": "stream",
     "text": [
      "   hour  count\n",
      "0    19  84193\n",
      "1    12  83930\n",
      "2    18  82414\n",
      "3    20  80826\n",
      "4    15  79930\n",
      "5    21  76543\n",
      "6    16  76065\n",
      "7    22  75824\n",
      "8    17  75556\n",
      "9    14  73698"
     ]
    }
   ],
   "source": [
    "# print 10 rows\n",
    "hour_df.head(10)"
   ]
  },
  {
   "cell_type": "code",
   "execution_count": null,
   "metadata": {},
   "outputs": [],
   "source": []
  },
  {
   "cell_type": "code",
   "execution_count": null,
   "metadata": {},
   "outputs": [],
   "source": []
  },
  {
   "cell_type": "code",
   "execution_count": 42,
   "metadata": {},
   "outputs": [
    {
     "data": {
      "application/vnd.jupyter.widget-view+json": {
       "model_id": "4514d41b4a954ab882889f28d8503bf0",
       "version_major": 2,
       "version_minor": 0
      },
      "text/plain": [
       "VBox()"
      ]
     },
     "metadata": {},
     "output_type": "display_data"
    },
    {
     "data": {
      "application/vnd.jupyter.widget-view+json": {
       "model_id": "",
       "version_major": 2,
       "version_minor": 0
      },
      "text/plain": [
       "FloatProgress(value=0.0, bar_style='info', description='Progress:', layout=Layout(height='25px', width='50%'),…"
      ]
     },
     "metadata": {},
     "output_type": "display_data"
    }
   ],
   "source": [
    "# import matplotlib \n",
    "import matplotlib.pyplot as plt"
   ]
  },
  {
   "cell_type": "code",
   "execution_count": null,
   "metadata": {},
   "outputs": [],
   "source": []
  },
  {
   "cell_type": "code",
   "execution_count": null,
   "metadata": {},
   "outputs": [],
   "source": []
  },
  {
   "cell_type": "markdown",
   "metadata": {},
   "source": [
    "### What time of the day are criminals the busiest?"
   ]
  },
  {
   "cell_type": "code",
   "execution_count": 43,
   "metadata": {},
   "outputs": [
    {
     "data": {
      "application/vnd.jupyter.widget-view+json": {
       "model_id": "74a98e55dc7f44a79ef6a88f31becdc9",
       "version_major": 2,
       "version_minor": 0
      },
      "text/plain": [
       "VBox()"
      ]
     },
     "metadata": {},
     "output_type": "display_data"
    },
    {
     "data": {
      "application/vnd.jupyter.widget-view+json": {
       "model_id": "",
       "version_major": 2,
       "version_minor": 0
      },
      "text/plain": [
       "FloatProgress(value=0.0, bar_style='info', description='Progress:', layout=Layout(height='25px', width='50%'),…"
      ]
     },
     "metadata": {},
     "output_type": "display_data"
    },
    {
     "data": {
      "image/png": "[encoded data removed]",
      "text/plain": [
       "<IPython.core.display.Image object>"
      ]
     },
     "metadata": {},
     "output_type": "display_data"
    }
   ],
   "source": [
    "\n",
    "# create the plot\n",
    "plt.figure(figsize=(14,10))\n",
    "\n",
    "# Plot Crime data for hour\n",
    "hour_df.plot(x='hour', y='count', kind='bar', color='blue')\n",
    "\n",
    "plt.title('Amount of Crimes by Hour')\n",
    "plt.ylabel('Amount of Crimes')\n",
    "plt.xlabel('Hour')\n",
    "\n",
    "\n",
    "# display the plot\n",
    "%matplot plt\n"
   ]
  },
  {
   "cell_type": "code",
   "execution_count": null,
   "metadata": {},
   "outputs": [],
   "source": []
  },
  {
   "cell_type": "markdown",
   "metadata": {},
   "source": [
    "### Day of week statistical analysis"
   ]
  },
  {
   "cell_type": "code",
   "execution_count": 44,
   "metadata": {},
   "outputs": [
    {
     "data": {
      "application/vnd.jupyter.widget-view+json": {
       "model_id": "d356a03d078d49feb2285113b36b902f",
       "version_major": 2,
       "version_minor": 0
      },
      "text/plain": [
       "VBox()"
      ]
     },
     "metadata": {},
     "output_type": "display_data"
    },
    {
     "data": {
      "application/vnd.jupyter.widget-view+json": {
       "model_id": "",
       "version_major": 2,
       "version_minor": 0
      },
      "text/plain": [
       "FloatProgress(value=0.0, bar_style='info', description='Progress:', layout=Layout(height='25px', width='50%'),…"
      ]
     },
     "metadata": {},
     "output_type": "display_data"
    },
    {
     "name": "stdout",
     "output_type": "stream",
     "text": [
      "+-----------+------+\n",
      "|day_of_week| count|\n",
      "+-----------+------+\n",
      "|          1|202212|\n",
      "|          6|218643|\n",
      "|          3|206129|\n",
      "|          4|208374|\n",
      "|          5|205851|\n",
      "|          2|205762|\n",
      "|          7|209743|\n",
      "+-----------+------+"
     ]
    }
   ],
   "source": [
    "df.groupBy(\"day_of_week\").count().show()\n"
   ]
  },
  {
   "cell_type": "code",
   "execution_count": null,
   "metadata": {},
   "outputs": [],
   "source": []
  },
  {
   "cell_type": "code",
   "execution_count": 46,
   "metadata": {},
   "outputs": [
    {
     "data": {
      "application/vnd.jupyter.widget-view+json": {
       "model_id": "a1b77ee7c8cf431391a6a9b930344454",
       "version_major": 2,
       "version_minor": 0
      },
      "text/plain": [
       "VBox()"
      ]
     },
     "metadata": {},
     "output_type": "display_data"
    },
    {
     "data": {
      "application/vnd.jupyter.widget-view+json": {
       "model_id": "",
       "version_major": 2,
       "version_minor": 0
      },
      "text/plain": [
       "FloatProgress(value=0.0, bar_style='info', description='Progress:', layout=Layout(height='25px', width='50%'),…"
      ]
     },
     "metadata": {},
     "output_type": "display_data"
    }
   ],
   "source": [
    "dayofweek_df = df.groupBy(\"day_of_week\").count().orderBy(\"count\", ascending = False).toPandas()"
   ]
  },
  {
   "cell_type": "code",
   "execution_count": null,
   "metadata": {},
   "outputs": [],
   "source": []
  },
  {
   "cell_type": "code",
   "execution_count": 47,
   "metadata": {},
   "outputs": [
    {
     "data": {
      "application/vnd.jupyter.widget-view+json": {
       "model_id": "8802709e83464aab97f6aec3f0d55272",
       "version_major": 2,
       "version_minor": 0
      },
      "text/plain": [
       "VBox()"
      ]
     },
     "metadata": {},
     "output_type": "display_data"
    },
    {
     "data": {
      "application/vnd.jupyter.widget-view+json": {
       "model_id": "",
       "version_major": 2,
       "version_minor": 0
      },
      "text/plain": [
       "FloatProgress(value=0.0, bar_style='info', description='Progress:', layout=Layout(height='25px', width='50%'),…"
      ]
     },
     "metadata": {},
     "output_type": "display_data"
    },
    {
     "name": "stdout",
     "output_type": "stream",
     "text": [
      "   day_of_week   count\n",
      "0            6  218643\n",
      "1            7  209743\n",
      "2            4  208374\n",
      "3            3  206129\n",
      "4            5  205851\n",
      "5            2  205762\n",
      "6            1  202212"
     ]
    }
   ],
   "source": [
    "dayofweek_df.head(7)"
   ]
  },
  {
   "cell_type": "code",
   "execution_count": null,
   "metadata": {},
   "outputs": [],
   "source": []
  },
  {
   "cell_type": "markdown",
   "metadata": {},
   "source": [
    "### which day of the week ciminals are busiest?"
   ]
  },
  {
   "cell_type": "markdown",
   "metadata": {},
   "source": [
    "(1- Sunday , 2- Monday …… 7- Saturday)"
   ]
  },
  {
   "cell_type": "code",
   "execution_count": 48,
   "metadata": {
    "scrolled": false
   },
   "outputs": [
    {
     "data": {
      "application/vnd.jupyter.widget-view+json": {
       "model_id": "ae2d725e711e44f88bb56c887a2aaa77",
       "version_major": 2,
       "version_minor": 0
      },
      "text/plain": [
       "VBox()"
      ]
     },
     "metadata": {},
     "output_type": "display_data"
    },
    {
     "data": {
      "application/vnd.jupyter.widget-view+json": {
       "model_id": "",
       "version_major": 2,
       "version_minor": 0
      },
      "text/plain": [
       "FloatProgress(value=0.0, bar_style='info', description='Progress:', layout=Layout(height='25px', width='50%'),…"
      ]
     },
     "metadata": {},
     "output_type": "display_data"
    },
    {
     "data": {
      "image/png": "[encoded data removed]",
      "text/plain": [
       "<IPython.core.display.Image object>"
      ]
     },
     "metadata": {},
     "output_type": "display_data"
    }
   ],
   "source": [
    "# create the plot\n",
    "plt.figure(figsize=(14,10))\n",
    "\n",
    "\n",
    "dayofweek_df.plot(x = 'day_of_week', y = 'count', kind='bar', color = \"pink\")\n",
    "\n",
    "\n",
    "plt.title('Amount of Crimes by day_of_week')\n",
    "plt.ylabel('Amount of Crimes')\n",
    "plt.xlabel('day_of_week')\n",
    "\n",
    "\n",
    "# display the plot\n",
    "%matplot plt\n"
   ]
  },
  {
   "cell_type": "code",
   "execution_count": null,
   "metadata": {},
   "outputs": [],
   "source": []
  },
  {
   "cell_type": "code",
   "execution_count": null,
   "metadata": {},
   "outputs": [],
   "source": []
  },
  {
   "cell_type": "markdown",
   "metadata": {},
   "source": [
    "### year statistical analysis"
   ]
  },
  {
   "cell_type": "code",
   "execution_count": 49,
   "metadata": {
    "scrolled": true
   },
   "outputs": [
    {
     "data": {
      "application/vnd.jupyter.widget-view+json": {
       "model_id": "f98dff1c7f454b85a1df69cb81fcd70a",
       "version_major": 2,
       "version_minor": 0
      },
      "text/plain": [
       "VBox()"
      ]
     },
     "metadata": {},
     "output_type": "display_data"
    },
    {
     "data": {
      "application/vnd.jupyter.widget-view+json": {
       "model_id": "",
       "version_major": 2,
       "version_minor": 0
      },
      "text/plain": [
       "FloatProgress(value=0.0, bar_style='info', description='Progress:', layout=Layout(height='25px', width='50%'),…"
      ]
     },
     "metadata": {},
     "output_type": "display_data"
    },
    {
     "name": "stdout",
     "output_type": "stream",
     "text": [
      "+----+------+\n",
      "|Year| count|\n",
      "+----+------+\n",
      "|2014|274527|\n",
      "|2015|262995|\n",
      "|2016|265462|\n",
      "|2012|335670|\n",
      "|2017| 11357|\n",
      "|2013|306703|\n",
      "+----+------+"
     ]
    }
   ],
   "source": [
    "df.groupBy(\"Year\").count().show()\n"
   ]
  },
  {
   "cell_type": "code",
   "execution_count": null,
   "metadata": {},
   "outputs": [],
   "source": []
  },
  {
   "cell_type": "code",
   "execution_count": 50,
   "metadata": {},
   "outputs": [
    {
     "data": {
      "application/vnd.jupyter.widget-view+json": {
       "model_id": "c6339167f2214dfc8dfacd452b2d54cd",
       "version_major": 2,
       "version_minor": 0
      },
      "text/plain": [
       "VBox()"
      ]
     },
     "metadata": {},
     "output_type": "display_data"
    },
    {
     "data": {
      "application/vnd.jupyter.widget-view+json": {
       "model_id": "",
       "version_major": 2,
       "version_minor": 0
      },
      "text/plain": [
       "FloatProgress(value=0.0, bar_style='info', description='Progress:', layout=Layout(height='25px', width='50%'),…"
      ]
     },
     "metadata": {},
     "output_type": "display_data"
    }
   ],
   "source": [
    "year_df = df.groupBy(\"year\").count().orderBy(\"count\", ascending = False).toPandas()"
   ]
  },
  {
   "cell_type": "code",
   "execution_count": null,
   "metadata": {},
   "outputs": [],
   "source": []
  },
  {
   "cell_type": "code",
   "execution_count": 51,
   "metadata": {},
   "outputs": [
    {
     "data": {
      "application/vnd.jupyter.widget-view+json": {
       "model_id": "3fcd384db9f349bd906c8ffd01413c09",
       "version_major": 2,
       "version_minor": 0
      },
      "text/plain": [
       "VBox()"
      ]
     },
     "metadata": {},
     "output_type": "display_data"
    },
    {
     "data": {
      "application/vnd.jupyter.widget-view+json": {
       "model_id": "",
       "version_major": 2,
       "version_minor": 0
      },
      "text/plain": [
       "FloatProgress(value=0.0, bar_style='info', description='Progress:', layout=Layout(height='25px', width='50%'),…"
      ]
     },
     "metadata": {},
     "output_type": "display_data"
    },
    {
     "name": "stdout",
     "output_type": "stream",
     "text": [
      "   year   count\n",
      "0  2012  335670\n",
      "1  2013  306703\n",
      "2  2014  274527\n",
      "3  2016  265462\n",
      "4  2015  262995\n",
      "5  2017   11357"
     ]
    }
   ],
   "source": [
    "year_df.head(7)"
   ]
  },
  {
   "cell_type": "code",
   "execution_count": null,
   "metadata": {},
   "outputs": [],
   "source": []
  },
  {
   "cell_type": "markdown",
   "metadata": {},
   "source": [
    "### how no of crimes are changing over the years"
   ]
  },
  {
   "cell_type": "code",
   "execution_count": 52,
   "metadata": {},
   "outputs": [
    {
     "data": {
      "application/vnd.jupyter.widget-view+json": {
       "model_id": "a24a7df7077f454b92f5cb65cd749296",
       "version_major": 2,
       "version_minor": 0
      },
      "text/plain": [
       "VBox()"
      ]
     },
     "metadata": {},
     "output_type": "display_data"
    },
    {
     "data": {
      "application/vnd.jupyter.widget-view+json": {
       "model_id": "",
       "version_major": 2,
       "version_minor": 0
      },
      "text/plain": [
       "FloatProgress(value=0.0, bar_style='info', description='Progress:', layout=Layout(height='25px', width='50%'),…"
      ]
     },
     "metadata": {},
     "output_type": "display_data"
    },
    {
     "data": {
      "image/png": "[encoded data removed]",
      "text/plain": [
       "<IPython.core.display.Image object>"
      ]
     },
     "metadata": {},
     "output_type": "display_data"
    }
   ],
   "source": [
    "\n",
    "# create the plot\n",
    "plt.figure(figsize=(14,10))\n",
    "\n",
    "\n",
    "year_df.plot(x = 'year', y = 'count', kind='bar', color = \"red\")\n",
    "\n",
    "\n",
    "plt.title('Amount of Crimes by year')\n",
    "plt.ylabel('Amount of Crimes')\n",
    "plt.xlabel('year')\n",
    "\n",
    "\n",
    "# display the plot\n",
    "%matplot plt\n"
   ]
  },
  {
   "cell_type": "code",
   "execution_count": null,
   "metadata": {},
   "outputs": [],
   "source": []
  },
  {
   "cell_type": "code",
   "execution_count": null,
   "metadata": {},
   "outputs": [],
   "source": []
  },
  {
   "cell_type": "markdown",
   "metadata": {},
   "source": [
    "### Primary Type statistical analysis"
   ]
  },
  {
   "cell_type": "code",
   "execution_count": 53,
   "metadata": {},
   "outputs": [
    {
     "data": {
      "application/vnd.jupyter.widget-view+json": {
       "model_id": "4964c547093242278332b04382f25604",
       "version_major": 2,
       "version_minor": 0
      },
      "text/plain": [
       "VBox()"
      ]
     },
     "metadata": {},
     "output_type": "display_data"
    },
    {
     "data": {
      "application/vnd.jupyter.widget-view+json": {
       "model_id": "",
       "version_major": 2,
       "version_minor": 0
      },
      "text/plain": [
       "FloatProgress(value=0.0, bar_style='info', description='Progress:', layout=Layout(height='25px', width='50%'),…"
      ]
     },
     "metadata": {},
     "output_type": "display_data"
    },
    {
     "name": "stdout",
     "output_type": "stream",
     "text": [
      "+--------------------+------+\n",
      "|        Primary Type| count|\n",
      "+--------------------+------+\n",
      "|           OBSCENITY|   187|\n",
      "|             BATTERY|263700|\n",
      "|            HOMICIDE|  2649|\n",
      "|         SEX OFFENSE|  4885|\n",
      "|PUBLIC PEACE VIOL...| 13122|\n",
      "|             ASSAULT| 91289|\n",
      "| CRIM SEXUAL ASSAULT|  6823|\n",
      "|  DECEPTIVE PRACTICE| 75495|\n",
      "|            BURGLARY| 83397|\n",
      "|INTERFERENCE WITH...|  6195|\n",
      "|            STALKING|   828|\n",
      "|NON-CRIMINAL (SUB...|     4|\n",
      "|            GAMBLING|  2212|\n",
      "|   CRIMINAL TRESPASS| 36912|\n",
      "| MOTOR VEHICLE THEFT| 61138|\n",
      "|CONCEALED CARRY L...|    90|\n",
      "|        NON-CRIMINAL|    93|\n",
      "|               THEFT|329460|\n",
      "|             ROBBERY| 57313|\n",
      "|     CRIMINAL DAMAGE|155455|\n",
      "+--------------------+------+\n",
      "only showing top 20 rows"
     ]
    }
   ],
   "source": [
    "df.groupBy(\"Primary Type\").count().show()"
   ]
  },
  {
   "cell_type": "code",
   "execution_count": null,
   "metadata": {},
   "outputs": [],
   "source": []
  },
  {
   "cell_type": "code",
   "execution_count": 54,
   "metadata": {},
   "outputs": [
    {
     "data": {
      "application/vnd.jupyter.widget-view+json": {
       "model_id": "3cdd27d0c4b94792acedb2eeb133fafb",
       "version_major": 2,
       "version_minor": 0
      },
      "text/plain": [
       "VBox()"
      ]
     },
     "metadata": {},
     "output_type": "display_data"
    },
    {
     "data": {
      "application/vnd.jupyter.widget-view+json": {
       "model_id": "",
       "version_major": 2,
       "version_minor": 0
      },
      "text/plain": [
       "FloatProgress(value=0.0, bar_style='info', description='Progress:', layout=Layout(height='25px', width='50%'),…"
      ]
     },
     "metadata": {},
     "output_type": "display_data"
    }
   ],
   "source": [
    "primarytype_df = df.groupBy(\"Primary Type\").count().orderBy(\"count\", ascending = False).toPandas()"
   ]
  },
  {
   "cell_type": "code",
   "execution_count": null,
   "metadata": {},
   "outputs": [],
   "source": []
  },
  {
   "cell_type": "code",
   "execution_count": 55,
   "metadata": {},
   "outputs": [
    {
     "data": {
      "application/vnd.jupyter.widget-view+json": {
       "model_id": "f7d95abe0ff54adb8b6e3b626e76f09e",
       "version_major": 2,
       "version_minor": 0
      },
      "text/plain": [
       "VBox()"
      ]
     },
     "metadata": {},
     "output_type": "display_data"
    },
    {
     "data": {
      "application/vnd.jupyter.widget-view+json": {
       "model_id": "",
       "version_major": 2,
       "version_minor": 0
      },
      "text/plain": [
       "FloatProgress(value=0.0, bar_style='info', description='Progress:', layout=Layout(height='25px', width='50%'),…"
      ]
     },
     "metadata": {},
     "output_type": "display_data"
    },
    {
     "name": "stdout",
     "output_type": "stream",
     "text": [
      "      Primary Type   count\n",
      "0            THEFT  329460\n",
      "1          BATTERY  263700\n",
      "2  CRIMINAL DAMAGE  155455\n",
      "3        NARCOTICS  135240\n",
      "4          ASSAULT   91289"
     ]
    }
   ],
   "source": [
    "primarytype_df.head()"
   ]
  },
  {
   "cell_type": "code",
   "execution_count": null,
   "metadata": {},
   "outputs": [],
   "source": []
  },
  {
   "cell_type": "code",
   "execution_count": null,
   "metadata": {},
   "outputs": [],
   "source": []
  },
  {
   "cell_type": "code",
   "execution_count": null,
   "metadata": {},
   "outputs": [],
   "source": []
  },
  {
   "cell_type": "markdown",
   "metadata": {},
   "source": [
    "### Primary Types of crime which is mostly reported "
   ]
  },
  {
   "cell_type": "code",
   "execution_count": 56,
   "metadata": {},
   "outputs": [
    {
     "data": {
      "application/vnd.jupyter.widget-view+json": {
       "model_id": "63f5dfd1959d4fe78357e2d610e61e39",
       "version_major": 2,
       "version_minor": 0
      },
      "text/plain": [
       "VBox()"
      ]
     },
     "metadata": {},
     "output_type": "display_data"
    },
    {
     "data": {
      "application/vnd.jupyter.widget-view+json": {
       "model_id": "",
       "version_major": 2,
       "version_minor": 0
      },
      "text/plain": [
       "FloatProgress(value=0.0, bar_style='info', description='Progress:', layout=Layout(height='25px', width='50%'),…"
      ]
     },
     "metadata": {},
     "output_type": "display_data"
    },
    {
     "data": {
      "image/png": "[encoded data removed]",
      "text/plain": [
       "<IPython.core.display.Image object>"
      ]
     },
     "metadata": {},
     "output_type": "display_data"
    }
   ],
   "source": [
    "# create the plot\n",
    "\n",
    "\n",
    "primarytype_df.head(14).plot(x = 'Primary Type', y = 'count', kind='barh',figsize=(20,20), color = \"#b35900\")\n",
    "\n",
    "\n",
    "\n",
    "plt.title('Amount of Crimes by Primary Type')\n",
    "plt.ylabel('Amount of Crimes')\n",
    "plt.xlabel('Primary Type')\n",
    "\n",
    "# display the plot\n",
    "%matplot plt\n",
    "\n"
   ]
  },
  {
   "cell_type": "code",
   "execution_count": null,
   "metadata": {},
   "outputs": [],
   "source": []
  },
  {
   "cell_type": "code",
   "execution_count": null,
   "metadata": {},
   "outputs": [],
   "source": []
  },
  {
   "cell_type": "markdown",
   "metadata": {},
   "source": [
    "### Location Description statistical analysis"
   ]
  },
  {
   "cell_type": "code",
   "execution_count": 57,
   "metadata": {},
   "outputs": [
    {
     "data": {
      "application/vnd.jupyter.widget-view+json": {
       "model_id": "e941a70c737f4e6ca0a8184aaf057825",
       "version_major": 2,
       "version_minor": 0
      },
      "text/plain": [
       "VBox()"
      ]
     },
     "metadata": {},
     "output_type": "display_data"
    },
    {
     "data": {
      "application/vnd.jupyter.widget-view+json": {
       "model_id": "",
       "version_major": 2,
       "version_minor": 0
      },
      "text/plain": [
       "FloatProgress(value=0.0, bar_style='info', description='Progress:', layout=Layout(height='25px', width='50%'),…"
      ]
     },
     "metadata": {},
     "output_type": "display_data"
    },
    {
     "name": "stdout",
     "output_type": "stream",
     "text": [
      "+--------------------+------+\n",
      "|Location Description| count|\n",
      "+--------------------+------+\n",
      "|            CAR WASH|   568|\n",
      "|         CTA STATION|  1988|\n",
      "|                null|  1658|\n",
      "|  GROCERY FOOD STORE| 15999|\n",
      "|   RAILROAD PROPERTY|     1|\n",
      "|            HOSPITAL|     2|\n",
      "|LAKEFRONT/WATERFR...|   337|\n",
      "|ATM (AUTOMATIC TE...|  2589|\n",
      "|       ATHLETIC CLUB|  2824|\n",
      "|             LIBRARY|  1370|\n",
      "|               HOTEL|     3|\n",
      "|               TRUCK|     1|\n",
      "|        CTA BUS STOP|  3600|\n",
      "|       CHA APARTMENT|  4134|\n",
      "|                YARD|    69|\n",
      "|           RESIDENCE|233530|\n",
      "|     BOAT/WATERCRAFT|   183|\n",
      "|AIRPORT BUILDING ...|   414|\n",
      "|HOSPITAL BUILDING...|  4970|\n",
      "|       PARK PROPERTY| 12270|\n",
      "+--------------------+------+\n",
      "only showing top 20 rows"
     ]
    }
   ],
   "source": [
    "df.groupBy(\"Location Description\").count().show()\n"
   ]
  },
  {
   "cell_type": "code",
   "execution_count": null,
   "metadata": {},
   "outputs": [],
   "source": []
  },
  {
   "cell_type": "code",
   "execution_count": 58,
   "metadata": {},
   "outputs": [
    {
     "data": {
      "application/vnd.jupyter.widget-view+json": {
       "model_id": "ad23b927b3674d68b6955505423ed2a1",
       "version_major": 2,
       "version_minor": 0
      },
      "text/plain": [
       "VBox()"
      ]
     },
     "metadata": {},
     "output_type": "display_data"
    },
    {
     "data": {
      "application/vnd.jupyter.widget-view+json": {
       "model_id": "",
       "version_major": 2,
       "version_minor": 0
      },
      "text/plain": [
       "FloatProgress(value=0.0, bar_style='info', description='Progress:', layout=Layout(height='25px', width='50%'),…"
      ]
     },
     "metadata": {},
     "output_type": "display_data"
    }
   ],
   "source": [
    "location_df = df.groupBy(\"Location Description\").count().orderBy(\"count\", ascending = False).toPandas()"
   ]
  },
  {
   "cell_type": "code",
   "execution_count": null,
   "metadata": {},
   "outputs": [],
   "source": []
  },
  {
   "cell_type": "code",
   "execution_count": 59,
   "metadata": {},
   "outputs": [
    {
     "data": {
      "application/vnd.jupyter.widget-view+json": {
       "model_id": "052be8cd89454eea8b19c9b64db630db",
       "version_major": 2,
       "version_minor": 0
      },
      "text/plain": [
       "VBox()"
      ]
     },
     "metadata": {},
     "output_type": "display_data"
    },
    {
     "data": {
      "application/vnd.jupyter.widget-view+json": {
       "model_id": "",
       "version_major": 2,
       "version_minor": 0
      },
      "text/plain": [
       "FloatProgress(value=0.0, bar_style='info', description='Progress:', layout=Layout(height='25px', width='50%'),…"
      ]
     },
     "metadata": {},
     "output_type": "display_data"
    },
    {
     "name": "stdout",
     "output_type": "stream",
     "text": [
      "  Location Description   count\n",
      "0               STREET  330471\n",
      "1            RESIDENCE  233530\n",
      "2            APARTMENT  185023\n",
      "3             SIDEWALK  160891\n",
      "4                OTHER   55774"
     ]
    }
   ],
   "source": [
    "location_df.head()"
   ]
  },
  {
   "cell_type": "code",
   "execution_count": null,
   "metadata": {},
   "outputs": [],
   "source": []
  },
  {
   "cell_type": "code",
   "execution_count": null,
   "metadata": {},
   "outputs": [],
   "source": []
  },
  {
   "cell_type": "markdown",
   "metadata": {},
   "source": [
    "### Top locations for most number of crime"
   ]
  },
  {
   "cell_type": "code",
   "execution_count": 60,
   "metadata": {},
   "outputs": [],
   "source": [
    "%matplotlib inline"
   ]
  },
  {
   "cell_type": "code",
   "execution_count": 61,
   "metadata": {},
   "outputs": [
    {
     "data": {
      "application/vnd.jupyter.widget-view+json": {
       "model_id": "35adcce01b7340688c48d017a363d2a8",
       "version_major": 2,
       "version_minor": 0
      },
      "text/plain": [
       "VBox()"
      ]
     },
     "metadata": {},
     "output_type": "display_data"
    },
    {
     "data": {
      "application/vnd.jupyter.widget-view+json": {
       "model_id": "",
       "version_major": 2,
       "version_minor": 0
      },
      "text/plain": [
       "FloatProgress(value=0.0, bar_style='info', description='Progress:', layout=Layout(height='25px', width='50%'),…"
      ]
     },
     "metadata": {},
     "output_type": "display_data"
    },
    {
     "data": {
      "image/png": "[encoded data removed]",
      "text/plain": [
       "<IPython.core.display.Image object>"
      ]
     },
     "metadata": {},
     "output_type": "display_data"
    }
   ],
   "source": [
    "# create the plot\n",
    "\n",
    "\n",
    "location_df.head(20).plot(x = 'Location Description', y = 'count', kind='barh',figsize=(20,20), color = \"green\")\n",
    "\n",
    "\n",
    "plt.title('Amount of Crimes by Location Description')\n",
    "plt.ylabel('Amount of Crimes')\n",
    "plt.xlabel('Location Description')\n",
    "\n",
    "\n",
    "# display the plot\n",
    "%matplot plt\n"
   ]
  },
  {
   "cell_type": "code",
   "execution_count": null,
   "metadata": {},
   "outputs": [],
   "source": []
  },
  {
   "cell_type": "code",
   "execution_count": null,
   "metadata": {},
   "outputs": [],
   "source": []
  },
  {
   "cell_type": "code",
   "execution_count": null,
   "metadata": {},
   "outputs": [],
   "source": []
  },
  {
   "cell_type": "markdown",
   "metadata": {},
   "source": [
    "### How many arrests happened"
   ]
  },
  {
   "cell_type": "code",
   "execution_count": 65,
   "metadata": {},
   "outputs": [
    {
     "data": {
      "application/vnd.jupyter.widget-view+json": {
       "model_id": "2306167ddb4c4b0fb628a9298bb1d5c5",
       "version_major": 2,
       "version_minor": 0
      },
      "text/plain": [
       "VBox()"
      ]
     },
     "metadata": {},
     "output_type": "display_data"
    },
    {
     "data": {
      "application/vnd.jupyter.widget-view+json": {
       "model_id": "",
       "version_major": 2,
       "version_minor": 0
      },
      "text/plain": [
       "FloatProgress(value=0.0, bar_style='info', description='Progress:', layout=Layout(height='25px', width='50%'),…"
      ]
     },
     "metadata": {},
     "output_type": "display_data"
    },
    {
     "name": "stdout",
     "output_type": "stream",
     "text": [
      "+------+-------+\n",
      "|Arrest|  count|\n",
      "+------+-------+\n",
      "|  True| 377472|\n",
      "| False|1079242|\n",
      "+------+-------+"
     ]
    }
   ],
   "source": [
    "df.groupBy('Arrest').count().show()"
   ]
  },
  {
   "cell_type": "code",
   "execution_count": 66,
   "metadata": {},
   "outputs": [
    {
     "data": {
      "application/vnd.jupyter.widget-view+json": {
       "model_id": "fdc9ac490cd1411a8a89ffc1e142dc92",
       "version_major": 2,
       "version_minor": 0
      },
      "text/plain": [
       "VBox()"
      ]
     },
     "metadata": {},
     "output_type": "display_data"
    },
    {
     "data": {
      "application/vnd.jupyter.widget-view+json": {
       "model_id": "",
       "version_major": 2,
       "version_minor": 0
      },
      "text/plain": [
       "FloatProgress(value=0.0, bar_style='info', description='Progress:', layout=Layout(height='25px', width='50%'),…"
      ]
     },
     "metadata": {},
     "output_type": "display_data"
    },
    {
     "name": "stdout",
     "output_type": "stream",
     "text": [
      "   Year   count\n",
      "0  2012  335670\n",
      "1  2013  306703\n",
      "2  2014  274527\n",
      "3  2016  265462\n",
      "4  2015  262995"
     ]
    }
   ],
   "source": [
    "year_df = df.groupBy(\"Year\").count().orderBy(\"count\", ascending = False).toPandas()\n",
    "year_df.head()"
   ]
  },
  {
   "cell_type": "code",
   "execution_count": null,
   "metadata": {},
   "outputs": [],
   "source": []
  },
  {
   "cell_type": "markdown",
   "metadata": {},
   "source": [
    "### In what percentage of crime arrests happened?"
   ]
  },
  {
   "cell_type": "code",
   "execution_count": 67,
   "metadata": {},
   "outputs": [
    {
     "data": {
      "application/vnd.jupyter.widget-view+json": {
       "model_id": "4d91f9715c4943d9ae8417b312ceee03",
       "version_major": 2,
       "version_minor": 0
      },
      "text/plain": [
       "VBox()"
      ]
     },
     "metadata": {},
     "output_type": "display_data"
    },
    {
     "data": {
      "application/vnd.jupyter.widget-view+json": {
       "model_id": "",
       "version_major": 2,
       "version_minor": 0
      },
      "text/plain": [
       "FloatProgress(value=0.0, bar_style='info', description='Progress:', layout=Layout(height='25px', width='50%'),…"
      ]
     },
     "metadata": {},
     "output_type": "display_data"
    },
    {
     "name": "stdout",
     "output_type": "stream",
     "text": [
      "25.912567600778193"
     ]
    }
   ],
   "source": [
    "df.filter(df[\"Arrest\"]==True).count()/df.count() * 100"
   ]
  },
  {
   "cell_type": "code",
   "execution_count": null,
   "metadata": {},
   "outputs": [],
   "source": []
  },
  {
   "cell_type": "markdown",
   "metadata": {},
   "source": [
    "### How many crimes are domestic"
   ]
  },
  {
   "cell_type": "code",
   "execution_count": 68,
   "metadata": {},
   "outputs": [
    {
     "data": {
      "application/vnd.jupyter.widget-view+json": {
       "model_id": "847dd380cf4f4ed786b0cbe343a65ee4",
       "version_major": 2,
       "version_minor": 0
      },
      "text/plain": [
       "VBox()"
      ]
     },
     "metadata": {},
     "output_type": "display_data"
    },
    {
     "data": {
      "application/vnd.jupyter.widget-view+json": {
       "model_id": "",
       "version_major": 2,
       "version_minor": 0
      },
      "text/plain": [
       "FloatProgress(value=0.0, bar_style='info', description='Progress:', layout=Layout(height='25px', width='50%'),…"
      ]
     },
     "metadata": {},
     "output_type": "display_data"
    },
    {
     "name": "stdout",
     "output_type": "stream",
     "text": [
      "+--------+-------+\n",
      "|Domestic|  count|\n",
      "+--------+-------+\n",
      "|    True| 220054|\n",
      "|   False|1236660|\n",
      "+--------+-------+"
     ]
    }
   ],
   "source": [
    "df.groupBy(\"Domestic\").count().show()"
   ]
  },
  {
   "cell_type": "code",
   "execution_count": null,
   "metadata": {},
   "outputs": [],
   "source": []
  },
  {
   "cell_type": "code",
   "execution_count": null,
   "metadata": {},
   "outputs": [],
   "source": []
  },
  {
   "cell_type": "code",
   "execution_count": null,
   "metadata": {},
   "outputs": [],
   "source": []
  },
  {
   "cell_type": "code",
   "execution_count": null,
   "metadata": {},
   "outputs": [],
   "source": []
  },
  {
   "cell_type": "markdown",
   "metadata": {},
   "source": [
    "### Calculating percentage of domestic crime"
   ]
  },
  {
   "cell_type": "code",
   "execution_count": 69,
   "metadata": {},
   "outputs": [
    {
     "data": {
      "application/vnd.jupyter.widget-view+json": {
       "model_id": "171c824ccca540fab815c28cc3d82d69",
       "version_major": 2,
       "version_minor": 0
      },
      "text/plain": [
       "VBox()"
      ]
     },
     "metadata": {},
     "output_type": "display_data"
    },
    {
     "data": {
      "application/vnd.jupyter.widget-view+json": {
       "model_id": "",
       "version_major": 2,
       "version_minor": 0
      },
      "text/plain": [
       "FloatProgress(value=0.0, bar_style='info', description='Progress:', layout=Layout(height='25px', width='50%'),…"
      ]
     },
     "metadata": {},
     "output_type": "display_data"
    },
    {
     "name": "stdout",
     "output_type": "stream",
     "text": [
      "15.106191057407287"
     ]
    }
   ],
   "source": [
    "df.filter(df[\"Domestic\"]==True).count()/df.count() * 100"
   ]
  },
  {
   "cell_type": "code",
   "execution_count": null,
   "metadata": {},
   "outputs": [],
   "source": []
  },
  {
   "cell_type": "code",
   "execution_count": null,
   "metadata": {},
   "outputs": [],
   "source": []
  },
  {
   "cell_type": "markdown",
   "metadata": {},
   "source": [
    "### How many narcotics cases are there in the dataset?"
   ]
  },
  {
   "cell_type": "code",
   "execution_count": 70,
   "metadata": {},
   "outputs": [
    {
     "data": {
      "application/vnd.jupyter.widget-view+json": {
       "model_id": "43dfdc2d6edb477cbb17da8550d9932d",
       "version_major": 2,
       "version_minor": 0
      },
      "text/plain": [
       "VBox()"
      ]
     },
     "metadata": {},
     "output_type": "display_data"
    },
    {
     "data": {
      "application/vnd.jupyter.widget-view+json": {
       "model_id": "",
       "version_major": 2,
       "version_minor": 0
      },
      "text/plain": [
       "FloatProgress(value=0.0, bar_style='info', description='Progress:', layout=Layout(height='25px', width='50%'),…"
      ]
     },
     "metadata": {},
     "output_type": "display_data"
    },
    {
     "name": "stdout",
     "output_type": "stream",
     "text": [
      "135240"
     ]
    }
   ],
   "source": [
    "df.where(df[\"Primary Type\"]==\"NARCOTICS\").count()"
   ]
  },
  {
   "cell_type": "code",
   "execution_count": null,
   "metadata": {},
   "outputs": [],
   "source": []
  },
  {
   "cell_type": "code",
   "execution_count": null,
   "metadata": {},
   "outputs": [],
   "source": []
  },
  {
   "cell_type": "markdown",
   "metadata": {},
   "source": [
    "### Calculating percentage of narcotics cases in the dataset?"
   ]
  },
  {
   "cell_type": "code",
   "execution_count": 71,
   "metadata": {},
   "outputs": [
    {
     "data": {
      "application/vnd.jupyter.widget-view+json": {
       "model_id": "5ca7637216cb4262b629614196c524dd",
       "version_major": 2,
       "version_minor": 0
      },
      "text/plain": [
       "VBox()"
      ]
     },
     "metadata": {},
     "output_type": "display_data"
    },
    {
     "data": {
      "application/vnd.jupyter.widget-view+json": {
       "model_id": "",
       "version_major": 2,
       "version_minor": 0
      },
      "text/plain": [
       "FloatProgress(value=0.0, bar_style='info', description='Progress:', layout=Layout(height='25px', width='50%'),…"
      ]
     },
     "metadata": {},
     "output_type": "display_data"
    },
    {
     "name": "stdout",
     "output_type": "stream",
     "text": [
      "9.283908852389693"
     ]
    }
   ],
   "source": [
    "df.where(df[\"Primary Type\"] == \"NARCOTICS\").count()/df.count() * 100"
   ]
  },
  {
   "cell_type": "code",
   "execution_count": null,
   "metadata": {},
   "outputs": [],
   "source": []
  },
  {
   "cell_type": "code",
   "execution_count": null,
   "metadata": {},
   "outputs": [],
   "source": []
  },
  {
   "cell_type": "code",
   "execution_count": null,
   "metadata": {},
   "outputs": [],
   "source": []
  },
  {
   "cell_type": "markdown",
   "metadata": {},
   "source": [
    "### How many domestic assualts there are?"
   ]
  },
  {
   "cell_type": "code",
   "execution_count": 72,
   "metadata": {},
   "outputs": [
    {
     "data": {
      "application/vnd.jupyter.widget-view+json": {
       "model_id": "d1708640a9284d7484d694bd8b77cc2a",
       "version_major": 2,
       "version_minor": 0
      },
      "text/plain": [
       "VBox()"
      ]
     },
     "metadata": {},
     "output_type": "display_data"
    },
    {
     "data": {
      "application/vnd.jupyter.widget-view+json": {
       "model_id": "",
       "version_major": 2,
       "version_minor": 0
      },
      "text/plain": [
       "FloatProgress(value=0.0, bar_style='info', description='Progress:', layout=Layout(height='25px', width='50%'),…"
      ]
     },
     "metadata": {},
     "output_type": "display_data"
    },
    {
     "name": "stdout",
     "output_type": "stream",
     "text": [
      "23099"
     ]
    }
   ],
   "source": [
    "df.filter((df[\"Primary Type\"] == \"ASSAULT\") & (df[\"Domestic\"] == \"True\")).count()\n"
   ]
  },
  {
   "cell_type": "code",
   "execution_count": null,
   "metadata": {},
   "outputs": [],
   "source": []
  },
  {
   "cell_type": "code",
   "execution_count": null,
   "metadata": {},
   "outputs": [],
   "source": []
  },
  {
   "cell_type": "markdown",
   "metadata": {},
   "source": [
    "### Calculating percentage of domestic assault cases in the dataset"
   ]
  },
  {
   "cell_type": "code",
   "execution_count": 73,
   "metadata": {},
   "outputs": [
    {
     "data": {
      "application/vnd.jupyter.widget-view+json": {
       "model_id": "fcc336e10b4c4d668f3e3e8a5a942c4d",
       "version_major": 2,
       "version_minor": 0
      },
      "text/plain": [
       "VBox()"
      ]
     },
     "metadata": {},
     "output_type": "display_data"
    },
    {
     "data": {
      "application/vnd.jupyter.widget-view+json": {
       "model_id": "",
       "version_major": 2,
       "version_minor": 0
      },
      "text/plain": [
       "FloatProgress(value=0.0, bar_style='info', description='Progress:', layout=Layout(height='25px', width='50%'),…"
      ]
     },
     "metadata": {},
     "output_type": "display_data"
    },
    {
     "name": "stdout",
     "output_type": "stream",
     "text": [
      "1.585692181169399"
     ]
    }
   ],
   "source": [
    "df.filter((df[\"Primary Type\"] == \"ASSAULT\") & (df[\"Domestic\"] == \"True\")).count()/df.count() * 100"
   ]
  },
  {
   "cell_type": "code",
   "execution_count": null,
   "metadata": {},
   "outputs": [],
   "source": []
  },
  {
   "cell_type": "code",
   "execution_count": null,
   "metadata": {},
   "outputs": [],
   "source": []
  },
  {
   "cell_type": "code",
   "execution_count": null,
   "metadata": {},
   "outputs": [],
   "source": []
  },
  {
   "cell_type": "code",
   "execution_count": null,
   "metadata": {},
   "outputs": [],
   "source": []
  },
  {
   "cell_type": "markdown",
   "metadata": {},
   "source": [
    "## Drop columns which are not required for model building"
   ]
  },
  {
   "cell_type": "code",
   "execution_count": 74,
   "metadata": {
    "scrolled": false
   },
   "outputs": [
    {
     "data": {
      "application/vnd.jupyter.widget-view+json": {
       "model_id": "f400b1a2c776466b97ede5aff5cba319",
       "version_major": 2,
       "version_minor": 0
      },
      "text/plain": [
       "VBox()"
      ]
     },
     "metadata": {},
     "output_type": "display_data"
    },
    {
     "data": {
      "application/vnd.jupyter.widget-view+json": {
       "model_id": "",
       "version_major": 2,
       "version_minor": 0
      },
      "text/plain": [
       "FloatProgress(value=0.0, bar_style='info', description='Progress:', layout=Layout(height='25px', width='50%'),…"
      ]
     },
     "metadata": {},
     "output_type": "display_data"
    },
    {
     "name": "stdout",
     "output_type": "stream",
     "text": [
      "+---+----------+--------+-----------+-------------------+----+--------------------+--------------------+--------------------+------+--------+----+--------+----+--------------+--------+------------+------------+----+--------------------+------------+-------------+--------------------+----+-----------+\n",
      "|_c0|Unnamed: 0|      ID|Case Number|              Block|IUCR|        Primary Type|         Description|Location Description|Arrest|Domestic|Beat|District|Ward|Community Area|FBI Code|X Coordinate|Y Coordinate|Year|          Updated On|    Latitude|    Longitude|            Location|hour|day_of_week|\n",
      "+---+----------+--------+-----------+-------------------+----+--------------------+--------------------+--------------------+------+--------+----+--------+----+--------------+--------+------------+------------+----+--------------------+------------+-------------+--------------------+----+-----------+\n",
      "|  0|         3|10508693|   HZ250496| 013XX S SAWYER AVE|0486|             BATTERY|DOMESTIC BATTERY ...|           APARTMENT|  True|    True|1022|    10.0|24.0|          29.0|     08B|   1154907.0|   1893681.0|2016|05/10/2016 03:56:...|41.864073157|-87.706818608|(41.864073157, -8...|  23|          3|\n",
      "|  1|        89|10508695|   HZ250409| 061XX S DREXEL AVE|0486|             BATTERY|DOMESTIC BATTERY ...|           RESIDENCE| False|    True| 313|     3.0|20.0|          42.0|     08B|   1183066.0|   1864330.0|2016|05/10/2016 03:56:...|41.782921527| -87.60436317|(41.782921527, -8...|  21|          3|\n",
      "|  2|       197|10508697|   HZ250503|053XX W CHICAGO AVE|0470|PUBLIC PEACE VIOL...|    RECKLESS CONDUCT|              STREET| False|   False|1524|    15.0|37.0|          25.0|      24|   1140789.0|   1904819.0|2016|05/10/2016 03:56:...|41.894908283|-87.758371958|(41.894908283, -8...|  23|          3|\n",
      "|  3|       673|10508698|   HZ250424|  049XX W FULTON ST|0460|             BATTERY|              SIMPLE|            SIDEWALK| False|   False|1532|    15.0|28.0|          25.0|     08B|   1143223.0|   1901475.0|2016|05/10/2016 03:56:...|41.885686845|-87.749515983|(41.885686845, -8...|  22|          3|\n",
      "|  4|       911|10508699|   HZ250455|  003XX N LOTUS AVE|0820|               THEFT|      $500 AND UNDER|           RESIDENCE| False|    True|1523|    15.0|28.0|          25.0|      06|   1139890.0|   1901675.0|2016|05/10/2016 03:56:...|41.886297242|-87.761750709|(41.886297242, -8...|  22|          3|\n",
      "+---+----------+--------+-----------+-------------------+----+--------------------+--------------------+--------------------+------+--------+----+--------+----+--------------+--------+------------+------------+----+--------------------+------------+-------------+--------------------+----+-----------+\n",
      "only showing top 5 rows"
     ]
    }
   ],
   "source": [
    "# show 5 rows\n",
    "df.show(5)"
   ]
  },
  {
   "cell_type": "code",
   "execution_count": 75,
   "metadata": {},
   "outputs": [
    {
     "data": {
      "application/vnd.jupyter.widget-view+json": {
       "model_id": "a8cb148584004e1185983db9df281703",
       "version_major": 2,
       "version_minor": 0
      },
      "text/plain": [
       "VBox()"
      ]
     },
     "metadata": {},
     "output_type": "display_data"
    },
    {
     "data": {
      "application/vnd.jupyter.widget-view+json": {
       "model_id": "",
       "version_major": 2,
       "version_minor": 0
      },
      "text/plain": [
       "FloatProgress(value=0.0, bar_style='info', description='Progress:', layout=Layout(height='25px', width='50%'),…"
      ]
     },
     "metadata": {},
     "output_type": "display_data"
    },
    {
     "name": "stdout",
     "output_type": "stream",
     "text": [
      "['_c0', 'Unnamed: 0', 'ID', 'Case Number', 'Block', 'IUCR', 'Primary Type', 'Description', 'Location Description', 'Arrest', 'Domestic', 'Beat', 'District', 'Ward', 'Community Area', 'FBI Code', 'X Coordinate', 'Y Coordinate', 'Year', 'Updated On', 'Latitude', 'Longitude', 'Location', 'hour', 'day_of_week']"
     ]
    }
   ],
   "source": [
    "# get columns\n",
    "df.columns"
   ]
  },
  {
   "cell_type": "markdown",
   "metadata": {},
   "source": [
    " "
   ]
  },
  {
   "cell_type": "markdown",
   "metadata": {},
   "source": [
    "**Dropping columns which are ID or numbers which won't help in model learning:**\n"
   ]
  },
  {
   "cell_type": "markdown",
   "metadata": {},
   "source": [
    "'_c0', 'ID', 'Case Number': are IDs"
   ]
  },
  {
   "cell_type": "markdown",
   "metadata": {},
   "source": [
    "'Block', 'Description' : Lots of text like address "
   ]
  },
  {
   "cell_type": "markdown",
   "metadata": {},
   "source": [
    "'Updated On' : no need "
   ]
  },
  {
   "cell_type": "markdown",
   "metadata": {},
   "source": [
    "'Location': combination of lat, long so no need"
   ]
  },
  {
   "cell_type": "code",
   "execution_count": 76,
   "metadata": {},
   "outputs": [
    {
     "data": {
      "application/vnd.jupyter.widget-view+json": {
       "model_id": "ab11ad640dd24b57a8e0128a7f45b32d",
       "version_major": 2,
       "version_minor": 0
      },
      "text/plain": [
       "VBox()"
      ]
     },
     "metadata": {},
     "output_type": "display_data"
    },
    {
     "data": {
      "application/vnd.jupyter.widget-view+json": {
       "model_id": "",
       "version_major": 2,
       "version_minor": 0
      },
      "text/plain": [
       "FloatProgress(value=0.0, bar_style='info', description='Progress:', layout=Layout(height='25px', width='50%'),…"
      ]
     },
     "metadata": {},
     "output_type": "display_data"
    }
   ],
   "source": [
    "df = df.drop(\"_c0\", \"ID\", \"Case Number\",'Block', 'Description', \"Updated On\", 'Location')"
   ]
  },
  {
   "cell_type": "code",
   "execution_count": 77,
   "metadata": {},
   "outputs": [
    {
     "data": {
      "application/vnd.jupyter.widget-view+json": {
       "model_id": "af5e8bbc143342c19337f5c9b8fd3ba9",
       "version_major": 2,
       "version_minor": 0
      },
      "text/plain": [
       "VBox()"
      ]
     },
     "metadata": {},
     "output_type": "display_data"
    },
    {
     "data": {
      "application/vnd.jupyter.widget-view+json": {
       "model_id": "",
       "version_major": 2,
       "version_minor": 0
      },
      "text/plain": [
       "FloatProgress(value=0.0, bar_style='info', description='Progress:', layout=Layout(height='25px', width='50%'),…"
      ]
     },
     "metadata": {},
     "output_type": "display_data"
    },
    {
     "name": "stdout",
     "output_type": "stream",
     "text": [
      "+----------+----+--------------------+--------------------+------+--------+----+--------+----+--------------+--------+------------+------------+----+------------+-------------+----+-----------+\n",
      "|Unnamed: 0|IUCR|        Primary Type|Location Description|Arrest|Domestic|Beat|District|Ward|Community Area|FBI Code|X Coordinate|Y Coordinate|Year|    Latitude|    Longitude|hour|day_of_week|\n",
      "+----------+----+--------------------+--------------------+------+--------+----+--------+----+--------------+--------+------------+------------+----+------------+-------------+----+-----------+\n",
      "|         3|0486|             BATTERY|           APARTMENT|  True|    True|1022|    10.0|24.0|          29.0|     08B|   1154907.0|   1893681.0|2016|41.864073157|-87.706818608|  23|          3|\n",
      "|        89|0486|             BATTERY|           RESIDENCE| False|    True| 313|     3.0|20.0|          42.0|     08B|   1183066.0|   1864330.0|2016|41.782921527| -87.60436317|  21|          3|\n",
      "|       197|0470|PUBLIC PEACE VIOL...|              STREET| False|   False|1524|    15.0|37.0|          25.0|      24|   1140789.0|   1904819.0|2016|41.894908283|-87.758371958|  23|          3|\n",
      "|       673|0460|             BATTERY|            SIDEWALK| False|   False|1532|    15.0|28.0|          25.0|     08B|   1143223.0|   1901475.0|2016|41.885686845|-87.749515983|  22|          3|\n",
      "|       911|0820|               THEFT|           RESIDENCE| False|    True|1523|    15.0|28.0|          25.0|      06|   1139890.0|   1901675.0|2016|41.886297242|-87.761750709|  22|          3|\n",
      "+----------+----+--------------------+--------------------+------+--------+----+--------+----+--------------+--------+------------+------------+----+------------+-------------+----+-----------+\n",
      "only showing top 5 rows"
     ]
    }
   ],
   "source": [
    "df.show(5)"
   ]
  },
  {
   "cell_type": "code",
   "execution_count": 78,
   "metadata": {},
   "outputs": [
    {
     "data": {
      "application/vnd.jupyter.widget-view+json": {
       "model_id": "1ab590969d324223a0669e6699180b8a",
       "version_major": 2,
       "version_minor": 0
      },
      "text/plain": [
       "VBox()"
      ]
     },
     "metadata": {},
     "output_type": "display_data"
    },
    {
     "data": {
      "application/vnd.jupyter.widget-view+json": {
       "model_id": "",
       "version_major": 2,
       "version_minor": 0
      },
      "text/plain": [
       "FloatProgress(value=0.0, bar_style='info', description='Progress:', layout=Layout(height='25px', width='50%'),…"
      ]
     },
     "metadata": {},
     "output_type": "display_data"
    },
    {
     "name": "stdout",
     "output_type": "stream",
     "text": [
      "['Unnamed: 0', 'IUCR', 'Primary Type', 'Location Description', 'Arrest', 'Domestic', 'Beat', 'District', 'Ward', 'Community Area', 'FBI Code', 'X Coordinate', 'Y Coordinate', 'Year', 'Latitude', 'Longitude', 'hour', 'day_of_week']"
     ]
    }
   ],
   "source": [
    "df.columns"
   ]
  },
  {
   "cell_type": "markdown",
   "metadata": {},
   "source": [
    " "
   ]
  },
  {
   "cell_type": "markdown",
   "metadata": {},
   "source": [
    "**Now we're left with lots of categorical columns, need to see how many distinct labels are there in each column, if the number of distinct labels are huge in a column, so during One-Hot_encoding need to create lots of new column.**"
   ]
  },
  {
   "cell_type": "code",
   "execution_count": null,
   "metadata": {},
   "outputs": [],
   "source": []
  },
  {
   "cell_type": "code",
   "execution_count": null,
   "metadata": {},
   "outputs": [],
   "source": []
  },
  {
   "cell_type": "code",
   "execution_count": null,
   "metadata": {},
   "outputs": [],
   "source": []
  },
  {
   "cell_type": "code",
   "execution_count": null,
   "metadata": {},
   "outputs": [],
   "source": []
  },
  {
   "cell_type": "code",
   "execution_count": null,
   "metadata": {},
   "outputs": [],
   "source": []
  },
  {
   "cell_type": "markdown",
   "metadata": {},
   "source": [
    "### Unique Values"
   ]
  },
  {
   "cell_type": "code",
   "execution_count": 110,
   "metadata": {},
   "outputs": [
    {
     "data": {
      "application/vnd.jupyter.widget-view+json": {
       "model_id": "29cda7344e17429e89845421967eaf60",
       "version_major": 2,
       "version_minor": 0
      },
      "text/plain": [
       "VBox()"
      ]
     },
     "metadata": {},
     "output_type": "display_data"
    },
    {
     "data": {
      "application/vnd.jupyter.widget-view+json": {
       "model_id": "",
       "version_major": 2,
       "version_minor": 0
      },
      "text/plain": [
       "FloatProgress(value=0.0, bar_style='info', description='Progress:', layout=Layout(height='25px', width='50%'),…"
      ]
     },
     "metadata": {},
     "output_type": "display_data"
    },
    {
     "name": "stdout",
     "output_type": "stream",
     "text": [
      "Unnamed: 0 1456714\n",
      "Primary Type 33\n",
      "Location Description 143\n",
      "Arrest 2\n",
      "Domestic 2\n",
      "District 25\n",
      "FBI Code 26\n",
      "X Coordinate 67715\n",
      "Y Coordinate 111556\n",
      "Year 6\n",
      "Latitude 368077\n",
      "Longitude 367943\n",
      "hour 24\n",
      "day_of_week 7"
     ]
    }
   ],
   "source": [
    "for c in df.columns:\n",
    "    print(c , df.select(c).distinct().count())"
   ]
  },
  {
   "cell_type": "code",
   "execution_count": 79,
   "metadata": {
    "scrolled": true
   },
   "outputs": [
    {
     "data": {
      "application/vnd.jupyter.widget-view+json": {
       "model_id": "5bba8c60f54f4772b24906070f813456",
       "version_major": 2,
       "version_minor": 0
      },
      "text/plain": [
       "VBox()"
      ]
     },
     "metadata": {},
     "output_type": "display_data"
    },
    {
     "data": {
      "application/vnd.jupyter.widget-view+json": {
       "model_id": "",
       "version_major": 2,
       "version_minor": 0
      },
      "text/plain": [
       "FloatProgress(value=0.0, bar_style='info', description='Progress:', layout=Layout(height='25px', width='50%'),…"
      ]
     },
     "metadata": {},
     "output_type": "display_data"
    },
    {
     "name": "stdout",
     "output_type": "stream",
     "text": [
      "Unnamed: 0\n",
      "IUCR\n",
      "Primary Type\n",
      "Location Description\n",
      "Arrest\n",
      "Domestic\n",
      "Beat\n",
      "District\n",
      "Ward\n",
      "Community Area\n",
      "FBI Code\n",
      "X Coordinate\n",
      "Y Coordinate\n",
      "Year\n",
      "Latitude\n",
      "Longitude\n",
      "hour\n",
      "day_of_week"
     ]
    }
   ],
   "source": [
    "for c in df.columns:\n",
    "    print (c)"
   ]
  },
  {
   "cell_type": "code",
   "execution_count": 89,
   "metadata": {},
   "outputs": [
    {
     "data": {
      "application/vnd.jupyter.widget-view+json": {
       "model_id": "53c640f11b8f4b41a9fa8a00a46242d4",
       "version_major": 2,
       "version_minor": 0
      },
      "text/plain": [
       "VBox()"
      ]
     },
     "metadata": {},
     "output_type": "display_data"
    },
    {
     "data": {
      "application/vnd.jupyter.widget-view+json": {
       "model_id": "",
       "version_major": 2,
       "version_minor": 0
      },
      "text/plain": [
       "FloatProgress(value=0.0, bar_style='info', description='Progress:', layout=Layout(height='25px', width='50%'),…"
      ]
     },
     "metadata": {},
     "output_type": "display_data"
    },
    {
     "name": "stderr",
     "output_type": "stream",
     "text": [
      "'DataFrame' object is not callable\n",
      "Traceback (most recent call last):\n",
      "TypeError: 'DataFrame' object is not callable\n",
      "\n"
     ]
    }
   ],
   "source": []
  },
  {
   "cell_type": "code",
   "execution_count": 80,
   "metadata": {},
   "outputs": [
    {
     "data": {
      "application/vnd.jupyter.widget-view+json": {
       "model_id": "8cf9c9d016cb41fbaab42149a6da9a40",
       "version_major": 2,
       "version_minor": 0
      },
      "text/plain": [
       "VBox()"
      ]
     },
     "metadata": {},
     "output_type": "display_data"
    },
    {
     "data": {
      "application/vnd.jupyter.widget-view+json": {
       "model_id": "",
       "version_major": 2,
       "version_minor": 0
      },
      "text/plain": [
       "FloatProgress(value=0.0, bar_style='info', description='Progress:', layout=Layout(height='25px', width='50%'),…"
      ]
     },
     "metadata": {},
     "output_type": "display_data"
    },
    {
     "name": "stdout",
     "output_type": "stream",
     "text": [
      "+----------+----+------------+--------------------+------+--------+----+--------+----+--------------+--------+------------+------------+----+--------+---------+----+-----------+\n",
      "|Unnamed: 0|IUCR|Primary Type|Location Description|Arrest|Domestic|Beat|District|Ward|Community Area|FBI Code|X Coordinate|Y Coordinate|Year|Latitude|Longitude|hour|day_of_week|\n",
      "+----------+----+------------+--------------------+------+--------+----+--------+----+--------------+--------+------------+------------+----+--------+---------+----+-----------+\n",
      "|   1456714| 365|          33|                 142|     2|       2| 302|      24|  50|            78|      26|       67714|      111555|   6|  368076|   367942|  24|          7|\n",
      "+----------+----+------------+--------------------+------+--------+----+--------+----+--------------+--------+------------+------------+----+--------+---------+----+-----------+"
     ]
    }
   ],
   "source": [
    "# Checking the number distinct values in each attribute\n",
    "from pyspark.sql.functions import col, countDistinct\n",
    "\n",
    "\n",
    "df.agg(*(countDistinct(col(c)).alias(c) for c in df.columns)).show()"
   ]
  },
  {
   "cell_type": "code",
   "execution_count": 103,
   "metadata": {},
   "outputs": [
    {
     "data": {
      "application/vnd.jupyter.widget-view+json": {
       "model_id": "cca4d20816d040de9b26c8968f189112",
       "version_major": 2,
       "version_minor": 0
      },
      "text/plain": [
       "VBox()"
      ]
     },
     "metadata": {},
     "output_type": "display_data"
    },
    {
     "data": {
      "application/vnd.jupyter.widget-view+json": {
       "model_id": "",
       "version_major": 2,
       "version_minor": 0
      },
      "text/plain": [
       "FloatProgress(value=0.0, bar_style='info', description='Progress:', layout=Layout(height='25px', width='50%'),…"
      ]
     },
     "metadata": {},
     "output_type": "display_data"
    },
    {
     "name": "stdout",
     "output_type": "stream",
     "text": [
      "['Unnamed: 0', 'IUCR', 'Primary Type', 'Location Description', 'Arrest', 'Domestic', 'Beat', 'District', 'Ward', 'Community Area', 'FBI Code', 'X Coordinate', 'Y Coordinate', 'Year', 'Latitude', 'Longitude', 'hour', 'day_of_week']"
     ]
    }
   ],
   "source": [
    "# get columns\n",
    "df.columns"
   ]
  },
  {
   "cell_type": "markdown",
   "metadata": {},
   "source": [
    "**Based on distinct count analysis, we can clearly decide on dropping few more columns, which is having huge distinct count, that many new columns needs to be cerated if we're considering that.**"
   ]
  },
  {
   "cell_type": "markdown",
   "metadata": {},
   "source": [
    "***'IUCR', 'Beat','Ward','Community Area' : these columns can be dropped, this info can be inferred from the coordinates & lat, long columns, since they are more granular.***"
   ]
  },
  {
   "cell_type": "code",
   "execution_count": null,
   "metadata": {},
   "outputs": [],
   "source": []
  },
  {
   "cell_type": "code",
   "execution_count": null,
   "metadata": {},
   "outputs": [],
   "source": []
  },
  {
   "cell_type": "code",
   "execution_count": null,
   "metadata": {},
   "outputs": [],
   "source": []
  },
  {
   "cell_type": "code",
   "execution_count": null,
   "metadata": {},
   "outputs": [],
   "source": []
  },
  {
   "cell_type": "code",
   "execution_count": 104,
   "metadata": {},
   "outputs": [
    {
     "data": {
      "application/vnd.jupyter.widget-view+json": {
       "model_id": "69f0675293c549a685b4839c4c8d1ce6",
       "version_major": 2,
       "version_minor": 0
      },
      "text/plain": [
       "VBox()"
      ]
     },
     "metadata": {},
     "output_type": "display_data"
    },
    {
     "data": {
      "application/vnd.jupyter.widget-view+json": {
       "model_id": "",
       "version_major": 2,
       "version_minor": 0
      },
      "text/plain": [
       "FloatProgress(value=0.0, bar_style='info', description='Progress:', layout=Layout(height='25px', width='50%'),…"
      ]
     },
     "metadata": {},
     "output_type": "display_data"
    }
   ],
   "source": [
    "df = df.drop('IUCR', 'Beat','Ward','Community Area')"
   ]
  },
  {
   "cell_type": "code",
   "execution_count": 105,
   "metadata": {},
   "outputs": [
    {
     "data": {
      "application/vnd.jupyter.widget-view+json": {
       "model_id": "ab9dd4e7295a4f4c89eb64596d5a63f2",
       "version_major": 2,
       "version_minor": 0
      },
      "text/plain": [
       "VBox()"
      ]
     },
     "metadata": {},
     "output_type": "display_data"
    },
    {
     "data": {
      "application/vnd.jupyter.widget-view+json": {
       "model_id": "",
       "version_major": 2,
       "version_minor": 0
      },
      "text/plain": [
       "FloatProgress(value=0.0, bar_style='info', description='Progress:', layout=Layout(height='25px', width='50%'),…"
      ]
     },
     "metadata": {},
     "output_type": "display_data"
    },
    {
     "name": "stdout",
     "output_type": "stream",
     "text": [
      "+----------+--------------------+--------------------+------+--------+--------+--------+------------+------------+----+------------+-------------+----+-----------+\n",
      "|Unnamed: 0|        Primary Type|Location Description|Arrest|Domestic|District|FBI Code|X Coordinate|Y Coordinate|Year|    Latitude|    Longitude|hour|day_of_week|\n",
      "+----------+--------------------+--------------------+------+--------+--------+--------+------------+------------+----+------------+-------------+----+-----------+\n",
      "|         3|             BATTERY|           APARTMENT|  True|    True|    10.0|     08B|   1154907.0|   1893681.0|2016|41.864073157|-87.706818608|  23|          3|\n",
      "|        89|             BATTERY|           RESIDENCE| False|    True|     3.0|     08B|   1183066.0|   1864330.0|2016|41.782921527| -87.60436317|  21|          3|\n",
      "|       197|PUBLIC PEACE VIOL...|              STREET| False|   False|    15.0|      24|   1140789.0|   1904819.0|2016|41.894908283|-87.758371958|  23|          3|\n",
      "|       673|             BATTERY|            SIDEWALK| False|   False|    15.0|     08B|   1143223.0|   1901475.0|2016|41.885686845|-87.749515983|  22|          3|\n",
      "|       911|               THEFT|           RESIDENCE| False|    True|    15.0|      06|   1139890.0|   1901675.0|2016|41.886297242|-87.761750709|  22|          3|\n",
      "+----------+--------------------+--------------------+------+--------+--------+--------+------------+------------+----+------------+-------------+----+-----------+\n",
      "only showing top 5 rows"
     ]
    }
   ],
   "source": [
    "df.show(5)"
   ]
  },
  {
   "cell_type": "code",
   "execution_count": 106,
   "metadata": {},
   "outputs": [
    {
     "data": {
      "application/vnd.jupyter.widget-view+json": {
       "model_id": "247576aa5e0741f78ab29cc167c4667e",
       "version_major": 2,
       "version_minor": 0
      },
      "text/plain": [
       "VBox()"
      ]
     },
     "metadata": {},
     "output_type": "display_data"
    },
    {
     "data": {
      "application/vnd.jupyter.widget-view+json": {
       "model_id": "",
       "version_major": 2,
       "version_minor": 0
      },
      "text/plain": [
       "FloatProgress(value=0.0, bar_style='info', description='Progress:', layout=Layout(height='25px', width='50%'),…"
      ]
     },
     "metadata": {},
     "output_type": "display_data"
    },
    {
     "name": "stdout",
     "output_type": "stream",
     "text": [
      "['Unnamed: 0', 'Primary Type', 'Location Description', 'Arrest', 'Domestic', 'District', 'FBI Code', 'X Coordinate', 'Y Coordinate', 'Year', 'Latitude', 'Longitude', 'hour', 'day_of_week']"
     ]
    }
   ],
   "source": [
    "df.columns"
   ]
  },
  {
   "cell_type": "code",
   "execution_count": null,
   "metadata": {},
   "outputs": [],
   "source": []
  },
  {
   "cell_type": "code",
   "execution_count": null,
   "metadata": {},
   "outputs": [],
   "source": []
  },
  {
   "cell_type": "code",
   "execution_count": null,
   "metadata": {},
   "outputs": [],
   "source": []
  },
  {
   "cell_type": "code",
   "execution_count": null,
   "metadata": {},
   "outputs": [],
   "source": []
  },
  {
   "cell_type": "code",
   "execution_count": null,
   "metadata": {},
   "outputs": [],
   "source": []
  },
  {
   "cell_type": "markdown",
   "metadata": {},
   "source": [
    "#### Handling null values"
   ]
  },
  {
   "cell_type": "code",
   "execution_count": 119,
   "metadata": {
    "scrolled": true
   },
   "outputs": [
    {
     "data": {
      "application/vnd.jupyter.widget-view+json": {
       "model_id": "f9fafe89c95148099a5eda9b10ce4283",
       "version_major": 2,
       "version_minor": 0
      },
      "text/plain": [
       "VBox()"
      ]
     },
     "metadata": {},
     "output_type": "display_data"
    },
    {
     "data": {
      "application/vnd.jupyter.widget-view+json": {
       "model_id": "",
       "version_major": 2,
       "version_minor": 0
      },
      "text/plain": [
       "FloatProgress(value=0.0, bar_style='info', description='Progress:', layout=Layout(height='25px', width='50%'),…"
      ]
     },
     "metadata": {},
     "output_type": "display_data"
    },
    {
     "name": "stdout",
     "output_type": "stream",
     "text": [
      "+----------+------------+--------------------+------+--------+--------+--------+------------+------------+----+--------+---------+----+-----------+\n",
      "|Unnamed: 0|Primary Type|Location Description|Arrest|Domestic|District|FBI Code|X Coordinate|Y Coordinate|Year|Latitude|Longitude|hour|day_of_week|\n",
      "+----------+------------+--------------------+------+--------+--------+--------+------------+------------+----+--------+---------+----+-----------+\n",
      "|         0|           0|                1658|     0|       0|       1|       0|       37083|       37083|   0|   37083|    37083|   0|          0|\n",
      "+----------+------------+--------------------+------+--------+--------+--------+------------+------------+----+--------+---------+----+-----------+"
     ]
    }
   ],
   "source": [
    "# Counting the number of null values in each column\n",
    "from pyspark.sql.functions import when, count, col, isnull\n",
    "\n",
    "\n",
    "df.select([count(when(isnull(c), c)).alias(c) for c in df.columns]).show()\n",
    "\n"
   ]
  },
  {
   "cell_type": "markdown",
   "metadata": {},
   "source": [
    "**As we can see many row is not having the coordinates & lat, long details, without this info, it'll be diffcult to predict the FBI Code. So we'll drop these rows.**"
   ]
  },
  {
   "cell_type": "code",
   "execution_count": 120,
   "metadata": {
    "scrolled": false
   },
   "outputs": [
    {
     "data": {
      "application/vnd.jupyter.widget-view+json": {
       "model_id": "6f69bc122f76490cb90a01b61ab59328",
       "version_major": 2,
       "version_minor": 0
      },
      "text/plain": [
       "VBox()"
      ]
     },
     "metadata": {},
     "output_type": "display_data"
    },
    {
     "data": {
      "application/vnd.jupyter.widget-view+json": {
       "model_id": "",
       "version_major": 2,
       "version_minor": 0
      },
      "text/plain": [
       "FloatProgress(value=0.0, bar_style='info', description='Progress:', layout=Layout(height='25px', width='50%'),…"
      ]
     },
     "metadata": {},
     "output_type": "display_data"
    }
   ],
   "source": [
    "# Dropping the rows with null values\n",
    "df = df.na.drop()"
   ]
  },
  {
   "cell_type": "code",
   "execution_count": 121,
   "metadata": {},
   "outputs": [
    {
     "data": {
      "application/vnd.jupyter.widget-view+json": {
       "model_id": "373ac763958544099ced1bae6fe01dcf",
       "version_major": 2,
       "version_minor": 0
      },
      "text/plain": [
       "VBox()"
      ]
     },
     "metadata": {},
     "output_type": "display_data"
    },
    {
     "data": {
      "application/vnd.jupyter.widget-view+json": {
       "model_id": "",
       "version_major": 2,
       "version_minor": 0
      },
      "text/plain": [
       "FloatProgress(value=0.0, bar_style='info', description='Progress:', layout=Layout(height='25px', width='50%'),…"
      ]
     },
     "metadata": {},
     "output_type": "display_data"
    },
    {
     "name": "stdout",
     "output_type": "stream",
     "text": [
      "+----------+------------+--------------------+------+--------+--------+--------+------------+------------+----+--------+---------+----+-----------+\n",
      "|Unnamed: 0|Primary Type|Location Description|Arrest|Domestic|District|FBI Code|X Coordinate|Y Coordinate|Year|Latitude|Longitude|hour|day_of_week|\n",
      "+----------+------------+--------------------+------+--------+--------+--------+------------+------------+----+--------+---------+----+-----------+\n",
      "|         0|           0|                   0|     0|       0|       0|       0|           0|           0|   0|       0|        0|   0|          0|\n",
      "+----------+------------+--------------------+------+--------+--------+--------+------------+------------+----+--------+---------+----+-----------+"
     ]
    }
   ],
   "source": [
    "# Check if the null values are dropped\n",
    "\n",
    "df.select([count(when(isnull(c), c)).alias(c) for c in df.columns]).show()"
   ]
  },
  {
   "cell_type": "code",
   "execution_count": 122,
   "metadata": {},
   "outputs": [
    {
     "data": {
      "application/vnd.jupyter.widget-view+json": {
       "model_id": "bc1d8ee116114b2c84642dcfe7b4bbc2",
       "version_major": 2,
       "version_minor": 0
      },
      "text/plain": [
       "VBox()"
      ]
     },
     "metadata": {},
     "output_type": "display_data"
    },
    {
     "data": {
      "application/vnd.jupyter.widget-view+json": {
       "model_id": "",
       "version_major": 2,
       "version_minor": 0
      },
      "text/plain": [
       "FloatProgress(value=0.0, bar_style='info', description='Progress:', layout=Layout(height='25px', width='50%'),…"
      ]
     },
     "metadata": {},
     "output_type": "display_data"
    },
    {
     "name": "stdout",
     "output_type": "stream",
     "text": [
      "(1418404, 14)"
     ]
    }
   ],
   "source": [
    "\n",
    "print((df.count(), len(df.columns)))"
   ]
  },
  {
   "cell_type": "code",
   "execution_count": null,
   "metadata": {},
   "outputs": [],
   "source": []
  },
  {
   "cell_type": "code",
   "execution_count": null,
   "metadata": {},
   "outputs": [],
   "source": []
  },
  {
   "cell_type": "code",
   "execution_count": null,
   "metadata": {},
   "outputs": [],
   "source": []
  },
  {
   "cell_type": "code",
   "execution_count": null,
   "metadata": {},
   "outputs": [],
   "source": []
  },
  {
   "cell_type": "markdown",
   "metadata": {},
   "source": [
    "#### Correction in column type"
   ]
  },
  {
   "cell_type": "code",
   "execution_count": 123,
   "metadata": {
    "scrolled": false
   },
   "outputs": [
    {
     "data": {
      "application/vnd.jupyter.widget-view+json": {
       "model_id": "60faa6a0b1774c969eb723aa514a8a16",
       "version_major": 2,
       "version_minor": 0
      },
      "text/plain": [
       "VBox()"
      ]
     },
     "metadata": {},
     "output_type": "display_data"
    },
    {
     "data": {
      "application/vnd.jupyter.widget-view+json": {
       "model_id": "",
       "version_major": 2,
       "version_minor": 0
      },
      "text/plain": [
       "FloatProgress(value=0.0, bar_style='info', description='Progress:', layout=Layout(height='25px', width='50%'),…"
      ]
     },
     "metadata": {},
     "output_type": "display_data"
    },
    {
     "name": "stdout",
     "output_type": "stream",
     "text": [
      "[('Unnamed: 0', 'string'), ('Primary Type', 'string'), ('Location Description', 'string'), ('Arrest', 'string'), ('Domestic', 'string'), ('District', 'string'), ('FBI Code', 'string'), ('X Coordinate', 'string'), ('Y Coordinate', 'string'), ('Year', 'string'), ('Latitude', 'string'), ('Longitude', 'string'), ('hour', 'int'), ('day_of_week', 'int')]"
     ]
    }
   ],
   "source": [
    "# Column type\n",
    "df.dtypes"
   ]
  },
  {
   "cell_type": "code",
   "execution_count": 124,
   "metadata": {},
   "outputs": [
    {
     "data": {
      "application/vnd.jupyter.widget-view+json": {
       "model_id": "ec6bc2d0864c4cf7b8bf33b61aa3456f",
       "version_major": 2,
       "version_minor": 0
      },
      "text/plain": [
       "VBox()"
      ]
     },
     "metadata": {},
     "output_type": "display_data"
    },
    {
     "data": {
      "application/vnd.jupyter.widget-view+json": {
       "model_id": "",
       "version_major": 2,
       "version_minor": 0
      },
      "text/plain": [
       "FloatProgress(value=0.0, bar_style='info', description='Progress:', layout=Layout(height='25px', width='50%'),…"
      ]
     },
     "metadata": {},
     "output_type": "display_data"
    },
    {
     "name": "stdout",
     "output_type": "stream",
     "text": [
      "root\n",
      " |-- Unnamed: 0: string (nullable = true)\n",
      " |-- Primary Type: string (nullable = true)\n",
      " |-- Location Description: string (nullable = true)\n",
      " |-- Arrest: string (nullable = true)\n",
      " |-- Domestic: string (nullable = true)\n",
      " |-- District: string (nullable = true)\n",
      " |-- FBI Code: string (nullable = true)\n",
      " |-- X Coordinate: string (nullable = true)\n",
      " |-- Y Coordinate: string (nullable = true)\n",
      " |-- Year: string (nullable = true)\n",
      " |-- Latitude: string (nullable = true)\n",
      " |-- Longitude: string (nullable = true)\n",
      " |-- hour: integer (nullable = true)\n",
      " |-- day_of_week: integer (nullable = true)"
     ]
    }
   ],
   "source": [
    "df.printSchema()"
   ]
  },
  {
   "cell_type": "code",
   "execution_count": 125,
   "metadata": {},
   "outputs": [
    {
     "data": {
      "application/vnd.jupyter.widget-view+json": {
       "model_id": "0b6b88c98ed940eb87563abdb61ad459",
       "version_major": 2,
       "version_minor": 0
      },
      "text/plain": [
       "VBox()"
      ]
     },
     "metadata": {},
     "output_type": "display_data"
    },
    {
     "data": {
      "application/vnd.jupyter.widget-view+json": {
       "model_id": "",
       "version_major": 2,
       "version_minor": 0
      },
      "text/plain": [
       "FloatProgress(value=0.0, bar_style='info', description='Progress:', layout=Layout(height='25px', width='50%'),…"
      ]
     },
     "metadata": {},
     "output_type": "display_data"
    },
    {
     "name": "stdout",
     "output_type": "stream",
     "text": [
      "+----------+--------------------+--------------------+------+--------+--------+--------+------------+------------+----+------------+-------------+----+-----------+\n",
      "|Unnamed: 0|        Primary Type|Location Description|Arrest|Domestic|District|FBI Code|X Coordinate|Y Coordinate|Year|    Latitude|    Longitude|hour|day_of_week|\n",
      "+----------+--------------------+--------------------+------+--------+--------+--------+------------+------------+----+------------+-------------+----+-----------+\n",
      "|         3|             BATTERY|           APARTMENT|  True|    True|    10.0|     08B|   1154907.0|   1893681.0|2016|41.864073157|-87.706818608|  23|          3|\n",
      "|        89|             BATTERY|           RESIDENCE| False|    True|     3.0|     08B|   1183066.0|   1864330.0|2016|41.782921527| -87.60436317|  21|          3|\n",
      "|       197|PUBLIC PEACE VIOL...|              STREET| False|   False|    15.0|      24|   1140789.0|   1904819.0|2016|41.894908283|-87.758371958|  23|          3|\n",
      "+----------+--------------------+--------------------+------+--------+--------+--------+------------+------------+----+------------+-------------+----+-----------+\n",
      "only showing top 3 rows"
     ]
    }
   ],
   "source": [
    "df.show(3)"
   ]
  },
  {
   "cell_type": "markdown",
   "metadata": {},
   "source": [
    "**Need to change the data type of all lat, long, coordinates, district, year from String to Float/Integer**"
   ]
  },
  {
   "cell_type": "code",
   "execution_count": 126,
   "metadata": {},
   "outputs": [
    {
     "data": {
      "application/vnd.jupyter.widget-view+json": {
       "model_id": "b3ae13f3568240968abcd842f2aa2eb9",
       "version_major": 2,
       "version_minor": 0
      },
      "text/plain": [
       "VBox()"
      ]
     },
     "metadata": {},
     "output_type": "display_data"
    },
    {
     "data": {
      "application/vnd.jupyter.widget-view+json": {
       "model_id": "",
       "version_major": 2,
       "version_minor": 0
      },
      "text/plain": [
       "FloatProgress(value=0.0, bar_style='info', description='Progress:', layout=Layout(height='25px', width='50%'),…"
      ]
     },
     "metadata": {},
     "output_type": "display_data"
    }
   ],
   "source": [
    "# Changing the required columns from string type to numerical \n",
    "from pyspark.sql.types import FloatType, IntegerType\n",
    "\n",
    "\n",
    "df = df.withColumn('District', df['District'].cast(IntegerType()))\n",
    "\n",
    "\n",
    "\n",
    "df = df.withColumn('X Coordinate', df['X Coordinate'].cast(FloatType()))\n",
    "df = df.withColumn('Y Coordinate', df['Y Coordinate'].cast(FloatType()))\n",
    "df = df.withColumn('Longitude', df['Longitude'].cast(FloatType()))\n",
    "df = df.withColumn('Latitude', df['Latitude'].cast(FloatType()))\n",
    "df = df.withColumn('Year', df['Year'].cast(IntegerType()))\n"
   ]
  },
  {
   "cell_type": "code",
   "execution_count": 127,
   "metadata": {
    "scrolled": true
   },
   "outputs": [
    {
     "data": {
      "application/vnd.jupyter.widget-view+json": {
       "model_id": "3b03f0e895cf4272ab1d3fac1da53d3c",
       "version_major": 2,
       "version_minor": 0
      },
      "text/plain": [
       "VBox()"
      ]
     },
     "metadata": {},
     "output_type": "display_data"
    },
    {
     "data": {
      "application/vnd.jupyter.widget-view+json": {
       "model_id": "",
       "version_major": 2,
       "version_minor": 0
      },
      "text/plain": [
       "FloatProgress(value=0.0, bar_style='info', description='Progress:', layout=Layout(height='25px', width='50%'),…"
      ]
     },
     "metadata": {},
     "output_type": "display_data"
    },
    {
     "name": "stdout",
     "output_type": "stream",
     "text": [
      "[('Unnamed: 0', 'string'), ('Primary Type', 'string'), ('Location Description', 'string'), ('Arrest', 'string'), ('Domestic', 'string'), ('District', 'int'), ('FBI Code', 'string'), ('X Coordinate', 'float'), ('Y Coordinate', 'float'), ('Year', 'int'), ('Latitude', 'float'), ('Longitude', 'float'), ('hour', 'int'), ('day_of_week', 'int')]"
     ]
    }
   ],
   "source": [
    "df.dtypes"
   ]
  },
  {
   "cell_type": "code",
   "execution_count": 128,
   "metadata": {
    "scrolled": true
   },
   "outputs": [
    {
     "data": {
      "application/vnd.jupyter.widget-view+json": {
       "model_id": "e85dfce5947942468c2106c08762f56b",
       "version_major": 2,
       "version_minor": 0
      },
      "text/plain": [
       "VBox()"
      ]
     },
     "metadata": {},
     "output_type": "display_data"
    },
    {
     "data": {
      "application/vnd.jupyter.widget-view+json": {
       "model_id": "",
       "version_major": 2,
       "version_minor": 0
      },
      "text/plain": [
       "FloatProgress(value=0.0, bar_style='info', description='Progress:', layout=Layout(height='25px', width='50%'),…"
      ]
     },
     "metadata": {},
     "output_type": "display_data"
    },
    {
     "name": "stdout",
     "output_type": "stream",
     "text": [
      "+----------+--------------------+--------------------+------+--------+--------+--------+------------+------------+----+---------+---------+----+-----------+\n",
      "|Unnamed: 0|        Primary Type|Location Description|Arrest|Domestic|District|FBI Code|X Coordinate|Y Coordinate|Year| Latitude|Longitude|hour|day_of_week|\n",
      "+----------+--------------------+--------------------+------+--------+--------+--------+------------+------------+----+---------+---------+----+-----------+\n",
      "|         3|             BATTERY|           APARTMENT|  True|    True|      10|     08B|   1154907.0|   1893681.0|2016|41.864075|-87.70682|  23|          3|\n",
      "|        89|             BATTERY|           RESIDENCE| False|    True|       3|     08B|   1183066.0|   1864330.0|2016| 41.78292|-87.60436|  21|          3|\n",
      "|       197|PUBLIC PEACE VIOL...|              STREET| False|   False|      15|      24|   1140789.0|   1904819.0|2016| 41.89491|-87.75837|  23|          3|\n",
      "+----------+--------------------+--------------------+------+--------+--------+--------+------------+------------+----+---------+---------+----+-----------+\n",
      "only showing top 3 rows"
     ]
    }
   ],
   "source": [
    "df.show(3)"
   ]
  },
  {
   "cell_type": "code",
   "execution_count": null,
   "metadata": {},
   "outputs": [],
   "source": []
  },
  {
   "cell_type": "code",
   "execution_count": null,
   "metadata": {},
   "outputs": [],
   "source": []
  },
  {
   "cell_type": "code",
   "execution_count": null,
   "metadata": {},
   "outputs": [],
   "source": []
  },
  {
   "cell_type": "code",
   "execution_count": null,
   "metadata": {},
   "outputs": [],
   "source": []
  },
  {
   "cell_type": "code",
   "execution_count": null,
   "metadata": {},
   "outputs": [],
   "source": []
  },
  {
   "cell_type": "code",
   "execution_count": null,
   "metadata": {},
   "outputs": [],
   "source": []
  },
  {
   "cell_type": "markdown",
   "metadata": {},
   "source": [
    "## Exploring the target variable: FBI Code"
   ]
  },
  {
   "cell_type": "code",
   "execution_count": 129,
   "metadata": {
    "scrolled": true
   },
   "outputs": [
    {
     "data": {
      "application/vnd.jupyter.widget-view+json": {
       "model_id": "e14a804439ae4de0b0b7e8ef387e58e9",
       "version_major": 2,
       "version_minor": 0
      },
      "text/plain": [
       "VBox()"
      ]
     },
     "metadata": {},
     "output_type": "display_data"
    },
    {
     "data": {
      "application/vnd.jupyter.widget-view+json": {
       "model_id": "",
       "version_major": 2,
       "version_minor": 0
      },
      "text/plain": [
       "FloatProgress(value=0.0, bar_style='info', description='Progress:', layout=Layout(height='25px', width='50%'),…"
      ]
     },
     "metadata": {},
     "output_type": "display_data"
    },
    {
     "name": "stdout",
     "output_type": "stream",
     "text": [
      "+--------+------+\n",
      "|FBI Code| count|\n",
      "+--------+------+\n",
      "|     01B|    12|\n",
      "|     08B|222988|\n",
      "|      18|125762|\n",
      "|      26|134437|\n",
      "|      06|321960|\n",
      "|      15| 17070|\n",
      "|     01A|  2578|\n",
      "|      03| 56093|\n",
      "|     04A| 23380|\n",
      "|      13|   393|\n",
      "|      14|152816|\n",
      "|     08A| 66801|\n",
      "|      22|  1928|\n",
      "|      24| 17080|\n",
      "|      07| 59858|\n",
      "|      16|  7585|\n",
      "|     04B| 35956|\n",
      "|      17|  5387|\n",
      "|      09|  2158|\n",
      "|      20|  6303|\n",
      "+--------+------+\n",
      "only showing top 20 rows"
     ]
    }
   ],
   "source": [
    "df.groupBy(\"FBI Code\").count().show()"
   ]
  },
  {
   "cell_type": "code",
   "execution_count": null,
   "metadata": {},
   "outputs": [],
   "source": []
  },
  {
   "cell_type": "code",
   "execution_count": null,
   "metadata": {},
   "outputs": [],
   "source": []
  },
  {
   "cell_type": "code",
   "execution_count": 131,
   "metadata": {
    "scrolled": false
   },
   "outputs": [
    {
     "data": {
      "application/vnd.jupyter.widget-view+json": {
       "model_id": "775941980a3e407990a1d56d1caf64e5",
       "version_major": 2,
       "version_minor": 0
      },
      "text/plain": [
       "VBox()"
      ]
     },
     "metadata": {},
     "output_type": "display_data"
    },
    {
     "data": {
      "application/vnd.jupyter.widget-view+json": {
       "model_id": "",
       "version_major": 2,
       "version_minor": 0
      },
      "text/plain": [
       "FloatProgress(value=0.0, bar_style='info', description='Progress:', layout=Layout(height='25px', width='50%'),…"
      ]
     },
     "metadata": {},
     "output_type": "display_data"
    }
   ],
   "source": [
    "# Storing in a pandas dataframe for visualisation\n",
    "fbi_df = df.groupBy(\"FBI Code\").count().orderBy(\"count\", ascending = False).toPandas()"
   ]
  },
  {
   "cell_type": "code",
   "execution_count": null,
   "metadata": {},
   "outputs": [],
   "source": []
  },
  {
   "cell_type": "code",
   "execution_count": 132,
   "metadata": {},
   "outputs": [
    {
     "data": {
      "application/vnd.jupyter.widget-view+json": {
       "model_id": "fc7a101076054c0abc13fd10799fa87e",
       "version_major": 2,
       "version_minor": 0
      },
      "text/plain": [
       "VBox()"
      ]
     },
     "metadata": {},
     "output_type": "display_data"
    },
    {
     "data": {
      "application/vnd.jupyter.widget-view+json": {
       "model_id": "",
       "version_major": 2,
       "version_minor": 0
      },
      "text/plain": [
       "FloatProgress(value=0.0, bar_style='info', description='Progress:', layout=Layout(height='25px', width='50%'),…"
      ]
     },
     "metadata": {},
     "output_type": "display_data"
    },
    {
     "name": "stdout",
     "output_type": "stream",
     "text": [
      "  FBI Code   count\n",
      "0       06  321960\n",
      "1      08B  222988\n",
      "2       14  152816\n",
      "3       26  134437\n",
      "4       18  125762"
     ]
    }
   ],
   "source": [
    "fbi_df.head()"
   ]
  },
  {
   "cell_type": "code",
   "execution_count": null,
   "metadata": {},
   "outputs": [],
   "source": []
  },
  {
   "cell_type": "code",
   "execution_count": null,
   "metadata": {},
   "outputs": [],
   "source": []
  },
  {
   "cell_type": "code",
   "execution_count": 133,
   "metadata": {},
   "outputs": [
    {
     "data": {
      "application/vnd.jupyter.widget-view+json": {
       "model_id": "9a8bdad0fcd5420a87663f95420e148c",
       "version_major": 2,
       "version_minor": 0
      },
      "text/plain": [
       "VBox()"
      ]
     },
     "metadata": {},
     "output_type": "display_data"
    },
    {
     "data": {
      "application/vnd.jupyter.widget-view+json": {
       "model_id": "",
       "version_major": 2,
       "version_minor": 0
      },
      "text/plain": [
       "FloatProgress(value=0.0, bar_style='info', description='Progress:', layout=Layout(height='25px', width='50%'),…"
      ]
     },
     "metadata": {},
     "output_type": "display_data"
    },
    {
     "data": {
      "image/png": "[encoded data removed]",
      "text/plain": [
       "<IPython.core.display.Image object>"
      ]
     },
     "metadata": {},
     "output_type": "display_data"
    }
   ],
   "source": [
    "# create the plot\n",
    "plt.figure(figsize=(14,10))\n",
    "\n",
    "fbi_df.head(15).plot(x = 'FBI Code', y = 'count', kind='bar', color = \"violet\")\n",
    "\n",
    "plt.title('Amount of Crimes by FBI Code')\n",
    "plt.ylabel('Amount of Crimes')\n",
    "plt.xlabel('FBI Code')\n",
    "\n",
    "\n",
    "# display the plot\n",
    "%matplot plt"
   ]
  },
  {
   "cell_type": "code",
   "execution_count": null,
   "metadata": {},
   "outputs": [],
   "source": []
  },
  {
   "cell_type": "code",
   "execution_count": null,
   "metadata": {},
   "outputs": [],
   "source": []
  },
  {
   "cell_type": "code",
   "execution_count": null,
   "metadata": {},
   "outputs": [],
   "source": []
  },
  {
   "cell_type": "markdown",
   "metadata": {},
   "source": [
    "## Feature Generation & Vector Creation"
   ]
  },
  {
   "cell_type": "code",
   "execution_count": 134,
   "metadata": {},
   "outputs": [
    {
     "data": {
      "application/vnd.jupyter.widget-view+json": {
       "model_id": "781890fc7c3e45baaa765e8e24ca1ef7",
       "version_major": 2,
       "version_minor": 0
      },
      "text/plain": [
       "VBox()"
      ]
     },
     "metadata": {},
     "output_type": "display_data"
    },
    {
     "data": {
      "application/vnd.jupyter.widget-view+json": {
       "model_id": "",
       "version_major": 2,
       "version_minor": 0
      },
      "text/plain": [
       "FloatProgress(value=0.0, bar_style='info', description='Progress:', layout=Layout(height='25px', width='50%'),…"
      ]
     },
     "metadata": {},
     "output_type": "display_data"
    },
    {
     "name": "stdout",
     "output_type": "stream",
     "text": [
      "['Unnamed: 0', 'Primary Type', 'Location Description', 'Arrest', 'Domestic', 'District', 'FBI Code', 'X Coordinate', 'Y Coordinate', 'Year', 'Latitude', 'Longitude', 'hour', 'day_of_week']"
     ]
    }
   ],
   "source": [
    "# Identifying the catrgorical columns for indexing\n",
    "df.columns"
   ]
  },
  {
   "cell_type": "code",
   "execution_count": 135,
   "metadata": {},
   "outputs": [
    {
     "data": {
      "application/vnd.jupyter.widget-view+json": {
       "model_id": "a92ffdc2160f4b91b1891e44501d1d6b",
       "version_major": 2,
       "version_minor": 0
      },
      "text/plain": [
       "VBox()"
      ]
     },
     "metadata": {},
     "output_type": "display_data"
    },
    {
     "data": {
      "application/vnd.jupyter.widget-view+json": {
       "model_id": "",
       "version_major": 2,
       "version_minor": 0
      },
      "text/plain": [
       "FloatProgress(value=0.0, bar_style='info', description='Progress:', layout=Layout(height='25px', width='50%'),…"
      ]
     },
     "metadata": {},
     "output_type": "display_data"
    },
    {
     "name": "stdout",
     "output_type": "stream",
     "text": [
      "14"
     ]
    }
   ],
   "source": [
    "len(df.columns)"
   ]
  },
  {
   "cell_type": "code",
   "execution_count": 136,
   "metadata": {},
   "outputs": [
    {
     "data": {
      "application/vnd.jupyter.widget-view+json": {
       "model_id": "6e255edf9a744aac8d52dc9b2cab4623",
       "version_major": 2,
       "version_minor": 0
      },
      "text/plain": [
       "VBox()"
      ]
     },
     "metadata": {},
     "output_type": "display_data"
    },
    {
     "data": {
      "application/vnd.jupyter.widget-view+json": {
       "model_id": "",
       "version_major": 2,
       "version_minor": 0
      },
      "text/plain": [
       "FloatProgress(value=0.0, bar_style='info', description='Progress:', layout=Layout(height='25px', width='50%'),…"
      ]
     },
     "metadata": {},
     "output_type": "display_data"
    },
    {
     "name": "stdout",
     "output_type": "stream",
     "text": [
      "+----------+--------------------+--------------------+------+--------+--------+--------+------------+------------+----+---------+---------+----+-----------+\n",
      "|Unnamed: 0|        Primary Type|Location Description|Arrest|Domestic|District|FBI Code|X Coordinate|Y Coordinate|Year| Latitude|Longitude|hour|day_of_week|\n",
      "+----------+--------------------+--------------------+------+--------+--------+--------+------------+------------+----+---------+---------+----+-----------+\n",
      "|         3|             BATTERY|           APARTMENT|  True|    True|      10|     08B|   1154907.0|   1893681.0|2016|41.864075|-87.70682|  23|          3|\n",
      "|        89|             BATTERY|           RESIDENCE| False|    True|       3|     08B|   1183066.0|   1864330.0|2016| 41.78292|-87.60436|  21|          3|\n",
      "|       197|PUBLIC PEACE VIOL...|              STREET| False|   False|      15|      24|   1140789.0|   1904819.0|2016| 41.89491|-87.75837|  23|          3|\n",
      "+----------+--------------------+--------------------+------+--------+--------+--------+------------+------------+----+---------+---------+----+-----------+\n",
      "only showing top 3 rows"
     ]
    }
   ],
   "source": [
    "df.show(3)"
   ]
  },
  {
   "cell_type": "code",
   "execution_count": 137,
   "metadata": {},
   "outputs": [
    {
     "data": {
      "application/vnd.jupyter.widget-view+json": {
       "model_id": "012e87e5537f4db992a4ff6b1ac25ea5",
       "version_major": 2,
       "version_minor": 0
      },
      "text/plain": [
       "VBox()"
      ]
     },
     "metadata": {},
     "output_type": "display_data"
    },
    {
     "data": {
      "application/vnd.jupyter.widget-view+json": {
       "model_id": "",
       "version_major": 2,
       "version_minor": 0
      },
      "text/plain": [
       "FloatProgress(value=0.0, bar_style='info', description='Progress:', layout=Layout(height='25px', width='50%'),…"
      ]
     },
     "metadata": {},
     "output_type": "display_data"
    }
   ],
   "source": [
    "# Storing the categorical and continuous columns in different lists\n",
    "\n",
    "\n",
    "categorical_features = ['Primary Type', 'Location Description', 'Arrest', 'Domestic', 'District','Year','hour','day_of_week' ]\n",
    "\n",
    "\n",
    "continuous_features = ['X Coordinate', 'Y Coordinate', 'Latitude', 'Longitude']\n",
    "\n"
   ]
  },
  {
   "cell_type": "code",
   "execution_count": null,
   "metadata": {},
   "outputs": [],
   "source": []
  },
  {
   "cell_type": "code",
   "execution_count": null,
   "metadata": {},
   "outputs": [],
   "source": []
  },
  {
   "cell_type": "code",
   "execution_count": null,
   "metadata": {},
   "outputs": [],
   "source": []
  },
  {
   "cell_type": "code",
   "execution_count": null,
   "metadata": {},
   "outputs": [],
   "source": []
  },
  {
   "cell_type": "code",
   "execution_count": null,
   "metadata": {},
   "outputs": [],
   "source": []
  },
  {
   "cell_type": "code",
   "execution_count": null,
   "metadata": {},
   "outputs": [],
   "source": []
  },
  {
   "cell_type": "markdown",
   "metadata": {},
   "source": [
    "### Spark Pipeline concept will be used here"
   ]
  },
  {
   "cell_type": "code",
   "execution_count": 138,
   "metadata": {},
   "outputs": [
    {
     "data": {
      "application/vnd.jupyter.widget-view+json": {
       "model_id": "934a4365e7f4418c840f7fd343fd6f84",
       "version_major": 2,
       "version_minor": 0
      },
      "text/plain": [
       "VBox()"
      ]
     },
     "metadata": {},
     "output_type": "display_data"
    },
    {
     "data": {
      "application/vnd.jupyter.widget-view+json": {
       "model_id": "",
       "version_major": 2,
       "version_minor": 0
      },
      "text/plain": [
       "FloatProgress(value=0.0, bar_style='info', description='Progress:', layout=Layout(height='25px', width='50%'),…"
      ]
     },
     "metadata": {},
     "output_type": "display_data"
    }
   ],
   "source": [
    "# Importing the libraries for data transormation\n",
    "from pyspark.ml.feature import OneHotEncoderEstimator, StringIndexer, VectorAssembler"
   ]
  },
  {
   "cell_type": "code",
   "execution_count": 139,
   "metadata": {},
   "outputs": [
    {
     "data": {
      "application/vnd.jupyter.widget-view+json": {
       "model_id": "f35e8f29ed9a4ca5bbe410d206ffc62e",
       "version_major": 2,
       "version_minor": 0
      },
      "text/plain": [
       "VBox()"
      ]
     },
     "metadata": {},
     "output_type": "display_data"
    },
    {
     "data": {
      "application/vnd.jupyter.widget-view+json": {
       "model_id": "",
       "version_major": 2,
       "version_minor": 0
      },
      "text/plain": [
       "FloatProgress(value=0.0, bar_style='info', description='Progress:', layout=Layout(height='25px', width='50%'),…"
      ]
     },
     "metadata": {},
     "output_type": "display_data"
    }
   ],
   "source": [
    "# Initialising the variable 'stages' to store every step for building a pipeline\n",
    "stages = []"
   ]
  },
  {
   "cell_type": "code",
   "execution_count": null,
   "metadata": {},
   "outputs": [],
   "source": []
  },
  {
   "cell_type": "code",
   "execution_count": null,
   "metadata": {},
   "outputs": [],
   "source": []
  },
  {
   "cell_type": "code",
   "execution_count": null,
   "metadata": {},
   "outputs": [],
   "source": []
  },
  {
   "cell_type": "markdown",
   "metadata": {},
   "source": [
    "### StringIndexer: Features which are in string are converted to numerical values"
   ]
  },
  {
   "cell_type": "markdown",
   "metadata": {},
   "source": [
    "### OneHotEncoderEstimator: Converts categorical variable into new columns"
   ]
  },
  {
   "cell_type": "code",
   "execution_count": null,
   "metadata": {},
   "outputs": [],
   "source": []
  },
  {
   "cell_type": "code",
   "execution_count": 140,
   "metadata": {},
   "outputs": [
    {
     "data": {
      "application/vnd.jupyter.widget-view+json": {
       "model_id": "44d29de27a5f47f58caac2f31303bce2",
       "version_major": 2,
       "version_minor": 0
      },
      "text/plain": [
       "VBox()"
      ]
     },
     "metadata": {},
     "output_type": "display_data"
    },
    {
     "data": {
      "application/vnd.jupyter.widget-view+json": {
       "model_id": "",
       "version_major": 2,
       "version_minor": 0
      },
      "text/plain": [
       "FloatProgress(value=0.0, bar_style='info', description='Progress:', layout=Layout(height='25px', width='50%'),…"
      ]
     },
     "metadata": {},
     "output_type": "display_data"
    },
    {
     "name": "stdout",
     "output_type": "stream",
     "text": [
      "Primary Type\n",
      "Location Description\n",
      "Arrest\n",
      "Domestic\n",
      "District\n",
      "Year\n",
      "hour\n",
      "day_of_week"
     ]
    }
   ],
   "source": [
    "# Building a function for encoding all the categorical variables\n",
    "\n",
    "\n",
    "for categoricalCol in categorical_features:\n",
    "    print(categoricalCol)\n",
    "    stringIndexer = StringIndexer(inputCol = categoricalCol, outputCol = categoricalCol + '_Index')\n",
    "    encoder = OneHotEncoderEstimator(inputCols=[stringIndexer.getOutputCol()], outputCols=[categoricalCol + \"_encoded\"])    \n",
    "    stages += [stringIndexer, encoder]"
   ]
  },
  {
   "cell_type": "code",
   "execution_count": null,
   "metadata": {},
   "outputs": [],
   "source": []
  },
  {
   "cell_type": "code",
   "execution_count": null,
   "metadata": {},
   "outputs": [],
   "source": []
  },
  {
   "cell_type": "code",
   "execution_count": 141,
   "metadata": {
    "scrolled": true
   },
   "outputs": [
    {
     "data": {
      "application/vnd.jupyter.widget-view+json": {
       "model_id": "6381af00c8bc4fc3bdecceb490469453",
       "version_major": 2,
       "version_minor": 0
      },
      "text/plain": [
       "VBox()"
      ]
     },
     "metadata": {},
     "output_type": "display_data"
    },
    {
     "data": {
      "application/vnd.jupyter.widget-view+json": {
       "model_id": "",
       "version_major": 2,
       "version_minor": 0
      },
      "text/plain": [
       "FloatProgress(value=0.0, bar_style='info', description='Progress:', layout=Layout(height='25px', width='50%'),…"
      ]
     },
     "metadata": {},
     "output_type": "display_data"
    }
   ],
   "source": [
    "# Encoding the target variable as label\n",
    "\n",
    "label_stringIdx = StringIndexer(inputCol = 'FBI Code', outputCol = 'label')\n",
    "\n",
    "stages += [label_stringIdx]"
   ]
  },
  {
   "cell_type": "code",
   "execution_count": 142,
   "metadata": {},
   "outputs": [
    {
     "data": {
      "application/vnd.jupyter.widget-view+json": {
       "model_id": "4b4fd57e99094f8d981762a9cdc2e38b",
       "version_major": 2,
       "version_minor": 0
      },
      "text/plain": [
       "VBox()"
      ]
     },
     "metadata": {},
     "output_type": "display_data"
    },
    {
     "data": {
      "application/vnd.jupyter.widget-view+json": {
       "model_id": "",
       "version_major": 2,
       "version_minor": 0
      },
      "text/plain": [
       "FloatProgress(value=0.0, bar_style='info', description='Progress:', layout=Layout(height='25px', width='50%'),…"
      ]
     },
     "metadata": {},
     "output_type": "display_data"
    },
    {
     "name": "stdout",
     "output_type": "stream",
     "text": [
      "[StringIndexer_46f75f15cfb9, OneHotEncoderEstimator_955beccb5a0a, StringIndexer_6b1f1a2801ad, OneHotEncoderEstimator_8dd458a4d76b, StringIndexer_dd5cbb907019, OneHotEncoderEstimator_cc3776b40ca4, StringIndexer_b4117327cb9e, OneHotEncoderEstimator_50cdbff464fe, StringIndexer_5c268d07b4dd, OneHotEncoderEstimator_e189179533bd, StringIndexer_d0e171099530, OneHotEncoderEstimator_00cf728786de, StringIndexer_e1090305972a, OneHotEncoderEstimator_92cdd74eee2a, StringIndexer_d52e87515d6f, OneHotEncoderEstimator_351002ed20c8, StringIndexer_6ea80d065060]"
     ]
    }
   ],
   "source": [
    "stages"
   ]
  },
  {
   "cell_type": "code",
   "execution_count": null,
   "metadata": {},
   "outputs": [],
   "source": []
  },
  {
   "cell_type": "code",
   "execution_count": null,
   "metadata": {},
   "outputs": [],
   "source": []
  },
  {
   "cell_type": "code",
   "execution_count": null,
   "metadata": {},
   "outputs": [],
   "source": []
  },
  {
   "cell_type": "markdown",
   "metadata": {},
   "source": [
    "### VectorAssembler: Generated vectors for all the features"
   ]
  },
  {
   "cell_type": "code",
   "execution_count": 143,
   "metadata": {},
   "outputs": [
    {
     "data": {
      "application/vnd.jupyter.widget-view+json": {
       "model_id": "14e3ab723fbd4f808d37d0a1712564bc",
       "version_major": 2,
       "version_minor": 0
      },
      "text/plain": [
       "VBox()"
      ]
     },
     "metadata": {},
     "output_type": "display_data"
    },
    {
     "data": {
      "application/vnd.jupyter.widget-view+json": {
       "model_id": "",
       "version_major": 2,
       "version_minor": 0
      },
      "text/plain": [
       "FloatProgress(value=0.0, bar_style='info', description='Progress:', layout=Layout(height='25px', width='50%'),…"
      ]
     },
     "metadata": {},
     "output_type": "display_data"
    }
   ],
   "source": [
    "# Building a function for generating a vector of all features\n",
    "\n",
    "assemblerInputs = [c + \"_encoded\" for c in categorical_features] + continuous_features\n",
    "\n",
    "\n",
    "assembler = VectorAssembler(inputCols=assemblerInputs, outputCol=\"features\")\n",
    "\n",
    "\n",
    "stages += [assembler]"
   ]
  },
  {
   "cell_type": "code",
   "execution_count": null,
   "metadata": {},
   "outputs": [],
   "source": []
  },
  {
   "cell_type": "code",
   "execution_count": null,
   "metadata": {},
   "outputs": [],
   "source": []
  },
  {
   "cell_type": "markdown",
   "metadata": {},
   "source": [
    "### Pipeline stages are used to run all Steps/stages\n",
    "\n",
    "**Stages is a list of functions which is used as an input to the pipeline**"
   ]
  },
  {
   "cell_type": "code",
   "execution_count": null,
   "metadata": {},
   "outputs": [],
   "source": []
  },
  {
   "cell_type": "code",
   "execution_count": 144,
   "metadata": {},
   "outputs": [
    {
     "data": {
      "application/vnd.jupyter.widget-view+json": {
       "model_id": "8dddb66f15ef41af9f2c6a9dc86626e7",
       "version_major": 2,
       "version_minor": 0
      },
      "text/plain": [
       "VBox()"
      ]
     },
     "metadata": {},
     "output_type": "display_data"
    },
    {
     "data": {
      "application/vnd.jupyter.widget-view+json": {
       "model_id": "",
       "version_major": 2,
       "version_minor": 0
      },
      "text/plain": [
       "FloatProgress(value=0.0, bar_style='info', description='Progress:', layout=Layout(height='25px', width='50%'),…"
      ]
     },
     "metadata": {},
     "output_type": "display_data"
    }
   ],
   "source": [
    "# Loading all the steps in a pipeline\n",
    "from pyspark.ml import Pipeline\n"
   ]
  },
  {
   "cell_type": "code",
   "execution_count": 145,
   "metadata": {},
   "outputs": [
    {
     "data": {
      "application/vnd.jupyter.widget-view+json": {
       "model_id": "15f86eed91ec4f7c900269dd67bc816c",
       "version_major": 2,
       "version_minor": 0
      },
      "text/plain": [
       "VBox()"
      ]
     },
     "metadata": {},
     "output_type": "display_data"
    },
    {
     "data": {
      "application/vnd.jupyter.widget-view+json": {
       "model_id": "",
       "version_major": 2,
       "version_minor": 0
      },
      "text/plain": [
       "FloatProgress(value=0.0, bar_style='info', description='Progress:', layout=Layout(height='25px', width='50%'),…"
      ]
     },
     "metadata": {},
     "output_type": "display_data"
    }
   ],
   "source": [
    "pipeline = Pipeline(stages = stages)"
   ]
  },
  {
   "cell_type": "code",
   "execution_count": 146,
   "metadata": {},
   "outputs": [
    {
     "data": {
      "application/vnd.jupyter.widget-view+json": {
       "model_id": "fa8817dbf9fe4e96991fa11177933570",
       "version_major": 2,
       "version_minor": 0
      },
      "text/plain": [
       "VBox()"
      ]
     },
     "metadata": {},
     "output_type": "display_data"
    },
    {
     "data": {
      "application/vnd.jupyter.widget-view+json": {
       "model_id": "",
       "version_major": 2,
       "version_minor": 0
      },
      "text/plain": [
       "FloatProgress(value=0.0, bar_style='info', description='Progress:', layout=Layout(height='25px', width='50%'),…"
      ]
     },
     "metadata": {},
     "output_type": "display_data"
    },
    {
     "name": "stdout",
     "output_type": "stream",
     "text": [
      "Pipeline_5ca092f1a177"
     ]
    }
   ],
   "source": [
    "pipeline"
   ]
  },
  {
   "cell_type": "markdown",
   "metadata": {},
   "source": [
    "### Fit & Transform DF"
   ]
  },
  {
   "cell_type": "code",
   "execution_count": 147,
   "metadata": {
    "scrolled": true
   },
   "outputs": [
    {
     "data": {
      "application/vnd.jupyter.widget-view+json": {
       "model_id": "0837f42ce1e34c7b9d9b1ed96897da0f",
       "version_major": 2,
       "version_minor": 0
      },
      "text/plain": [
       "VBox()"
      ]
     },
     "metadata": {},
     "output_type": "display_data"
    },
    {
     "data": {
      "application/vnd.jupyter.widget-view+json": {
       "model_id": "",
       "version_major": 2,
       "version_minor": 0
      },
      "text/plain": [
       "FloatProgress(value=0.0, bar_style='info', description='Progress:', layout=Layout(height='25px', width='50%'),…"
      ]
     },
     "metadata": {},
     "output_type": "display_data"
    }
   ],
   "source": [
    "# Fitting the steps on the dataFrame\n",
    "pipelineModel = pipeline.fit(df)"
   ]
  },
  {
   "cell_type": "code",
   "execution_count": 148,
   "metadata": {
    "scrolled": false
   },
   "outputs": [
    {
     "data": {
      "application/vnd.jupyter.widget-view+json": {
       "model_id": "694abcbac87842d383adfbf16b964125",
       "version_major": 2,
       "version_minor": 0
      },
      "text/plain": [
       "VBox()"
      ]
     },
     "metadata": {},
     "output_type": "display_data"
    },
    {
     "data": {
      "application/vnd.jupyter.widget-view+json": {
       "model_id": "",
       "version_major": 2,
       "version_minor": 0
      },
      "text/plain": [
       "FloatProgress(value=0.0, bar_style='info', description='Progress:', layout=Layout(height='25px', width='50%'),…"
      ]
     },
     "metadata": {},
     "output_type": "display_data"
    }
   ],
   "source": [
    "# Transforming the dataframe\n",
    "df = pipelineModel.transform(df)"
   ]
  },
  {
   "cell_type": "code",
   "execution_count": 149,
   "metadata": {},
   "outputs": [
    {
     "data": {
      "application/vnd.jupyter.widget-view+json": {
       "model_id": "6d9b8a572ca14918a3e99524a291308e",
       "version_major": 2,
       "version_minor": 0
      },
      "text/plain": [
       "VBox()"
      ]
     },
     "metadata": {},
     "output_type": "display_data"
    },
    {
     "data": {
      "application/vnd.jupyter.widget-view+json": {
       "model_id": "",
       "version_major": 2,
       "version_minor": 0
      },
      "text/plain": [
       "FloatProgress(value=0.0, bar_style='info', description='Progress:', layout=Layout(height='25px', width='50%'),…"
      ]
     },
     "metadata": {},
     "output_type": "display_data"
    },
    {
     "name": "stdout",
     "output_type": "stream",
     "text": [
      "+----------+--------------------+--------------------+------+--------+--------+--------+------------+------------+----+---------+---------+----+-----------+------------------+--------------------+--------------------------+----------------------------+------------+--------------+--------------+----------------+--------------+----------------+----------+-------------+----------+---------------+-----------------+-------------------+-----+--------------------+\n",
      "|Unnamed: 0|        Primary Type|Location Description|Arrest|Domestic|District|FBI Code|X Coordinate|Y Coordinate|Year| Latitude|Longitude|hour|day_of_week|Primary Type_Index|Primary Type_encoded|Location Description_Index|Location Description_encoded|Arrest_Index|Arrest_encoded|Domestic_Index|Domestic_encoded|District_Index|District_encoded|Year_Index| Year_encoded|hour_Index|   hour_encoded|day_of_week_Index|day_of_week_encoded|label|            features|\n",
      "+----------+--------------------+--------------------+------+--------+--------+--------+------------+------------+----+---------+---------+----+-----------+------------------+--------------------+--------------------------+----------------------------+------------+--------------+--------------+----------------+--------------+----------------+----------+-------------+----------+---------------+-----------------+-------------------+-----+--------------------+\n",
      "|         3|             BATTERY|           APARTMENT|  True|    True|      10|     08B|   1154907.0|   1893681.0|2016|41.864075|-87.70682|  23|          3|               1.0|      (32,[1],[1.0])|                       2.0|             (139,[2],[1.0])|         1.0|     (1,[],[])|           1.0|       (1,[],[])|           9.0|  (23,[9],[1.0])|       4.0|(5,[4],[1.0])|      15.0|(23,[15],[1.0])|              5.0|      (6,[5],[1.0])|  1.0|(234,[1,34,182,20...|\n",
      "|        89|             BATTERY|           RESIDENCE| False|    True|       3|     08B|   1183066.0|   1864330.0|2016| 41.78292|-87.60436|  21|          3|               1.0|      (32,[1],[1.0])|                       1.0|             (139,[1],[1.0])|         0.0| (1,[0],[1.0])|           1.0|       (1,[],[])|           6.0|  (23,[6],[1.0])|       4.0|(5,[4],[1.0])|       5.0| (23,[5],[1.0])|              5.0|      (6,[5],[1.0])|  1.0|(234,[1,33,171,17...|\n",
      "|       197|PUBLIC PEACE VIOL...|              STREET| False|   False|      15|      24|   1140789.0|   1904819.0|2016| 41.89491|-87.75837|  23|          3|              12.0|     (32,[12],[1.0])|                       0.0|             (139,[0],[1.0])|         0.0| (1,[0],[1.0])|           0.0|   (1,[0],[1.0])|          12.0| (23,[12],[1.0])|       4.0|(5,[4],[1.0])|      15.0|(23,[15],[1.0])|              5.0|      (6,[5],[1.0])| 12.0|(234,[12,32,171,1...|\n",
      "|       673|             BATTERY|            SIDEWALK| False|   False|      15|     08B|   1143223.0|   1901475.0|2016|41.885685|-87.74952|  22|          3|               1.0|      (32,[1],[1.0])|                       3.0|             (139,[3],[1.0])|         0.0| (1,[0],[1.0])|           0.0|   (1,[0],[1.0])|          12.0| (23,[12],[1.0])|       4.0|(5,[4],[1.0])|       6.0| (23,[6],[1.0])|              5.0|      (6,[5],[1.0])|  1.0|(234,[1,35,171,17...|\n",
      "|       911|               THEFT|           RESIDENCE| False|    True|      15|      06|   1139890.0|   1901675.0|2016|  41.8863|-87.76175|  22|          3|               0.0|      (32,[0],[1.0])|                       1.0|             (139,[1],[1.0])|         0.0| (1,[0],[1.0])|           1.0|       (1,[],[])|          12.0| (23,[12],[1.0])|       4.0|(5,[4],[1.0])|       6.0| (23,[6],[1.0])|              5.0|      (6,[5],[1.0])|  0.0|(234,[0,33,171,18...|\n",
      "+----------+--------------------+--------------------+------+--------+--------+--------+------------+------------+----+---------+---------+----+-----------+------------------+--------------------+--------------------------+----------------------------+------------+--------------+--------------+----------------+--------------+----------------+----------+-------------+----------+---------------+-----------------+-------------------+-----+--------------------+\n",
      "only showing top 5 rows"
     ]
    }
   ],
   "source": [
    "# show rows\n",
    "df.show(5)"
   ]
  },
  {
   "cell_type": "code",
   "execution_count": 150,
   "metadata": {
    "scrolled": true
   },
   "outputs": [
    {
     "data": {
      "application/vnd.jupyter.widget-view+json": {
       "model_id": "ffd9320bdd3449f185e778481f20f1a4",
       "version_major": 2,
       "version_minor": 0
      },
      "text/plain": [
       "VBox()"
      ]
     },
     "metadata": {},
     "output_type": "display_data"
    },
    {
     "data": {
      "application/vnd.jupyter.widget-view+json": {
       "model_id": "",
       "version_major": 2,
       "version_minor": 0
      },
      "text/plain": [
       "FloatProgress(value=0.0, bar_style='info', description='Progress:', layout=Layout(height='25px', width='50%'),…"
      ]
     },
     "metadata": {},
     "output_type": "display_data"
    },
    {
     "name": "stdout",
     "output_type": "stream",
     "text": [
      "root\n",
      " |-- Unnamed: 0: string (nullable = true)\n",
      " |-- Primary Type: string (nullable = true)\n",
      " |-- Location Description: string (nullable = true)\n",
      " |-- Arrest: string (nullable = true)\n",
      " |-- Domestic: string (nullable = true)\n",
      " |-- District: integer (nullable = true)\n",
      " |-- FBI Code: string (nullable = true)\n",
      " |-- X Coordinate: float (nullable = true)\n",
      " |-- Y Coordinate: float (nullable = true)\n",
      " |-- Year: integer (nullable = true)\n",
      " |-- Latitude: float (nullable = true)\n",
      " |-- Longitude: float (nullable = true)\n",
      " |-- hour: integer (nullable = true)\n",
      " |-- day_of_week: integer (nullable = true)\n",
      " |-- Primary Type_Index: double (nullable = false)\n",
      " |-- Primary Type_encoded: vector (nullable = true)\n",
      " |-- Location Description_Index: double (nullable = false)\n",
      " |-- Location Description_encoded: vector (nullable = true)\n",
      " |-- Arrest_Index: double (nullable = false)\n",
      " |-- Arrest_encoded: vector (nullable = true)\n",
      " |-- Domestic_Index: double (nullable = false)\n",
      " |-- Domestic_encoded: vector (nullable = true)\n",
      " |-- District_Index: double (nullable = false)\n",
      " |-- District_encoded: vector (nullable = true)\n",
      " |-- Year_Index: double (nullable = false)\n",
      " |-- Year_encoded: vector (nullable = true)\n",
      " |-- hour_Index: double (nullable = false)\n",
      " |-- hour_encoded: vector (nullable = true)\n",
      " |-- day_of_week_Index: double (nullable = false)\n",
      " |-- day_of_week_encoded: vector (nullable = true)\n",
      " |-- label: double (nullable = false)\n",
      " |-- features: vector (nullable = true)"
     ]
    }
   ],
   "source": [
    "# Checking the schema of transformed dataFrame\n",
    "df.printSchema()"
   ]
  },
  {
   "cell_type": "code",
   "execution_count": null,
   "metadata": {},
   "outputs": [],
   "source": []
  },
  {
   "cell_type": "code",
   "execution_count": 151,
   "metadata": {},
   "outputs": [
    {
     "data": {
      "application/vnd.jupyter.widget-view+json": {
       "model_id": "09071e5591924583aa6fb9dd87d91983",
       "version_major": 2,
       "version_minor": 0
      },
      "text/plain": [
       "VBox()"
      ]
     },
     "metadata": {},
     "output_type": "display_data"
    },
    {
     "data": {
      "application/vnd.jupyter.widget-view+json": {
       "model_id": "",
       "version_major": 2,
       "version_minor": 0
      },
      "text/plain": [
       "FloatProgress(value=0.0, bar_style='info', description='Progress:', layout=Layout(height='25px', width='50%'),…"
      ]
     },
     "metadata": {},
     "output_type": "display_data"
    },
    {
     "name": "stdout",
     "output_type": "stream",
     "text": [
      "+-----+------+\n",
      "|label| count|\n",
      "+-----+------+\n",
      "|  0.0|321960|\n",
      "|  1.0|222988|\n",
      "|  2.0|152816|\n",
      "|  3.0|134437|\n",
      "|  4.0|125762|\n",
      "|  5.0| 81671|\n",
      "|  6.0| 66801|\n",
      "|  7.0| 59858|\n",
      "|  8.0| 59250|\n",
      "|  9.0| 56093|\n",
      "| 10.0| 35956|\n",
      "| 11.0| 23380|\n",
      "| 12.0| 17080|\n",
      "| 13.0| 17070|\n",
      "| 14.0|  7783|\n",
      "| 15.0|  7585|\n",
      "| 16.0|  6756|\n",
      "| 17.0|  6303|\n",
      "| 18.0|  5387|\n",
      "| 19.0|  2578|\n",
      "+-----+------+\n",
      "only showing top 20 rows"
     ]
    }
   ],
   "source": [
    "df.groupBy(\"label\").count().orderBy(\"count\", ascending = False).show()"
   ]
  },
  {
   "cell_type": "code",
   "execution_count": null,
   "metadata": {},
   "outputs": [],
   "source": []
  },
  {
   "cell_type": "code",
   "execution_count": null,
   "metadata": {},
   "outputs": [],
   "source": []
  },
  {
   "cell_type": "code",
   "execution_count": null,
   "metadata": {},
   "outputs": [],
   "source": []
  },
  {
   "cell_type": "markdown",
   "metadata": {},
   "source": [
    "### Split data into train & test"
   ]
  },
  {
   "cell_type": "code",
   "execution_count": 152,
   "metadata": {
    "scrolled": false
   },
   "outputs": [
    {
     "data": {
      "application/vnd.jupyter.widget-view+json": {
       "model_id": "f1399f5310c34ba0a0340dadbb07db5c",
       "version_major": 2,
       "version_minor": 0
      },
      "text/plain": [
       "VBox()"
      ]
     },
     "metadata": {},
     "output_type": "display_data"
    },
    {
     "data": {
      "application/vnd.jupyter.widget-view+json": {
       "model_id": "",
       "version_major": 2,
       "version_minor": 0
      },
      "text/plain": [
       "FloatProgress(value=0.0, bar_style='info', description='Progress:', layout=Layout(height='25px', width='50%'),…"
      ]
     },
     "metadata": {},
     "output_type": "display_data"
    }
   ],
   "source": [
    "# Splitting the dataFrame into training and testing set\n",
    "\n",
    "train, test = df.randomSplit([0.7, 0.3], seed = 100)"
   ]
  },
  {
   "cell_type": "code",
   "execution_count": null,
   "metadata": {},
   "outputs": [],
   "source": []
  },
  {
   "cell_type": "code",
   "execution_count": null,
   "metadata": {},
   "outputs": [],
   "source": []
  },
  {
   "cell_type": "code",
   "execution_count": 153,
   "metadata": {},
   "outputs": [
    {
     "data": {
      "application/vnd.jupyter.widget-view+json": {
       "model_id": "1f3768439e4b459aa8719853c62666c9",
       "version_major": 2,
       "version_minor": 0
      },
      "text/plain": [
       "VBox()"
      ]
     },
     "metadata": {},
     "output_type": "display_data"
    },
    {
     "data": {
      "application/vnd.jupyter.widget-view+json": {
       "model_id": "",
       "version_major": 2,
       "version_minor": 0
      },
      "text/plain": [
       "FloatProgress(value=0.0, bar_style='info', description='Progress:', layout=Layout(height='25px', width='50%'),…"
      ]
     },
     "metadata": {},
     "output_type": "display_data"
    },
    {
     "name": "stdout",
     "output_type": "stream",
     "text": [
      "Training Dataset Count: 992260"
     ]
    }
   ],
   "source": [
    "print(\"Training Dataset Count: \" + str(train.count()))"
   ]
  },
  {
   "cell_type": "code",
   "execution_count": null,
   "metadata": {},
   "outputs": [],
   "source": []
  },
  {
   "cell_type": "code",
   "execution_count": null,
   "metadata": {},
   "outputs": [],
   "source": []
  },
  {
   "cell_type": "code",
   "execution_count": 154,
   "metadata": {
    "scrolled": true
   },
   "outputs": [
    {
     "data": {
      "application/vnd.jupyter.widget-view+json": {
       "model_id": "f5e1573ddf8c492da458b0edb2f514fb",
       "version_major": 2,
       "version_minor": 0
      },
      "text/plain": [
       "VBox()"
      ]
     },
     "metadata": {},
     "output_type": "display_data"
    },
    {
     "data": {
      "application/vnd.jupyter.widget-view+json": {
       "model_id": "",
       "version_major": 2,
       "version_minor": 0
      },
      "text/plain": [
       "FloatProgress(value=0.0, bar_style='info', description='Progress:', layout=Layout(height='25px', width='50%'),…"
      ]
     },
     "metadata": {},
     "output_type": "display_data"
    },
    {
     "name": "stdout",
     "output_type": "stream",
     "text": [
      "Test Dataset Count: 426228"
     ]
    }
   ],
   "source": [
    "print(\"Test Dataset Count: \" + str(test.count()))"
   ]
  },
  {
   "cell_type": "code",
   "execution_count": null,
   "metadata": {},
   "outputs": [],
   "source": []
  },
  {
   "cell_type": "code",
   "execution_count": null,
   "metadata": {},
   "outputs": [],
   "source": []
  },
  {
   "cell_type": "markdown",
   "metadata": {},
   "source": [
    "## Spark Random Forest"
   ]
  },
  {
   "cell_type": "code",
   "execution_count": 155,
   "metadata": {},
   "outputs": [
    {
     "data": {
      "application/vnd.jupyter.widget-view+json": {
       "model_id": "12c6f839a0b9460f9499699177221c36",
       "version_major": 2,
       "version_minor": 0
      },
      "text/plain": [
       "VBox()"
      ]
     },
     "metadata": {},
     "output_type": "display_data"
    },
    {
     "data": {
      "application/vnd.jupyter.widget-view+json": {
       "model_id": "",
       "version_major": 2,
       "version_minor": 0
      },
      "text/plain": [
       "FloatProgress(value=0.0, bar_style='info', description='Progress:', layout=Layout(height='25px', width='50%'),…"
      ]
     },
     "metadata": {},
     "output_type": "display_data"
    }
   ],
   "source": [
    "from pyspark.ml.classification import RandomForestClassifier"
   ]
  },
  {
   "cell_type": "code",
   "execution_count": null,
   "metadata": {},
   "outputs": [],
   "source": []
  },
  {
   "cell_type": "code",
   "execution_count": null,
   "metadata": {},
   "outputs": [],
   "source": []
  },
  {
   "cell_type": "code",
   "execution_count": 156,
   "metadata": {
    "scrolled": true
   },
   "outputs": [
    {
     "data": {
      "application/vnd.jupyter.widget-view+json": {
       "model_id": "31ecea669e924cc28edaa1912621edcc",
       "version_major": 2,
       "version_minor": 0
      },
      "text/plain": [
       "VBox()"
      ]
     },
     "metadata": {},
     "output_type": "display_data"
    },
    {
     "data": {
      "application/vnd.jupyter.widget-view+json": {
       "model_id": "",
       "version_major": 2,
       "version_minor": 0
      },
      "text/plain": [
       "FloatProgress(value=0.0, bar_style='info', description='Progress:', layout=Layout(height='25px', width='50%'),…"
      ]
     },
     "metadata": {},
     "output_type": "display_data"
    }
   ],
   "source": [
    "# Building the RF model\n",
    "\n",
    "rf = RandomForestClassifier(featuresCol = 'features', labelCol = 'label', \\\n",
    "                            maxDepth=5, impurity='gini', numTrees=25, seed=100)"
   ]
  },
  {
   "cell_type": "code",
   "execution_count": null,
   "metadata": {},
   "outputs": [],
   "source": []
  },
  {
   "cell_type": "code",
   "execution_count": null,
   "metadata": {},
   "outputs": [],
   "source": []
  },
  {
   "cell_type": "code",
   "execution_count": 157,
   "metadata": {
    "scrolled": false
   },
   "outputs": [
    {
     "data": {
      "application/vnd.jupyter.widget-view+json": {
       "model_id": "8e6f17a183054d74be475420cb4c8f76",
       "version_major": 2,
       "version_minor": 0
      },
      "text/plain": [
       "VBox()"
      ]
     },
     "metadata": {},
     "output_type": "display_data"
    },
    {
     "data": {
      "application/vnd.jupyter.widget-view+json": {
       "model_id": "",
       "version_major": 2,
       "version_minor": 0
      },
      "text/plain": [
       "FloatProgress(value=0.0, bar_style='info', description='Progress:', layout=Layout(height='25px', width='50%'),…"
      ]
     },
     "metadata": {},
     "output_type": "display_data"
    }
   ],
   "source": [
    "# Fitting the model over the training set\n",
    "rfmodel = rf.fit(train)"
   ]
  },
  {
   "cell_type": "code",
   "execution_count": null,
   "metadata": {},
   "outputs": [],
   "source": []
  },
  {
   "cell_type": "code",
   "execution_count": null,
   "metadata": {},
   "outputs": [],
   "source": []
  },
  {
   "cell_type": "code",
   "execution_count": 158,
   "metadata": {},
   "outputs": [
    {
     "data": {
      "application/vnd.jupyter.widget-view+json": {
       "model_id": "9fd0ce96eed24d7fa2ae5c63a0fa25d4",
       "version_major": 2,
       "version_minor": 0
      },
      "text/plain": [
       "VBox()"
      ]
     },
     "metadata": {},
     "output_type": "display_data"
    },
    {
     "data": {
      "application/vnd.jupyter.widget-view+json": {
       "model_id": "",
       "version_major": 2,
       "version_minor": 0
      },
      "text/plain": [
       "FloatProgress(value=0.0, bar_style='info', description='Progress:', layout=Layout(height='25px', width='50%'),…"
      ]
     },
     "metadata": {},
     "output_type": "display_data"
    },
    {
     "name": "stdout",
     "output_type": "stream",
     "text": [
      "RandomForestClassificationModel (uid=RandomForestClassifier_03ce5042aea5) with 25 trees\n",
      "  Tree 0 (weight 1.0):\n",
      "    If (feature 3 in {0.0})\n",
      "     If (feature 46 in {0.0})\n",
      "      If (feature 38 in {0.0})\n",
      "       If (feature 7 in {0.0})\n",
      "        If (feature 33 in {0.0})\n",
      "         Predict: 0.0\n",
      "        Else (feature 33 not in {0.0})\n",
      "         Predict: 1.0\n",
      "       Else (feature 7 not in {0.0})\n",
      "        Predict: 8.0\n",
      "      Else (feature 38 not in {0.0})\n",
      "       If (feature 12 in {0.0})\n",
      "        Predict: 9.0\n",
      "       Else (feature 12 not in {0.0})\n",
      "        Predict: 12.0\n",
      "     Else (feature 46 not in {0.0})\n",
      "      If (feature 196 in {0.0})\n",
      "       If (feature 219 in {0.0})\n",
      "        Predict: 0.0\n",
      "       Else (feature 219 not in {0.0})\n",
      "        If (feature 184 in {0.0})\n",
      "         Predict: 0.0\n",
      "        Else (feature 184 not in {0.0})\n",
      "         Predict: 5.0\n",
      "      Else (feature 196 not in {0.0})\n",
      "       If (feature 212 in {0.0})\n",
      "        If (feature 172 in {0.0})\n",
      "         Predict: 1.0\n",
      "        Else (feature 172 not in {0.0})\n",
      "         Predict: 0.0\n",
      "       Else (feature 212 not in {0.0})\n",
      "        If (feature 225 in {0.0})\n",
      "         Predict: 0.0\n",
      "        Else (feature 225 not in {0.0})\n",
      "         Predict: 3.0\n",
      "    Else (feature 3 not in {0.0})\n",
      "     If (feature 225 in {0.0})\n",
      "      If (feature 91 in {0.0})\n",
      "       Predict: 4.0\n",
      "      Else (feature 91 not in {0.0})\n",
      "       If (feature 176 in {0.0})\n",
      "        If (feature 205 in {0.0})\n",
      "         Predict: 4.0\n",
      "        Else (feature 205 not in {0.0})\n",
      "         Predict: 3.0\n",
      "       Else (feature 176 not in {0.0})\n",
      "        Predict: 4.0\n",
      "     Else (feature 225 not in {0.0})\n",
      "      If (feature 232 <= 41.85837364196777)\n",
      "       If (feature 233 <= -87.62105560302734)\n",
      "        If (feature 46 in {0.0})\n",
      "         Predict: 4.0\n",
      "        Else (feature 46 not in {0.0})\n",
      "         Predict: 3.0\n",
      "       Else (feature 233 > -87.62105560302734)\n",
      "        Predict: 4.0\n",
      "      Else (feature 232 > 41.85837364196777)\n",
      "       If (feature 49 in {0.0})\n",
      "        If (feature 43 in {0.0})\n",
      "         Predict: 4.0\n",
      "        Else (feature 43 not in {0.0})\n",
      "         Predict: 3.0\n",
      "       Else (feature 49 not in {0.0})\n",
      "        Predict: 4.0\n",
      "  Tree 1 (weight 1.0):\n",
      "    If (feature 6 in {0.0})\n",
      "     If (feature 17 in {0.0})\n",
      "      If (feature 8 in {0.0})\n",
      "       If (feature 33 in {0.0})\n",
      "        Predict: 0.0\n",
      "       Else (feature 33 not in {0.0})\n",
      "        If (feature 231 <= 1891620.5)\n",
      "         Predict: 1.0\n",
      "        Else (feature 231 > 1891620.5)\n",
      "         Predict: 3.0\n",
      "      Else (feature 8 not in {0.0})\n",
      "       Predict: 7.0\n",
      "     Else (feature 17 not in {0.0})\n",
      "      Predict: 18.0\n",
      "    Else (feature 6 not in {0.0})\n",
      "     Predict: 5.0\n",
      "  Tree 2 (weight 1.0):\n",
      "    If (feature 172 in {0.0})\n",
      "     If (feature 13 in {0.0})\n",
      "      If (feature 10 in {0.0})\n",
      "       If (feature 7 in {0.0})\n",
      "        Predict: 1.0\n",
      "       Else (feature 7 not in {0.0})\n",
      "        Predict: 8.0\n",
      "      Else (feature 10 not in {0.0})\n",
      "       Predict: 3.0\n",
      "     Else (feature 13 not in {0.0})\n",
      "      If (feature 229 in {0.0})\n",
      "       If (feature 190 in {0.0})\n",
      "        If (feature 48 in {0.0})\n",
      "         Predict: 17.0\n",
      "        Else (feature 48 not in {0.0})\n",
      "         Predict: 3.0\n",
      "       Else (feature 190 not in {0.0})\n",
      "        Predict: 3.0\n",
      "      Else (feature 229 not in {0.0})\n",
      "       If (feature 41 in {0.0})\n",
      "        Predict: 17.0\n",
      "       Else (feature 41 not in {0.0})\n",
      "        Predict: 3.0\n",
      "    Else (feature 172 not in {0.0})\n",
      "     If (feature 173 in {0.0})\n",
      "      If (feature 6 in {0.0})\n",
      "       If (feature 1 in {0.0})\n",
      "        If (feature 14 in {0.0})\n",
      "         Predict: 0.0\n",
      "        Else (feature 14 not in {0.0})\n",
      "         Predict: 15.0\n",
      "       Else (feature 1 not in {0.0})\n",
      "        Predict: 1.0\n",
      "      Else (feature 6 not in {0.0})\n",
      "       Predict: 5.0\n",
      "     Else (feature 173 not in {0.0})\n",
      "      If (feature 3 in {0.0})\n",
      "       If (feature 233 <= -87.73312759399414)\n",
      "        If (feature 39 in {0.0})\n",
      "         Predict: 15.0\n",
      "        Else (feature 39 not in {0.0})\n",
      "         Predict: 0.0\n",
      "       Else (feature 233 > -87.73312759399414)\n",
      "        If (feature 9 in {0.0})\n",
      "         Predict: 0.0\n",
      "        Else (feature 9 not in {0.0})\n",
      "         Predict: 9.0\n",
      "      Else (feature 3 not in {0.0})\n",
      "       If (feature 233 <= -87.7102279663086)\n",
      "        Predict: 4.0\n",
      "       Else (feature 233 > -87.7102279663086)\n",
      "        If (feature 221 in {0.0})\n",
      "         Predict: 4.0\n",
      "        Else (feature 221 not in {0.0})\n",
      "         Predict: 3.0\n",
      "  Tree 3 (weight 1.0):\n",
      "    If (feature 0 in {0.0})\n",
      "     If (feature 33 in {0.0})\n",
      "      If (feature 171 in {0.0})\n",
      "       If (feature 9 in {0.0})\n",
      "        If (feature 19 in {0.0})\n",
      "         Predict: 4.0\n",
      "        Else (feature 19 not in {0.0})\n",
      "         Predict: 20.0\n",
      "       Else (feature 9 not in {0.0})\n",
      "        Predict: 9.0\n",
      "      Else (feature 171 not in {0.0})\n",
      "       If (feature 4 in {0.0})\n",
      "        If (feature 2 in {0.0})\n",
      "         Predict: 1.0\n",
      "        Else (feature 2 not in {0.0})\n",
      "         Predict: 2.0\n",
      "       Else (feature 4 not in {0.0})\n",
      "        Predict: 6.0\n",
      "     Else (feature 33 not in {0.0})\n",
      "      If (feature 3 in {0.0})\n",
      "       If (feature 15 in {0.0})\n",
      "        If (feature 10 in {0.0})\n",
      "         Predict: 1.0\n",
      "        Else (feature 10 not in {0.0})\n",
      "         Predict: 3.0\n",
      "       Else (feature 15 not in {0.0})\n",
      "        Predict: 16.0\n",
      "      Else (feature 3 not in {0.0})\n",
      "       Predict: 4.0\n",
      "    Else (feature 0 not in {0.0})\n",
      "     Predict: 0.0\n",
      "  Tree 4 (weight 1.0):\n",
      "    If (feature 0 in {0.0})\n",
      "     If (feature 1 in {0.0})\n",
      "      If (feature 9 in {0.0})\n",
      "       If (feature 11 in {0.0})\n",
      "        If (feature 3 in {0.0})\n",
      "         Predict: 2.0\n",
      "        Else (feature 3 not in {0.0})\n",
      "         Predict: 4.0\n",
      "       Else (feature 11 not in {0.0})\n",
      "        Predict: 13.0\n",
      "      Else (feature 9 not in {0.0})\n",
      "       Predict: 9.0\n",
      "     Else (feature 1 not in {0.0})\n",
      "      Predict: 1.0\n",
      "    Else (feature 0 not in {0.0})\n",
      "     Predict: 0.0\n",
      "  Tree 5 (weight 1.0):\n",
      "    If (feature 33 in {0.0})\n",
      "     If (feature 9 in {0.0})\n",
      "      If (feature 16 in {0.0})\n",
      "       If (feature 7 in {0.0})\n",
      "        Predict: 0.0\n",
      "       Else (feature 7 not in {0.0})\n",
      "        Predict: 8.0\n",
      "      Else (feature 16 not in {0.0})\n",
      "       Predict: 12.0\n",
      "     Else (feature 9 not in {0.0})\n",
      "      Predict: 9.0\n",
      "    Else (feature 33 not in {0.0})\n",
      "     If (feature 17 in {0.0})\n",
      "      If (feature 6 in {0.0})\n",
      "       If (feature 214 in {0.0})\n",
      "        Predict: 1.0\n",
      "       Else (feature 214 not in {0.0})\n",
      "        If (feature 4 in {0.0})\n",
      "         Predict: 0.0\n",
      "        Else (feature 4 not in {0.0})\n",
      "         Predict: 6.0\n",
      "      Else (feature 6 not in {0.0})\n",
      "       Predict: 5.0\n",
      "     Else (feature 17 not in {0.0})\n",
      "      Predict: 18.0\n",
      "  Tree 6 (weight 1.0):\n",
      "    If (feature 3 in {0.0})\n",
      "     If (feature 6 in {0.0})\n",
      "      If (feature 0 in {0.0})\n",
      "       If (feature 14 in {0.0})\n",
      "        If (feature 20 in {0.0})\n",
      "         Predict: 1.0\n",
      "        Else (feature 20 not in {0.0})\n",
      "         Predict: 21.0\n",
      "       Else (feature 14 not in {0.0})\n",
      "        Predict: 15.0\n",
      "      Else (feature 0 not in {0.0})\n",
      "       Predict: 0.0\n",
      "     Else (feature 6 not in {0.0})\n",
      "      Predict: 5.0\n",
      "    Else (feature 3 not in {0.0})\n",
      "     If (feature 233 <= -87.77811050415039)\n",
      "      If (feature 230 <= 1134409.5)\n",
      "       If (feature 198 in {0.0})\n",
      "        If (feature 95 in {0.0})\n",
      "         Predict: 4.0\n",
      "        Else (feature 95 not in {0.0})\n",
      "         Predict: 3.0\n",
      "       Else (feature 198 not in {0.0})\n",
      "        Predict: 4.0\n",
      "      Else (feature 230 > 1134409.5)\n",
      "       Predict: 4.0\n",
      "     Else (feature 233 > -87.77811050415039)\n",
      "      If (feature 187 in {0.0})\n",
      "       Predict: 4.0\n",
      "      Else (feature 187 not in {0.0})\n",
      "       If (feature 35 in {0.0})\n",
      "        If (feature 88 in {0.0})\n",
      "         Predict: 4.0\n",
      "        Else (feature 88 not in {0.0})\n",
      "         Predict: 3.0\n",
      "       Else (feature 35 not in {0.0})\n",
      "        Predict: 4.0\n",
      "  Tree 7 (weight 1.0):\n",
      "    If (feature 35 in {0.0})\n",
      "     If (feature 59 in {0.0})\n",
      "      If (feature 6 in {0.0})\n",
      "       If (feature 16 in {0.0})\n",
      "        Predict: 0.0\n",
      "       Else (feature 16 not in {0.0})\n",
      "        Predict: 12.0\n",
      "      Else (feature 6 not in {0.0})\n",
      "       Predict: 5.0\n",
      "     Else (feature 59 not in {0.0})\n",
      "      If (feature 10 in {0.0})\n",
      "       If (feature 4 in {0.0})\n",
      "        If (feature 12 in {0.0})\n",
      "         Predict: 0.0\n",
      "        Else (feature 12 not in {0.0})\n",
      "         Predict: 3.0\n",
      "       Else (feature 4 not in {0.0})\n",
      "        Predict: 6.0\n",
      "      Else (feature 10 not in {0.0})\n",
      "       Predict: 3.0\n",
      "    Else (feature 35 not in {0.0})\n",
      "     If (feature 24 in {0.0})\n",
      "      If (feature 185 in {0.0})\n",
      "       If (feature 7 in {0.0})\n",
      "        If (feature 233 <= -87.70453262329102)\n",
      "         Predict: 4.0\n",
      "        Else (feature 233 > -87.70453262329102)\n",
      "         Predict: 1.0\n",
      "       Else (feature 7 not in {0.0})\n",
      "        Predict: 8.0\n",
      "      Else (feature 185 not in {0.0})\n",
      "       If (feature 3 in {0.0})\n",
      "        Predict: 1.0\n",
      "       Else (feature 3 not in {0.0})\n",
      "        Predict: 4.0\n",
      "     Else (feature 24 not in {0.0})\n",
      "      Predict: 3.0\n",
      "  Tree 8 (weight 1.0):\n",
      "    If (feature 2 in {0.0})\n",
      "     If (feature 34 in {0.0})\n",
      "      If (feature 232 <= 41.88240051269531)\n",
      "       If (feature 8 in {0.0})\n",
      "        If (feature 19 in {0.0})\n",
      "         Predict: 0.0\n",
      "        Else (feature 19 not in {0.0})\n",
      "         Predict: 20.0\n",
      "       Else (feature 8 not in {0.0})\n",
      "        Predict: 7.0\n",
      "      Else (feature 232 > 41.88240051269531)\n",
      "       If (feature 7 in {0.0})\n",
      "        If (feature 4 in {0.0})\n",
      "         Predict: 0.0\n",
      "        Else (feature 4 not in {0.0})\n",
      "         Predict: 6.0\n",
      "       Else (feature 7 not in {0.0})\n",
      "        Predict: 8.0\n",
      "     Else (feature 34 not in {0.0})\n",
      "      If (feature 9 in {0.0})\n",
      "       If (feature 7 in {0.0})\n",
      "        If (feature 6 in {0.0})\n",
      "         Predict: 1.0\n",
      "        Else (feature 6 not in {0.0})\n",
      "         Predict: 5.0\n",
      "       Else (feature 7 not in {0.0})\n",
      "        Predict: 8.0\n",
      "      Else (feature 9 not in {0.0})\n",
      "       Predict: 9.0\n",
      "    Else (feature 2 not in {0.0})\n",
      "     Predict: 2.0\n",
      "  Tree 9 (weight 1.0):\n",
      "    If (feature 6 in {0.0})\n",
      "     If (feature 9 in {0.0})\n",
      "      If (feature 11 in {0.0})\n",
      "       If (feature 171 in {0.0})\n",
      "        If (feature 13 in {0.0})\n",
      "         Predict: 4.0\n",
      "        Else (feature 13 not in {0.0})\n",
      "         Predict: 17.0\n",
      "       Else (feature 171 not in {0.0})\n",
      "        Predict: 0.0\n",
      "      Else (feature 11 not in {0.0})\n",
      "       Predict: 13.0\n",
      "     Else (feature 9 not in {0.0})\n",
      "      Predict: 9.0\n",
      "    Else (feature 6 not in {0.0})\n",
      "     Predict: 5.0\n",
      "  Tree 10 (weight 1.0):\n",
      "    If (feature 32 in {0.0})\n",
      "     If (feature 172 in {0.0})\n",
      "      If (feature 4 in {0.0})\n",
      "       If (feature 190 in {0.0})\n",
      "        If (feature 15 in {0.0})\n",
      "         Predict: 1.0\n",
      "        Else (feature 15 not in {0.0})\n",
      "         Predict: 16.0\n",
      "       Else (feature 190 not in {0.0})\n",
      "        If (feature 5 in {0.0})\n",
      "         Predict: 1.0\n",
      "        Else (feature 5 not in {0.0})\n",
      "         Predict: 3.0\n",
      "      Else (feature 4 not in {0.0})\n",
      "       Predict: 6.0\n",
      "     Else (feature 172 not in {0.0})\n",
      "      If (feature 42 in {0.0})\n",
      "       If (feature 171 in {0.0})\n",
      "        If (feature 47 in {0.0})\n",
      "         Predict: 4.0\n",
      "        Else (feature 47 not in {0.0})\n",
      "         Predict: 0.0\n",
      "       Else (feature 171 not in {0.0})\n",
      "        If (feature 34 in {0.0})\n",
      "         Predict: 0.0\n",
      "        Else (feature 34 not in {0.0})\n",
      "         Predict: 5.0\n",
      "      Else (feature 42 not in {0.0})\n",
      "       If (feature 9 in {0.0})\n",
      "        If (feature 8 in {0.0})\n",
      "         Predict: 5.0\n",
      "        Else (feature 8 not in {0.0})\n",
      "         Predict: 7.0\n",
      "       Else (feature 9 not in {0.0})\n",
      "        Predict: 9.0\n",
      "    Else (feature 32 not in {0.0})\n",
      "     If (feature 12 in {0.0})\n",
      "      If (feature 18 in {0.0})\n",
      "       If (feature 232 <= 41.90493965148926)\n",
      "        If (feature 3 in {0.0})\n",
      "         Predict: 0.0\n",
      "        Else (feature 3 not in {0.0})\n",
      "         Predict: 4.0\n",
      "       Else (feature 232 > 41.90493965148926)\n",
      "        Predict: 0.0\n",
      "      Else (feature 18 not in {0.0})\n",
      "       Predict: 19.0\n",
      "     Else (feature 12 not in {0.0})\n",
      "      If (feature 187 in {0.0})\n",
      "       Predict: 12.0\n",
      "      Else (feature 187 not in {0.0})\n",
      "       If (feature 205 in {0.0})\n",
      "        If (feature 208 in {0.0})\n",
      "         Predict: 12.0\n",
      "        Else (feature 208 not in {0.0})\n",
      "         Predict: 3.0\n",
      "       Else (feature 205 not in {0.0})\n",
      "        Predict: 12.0\n",
      "  Tree 11 (weight 1.0):\n",
      "    If (feature 8 in {0.0})\n",
      "     If (feature 47 in {0.0})\n",
      "      If (feature 1 in {0.0})\n",
      "       If (feature 182 in {0.0})\n",
      "        If (feature 76 in {0.0})\n",
      "         Predict: 0.0\n",
      "        Else (feature 76 not in {0.0})\n",
      "         Predict: 3.0\n",
      "       Else (feature 182 not in {0.0})\n",
      "        If (feature 10 in {0.0})\n",
      "         Predict: 0.0\n",
      "        Else (feature 10 not in {0.0})\n",
      "         Predict: 3.0\n",
      "      Else (feature 1 not in {0.0})\n",
      "       Predict: 1.0\n",
      "     Else (feature 47 not in {0.0})\n",
      "      If (feature 1 in {0.0})\n",
      "       If (feature 171 in {0.0})\n",
      "        Predict: 0.0\n",
      "       Else (feature 171 not in {0.0})\n",
      "        If (feature 2 in {0.0})\n",
      "         Predict: 0.0\n",
      "        Else (feature 2 not in {0.0})\n",
      "         Predict: 2.0\n",
      "      Else (feature 1 not in {0.0})\n",
      "       If (feature 223 in {0.0})\n",
      "        Predict: 1.0\n",
      "       Else (feature 223 not in {0.0})\n",
      "        Predict: 10.0\n",
      "    Else (feature 8 not in {0.0})\n",
      "     Predict: 7.0\n",
      "  Tree 12 (weight 1.0):\n",
      "    If (feature 4 in {0.0})\n",
      "     If (feature 32 in {0.0})\n",
      "      If (feature 42 in {0.0})\n",
      "       If (feature 18 in {0.0})\n",
      "        If (feature 33 in {0.0})\n",
      "         Predict: 0.0\n",
      "        Else (feature 33 not in {0.0})\n",
      "         Predict: 1.0\n",
      "       Else (feature 18 not in {0.0})\n",
      "        Predict: 19.0\n",
      "      Else (feature 42 not in {0.0})\n",
      "       If (feature 230 <= 1161104.5)\n",
      "        Predict: 5.0\n",
      "       Else (feature 230 > 1161104.5)\n",
      "        If (feature 172 in {0.0})\n",
      "         Predict: 1.0\n",
      "        Else (feature 172 not in {0.0})\n",
      "         Predict: 5.0\n",
      "     Else (feature 32 not in {0.0})\n",
      "      If (feature 18 in {0.0})\n",
      "       If (feature 213 in {0.0})\n",
      "        If (feature 14 in {0.0})\n",
      "         Predict: 0.0\n",
      "        Else (feature 14 not in {0.0})\n",
      "         Predict: 15.0\n",
      "       Else (feature 213 not in {0.0})\n",
      "        Predict: 0.0\n",
      "      Else (feature 18 not in {0.0})\n",
      "       Predict: 19.0\n",
      "    Else (feature 4 not in {0.0})\n",
      "     If (feature 202 in {0.0})\n",
      "      If (feature 32 in {0.0})\n",
      "       Predict: 6.0\n",
      "      Else (feature 32 not in {0.0})\n",
      "       If (feature 232 <= 41.94330406188965)\n",
      "        Predict: 6.0\n",
      "       Else (feature 232 > 41.94330406188965)\n",
      "        If (feature 212 in {0.0})\n",
      "         Predict: 6.0\n",
      "        Else (feature 212 not in {0.0})\n",
      "         Predict: 11.0\n",
      "     Else (feature 202 not in {0.0})\n",
      "      Predict: 6.0\n",
      "  Tree 13 (weight 1.0):\n",
      "    If (feature 172 in {0.0})\n",
      "     If (feature 12 in {0.0})\n",
      "      If (feature 2 in {0.0})\n",
      "       If (feature 33 in {0.0})\n",
      "        If (feature 13 in {0.0})\n",
      "         Predict: 1.0\n",
      "        Else (feature 13 not in {0.0})\n",
      "         Predict: 17.0\n",
      "       Else (feature 33 not in {0.0})\n",
      "        If (feature 15 in {0.0})\n",
      "         Predict: 1.0\n",
      "        Else (feature 15 not in {0.0})\n",
      "         Predict: 16.0\n",
      "      Else (feature 2 not in {0.0})\n",
      "       Predict: 2.0\n",
      "     Else (feature 12 not in {0.0})\n",
      "      If (feature 194 in {0.0})\n",
      "       If (feature 33 in {0.0})\n",
      "        If (feature 231 <= 1922600.5)\n",
      "         Predict: 12.0\n",
      "        Else (feature 231 > 1922600.5)\n",
      "         Predict: 3.0\n",
      "       Else (feature 33 not in {0.0})\n",
      "        Predict: 3.0\n",
      "      Else (feature 194 not in {0.0})\n",
      "       Predict: 3.0\n",
      "    Else (feature 172 not in {0.0})\n",
      "     If (feature 34 in {0.0})\n",
      "      If (feature 14 in {0.0})\n",
      "       If (feature 35 in {0.0})\n",
      "        If (feature 0 in {0.0})\n",
      "         Predict: 2.0\n",
      "        Else (feature 0 not in {0.0})\n",
      "         Predict: 0.0\n",
      "       Else (feature 35 not in {0.0})\n",
      "        If (feature 218 in {0.0})\n",
      "         Predict: 4.0\n",
      "        Else (feature 218 not in {0.0})\n",
      "         Predict: 1.0\n",
      "      Else (feature 14 not in {0.0})\n",
      "       Predict: 15.0\n",
      "     Else (feature 34 not in {0.0})\n",
      "      If (feature 220 in {0.0})\n",
      "       If (feature 13 in {0.0})\n",
      "        If (feature 3 in {0.0})\n",
      "         Predict: 5.0\n",
      "        Else (feature 3 not in {0.0})\n",
      "         Predict: 4.0\n",
      "       Else (feature 13 not in {0.0})\n",
      "        Predict: 17.0\n",
      "      Else (feature 220 not in {0.0})\n",
      "       If (feature 224 in {0.0})\n",
      "        If (feature 171 in {0.0})\n",
      "         Predict: 1.0\n",
      "        Else (feature 171 not in {0.0})\n",
      "         Predict: 5.0\n",
      "       Else (feature 224 not in {0.0})\n",
      "        If (feature 4 in {0.0})\n",
      "         Predict: 5.0\n",
      "        Else (feature 4 not in {0.0})\n",
      "         Predict: 6.0\n",
      "  Tree 14 (weight 1.0):\n",
      "    If (feature 1 in {0.0})\n",
      "     If (feature 42 in {0.0})\n",
      "      If (feature 35 in {0.0})\n",
      "       If (feature 7 in {0.0})\n",
      "        If (feature 0 in {0.0})\n",
      "         Predict: 2.0\n",
      "        Else (feature 0 not in {0.0})\n",
      "         Predict: 0.0\n",
      "       Else (feature 7 not in {0.0})\n",
      "        Predict: 8.0\n",
      "      Else (feature 35 not in {0.0})\n",
      "       If (feature 3 in {0.0})\n",
      "        If (feature 0 in {0.0})\n",
      "         Predict: 9.0\n",
      "        Else (feature 0 not in {0.0})\n",
      "         Predict: 0.0\n",
      "       Else (feature 3 not in {0.0})\n",
      "        Predict: 4.0\n",
      "     Else (feature 42 not in {0.0})\n",
      "      If (feature 5 in {0.0})\n",
      "       Predict: 5.0\n",
      "      Else (feature 5 not in {0.0})\n",
      "       Predict: 3.0\n",
      "    Else (feature 1 not in {0.0})\n",
      "     If (feature 183 in {0.0})\n",
      "      Predict: 1.0\n",
      "     Else (feature 183 not in {0.0})\n",
      "      If (feature 41 in {0.0})\n",
      "       If (feature 80 in {0.0})\n",
      "        Predict: 1.0\n",
      "       Else (feature 80 not in {0.0})\n",
      "        If (feature 198 in {0.0})\n",
      "         Predict: 1.0\n",
      "        Else (feature 198 not in {0.0})\n",
      "         Predict: 10.0\n",
      "      Else (feature 41 not in {0.0})\n",
      "       Predict: 1.0\n",
      "  Tree 15 (weight 1.0):\n",
      "    If (feature 171 in {0.0})\n",
      "     If (feature 2 in {0.0})\n",
      "      If (feature 9 in {0.0})\n",
      "       If (feature 4 in {0.0})\n",
      "        If (feature 14 in {0.0})\n",
      "         Predict: 4.0\n",
      "        Else (feature 14 not in {0.0})\n",
      "         Predict: 15.0\n",
      "       Else (feature 4 not in {0.0})\n",
      "        Predict: 6.0\n",
      "      Else (feature 9 not in {0.0})\n",
      "       Predict: 9.0\n",
      "     Else (feature 2 not in {0.0})\n",
      "      Predict: 2.0\n",
      "    Else (feature 171 not in {0.0})\n",
      "     If (feature 32 in {0.0})\n",
      "      If (feature 4 in {0.0})\n",
      "       If (feature 35 in {0.0})\n",
      "        Predict: 0.0\n",
      "       Else (feature 35 not in {0.0})\n",
      "        If (feature 172 in {0.0})\n",
      "         Predict: 1.0\n",
      "        Else (feature 172 not in {0.0})\n",
      "         Predict: 9.0\n",
      "      Else (feature 4 not in {0.0})\n",
      "       Predict: 6.0\n",
      "     Else (feature 32 not in {0.0})\n",
      "      If (feature 4 in {0.0})\n",
      "       If (feature 15 in {0.0})\n",
      "        If (feature 2 in {0.0})\n",
      "         Predict: 0.0\n",
      "        Else (feature 2 not in {0.0})\n",
      "         Predict: 2.0\n",
      "       Else (feature 15 not in {0.0})\n",
      "        Predict: 16.0\n",
      "      Else (feature 4 not in {0.0})\n",
      "       Predict: 6.0\n",
      "  Tree 16 (weight 1.0):\n",
      "    If (feature 14 in {0.0})\n",
      "     If (feature 5 in {0.0})\n",
      "      If (feature 1 in {0.0})\n",
      "       If (feature 33 in {0.0})\n",
      "        If (feature 9 in {0.0})\n",
      "         Predict: 0.0\n",
      "        Else (feature 9 not in {0.0})\n",
      "         Predict: 9.0\n",
      "       Else (feature 33 not in {0.0})\n",
      "        Predict: 0.0\n",
      "      Else (feature 1 not in {0.0})\n",
      "       Predict: 1.0\n",
      "     Else (feature 5 not in {0.0})\n",
      "      Predict: 3.0\n",
      "    Else (feature 14 not in {0.0})\n",
      "     Predict: 15.0\n",
      "  Tree 17 (weight 1.0):\n",
      "    If (feature 233 <= -87.69018173217773)\n",
      "     If (feature 13 in {0.0})\n",
      "      If (feature 33 in {0.0})\n",
      "       If (feature 2 in {0.0})\n",
      "        Predict: 0.0\n",
      "       Else (feature 2 not in {0.0})\n",
      "        Predict: 2.0\n",
      "      Else (feature 33 not in {0.0})\n",
      "       If (feature 232 <= 41.90493965148926)\n",
      "        Predict: 1.0\n",
      "       Else (feature 232 > 41.90493965148926)\n",
      "        If (feature 3 in {0.0})\n",
      "         Predict: 3.0\n",
      "        Else (feature 3 not in {0.0})\n",
      "         Predict: 4.0\n",
      "     Else (feature 13 not in {0.0})\n",
      "      If (feature 200 in {0.0})\n",
      "       If (feature 228 in {0.0})\n",
      "        If (feature 199 in {0.0})\n",
      "         Predict: 3.0\n",
      "        Else (feature 199 not in {0.0})\n",
      "         Predict: 17.0\n",
      "       Else (feature 228 not in {0.0})\n",
      "        If (feature 230 <= 1155335.0)\n",
      "         Predict: 17.0\n",
      "        Else (feature 230 > 1155335.0)\n",
      "         Predict: 3.0\n",
      "      Else (feature 200 not in {0.0})\n",
      "       Predict: 17.0\n",
      "    Else (feature 233 > -87.69018173217773)\n",
      "     If (feature 231 <= 1891620.5)\n",
      "      If (feature 2 in {0.0})\n",
      "       If (feature 9 in {0.0})\n",
      "        If (feature 10 in {0.0})\n",
      "         Predict: 0.0\n",
      "        Else (feature 10 not in {0.0})\n",
      "         Predict: 3.0\n",
      "       Else (feature 9 not in {0.0})\n",
      "        Predict: 9.0\n",
      "      Else (feature 2 not in {0.0})\n",
      "       Predict: 2.0\n",
      "     Else (feature 231 > 1891620.5)\n",
      "      If (feature 1 in {0.0})\n",
      "       If (feature 230 <= 1173797.0)\n",
      "        Predict: 0.0\n",
      "       Else (feature 230 > 1173797.0)\n",
      "        If (feature 4 in {0.0})\n",
      "         Predict: 0.0\n",
      "        Else (feature 4 not in {0.0})\n",
      "         Predict: 6.0\n",
      "      Else (feature 1 not in {0.0})\n",
      "       Predict: 1.0\n",
      "  Tree 18 (weight 1.0):\n",
      "    If (feature 43 in {0.0})\n",
      "     If (feature 11 in {0.0})\n",
      "      If (feature 233 <= -87.69018173217773)\n",
      "       If (feature 8 in {0.0})\n",
      "        If (feature 231 <= 1908609.0)\n",
      "         Predict: 4.0\n",
      "        Else (feature 231 > 1908609.0)\n",
      "         Predict: 0.0\n",
      "       Else (feature 8 not in {0.0})\n",
      "        Predict: 7.0\n",
      "      Else (feature 233 > -87.69018173217773)\n",
      "       If (feature 14 in {0.0})\n",
      "        Predict: 0.0\n",
      "       Else (feature 14 not in {0.0})\n",
      "        Predict: 15.0\n",
      "     Else (feature 11 not in {0.0})\n",
      "      Predict: 13.0\n",
      "    Else (feature 43 not in {0.0})\n",
      "     If (feature 0 in {0.0})\n",
      "      If (feature 197 in {0.0})\n",
      "       If (feature 220 in {0.0})\n",
      "        If (feature 10 in {0.0})\n",
      "         Predict: 8.0\n",
      "        Else (feature 10 not in {0.0})\n",
      "         Predict: 3.0\n",
      "       Else (feature 220 not in {0.0})\n",
      "        Predict: 3.0\n",
      "      Else (feature 197 not in {0.0})\n",
      "       If (feature 7 in {0.0})\n",
      "        If (feature 6 in {0.0})\n",
      "         Predict: 3.0\n",
      "        Else (feature 6 not in {0.0})\n",
      "         Predict: 5.0\n",
      "       Else (feature 7 not in {0.0})\n",
      "        Predict: 8.0\n",
      "     Else (feature 0 not in {0.0})\n",
      "      Predict: 0.0\n",
      "  Tree 19 (weight 1.0):\n",
      "    If (feature 35 in {0.0})\n",
      "     If (feature 171 in {0.0})\n",
      "      If (feature 0 in {0.0})\n",
      "       If (feature 21 in {0.0})\n",
      "        If (feature 16 in {0.0})\n",
      "         Predict: 4.0\n",
      "        Else (feature 16 not in {0.0})\n",
      "         Predict: 12.0\n",
      "       Else (feature 21 not in {0.0})\n",
      "        Predict: 22.0\n",
      "      Else (feature 0 not in {0.0})\n",
      "       Predict: 0.0\n",
      "     Else (feature 171 not in {0.0})\n",
      "      If (feature 1 in {0.0})\n",
      "       If (feature 183 in {0.0})\n",
      "        If (feature 7 in {0.0})\n",
      "         Predict: 0.0\n",
      "        Else (feature 7 not in {0.0})\n",
      "         Predict: 8.0\n",
      "       Else (feature 183 not in {0.0})\n",
      "        If (feature 17 in {0.0})\n",
      "         Predict: 0.0\n",
      "        Else (feature 17 not in {0.0})\n",
      "         Predict: 18.0\n",
      "      Else (feature 1 not in {0.0})\n",
      "       Predict: 1.0\n",
      "    Else (feature 35 not in {0.0})\n",
      "     If (feature 231 <= 1908609.0)\n",
      "      If (feature 9 in {0.0})\n",
      "       If (feature 3 in {0.0})\n",
      "        If (feature 1 in {0.0})\n",
      "         Predict: 0.0\n",
      "        Else (feature 1 not in {0.0})\n",
      "         Predict: 1.0\n",
      "       Else (feature 3 not in {0.0})\n",
      "        Predict: 4.0\n",
      "      Else (feature 9 not in {0.0})\n",
      "       Predict: 9.0\n",
      "     Else (feature 231 > 1908609.0)\n",
      "      If (feature 186 in {0.0})\n",
      "       If (feature 213 in {0.0})\n",
      "        If (feature 171 in {0.0})\n",
      "         Predict: 4.0\n",
      "        Else (feature 171 not in {0.0})\n",
      "         Predict: 1.0\n",
      "       Else (feature 213 not in {0.0})\n",
      "        Predict: 4.0\n",
      "      Else (feature 186 not in {0.0})\n",
      "       If (feature 233 <= -87.63762283325195)\n",
      "        Predict: 1.0\n",
      "       Else (feature 233 > -87.63762283325195)\n",
      "        If (feature 219 in {0.0})\n",
      "         Predict: 0.0\n",
      "        Else (feature 219 not in {0.0})\n",
      "         Predict: 1.0\n",
      "  Tree 20 (weight 1.0):\n",
      "    If (feature 40 in {0.0})\n",
      "     If (feature 171 in {0.0})\n",
      "      If (feature 8 in {0.0})\n",
      "       If (feature 4 in {0.0})\n",
      "        If (feature 186 in {0.0})\n",
      "         Predict: 4.0\n",
      "        Else (feature 186 not in {0.0})\n",
      "         Predict: 0.0\n",
      "       Else (feature 4 not in {0.0})\n",
      "        Predict: 6.0\n",
      "      Else (feature 8 not in {0.0})\n",
      "       Predict: 7.0\n",
      "     Else (feature 171 not in {0.0})\n",
      "      If (feature 34 in {0.0})\n",
      "       If (feature 37 in {0.0})\n",
      "        If (feature 9 in {0.0})\n",
      "         Predict: 0.0\n",
      "        Else (feature 9 not in {0.0})\n",
      "         Predict: 9.0\n",
      "       Else (feature 37 not in {0.0})\n",
      "        Predict: 0.0\n",
      "      Else (feature 34 not in {0.0})\n",
      "       If (feature 6 in {0.0})\n",
      "        Predict: 1.0\n",
      "       Else (feature 6 not in {0.0})\n",
      "        Predict: 5.0\n",
      "    Else (feature 40 not in {0.0})\n",
      "     If (feature 211 in {0.0})\n",
      "      If (feature 0 in {0.0})\n",
      "       If (feature 218 in {0.0})\n",
      "        Predict: 3.0\n",
      "       Else (feature 218 not in {0.0})\n",
      "        If (feature 5 in {0.0})\n",
      "         Predict: 5.0\n",
      "        Else (feature 5 not in {0.0})\n",
      "         Predict: 3.0\n",
      "      Else (feature 0 not in {0.0})\n",
      "       Predict: 0.0\n",
      "     Else (feature 211 not in {0.0})\n",
      "      If (feature 172 in {0.0})\n",
      "       If (feature 198 in {0.0})\n",
      "        Predict: 1.0\n",
      "       Else (feature 198 not in {0.0})\n",
      "        If (feature 231 <= 1927293.0)\n",
      "         Predict: 2.0\n",
      "        Else (feature 231 > 1927293.0)\n",
      "         Predict: 3.0\n",
      "      Else (feature 172 not in {0.0})\n",
      "       If (feature 9 in {0.0})\n",
      "        Predict: 0.0\n",
      "       Else (feature 9 not in {0.0})\n",
      "        Predict: 9.0\n",
      "  Tree 21 (weight 1.0):\n",
      "    If (feature 5 in {0.0})\n",
      "     If (feature 32 in {0.0})\n",
      "      If (feature 7 in {0.0})\n",
      "       If (feature 35 in {0.0})\n",
      "        If (feature 4 in {0.0})\n",
      "         Predict: 0.0\n",
      "        Else (feature 4 not in {0.0})\n",
      "         Predict: 6.0\n",
      "       Else (feature 35 not in {0.0})\n",
      "        If (feature 171 in {0.0})\n",
      "         Predict: 4.0\n",
      "        Else (feature 171 not in {0.0})\n",
      "         Predict: 1.0\n",
      "      Else (feature 7 not in {0.0})\n",
      "       Predict: 8.0\n",
      "     Else (feature 32 not in {0.0})\n",
      "      If (feature 172 in {0.0})\n",
      "       If (feature 4 in {0.0})\n",
      "        If (feature 3 in {0.0})\n",
      "         Predict: 1.0\n",
      "        Else (feature 3 not in {0.0})\n",
      "         Predict: 4.0\n",
      "       Else (feature 4 not in {0.0})\n",
      "        Predict: 6.0\n",
      "      Else (feature 172 not in {0.0})\n",
      "       If (feature 0 in {0.0})\n",
      "        If (feature 192 in {0.0})\n",
      "         Predict: 2.0\n",
      "        Else (feature 192 not in {0.0})\n",
      "         Predict: 7.0\n",
      "       Else (feature 0 not in {0.0})\n",
      "        Predict: 0.0\n",
      "    Else (feature 5 not in {0.0})\n",
      "     Predict: 3.0\n",
      "  Tree 22 (weight 1.0):\n",
      "    If (feature 6 in {0.0})\n",
      "     If (feature 42 in {0.0})\n",
      "      If (feature 2 in {0.0})\n",
      "       If (feature 1 in {0.0})\n",
      "        If (feature 172 in {0.0})\n",
      "         Predict: 3.0\n",
      "        Else (feature 172 not in {0.0})\n",
      "         Predict: 0.0\n",
      "       Else (feature 1 not in {0.0})\n",
      "        Predict: 1.0\n",
      "      Else (feature 2 not in {0.0})\n",
      "       Predict: 2.0\n",
      "     Else (feature 42 not in {0.0})\n",
      "      If (feature 202 in {0.0})\n",
      "       If (feature 207 in {0.0})\n",
      "        If (feature 2 in {0.0})\n",
      "         Predict: 0.0\n",
      "        Else (feature 2 not in {0.0})\n",
      "         Predict: 2.0\n",
      "       Else (feature 207 not in {0.0})\n",
      "        If (feature 8 in {0.0})\n",
      "         Predict: 2.0\n",
      "        Else (feature 8 not in {0.0})\n",
      "         Predict: 7.0\n",
      "      Else (feature 202 not in {0.0})\n",
      "       If (feature 230 <= 1159151.5)\n",
      "        Predict: 2.0\n",
      "       Else (feature 230 > 1159151.5)\n",
      "        If (feature 232 <= 41.85837364196777)\n",
      "         Predict: 2.0\n",
      "        Else (feature 232 > 41.85837364196777)\n",
      "         Predict: 0.0\n",
      "    Else (feature 6 not in {0.0})\n",
      "     Predict: 5.0\n",
      "  Tree 23 (weight 1.0):\n",
      "    If (feature 11 in {0.0})\n",
      "     If (feature 2 in {0.0})\n",
      "      If (feature 32 in {0.0})\n",
      "       If (feature 47 in {0.0})\n",
      "        If (feature 172 in {0.0})\n",
      "         Predict: 1.0\n",
      "        Else (feature 172 not in {0.0})\n",
      "         Predict: 0.0\n",
      "       Else (feature 47 not in {0.0})\n",
      "        Predict: 0.0\n",
      "      Else (feature 32 not in {0.0})\n",
      "       If (feature 233 <= -87.6976432800293)\n",
      "        If (feature 14 in {0.0})\n",
      "         Predict: 0.0\n",
      "        Else (feature 14 not in {0.0})\n",
      "         Predict: 15.0\n",
      "       Else (feature 233 > -87.6976432800293)\n",
      "        If (feature 3 in {0.0})\n",
      "         Predict: 0.0\n",
      "        Else (feature 3 not in {0.0})\n",
      "         Predict: 4.0\n",
      "     Else (feature 2 not in {0.0})\n",
      "      Predict: 2.0\n",
      "    Else (feature 11 not in {0.0})\n",
      "     Predict: 13.0\n",
      "  Tree 24 (weight 1.0):\n",
      "    If (feature 46 in {0.0})\n",
      "     If (feature 230 <= 1159151.5)\n",
      "      If (feature 15 in {0.0})\n",
      "       If (feature 34 in {0.0})\n",
      "        If (feature 1 in {0.0})\n",
      "         Predict: 0.0\n",
      "        Else (feature 1 not in {0.0})\n",
      "         Predict: 1.0\n",
      "       Else (feature 34 not in {0.0})\n",
      "        If (feature 7 in {0.0})\n",
      "         Predict: 1.0\n",
      "        Else (feature 7 not in {0.0})\n",
      "         Predict: 8.0\n",
      "      Else (feature 15 not in {0.0})\n",
      "       Predict: 16.0\n",
      "     Else (feature 230 > 1159151.5)\n",
      "      If (feature 4 in {0.0})\n",
      "       If (feature 3 in {0.0})\n",
      "        If (feature 10 in {0.0})\n",
      "         Predict: 0.0\n",
      "        Else (feature 10 not in {0.0})\n",
      "         Predict: 3.0\n",
      "       Else (feature 3 not in {0.0})\n",
      "        Predict: 4.0\n",
      "      Else (feature 4 not in {0.0})\n",
      "       Predict: 6.0\n",
      "    Else (feature 46 not in {0.0})\n",
      "     If (feature 7 in {0.0})\n",
      "      If (feature 171 in {0.0})\n",
      "       If (feature 3 in {0.0})\n",
      "        If (feature 1 in {0.0})\n",
      "         Predict: 0.0\n",
      "        Else (feature 1 not in {0.0})\n",
      "         Predict: 1.0\n",
      "       Else (feature 3 not in {0.0})\n",
      "        If (feature 202 in {0.0})\n",
      "         Predict: 4.0\n",
      "        Else (feature 202 not in {0.0})\n",
      "         Predict: 3.0\n",
      "      Else (feature 171 not in {0.0})\n",
      "       If (feature 218 in {0.0})\n",
      "        If (feature 0 in {0.0})\n",
      "         Predict: 6.0\n",
      "        Else (feature 0 not in {0.0})\n",
      "         Predict: 0.0\n",
      "       Else (feature 218 not in {0.0})\n",
      "        If (feature 6 in {0.0})\n",
      "         Predict: 2.0\n",
      "        Else (feature 6 not in {0.0})\n",
      "         Predict: 5.0\n",
      "     Else (feature 7 not in {0.0})\n",
      "      If (feature 201 in {0.0})\n",
      "       If (feature 208 in {0.0})\n",
      "        Predict: 8.0\n",
      "       Else (feature 208 not in {0.0})\n",
      "        If (feature 178 in {0.0})\n",
      "         Predict: 8.0\n",
      "        Else (feature 178 not in {0.0})\n",
      "         Predict: 14.0\n",
      "      Else (feature 201 not in {0.0})\n",
      "       Predict: 8.0"
     ]
    }
   ],
   "source": [
    "# Printing the forest obtained from the model\n",
    "print(rfmodel.toDebugString)"
   ]
  },
  {
   "cell_type": "code",
   "execution_count": null,
   "metadata": {},
   "outputs": [],
   "source": []
  },
  {
   "cell_type": "code",
   "execution_count": null,
   "metadata": {},
   "outputs": [],
   "source": []
  },
  {
   "cell_type": "markdown",
   "metadata": {},
   "source": [
    "### Model Prediction"
   ]
  },
  {
   "cell_type": "code",
   "execution_count": 159,
   "metadata": {
    "scrolled": true
   },
   "outputs": [
    {
     "data": {
      "application/vnd.jupyter.widget-view+json": {
       "model_id": "fdea451e08ee455da136b82f3e92a3a0",
       "version_major": 2,
       "version_minor": 0
      },
      "text/plain": [
       "VBox()"
      ]
     },
     "metadata": {},
     "output_type": "display_data"
    },
    {
     "data": {
      "application/vnd.jupyter.widget-view+json": {
       "model_id": "",
       "version_major": 2,
       "version_minor": 0
      },
      "text/plain": [
       "FloatProgress(value=0.0, bar_style='info', description='Progress:', layout=Layout(height='25px', width='50%'),…"
      ]
     },
     "metadata": {},
     "output_type": "display_data"
    }
   ],
   "source": [
    "# Applying the model on test set\n",
    "predictions = rfmodel.transform(test)"
   ]
  },
  {
   "cell_type": "code",
   "execution_count": null,
   "metadata": {},
   "outputs": [],
   "source": []
  },
  {
   "cell_type": "code",
   "execution_count": 160,
   "metadata": {},
   "outputs": [
    {
     "data": {
      "application/vnd.jupyter.widget-view+json": {
       "model_id": "c52847a6bb6741df840642560db24bdc",
       "version_major": 2,
       "version_minor": 0
      },
      "text/plain": [
       "VBox()"
      ]
     },
     "metadata": {},
     "output_type": "display_data"
    },
    {
     "data": {
      "application/vnd.jupyter.widget-view+json": {
       "model_id": "",
       "version_major": 2,
       "version_minor": 0
      },
      "text/plain": [
       "FloatProgress(value=0.0, bar_style='info', description='Progress:', layout=Layout(height='25px', width='50%'),…"
      ]
     },
     "metadata": {},
     "output_type": "display_data"
    },
    {
     "name": "stdout",
     "output_type": "stream",
     "text": [
      "DataFrame[Unnamed: 0: string, Primary Type: string, Location Description: string, Arrest: string, Domestic: string, District: int, FBI Code: string, X Coordinate: float, Y Coordinate: float, Year: int, Latitude: float, Longitude: float, hour: int, day_of_week: int, Primary Type_Index: double, Primary Type_encoded: vector, Location Description_Index: double, Location Description_encoded: vector, Arrest_Index: double, Arrest_encoded: vector, Domestic_Index: double, Domestic_encoded: vector, District_Index: double, District_encoded: vector, Year_Index: double, Year_encoded: vector, hour_Index: double, hour_encoded: vector, day_of_week_Index: double, day_of_week_encoded: vector, label: double, features: vector, rawPrediction: vector, probability: vector, prediction: double]"
     ]
    }
   ],
   "source": [
    "predictions"
   ]
  },
  {
   "cell_type": "code",
   "execution_count": 161,
   "metadata": {},
   "outputs": [
    {
     "data": {
      "application/vnd.jupyter.widget-view+json": {
       "model_id": "20f87c1806584b24b3452172d32b00ea",
       "version_major": 2,
       "version_minor": 0
      },
      "text/plain": [
       "VBox()"
      ]
     },
     "metadata": {},
     "output_type": "display_data"
    },
    {
     "data": {
      "application/vnd.jupyter.widget-view+json": {
       "model_id": "",
       "version_major": 2,
       "version_minor": 0
      },
      "text/plain": [
       "FloatProgress(value=0.0, bar_style='info', description='Progress:', layout=Layout(height='25px', width='50%'),…"
      ]
     },
     "metadata": {},
     "output_type": "display_data"
    },
    {
     "name": "stdout",
     "output_type": "stream",
     "text": [
      "+----------+-------------------+--------------------+------+--------+--------+--------+------------+------------+----+---------+----------+----+-----------+------------------+--------------------+--------------------------+----------------------------+------------+--------------+--------------+----------------+--------------+----------------+----------+-------------+----------+---------------+-----------------+-------------------+-----+--------------------+--------------------+--------------------+----------+\n",
      "|Unnamed: 0|       Primary Type|Location Description|Arrest|Domestic|District|FBI Code|X Coordinate|Y Coordinate|Year| Latitude| Longitude|hour|day_of_week|Primary Type_Index|Primary Type_encoded|Location Description_Index|Location Description_encoded|Arrest_Index|Arrest_encoded|Domestic_Index|Domestic_encoded|District_Index|District_encoded|Year_Index| Year_encoded|hour_Index|   hour_encoded|day_of_week_Index|day_of_week_encoded|label|            features|       rawPrediction|         probability|prediction|\n",
      "+----------+-------------------+--------------------+------+--------+--------+--------+------------+------------+----+---------+----------+----+-----------+------------------+--------------------+--------------------------+----------------------------+------------+--------------+--------------+----------------+--------------+----------------+----------+-------------+----------+---------------+-----------------+-------------------+-----+--------------------+--------------------+--------------------+----------+\n",
      "|    101595|              THEFT|           APARTMENT| False|   False|      10|      06|   1150506.0|   1884775.0|2016| 41.83972|-87.723206|  14|          4|               0.0|      (32,[0],[1.0])|                       2.0|             (139,[2],[1.0])|         0.0| (1,[0],[1.0])|           0.0|   (1,[0],[1.0])|           9.0|  (23,[9],[1.0])|       4.0|(5,[4],[1.0])|       9.0| (23,[9],[1.0])|              2.0|      (6,[2],[1.0])|  0.0|(234,[0,34,171,17...|[9.27176667384145...|[0.37087066695365...|       0.0|\n",
      "|    101898|            BATTERY|               OTHER| False|   False|      11|     08B|   1151292.0|   1903306.0|2016|41.890556| -87.71983|  10|          4|               1.0|      (32,[1],[1.0])|                       4.0|             (139,[4],[1.0])|         0.0| (1,[0],[1.0])|           0.0|   (1,[0],[1.0])|           0.0|  (23,[0],[1.0])|       4.0|(5,[4],[1.0])|      14.0|(23,[14],[1.0])|              2.0|      (6,[2],[1.0])|  1.0|(234,[1,36,171,17...|[4.15408070099620...|[0.16616322803984...|       1.0|\n",
      "|    102048|  CRIMINAL TRESPASS|           APARTMENT| False|   False|       7|      26|   1167867.0|   1858640.0|2016|41.767647| -87.66025|  12|          4|              10.0|     (32,[10],[1.0])|                       2.0|             (139,[2],[1.0])|         0.0| (1,[0],[1.0])|           0.0|   (1,[0],[1.0])|           4.0|  (23,[4],[1.0])|       4.0|(5,[4],[1.0])|       1.0| (23,[1],[1.0])|              2.0|      (6,[2],[1.0])|  3.0|(234,[10,34,171,1...|[5.13191934816091...|[0.20527677392643...|       0.0|\n",
      "|     10208|MOTOR VEHICLE THEFT|              STREET| False|   False|      25|      07|   1133897.0|   1918956.0|2016|41.933826| -87.78335|  21|          3|               8.0|      (32,[8],[1.0])|                       0.0|             (139,[0],[1.0])|         0.0| (1,[0],[1.0])|           0.0|   (1,[0],[1.0])|           5.0|  (23,[5],[1.0])|       4.0|(5,[4],[1.0])|       5.0| (23,[5],[1.0])|              5.0|      (6,[5],[1.0])|  7.0|(234,[8,32,171,17...|[4.90318433324764...|[0.19612737332990...|       7.0|\n",
      "|    103916|            BATTERY|           APARTMENT|  True|    True|      20|     08B|   1157819.0|   1932350.0|2016|41.970123|-87.695076|  14|          4|               1.0|      (32,[1],[1.0])|                       2.0|             (139,[2],[1.0])|         1.0|     (1,[],[])|           1.0|       (1,[],[])|          21.0| (23,[21],[1.0])|       4.0|(5,[4],[1.0])|       9.0| (23,[9],[1.0])|              2.0|      (6,[2],[1.0])|  1.0|(234,[1,34,194,20...|[2.89000244293228...|[0.11560009771729...|       1.0|\n",
      "|    104354|          NARCOTICS|            SIDEWALK|  True|   False|      25|      18|   1149198.0|   1919884.0|2016| 41.93609|  -87.7271|  14|          4|               3.0|      (32,[3],[1.0])|                       3.0|             (139,[3],[1.0])|         1.0|     (1,[],[])|           0.0|   (1,[0],[1.0])|           5.0|  (23,[5],[1.0])|       4.0|(5,[4],[1.0])|       9.0| (23,[9],[1.0])|              2.0|      (6,[2],[1.0])|  4.0|(234,[3,35,172,17...|[4.10708288472275...|[0.16428331538891...|       4.0|\n",
      "|    104398|            ROBBERY|            SIDEWALK| False|   False|      15|      03|   1141647.0|   1901874.0|2016| 41.88681|-87.755295|  12|          4|               9.0|      (32,[9],[1.0])|                       3.0|             (139,[3],[1.0])|         0.0| (1,[0],[1.0])|           0.0|   (1,[0],[1.0])|          12.0| (23,[12],[1.0])|       4.0|(5,[4],[1.0])|       1.0| (23,[1],[1.0])|              2.0|      (6,[2],[1.0])|  9.0|(234,[9,35,171,17...|[3.96275239606877...|[0.15851009584275...|       9.0|\n",
      "|    104767|              THEFT|PARKING LOT/GARAG...| False|   False|       1|      06|   1175771.0|   1892296.0|2016| 41.85983| -87.63027|  14|          4|               0.0|      (32,[0],[1.0])|                       5.0|             (139,[5],[1.0])|         0.0| (1,[0],[1.0])|           0.0|   (1,[0],[1.0])|          14.0| (23,[14],[1.0])|       4.0|(5,[4],[1.0])|       9.0| (23,[9],[1.0])|              2.0|      (6,[2],[1.0])|  0.0|(234,[0,37,171,17...|[11.3824491919742...|[0.45529796767896...|       0.0|\n",
      "|    106353|          NARCOTICS|PARKING LOT/GARAG...|  True|   False|      12|      18|   1158054.0|   1899904.0|2016|41.881084|  -87.6951|  13|          4|               3.0|      (32,[3],[1.0])|                       5.0|             (139,[5],[1.0])|         1.0|     (1,[],[])|           0.0|   (1,[0],[1.0])|           8.0|  (23,[8],[1.0])|       4.0|(5,[4],[1.0])|      10.0|(23,[10],[1.0])|              2.0|      (6,[2],[1.0])|  4.0|(234,[3,37,172,18...|[4.23299681132050...|[0.16931987245282...|       4.0|\n",
      "|    107682|            BATTERY|            SIDEWALK|  True|    True|       6|     04B|   1169626.0|   1854830.0|2016|41.757153|-87.653915|  14|          4|               1.0|      (32,[1],[1.0])|                       3.0|             (139,[3],[1.0])|         1.0|     (1,[],[])|           1.0|       (1,[],[])|           2.0|  (23,[2],[1.0])|       4.0|(5,[4],[1.0])|       9.0| (23,[9],[1.0])|              2.0|      (6,[2],[1.0])| 10.0|(234,[1,35,175,20...|[2.73952094583998...|[0.10958083783359...|       1.0|\n",
      "|    109030|            ASSAULT|            SIDEWALK| False|   False|      11|     08A|   1149759.0|   1898793.0|2016|41.878204|-87.725586|  15|          4|               4.0|      (32,[4],[1.0])|                       3.0|             (139,[3],[1.0])|         0.0| (1,[0],[1.0])|           0.0|   (1,[0],[1.0])|           0.0|  (23,[0],[1.0])|       4.0|(5,[4],[1.0])|       4.0| (23,[4],[1.0])|              2.0|      (6,[2],[1.0])|  6.0|(234,[4,35,171,17...|[4.68385559642035...|[0.18735422385681...|       0.0|\n",
      "|    109139|    CRIMINAL DAMAGE|   CONVENIENCE STORE| False|   False|      11|      14|   1148697.0|   1899688.0|2016| 41.88068| -87.72946|  16|          4|               2.0|      (32,[2],[1.0])|                      22.0|            (139,[22],[1.0])|         0.0| (1,[0],[1.0])|           0.0|   (1,[0],[1.0])|           0.0|  (23,[0],[1.0])|       4.0|(5,[4],[1.0])|       7.0| (23,[7],[1.0])|              2.0|      (6,[2],[1.0])|  2.0|(234,[2,54,171,17...|[4.46465535398495...|[0.17858621415939...|       2.0|\n",
      "|    109161|    CRIMINAL DAMAGE|              STREET| False|   False|      11|      14|   1146607.0|   1900602.0|2016| 41.88323|-87.737114|  14|          4|               2.0|      (32,[2],[1.0])|                       0.0|             (139,[0],[1.0])|         0.0| (1,[0],[1.0])|           0.0|   (1,[0],[1.0])|           0.0|  (23,[0],[1.0])|       4.0|(5,[4],[1.0])|       9.0| (23,[9],[1.0])|              2.0|      (6,[2],[1.0])|  2.0|(234,[2,32,171,17...|[3.72007466624933...|[0.14880298664997...|       2.0|\n",
      "|    110668|          NARCOTICS|            SIDEWALK|  True|   False|      11|      18|   1154669.0|   1900797.0|2016|41.883606|-87.707504|  16|          4|               3.0|      (32,[3],[1.0])|                       3.0|             (139,[3],[1.0])|         1.0|     (1,[],[])|           0.0|   (1,[0],[1.0])|           0.0|  (23,[0],[1.0])|       4.0|(5,[4],[1.0])|       7.0| (23,[7],[1.0])|              2.0|      (6,[2],[1.0])|  4.0|(234,[3,35,172,17...|[3.65851358705702...|[0.14634054348228...|       4.0|\n",
      "|    111107|          NARCOTICS|              STREET|  True|   False|      11|      18|   1152875.0|   1905964.0|2016| 41.89782| -87.71395|  15|          4|               3.0|      (32,[3],[1.0])|                       0.0|             (139,[0],[1.0])|         1.0|     (1,[],[])|           0.0|   (1,[0],[1.0])|           0.0|  (23,[0],[1.0])|       4.0|(5,[4],[1.0])|       4.0| (23,[4],[1.0])|              2.0|      (6,[2],[1.0])|  4.0|(234,[3,32,172,17...|[3.58438140907794...|[0.14337525636311...|       4.0|\n",
      "|    112829|          NARCOTICS|              STREET|  True|   False|      10|      18|   1155607.0|   1887226.0|2016|41.846344| -87.70442|  14|          4|               3.0|      (32,[3],[1.0])|                       0.0|             (139,[0],[1.0])|         1.0|     (1,[],[])|           0.0|   (1,[0],[1.0])|           9.0|  (23,[9],[1.0])|       4.0|(5,[4],[1.0])|       9.0| (23,[9],[1.0])|              2.0|      (6,[2],[1.0])|  4.0|(234,[3,32,172,18...|[3.68025879885714...|[0.14721035195428...|       4.0|\n",
      "|    113829|            BATTERY|             CTA BUS| False|   False|       8|     08B|   1160301.0|   1862792.0|2016|  41.7792| -87.68787|  16|          4|               1.0|      (32,[1],[1.0])|                      26.0|            (139,[26],[1.0])|         0.0| (1,[0],[1.0])|           0.0|   (1,[0],[1.0])|           1.0|  (23,[1],[1.0])|       4.0|(5,[4],[1.0])|       7.0| (23,[7],[1.0])|              2.0|      (6,[2],[1.0])|  1.0|(234,[1,58,171,17...|[4.19093150309845...|[0.16763726012393...|       1.0|\n",
      "|    114135|      OTHER OFFENSE|           RESIDENCE| False|   False|       5|      26|   1172302.0|   1827766.0|2016|41.682827|  -87.6449|  12|          4|               5.0|      (32,[5],[1.0])|                       1.0|             (139,[1],[1.0])|         0.0| (1,[0],[1.0])|           0.0|   (1,[0],[1.0])|          11.0| (23,[11],[1.0])|       4.0|(5,[4],[1.0])|       1.0| (23,[1],[1.0])|              2.0|      (6,[2],[1.0])|  3.0|(234,[5,33,171,17...|[4.73245509582773...|[0.18929820383310...|       3.0|\n",
      "|    116189|    CRIMINAL DAMAGE|PARKING LOT/GARAG...| False|   False|      11|      14|   1154544.0|   1906323.0|2016|41.898773| -87.70781|   7|          4|               2.0|      (32,[2],[1.0])|                       5.0|             (139,[5],[1.0])|         0.0| (1,[0],[1.0])|           0.0|   (1,[0],[1.0])|           0.0|  (23,[0],[1.0])|       4.0|(5,[4],[1.0])|      19.0|(23,[19],[1.0])|              2.0|      (6,[2],[1.0])|  2.0|(234,[2,37,171,17...|[4.61043194363977...|[0.18441727774559...|       2.0|\n",
      "|    116534|            BATTERY|            SIDEWALK| False|    True|      11|     08B|   1153013.0|   1901317.0|2016|41.885063| -87.71357|  16|          4|               1.0|      (32,[1],[1.0])|                       3.0|             (139,[3],[1.0])|         0.0| (1,[0],[1.0])|           1.0|       (1,[],[])|           0.0|  (23,[0],[1.0])|       4.0|(5,[4],[1.0])|       7.0| (23,[7],[1.0])|              2.0|      (6,[2],[1.0])|  1.0|(234,[1,35,171,17...|[2.95641252781779...|[0.11825650111271...|       1.0|\n",
      "+----------+-------------------+--------------------+------+--------+--------+--------+------------+------------+----+---------+----------+----+-----------+------------------+--------------------+--------------------------+----------------------------+------------+--------------+--------------+----------------+--------------+----------------+----------+-------------+----------+---------------+-----------------+-------------------+-----+--------------------+--------------------+--------------------+----------+\n",
      "only showing top 20 rows"
     ]
    }
   ],
   "source": [
    "predictions.show()"
   ]
  },
  {
   "cell_type": "code",
   "execution_count": 162,
   "metadata": {
    "scrolled": true
   },
   "outputs": [
    {
     "data": {
      "application/vnd.jupyter.widget-view+json": {
       "model_id": "8a1d9b9ad4fb4e29b3836ad6b8432925",
       "version_major": 2,
       "version_minor": 0
      },
      "text/plain": [
       "VBox()"
      ]
     },
     "metadata": {},
     "output_type": "display_data"
    },
    {
     "data": {
      "application/vnd.jupyter.widget-view+json": {
       "model_id": "",
       "version_major": 2,
       "version_minor": 0
      },
      "text/plain": [
       "FloatProgress(value=0.0, bar_style='info', description='Progress:', layout=Layout(height='25px', width='50%'),…"
      ]
     },
     "metadata": {},
     "output_type": "display_data"
    },
    {
     "name": "stdout",
     "output_type": "stream",
     "text": [
      "+-----+--------------------+----------+--------------------+\n",
      "|label|       rawPrediction|prediction|         probability|\n",
      "+-----+--------------------+----------+--------------------+\n",
      "|  0.0|[9.27176667384145...|       0.0|[0.37087066695365...|\n",
      "|  1.0|[4.15408070099620...|       1.0|[0.16616322803984...|\n",
      "|  3.0|[5.13191934816091...|       0.0|[0.20527677392643...|\n",
      "|  7.0|[4.90318433324764...|       7.0|[0.19612737332990...|\n",
      "|  1.0|[2.89000244293228...|       1.0|[0.11560009771729...|\n",
      "|  4.0|[4.10708288472275...|       4.0|[0.16428331538891...|\n",
      "|  9.0|[3.96275239606877...|       9.0|[0.15851009584275...|\n",
      "|  0.0|[11.3824491919742...|       0.0|[0.45529796767896...|\n",
      "|  4.0|[4.23299681132050...|       4.0|[0.16931987245282...|\n",
      "| 10.0|[2.73952094583998...|       1.0|[0.10958083783359...|\n",
      "+-----+--------------------+----------+--------------------+\n",
      "only showing top 10 rows"
     ]
    }
   ],
   "source": [
    "# Printing the required columns\n",
    "predictions.select('label', 'rawPrediction', 'prediction', 'probability').show(10)"
   ]
  },
  {
   "cell_type": "code",
   "execution_count": null,
   "metadata": {},
   "outputs": [],
   "source": []
  },
  {
   "cell_type": "code",
   "execution_count": null,
   "metadata": {},
   "outputs": [],
   "source": []
  },
  {
   "cell_type": "markdown",
   "metadata": {},
   "source": [
    "### Model Evaluation"
   ]
  },
  {
   "cell_type": "code",
   "execution_count": 163,
   "metadata": {},
   "outputs": [
    {
     "data": {
      "application/vnd.jupyter.widget-view+json": {
       "model_id": "e858092754fc4ce8839871923933dc1f",
       "version_major": 2,
       "version_minor": 0
      },
      "text/plain": [
       "VBox()"
      ]
     },
     "metadata": {},
     "output_type": "display_data"
    },
    {
     "data": {
      "application/vnd.jupyter.widget-view+json": {
       "model_id": "",
       "version_major": 2,
       "version_minor": 0
      },
      "text/plain": [
       "FloatProgress(value=0.0, bar_style='info', description='Progress:', layout=Layout(height='25px', width='50%'),…"
      ]
     },
     "metadata": {},
     "output_type": "display_data"
    }
   ],
   "source": [
    "# Model evaluation\n",
    "from pyspark.ml.evaluation import MulticlassClassificationEvaluator\n",
    "\n",
    "\n",
    "evaluator = MulticlassClassificationEvaluator(labelCol=\"label\", predictionCol=\"prediction\", metricName=\"accuracy\")\n",
    "\n"
   ]
  },
  {
   "cell_type": "code",
   "execution_count": null,
   "metadata": {},
   "outputs": [],
   "source": []
  },
  {
   "cell_type": "code",
   "execution_count": 164,
   "metadata": {},
   "outputs": [
    {
     "data": {
      "application/vnd.jupyter.widget-view+json": {
       "model_id": "6be858d8f15c4b809f1c5721a20f4d54",
       "version_major": 2,
       "version_minor": 0
      },
      "text/plain": [
       "VBox()"
      ]
     },
     "metadata": {},
     "output_type": "display_data"
    },
    {
     "data": {
      "application/vnd.jupyter.widget-view+json": {
       "model_id": "",
       "version_major": 2,
       "version_minor": 0
      },
      "text/plain": [
       "FloatProgress(value=0.0, bar_style='info', description='Progress:', layout=Layout(height='25px', width='50%'),…"
      ]
     },
     "metadata": {},
     "output_type": "display_data"
    }
   ],
   "source": [
    "\n",
    "accuracy = evaluator.evaluate(predictions)"
   ]
  },
  {
   "cell_type": "code",
   "execution_count": 166,
   "metadata": {
    "scrolled": true
   },
   "outputs": [
    {
     "data": {
      "application/vnd.jupyter.widget-view+json": {
       "model_id": "a3bc280b96f24466bc78fe5c6e3df7c5",
       "version_major": 2,
       "version_minor": 0
      },
      "text/plain": [
       "VBox()"
      ]
     },
     "metadata": {},
     "output_type": "display_data"
    },
    {
     "data": {
      "application/vnd.jupyter.widget-view+json": {
       "model_id": "",
       "version_major": 2,
       "version_minor": 0
      },
      "text/plain": [
       "FloatProgress(value=0.0, bar_style='info', description='Progress:', layout=Layout(height='25px', width='50%'),…"
      ]
     },
     "metadata": {},
     "output_type": "display_data"
    },
    {
     "name": "stdout",
     "output_type": "stream",
     "text": [
      "0.8430581754366208"
     ]
    }
   ],
   "source": [
    "# Model Accuracy\n",
    "print(accuracy)\n",
    "\n"
   ]
  },
  {
   "cell_type": "code",
   "execution_count": null,
   "metadata": {},
   "outputs": [],
   "source": []
  },
  {
   "cell_type": "code",
   "execution_count": null,
   "metadata": {},
   "outputs": [],
   "source": []
  },
  {
   "cell_type": "code",
   "execution_count": 172,
   "metadata": {},
   "outputs": [
    {
     "data": {
      "application/vnd.jupyter.widget-view+json": {
       "model_id": "ccc46340c4474c0f85bcfc2fe3a35d64",
       "version_major": 2,
       "version_minor": 0
      },
      "text/plain": [
       "VBox()"
      ]
     },
     "metadata": {},
     "output_type": "display_data"
    },
    {
     "data": {
      "application/vnd.jupyter.widget-view+json": {
       "model_id": "",
       "version_major": 2,
       "version_minor": 0
      },
      "text/plain": [
       "FloatProgress(value=0.0, bar_style='info', description='Progress:', layout=Layout(height='25px', width='50%'),…"
      ]
     },
     "metadata": {},
     "output_type": "display_data"
    },
    {
     "name": "stdout",
     "output_type": "stream",
     "text": [
      "Test Error = 0.156942"
     ]
    }
   ],
   "source": [
    "# Test Error\n",
    "print(\"Test Error = %g\" % (1.0 - accuracy))"
   ]
  },
  {
   "cell_type": "code",
   "execution_count": null,
   "metadata": {
    "scrolled": true
   },
   "outputs": [],
   "source": []
  },
  {
   "cell_type": "markdown",
   "metadata": {},
   "source": [
    "### Feature Importance"
   ]
  },
  {
   "cell_type": "code",
   "execution_count": 173,
   "metadata": {},
   "outputs": [
    {
     "data": {
      "application/vnd.jupyter.widget-view+json": {
       "model_id": "9d3b18d293c84a3e8ad692035558b7b6",
       "version_major": 2,
       "version_minor": 0
      },
      "text/plain": [
       "VBox()"
      ]
     },
     "metadata": {},
     "output_type": "display_data"
    },
    {
     "data": {
      "application/vnd.jupyter.widget-view+json": {
       "model_id": "",
       "version_major": 2,
       "version_minor": 0
      },
      "text/plain": [
       "FloatProgress(value=0.0, bar_style='info', description='Progress:', layout=Layout(height='25px', width='50%'),…"
      ]
     },
     "metadata": {},
     "output_type": "display_data"
    },
    {
     "name": "stdout",
     "output_type": "stream",
     "text": [
      "SparseVector(234, {0: 0.1248, 1: 0.1404, 2: 0.1022, 3: 0.0751, 4: 0.0667, 5: 0.0208, 6: 0.1125, 7: 0.0465, 8: 0.049, 9: 0.0601, 10: 0.0091, 11: 0.019, 12: 0.0012, 13: 0.0015, 14: 0.0104, 15: 0.001, 16: 0.0042, 17: 0.0016, 18: 0.0016, 19: 0.0005, 20: 0.0002, 21: 0.0002, 24: 0.0, 32: 0.0133, 33: 0.0108, 34: 0.0074, 35: 0.0144, 37: 0.0003, 38: 0.0002, 39: 0.0, 40: 0.001, 41: 0.0, 42: 0.0046, 43: 0.0008, 46: 0.0033, 47: 0.0023, 48: 0.0, 49: 0.0, 59: 0.0004, 76: 0.0001, 80: 0.0, 88: 0.0, 91: 0.0, 95: 0.0, 171: 0.0465, 172: 0.035, 173: 0.0009, 176: 0.0, 178: 0.0, 182: 0.0001, 183: 0.0001, 184: 0.0, 185: 0.0002, 186: 0.0003, 187: 0.0, 190: 0.0, 192: 0.0, 194: 0.0, 196: 0.0, 197: 0.0, 198: 0.0, 199: 0.0, 200: 0.0, 201: 0.0, 202: 0.0, 205: 0.0, 207: 0.0, 208: 0.0, 211: 0.0, 212: 0.0, 213: 0.0, 214: 0.0002, 218: 0.0, 219: 0.0, 220: 0.0, 221: 0.0, 223: 0.0, 224: 0.0, 225: 0.0, 228: 0.0, 229: 0.0, 230: 0.001, 231: 0.004, 232: 0.001, 233: 0.003})"
     ]
    }
   ],
   "source": [
    "# Feature Importance\n",
    "rfmodel.featureImportances"
   ]
  },
  {
   "cell_type": "code",
   "execution_count": null,
   "metadata": {},
   "outputs": [],
   "source": []
  },
  {
   "cell_type": "code",
   "execution_count": 174,
   "metadata": {},
   "outputs": [
    {
     "data": {
      "application/vnd.jupyter.widget-view+json": {
       "model_id": "ebe0ebbe3761423cb824a9760f49529e",
       "version_major": 2,
       "version_minor": 0
      },
      "text/plain": [
       "VBox()"
      ]
     },
     "metadata": {},
     "output_type": "display_data"
    },
    {
     "data": {
      "application/vnd.jupyter.widget-view+json": {
       "model_id": "",
       "version_major": 2,
       "version_minor": 0
      },
      "text/plain": [
       "FloatProgress(value=0.0, bar_style='info', description='Progress:', layout=Layout(height='25px', width='50%'),…"
      ]
     },
     "metadata": {},
     "output_type": "display_data"
    }
   ],
   "source": [
    "# Defining a function to extract features along with the feature importance score\n",
    "import pandas as pd\n",
    "def ExtractFeatureImp(featureImp, dataset, featuresCol):\n",
    "    list_extract = []\n",
    "    for i in dataset.schema[featuresCol].metadata[\"ml_attr\"][\"attrs\"]:\n",
    "        list_extract = list_extract + dataset.schema[featuresCol].metadata[\"ml_attr\"][\"attrs\"][i]\n",
    "    varlist = pd.DataFrame(list_extract)\n",
    "    varlist['score'] = varlist['idx'].apply(lambda x: featureImp[x])\n",
    "    return(varlist.sort_values('score', ascending = False))"
   ]
  },
  {
   "cell_type": "code",
   "execution_count": null,
   "metadata": {},
   "outputs": [],
   "source": []
  },
  {
   "cell_type": "code",
   "execution_count": 175,
   "metadata": {},
   "outputs": [
    {
     "data": {
      "application/vnd.jupyter.widget-view+json": {
       "model_id": "9c2c6c00592b4d21bf9b504fac8a0ab1",
       "version_major": 2,
       "version_minor": 0
      },
      "text/plain": [
       "VBox()"
      ]
     },
     "metadata": {},
     "output_type": "display_data"
    },
    {
     "data": {
      "application/vnd.jupyter.widget-view+json": {
       "model_id": "",
       "version_major": 2,
       "version_minor": 0
      },
      "text/plain": [
       "FloatProgress(value=0.0, bar_style='info', description='Progress:', layout=Layout(height='25px', width='50%'),…"
      ]
     },
     "metadata": {},
     "output_type": "display_data"
    },
    {
     "name": "stdout",
     "output_type": "stream",
     "text": [
      "     idx                                      name     score\n",
      "5      1              Primary Type_encoded_BATTERY  0.140406\n",
      "4      0                Primary Type_encoded_THEFT  0.124801\n",
      "10     6             Primary Type_encoded_BURGLARY  0.112485\n",
      "6      2      Primary Type_encoded_CRIMINAL DAMAGE  0.102193\n",
      "7      3            Primary Type_encoded_NARCOTICS  0.075111\n",
      "8      4              Primary Type_encoded_ASSAULT  0.066749\n",
      "13     9              Primary Type_encoded_ROBBERY  0.060110\n",
      "12     8  Primary Type_encoded_MOTOR VEHICLE THEFT  0.048994\n",
      "175  171                      Arrest_encoded_False  0.046490\n",
      "11     7   Primary Type_encoded_DECEPTIVE PRACTICE  0.046451"
     ]
    }
   ],
   "source": [
    "# Printing the feature importance scores\n",
    "ExtractFeatureImp(rfmodel.featureImportances, predictions, \"features\").head(10)"
   ]
  },
  {
   "cell_type": "code",
   "execution_count": null,
   "metadata": {},
   "outputs": [],
   "source": []
  },
  {
   "cell_type": "code",
   "execution_count": null,
   "metadata": {},
   "outputs": [],
   "source": []
  },
  {
   "cell_type": "code",
   "execution_count": null,
   "metadata": {},
   "outputs": [],
   "source": []
  }
 ],
 "metadata": {
  "kernelspec": {
   "display_name": "PySpark",
   "language": "",
   "name": "pysparkkernel"
  },
  "language_info": {
   "codemirror_mode": {
    "name": "python",
    "version": 2
   },
   "mimetype": "text/x-python",
   "name": "pyspark",
   "pygments_lexer": "python2"
  }
 },
 "nbformat": 4,
 "nbformat_minor": 4
}
